{
 "cells": [
  {
   "cell_type": "code",
   "execution_count": 1,
   "metadata": {
    "collapsed": false
   },
   "outputs": [],
   "source": [
    "%load_ext memsee"
   ]
  },
  {
   "cell_type": "code",
   "execution_count": 4,
   "metadata": {
    "collapsed": false
   },
   "outputs": [
    {
     "name": "stdout",
     "output_type": "stream",
     "text": [
      "Database created, available via variable 'memsee'\n"
     ]
    }
   ],
   "source": [
    "# Create a new memsee database to load data into\n",
    "%create field_overrides.db"
   ]
  },
  {
   "cell_type": "code",
   "execution_count": 5,
   "metadata": {
    "collapsed": false
   },
   "outputs": [
    {
     "name": "stdout",
     "output_type": "stream",
     "text": [
      "Reading\n",
      "loaded 10000 objects, 27913 refs\n",
      "loaded 20000 objects, 55742 refs\n",
      "loaded 30000 objects, 78245 refs\n",
      "loaded 40000 objects, 102607 refs\n",
      "loaded 50000 objects, 126312 refs\n",
      "loaded 60000 objects, 151255 refs\n",
      "loaded 70000 objects, 165578 refs\n",
      "loaded 80000 objects, 182426 refs\n",
      "loaded 90000 objects, 209497 refs\n",
      "loaded 100000 objects, 238824 refs\n",
      "loaded 110000 objects, 263577 refs\n",
      "loaded 120000 objects, 303856 refs\n",
      "loaded 130000 objects, 341060 refs\n",
      "loaded 140000 objects, 375269 refs\n",
      "loaded 150000 objects, 404533 refs\n",
      "loaded 160000 objects, 444459 refs\n",
      "loaded 170000 objects, 465536 refs\n",
      "loaded 180000 objects, 492059 refs\n",
      "loaded 190000 objects, 524461 refs\n",
      "loaded 200000 objects, 548976 refs\n",
      "loaded 210000 objects, 585817 refs\n",
      "loaded 220000 objects, 590836 refs\n",
      "loaded 230000 objects, 628961 refs\n",
      "loaded 240000 objects, 667161 refs\n",
      "loaded 250000 objects, 702557 refs\n",
      "loaded 260000 objects, 740176 refs\n",
      "loaded 270000 objects, 780486 refs\n",
      "loaded 280000 objects, 809532 refs\n",
      "loaded 290000 objects, 838426 refs\n",
      "loaded 300000 objects, 870018 refs\n",
      "loaded 310000 objects, 912431 refs\n",
      "loaded 320000 objects, 940568 refs\n",
      "loaded 330000 objects, 964498 refs\n",
      "loaded 340000 objects, 990314 refs\n",
      "loaded 350000 objects, 1021909 refs\n",
      "loaded 360000 objects, 1052222 refs\n",
      "loaded 370000 objects, 1078972 refs\n",
      "loaded 380000 objects, 1101029 refs\n",
      "loaded 390000 objects, 1145300 refs\n",
      "loaded 400000 objects, 1177873 refs\n",
      "loaded 410000 objects, 1210182 refs\n",
      "loaded 420000 objects, 1237459 refs\n",
      "loaded 430000 objects, 1263170 refs\n",
      "loaded 440000 objects, 1283424 refs\n",
      "loaded 450000 objects, 1307659 refs\n",
      "loaded 460000 objects, 1349636 refs\n",
      "loaded 470000 objects, 1385655 refs\n",
      "loaded 480000 objects, 1405574 refs\n",
      "loaded 490000 objects, 1420119 refs\n",
      "loaded 500000 objects, 1434735 refs\n",
      "loaded 510000 objects, 1449301 refs\n",
      "loaded 520000 objects, 1463868 refs\n",
      "loaded 530000 objects, 1478368 refs\n",
      "loaded 540000 objects, 1492853 refs\n",
      "loaded 550000 objects, 1507367 refs\n",
      "loaded 560000 objects, 1523467 refs\n",
      "loaded 570000 objects, 1554364 refs\n",
      "loaded 580000 objects, 1586547 refs\n",
      "loaded 590000 objects, 1618386 refs\n",
      "loaded 600000 objects, 1650049 refs\n",
      "loaded 610000 objects, 1682481 refs\n",
      "loaded 620000 objects, 1714054 refs\n",
      "loaded 630000 objects, 1745790 refs\n",
      "loaded 640000 objects, 1777402 refs\n",
      "loaded 650000 objects, 1808817 refs\n",
      "loaded 660000 objects, 1840637 refs\n",
      "loaded 670000 objects, 1871956 refs\n",
      "loaded 680000 objects, 1902887 refs\n",
      "loaded 690000 objects, 1933669 refs\n",
      "loaded 700000 objects, 1965048 refs\n",
      "loaded 710000 objects, 1992460 refs\n",
      "loaded 720000 objects, 2021456 refs\n",
      "loaded 730000 objects, 2051129 refs\n",
      "loaded 740000 objects, 2080943 refs\n",
      "loaded 750000 objects, 2110240 refs\n",
      "loaded 760000 objects, 2141790 refs\n",
      "loaded 770000 objects, 2172863 refs\n",
      "loaded 780000 objects, 2204020 refs\n",
      "loaded 790000 objects, 2235307 refs\n",
      "loaded 800000 objects, 2266430 refs\n",
      "loaded 810000 objects, 2297781 refs\n",
      "loaded 820000 objects, 2328831 refs\n",
      "loaded 830000 objects, 2360216 refs\n",
      "loaded 840000 objects, 2391385 refs\n",
      "loaded 850000 objects, 2422480 refs\n",
      "loaded 860000 objects, 2453978 refs\n",
      "loaded 870000 objects, 2485245 refs\n",
      "loaded 880000 objects, 2517212 refs\n",
      "loaded 890000 objects, 2548760 refs\n",
      "loaded 900000 objects, 2579956 refs\n",
      "loaded 910000 objects, 2610943 refs\n",
      "loaded 920000 objects, 2642357 refs\n",
      "loaded 930000 objects, 2673375 refs\n",
      "loaded 940000 objects, 2704591 refs\n",
      "loaded 950000 objects, 2736366 refs\n",
      "loaded 960000 objects, 2767568 refs\n",
      "loaded 970000 objects, 2798759 refs\n",
      "loaded 980000 objects, 2829957 refs\n",
      "loaded 990000 objects, 2861509 refs\n",
      "loaded 1000000 objects, 2892814 refs\n",
      "loaded 1010000 objects, 2924557 refs\n",
      "loaded 1020000 objects, 2955969 refs\n",
      "loaded 1030000 objects, 2987174 refs\n",
      "loaded 1040000 objects, 3018182 refs\n",
      "loaded 1050000 objects, 3049480 refs\n",
      "loaded 1060000 objects, 3080560 refs\n",
      "loaded 1070000 objects, 3111835 refs\n",
      "loaded 1080000 objects, 3143489 refs\n",
      "loaded 1090000 objects, 3174648 refs\n",
      "loaded 1100000 objects, 3206474 refs\n",
      "loaded 1110000 objects, 3238158 refs\n",
      "loaded 1120000 objects, 3269817 refs\n",
      "loaded 1130000 objects, 3301401 refs\n",
      "loaded 1140000 objects, 3332346 refs\n",
      "loaded 1150000 objects, 3363597 refs\n",
      "loaded 1160000 objects, 3394634 refs\n",
      "loaded 1170000 objects, 3426383 refs\n",
      "loaded 1180000 objects, 3457985 refs\n",
      "loaded 1190000 objects, 3481607 refs\n",
      "loaded 1200000 objects, 3512680 refs\n",
      "loaded 1210000 objects, 3543889 refs\n",
      "loaded 1220000 objects, 3575276 refs\n",
      "loaded 1230000 objects, 3606442 refs\n",
      "loaded 1240000 objects, 3637522 refs\n",
      "loaded 1250000 objects, 3668562 refs\n",
      "loaded 1260000 objects, 3699721 refs\n",
      "loaded 1270000 objects, 3730800 refs\n",
      "loaded 1280000 objects, 3761988 refs\n",
      "loaded 1290000 objects, 3793033 refs\n",
      "loaded 1300000 objects, 3824073 refs\n",
      "loaded 1310000 objects, 3855281 refs\n",
      "loaded 1320000 objects, 3886169 refs\n",
      "loaded 1330000 objects, 3917145 refs\n",
      "loaded 1340000 objects, 3948557 refs\n",
      "loaded 1350000 objects, 3979412 refs\n",
      "loaded 1360000 objects, 4010480 refs\n",
      "loaded 1370000 objects, 4041448 refs\n",
      "loaded 1380000 objects, 4072799 refs\n",
      "loaded 1390000 objects, 4103841 refs\n",
      "loaded 1400000 objects, 4134931 refs\n",
      "loaded 1410000 objects, 4166203 refs\n",
      "loaded 1420000 objects, 4197127 refs\n",
      "loaded 1430000 objects, 4228497 refs\n",
      "loaded 1440000 objects, 4259783 refs\n",
      "loaded 1450000 objects, 4291016 refs\n",
      "loaded 1460000 objects, 4322164 refs\n",
      "loaded 1470000 objects, 4353235 refs\n",
      "loaded 1480000 objects, 4384406 refs\n",
      "loaded 1490000 objects, 4415674 refs\n",
      "loaded 1500000 objects, 4446657 refs\n",
      "loaded 1510000 objects, 4477953 refs\n",
      "loaded 1520000 objects, 4509094 refs\n",
      "loaded 1530000 objects, 4540307 refs\n",
      "loaded 1540000 objects, 4571348 refs\n",
      "loaded 1550000 objects, 4602873 refs\n",
      "loaded 1560000 objects, 4633912 refs\n",
      "loaded 1570000 objects, 4664945 refs\n",
      "loaded 1580000 objects, 4695968 refs\n",
      "loaded 1590000 objects, 4726917 refs\n",
      "loaded 1600000 objects, 4758380 refs\n",
      "loaded 1610000 objects, 4789149 refs\n",
      "loaded 1620000 objects, 4820441 refs\n",
      "loaded 1630000 objects, 4851380 refs\n",
      "loaded 1640000 objects, 4882392 refs\n",
      "loaded 1650000 objects, 4913473 refs\n",
      "loaded 1660000 objects, 4944615 refs\n",
      "loaded 1670000 objects, 4975920 refs\n",
      "loaded 1680000 objects, 5006800 refs\n",
      "loaded 1690000 objects, 5037989 refs\n",
      "loaded 1700000 objects, 5069146 refs\n",
      "loaded 1710000 objects, 5100321 refs\n",
      "loaded 1720000 objects, 5131694 refs\n",
      "loaded 1730000 objects, 5162551 refs\n",
      "loaded 1740000 objects, 5193875 refs\n",
      "loaded 1750000 objects, 5225141 refs\n",
      "loaded 1760000 objects, 5256483 refs\n",
      "loaded 1770000 objects, 5287547 refs\n",
      "loaded 1780000 objects, 5318898 refs\n",
      "loaded 1790000 objects, 5349988 refs\n",
      "loaded 1800000 objects, 5381598 refs\n",
      "loaded 1810000 objects, 5412444 refs\n",
      "loaded 1820000 objects, 5443857 refs\n",
      "loaded 1830000 objects, 5475147 refs\n",
      "loaded 1840000 objects, 5506259 refs\n",
      "loaded 1850000 objects, 5537325 refs\n",
      "loaded 1860000 objects, 5568214 refs\n",
      "loaded 1870000 objects, 5599453 refs\n",
      "loaded 1880000 objects, 5630556 refs\n",
      "loaded 1890000 objects, 5662007 refs\n",
      "loaded 1900000 objects, 5693109 refs\n",
      "loaded 1910000 objects, 5724221 refs\n",
      "loaded 1920000 objects, 5755360 refs\n",
      "loaded 1930000 objects, 5786486 refs\n",
      "loaded 1940000 objects, 5817684 refs\n",
      "loaded 1950000 objects, 5848511 refs\n",
      "loaded 1960000 objects, 5880091 refs\n",
      "loaded 1970000 objects, 5910908 refs\n",
      "loaded 1980000 objects, 5941988 refs\n",
      "loaded 1990000 objects, 5973031 refs\n",
      "loaded 2000000 objects, 6004663 refs\n",
      "loaded 2010000 objects, 6035821 refs\n",
      "loaded 2020000 objects, 6066943 refs\n",
      "loaded 2030000 objects, 6098258 refs\n",
      "loaded 2040000 objects, 6129530 refs\n",
      "loaded 2050000 objects, 6160715 refs\n",
      "loaded 2060000 objects, 6192704 refs\n",
      "loaded 2070000 objects, 6223662 refs\n",
      "loaded 2080000 objects, 6254992 refs\n",
      "loaded 2090000 objects, 6286143 refs\n",
      "loaded 2100000 objects, 6317320 refs\n",
      "loaded 2110000 objects, 6349733 refs\n",
      "loaded 2120000 objects, 6380926 refs\n",
      "loaded 2130000 objects, 6412089 refs\n",
      "loaded 2140000 objects, 6443288 refs\n",
      "loaded 2150000 objects, 6474755 refs\n",
      "loaded 2160000 objects, 6505839 refs\n",
      "loaded 2170000 objects, 6537619 refs\n",
      "loaded 2180000 objects, 6569398 refs\n",
      "loaded 2190000 objects, 6601320 refs\n",
      "loaded 2200000 objects, 6632962 refs\n",
      "loaded 2210000 objects, 6663771 refs\n",
      "loaded 2220000 objects, 6695545 refs\n",
      "loaded 2230000 objects, 6726782 refs\n",
      "loaded 2240000 objects, 6757901 refs\n",
      "loaded 2250000 objects, 6789056 refs\n",
      "loaded 2260000 objects, 6820127 refs\n",
      "loaded 2270000 objects, 6852322 refs\n",
      "loaded 2280000 objects, 6883746 refs\n",
      "loaded 2290000 objects, 6914737 refs\n",
      "loaded 2300000 objects, 6946290 refs\n",
      "loaded 2310000 objects, 6977200 refs\n",
      "loaded 2320000 objects, 7008806 refs\n",
      "loaded 2330000 objects, 7040108 refs\n",
      "loaded 2340000 objects, 7070758 refs\n",
      "loaded 2350000 objects, 7102531 refs\n",
      "loaded 2360000 objects, 7134409 refs\n",
      "loaded 2370000 objects, 7165780 refs\n",
      "loaded 2380000 objects, 7197708 refs\n",
      "loaded 2390000 objects, 7228802 refs\n",
      "loaded 2400000 objects, 7260027 refs\n",
      "loaded 2410000 objects, 7290950 refs\n",
      "loaded 2420000 objects, 7322513 refs\n",
      "loaded 2430000 objects, 7353460 refs\n",
      "loaded 2440000 objects, 7385054 refs\n",
      "loaded 2450000 objects, 7416934 refs\n",
      "loaded 2460000 objects, 7448819 refs\n",
      "loaded 2470000 objects, 7480368 refs\n",
      "loaded 2480000 objects, 7511837 refs\n",
      "loaded 2490000 objects, 7543173 refs\n",
      "loaded 2500000 objects, 7574781 refs\n",
      "loaded 2510000 objects, 7606947 refs\n",
      "loaded 2520000 objects, 7638322 refs\n",
      "loaded 2530000 objects, 7669501 refs\n",
      "loaded 2540000 objects, 7701160 refs\n",
      "loaded 2550000 objects, 7732459 refs\n",
      "loaded 2560000 objects, 7763860 refs\n",
      "loaded 2570000 objects, 7795659 refs\n",
      "loaded 2580000 objects, 7827373 refs\n",
      "loaded 2590000 objects, 7859217 refs\n",
      "loaded 2600000 objects, 7890848 refs\n",
      "loaded 2610000 objects, 7922011 refs\n",
      "loaded 2620000 objects, 7953708 refs\n",
      "loaded 2630000 objects, 7985682 refs\n",
      "loaded 2640000 objects, 8017016 refs\n",
      "loaded 2650000 objects, 8048227 refs\n",
      "loaded 2660000 objects, 8080243 refs\n",
      "loaded 2670000 objects, 8111656 refs\n",
      "loaded 2680000 objects, 8143356 refs\n",
      "loaded 2690000 objects, 8175521 refs\n",
      "loaded 2700000 objects, 8206949 refs\n",
      "loaded 2710000 objects, 8238214 refs\n",
      "loaded 2720000 objects, 8270126 refs\n",
      "loaded 2730000 objects, 8301257 refs\n",
      "loaded 2740000 objects, 8332374 refs\n",
      "loaded 2750000 objects, 8363641 refs\n",
      "loaded 2760000 objects, 8394996 refs\n",
      "loaded 2770000 objects, 8426384 refs\n",
      "loaded 2780000 objects, 8457723 refs\n",
      "loaded 2790000 objects, 8488641 refs\n",
      "loaded 2800000 objects, 8520028 refs\n",
      "loaded 2810000 objects, 8551247 refs\n",
      "loaded 2820000 objects, 8582510 refs\n",
      "loaded 2830000 objects, 8613744 refs\n",
      "loaded 2840000 objects, 8644926 refs\n",
      "loaded 2850000 objects, 8676172 refs\n",
      "loaded 2860000 objects, 8707560 refs\n",
      "loaded 2870000 objects, 8738879 refs\n",
      "loaded 2880000 objects, 8770139 refs\n",
      "loaded 2890000 objects, 8801498 refs\n",
      "loaded 2900000 objects, 8833166 refs\n",
      "loaded 2910000 objects, 8864530 refs\n",
      "loaded 2920000 objects, 8896103 refs\n",
      "loaded 2930000 objects, 8927612 refs\n",
      "loaded 2940000 objects, 8958999 refs\n",
      "loaded 2950000 objects, 8990826 refs\n",
      "loaded 2960000 objects, 9022133 refs\n",
      "loaded 2970000 objects, 9053735 refs\n",
      "loaded 2980000 objects, 9085371 refs\n",
      "loaded 2990000 objects, 9116736 refs\n",
      "loaded 3000000 objects, 9142208 refs\n",
      "loaded 3010000 objects, 9171764 refs\n",
      "loaded 3020000 objects, 9200136 refs\n",
      "loaded 3030000 objects, 9219858 refs\n",
      "loaded 3040000 objects, 9244704 refs\n",
      "loaded 3050000 objects, 9275909 refs\n",
      "loaded 3060000 objects, 9300636 refs\n",
      "loaded 3070000 objects, 9327314 refs\n",
      "loaded 3080000 objects, 9358428 refs\n",
      "loaded 3090000 objects, 9391262 refs\n",
      "loaded 3100000 objects, 9422844 refs\n",
      "loaded 3110000 objects, 9454497 refs\n",
      "loaded 3120000 objects, 9486190 refs\n",
      "loaded 3130000 objects, 9516813 refs\n",
      "loaded 3140000 objects, 9548194 refs\n",
      "loaded 3150000 objects, 9580409 refs\n",
      "loaded 3160000 objects, 9611473 refs\n",
      "loaded 3170000 objects, 9640563 refs\n",
      "loaded 3180000 objects, 9671678 refs\n",
      "loaded 3190000 objects, 9700649 refs\n",
      "loaded 3200000 objects, 9732196 refs\n",
      "loaded 3210000 objects, 9765320 refs\n",
      "loaded 3220000 objects, 9795820 refs\n",
      "loaded 3230000 objects, 9825983 refs\n",
      "loaded 3240000 objects, 9861422 refs\n",
      "loaded 3250000 objects, 9893055 refs\n",
      "loaded 3260000 objects, 9925317 refs\n",
      "loaded 3270000 objects, 9956720 refs\n",
      "loaded 3280000 objects, 9988270 refs\n",
      "loaded 3290000 objects, 10016925 refs\n",
      "loaded 3300000 objects, 10044167 refs\n",
      "loaded 3310000 objects, 10069036 refs\n",
      "loaded 3320000 objects, 10100155 refs\n",
      "loaded 3330000 objects, 10130997 refs\n",
      "loaded 3340000 objects, 10158045 refs\n",
      "loaded 3350000 objects, 10185971 refs\n",
      "loaded 3360000 objects, 10218055 refs\n",
      "loaded 3370000 objects, 10249925 refs\n",
      "loaded 3380000 objects, 10281279 refs\n",
      "loaded 3390000 objects, 10313410 refs\n",
      "loaded 3400000 objects, 10344713 refs\n",
      "loaded 3410000 objects, 10376011 refs\n",
      "loaded 3420000 objects, 10405794 refs\n",
      "loaded 3430000 objects, 10436636 refs\n",
      "loaded 3440000 objects, 10469516 refs\n",
      "loaded 3450000 objects, 10501471 refs\n",
      "loaded 3460000 objects, 10532793 refs\n",
      "loaded 3470000 objects, 10563531 refs\n",
      "loaded 3480000 objects, 10592752 refs\n",
      "loaded 3490000 objects, 10626613 refs\n",
      "loaded 3500000 objects, 10657340 refs\n",
      "loaded 3510000 objects, 10688420 refs\n",
      "loaded 3520000 objects, 10719486 refs\n",
      "loaded 3530000 objects, 10751176 refs\n",
      "loaded 3540000 objects, 10783637 refs\n",
      "loaded 3550000 objects, 10813268 refs\n",
      "loaded 3560000 objects, 10846402 refs\n",
      "loaded 3570000 objects, 10878284 refs\n",
      "loaded 3580000 objects, 10911028 refs\n",
      "loaded 3590000 objects, 10942166 refs\n",
      "loaded 3600000 objects, 10972066 refs\n",
      "loaded 3610000 objects, 11003364 refs\n",
      "loaded 3620000 objects, 11035642 refs\n",
      "loaded 3630000 objects, 11066674 refs\n",
      "loaded 3640000 objects, 11100214 refs\n",
      "loaded 3650000 objects, 11130194 refs\n",
      "loaded 3660000 objects, 11162705 refs\n",
      "loaded 3670000 objects, 11194257 refs\n",
      "loaded 3680000 objects, 11225853 refs\n",
      "loaded 3690000 objects, 11256447 refs\n",
      "loaded 3700000 objects, 11288258 refs\n",
      "loaded 3710000 objects, 11320572 refs\n",
      "loaded 3720000 objects, 11352242 refs\n",
      "loaded 3730000 objects, 11381289 refs\n",
      "loaded 3740000 objects, 11414714 refs\n",
      "loaded 3750000 objects, 11446002 refs\n",
      "loaded 3760000 objects, 11478171 refs\n",
      "loaded 3770000 objects, 11510237 refs\n",
      "loaded 3780000 objects, 11540931 refs\n",
      "loaded 3790000 objects, 11571393 refs\n",
      "loaded 3800000 objects, 11602474 refs\n",
      "loaded 3810000 objects, 11634957 refs\n",
      "loaded 3820000 objects, 11668045 refs\n",
      "loaded 3830000 objects, 11699821 refs\n",
      "loaded 3840000 objects, 11729820 refs\n",
      "loaded 3850000 objects, 11757571 refs\n",
      "loaded 3860000 objects, 11782066 refs\n",
      "loaded 3870000 objects, 11811517 refs\n",
      "loaded 3880000 objects, 11835282 refs\n",
      "loaded 3890000 objects, 11867485 refs\n",
      "loaded 3900000 objects, 11899321 refs\n",
      "loaded 3910000 objects, 11930292 refs\n",
      "loaded 3920000 objects, 11962996 refs\n",
      "loaded 3930000 objects, 11993001 refs\n",
      "loaded 3940000 objects, 12023036 refs\n",
      "loaded 3950000 objects, 12056842 refs\n",
      "loaded 3960000 objects, 12088433 refs\n",
      "loaded 3970000 objects, 12120793 refs\n",
      "loaded 3980000 objects, 12153242 refs\n",
      "loaded 3990000 objects, 12185487 refs\n",
      "loaded 4000000 objects, 12216486 refs\n",
      "loaded 4010000 objects, 12247033 refs\n",
      "loaded 4020000 objects, 12279715 refs\n",
      "loaded 4030000 objects, 12311337 refs\n",
      "loaded 4040000 objects, 12342878 refs\n",
      "loaded 4050000 objects, 12374136 refs\n",
      "loaded 4060000 objects, 12404124 refs\n",
      "loaded 4070000 objects, 12436319 refs\n",
      "loaded 4080000 objects, 12467899 refs\n",
      "loaded 4090000 objects, 12499019 refs\n",
      "loaded 4100000 objects, 12531512 refs\n",
      "loaded 4110000 objects, 12564122 refs\n",
      "loaded 4120000 objects, 12595051 refs\n",
      "loaded 4130000 objects, 12626577 refs\n",
      "loaded 4140000 objects, 12657833 refs\n",
      "loaded 4150000 objects, 12689967 refs\n",
      "loaded 4160000 objects, 12720743 refs\n",
      "loaded 4170000 objects, 12752539 refs\n",
      "loaded 4180000 objects, 12783779 refs\n",
      "loaded 4190000 objects, 12815702 refs\n",
      "loaded 4200000 objects, 12845955 refs\n",
      "loaded 4210000 objects, 12877388 refs\n",
      "loaded 4220000 objects, 12908358 refs\n",
      "loaded 4230000 objects, 12939382 refs\n",
      "loaded 4240000 objects, 12971812 refs\n",
      "loaded 4250000 objects, 13003212 refs\n",
      "loaded 4260000 objects, 13036646 refs\n",
      "loaded 4270000 objects, 13068230 refs\n",
      "loaded 4280000 objects, 13099900 refs\n",
      "loaded 4290000 objects, 13132089 refs\n",
      "loaded 4300000 objects, 13162239 refs\n",
      "loaded 4310000 objects, 13194167 refs\n",
      "loaded 4320000 objects, 13225383 refs\n",
      "loaded 4330000 objects, 13256910 refs\n",
      "loaded 4340000 objects, 13288332 refs\n",
      "loaded 4350000 objects, 13317555 refs\n",
      "loaded 4360000 objects, 13344666 refs\n",
      "loaded 4370000 objects, 13376285 refs\n",
      "loaded 4380000 objects, 13403085 refs\n",
      "loaded 4390000 objects, 13435491 refs\n",
      "loaded 4400000 objects, 13466621 refs\n",
      "loaded 4410000 objects, 13498988 refs\n",
      "loaded 4420000 objects, 13531021 refs\n",
      "loaded 4430000 objects, 13561399 refs\n",
      "loaded 4440000 objects, 13593028 refs\n",
      "loaded 4450000 objects, 13624352 refs\n",
      "loaded 4460000 objects, 13655657 refs\n",
      "loaded 4470000 objects, 13686226 refs\n",
      "loaded 4480000 objects, 13718364 refs\n",
      "loaded 4490000 objects, 13749141 refs\n",
      "loaded 4500000 objects, 13778495 refs\n",
      "loaded 4510000 objects, 13811629 refs\n",
      "loaded 4520000 objects, 13844760 refs\n",
      "loaded 4530000 objects, 13876339 refs\n",
      "loaded 4540000 objects, 13907104 refs\n",
      "loaded 4550000 objects, 13938561 refs\n",
      "loaded 4560000 objects, 13970048 refs\n",
      "loaded 4570000 objects, 14001785 refs\n",
      "loaded 4580000 objects, 14032813 refs\n",
      "loaded 4590000 objects, 14064295 refs\n",
      "loaded 4600000 objects, 14093441 refs\n",
      "loaded 4610000 objects, 14127804 refs\n",
      "loaded 4620000 objects, 14159139 refs\n",
      "loaded 4630000 objects, 14190220 refs\n",
      "loaded 4640000 objects, 14221999 refs\n",
      "loaded 4650000 objects, 14254002 refs\n",
      "loaded 4660000 objects, 14284630 refs\n",
      "loaded 4670000 objects, 14310859 refs\n",
      "loaded 4680000 objects, 14341767 refs\n",
      "loaded 4690000 objects, 14369929 refs\n",
      "loaded 4700000 objects, 14400926 refs\n",
      "loaded 4710000 objects, 14432194 refs\n",
      "loaded 4720000 objects, 14465283 refs\n",
      "loaded 4730000 objects, 14494901 refs\n",
      "loaded 4740000 objects, 14524976 refs\n",
      "loaded 4750000 objects, 14558182 refs\n",
      "loaded 4760000 objects, 14589625 refs\n",
      "loaded 4770000 objects, 14621806 refs\n",
      "loaded 4780000 objects, 14651822 refs\n",
      "loaded 4790000 objects, 14682255 refs\n",
      "loaded 4800000 objects, 14716407 refs\n",
      "loaded 4810000 objects, 14748473 refs\n",
      "loaded 4820000 objects, 14778739 refs\n",
      "loaded 4830000 objects, 14810844 refs\n",
      "loaded 4840000 objects, 14843151 refs\n",
      "loaded 4850000 objects, 14873071 refs\n",
      "loaded 4860000 objects, 14904707 refs\n",
      "loaded 4870000 objects, 14938024 refs\n",
      "loaded 4880000 objects, 14969126 refs\n",
      "loaded 4890000 objects, 15001638 refs\n",
      "loaded 4900000 objects, 15032463 refs\n",
      "loaded 4910000 objects, 15064380 refs\n",
      "loaded 4920000 objects, 15094693 refs\n",
      "loaded 4930000 objects, 15124399 refs\n",
      "loaded 4940000 objects, 15150254 refs\n",
      "loaded 4950000 objects, 15180951 refs\n",
      "loaded 4960000 objects, 15207294 refs\n",
      "loaded 4970000 objects, 15239496 refs\n",
      "loaded 4980000 objects, 15270653 refs\n",
      "loaded 4990000 objects, 15302450 refs\n",
      "loaded 5000000 objects, 15330900 refs\n",
      "loaded 5010000 objects, 15363895 refs\n",
      "loaded 5020000 objects, 15396144 refs\n",
      "loaded 5030000 objects, 15428550 refs\n",
      "loaded 5040000 objects, 15460744 refs\n",
      "loaded 5050000 objects, 15491135 refs\n",
      "loaded 5060000 objects, 15522991 refs\n",
      "loaded 5070000 objects, 15555426 refs\n",
      "loaded 5080000 objects, 15587039 refs\n",
      "loaded 5090000 objects, 15619389 refs\n",
      "loaded 5100000 objects, 15649059 refs\n",
      "loaded 5110000 objects, 15681301 refs\n",
      "loaded 5120000 objects, 15713525 refs\n",
      "loaded 5130000 objects, 15743161 refs\n",
      "loaded 5140000 objects, 15776505 refs\n",
      "loaded 5150000 objects, 15809548 refs\n",
      "loaded 5160000 objects, 15840873 refs\n",
      "loaded 5170000 objects, 15871348 refs\n",
      "loaded 5180000 objects, 15898778 refs\n",
      "loaded 5190000 objects, 15923301 refs\n",
      "loaded 5200000 objects, 15957323 refs\n",
      "loaded 5210000 objects, 15989297 refs\n",
      "loaded 5220000 objects, 16022002 refs\n",
      "loaded 5230000 objects, 16053872 refs\n",
      "loaded 5240000 objects, 16085781 refs\n",
      "loaded 5250000 objects, 16116854 refs\n",
      "loaded 5260000 objects, 16148216 refs\n",
      "loaded 5270000 objects, 16178817 refs\n",
      "loaded 5280000 objects, 16210750 refs\n",
      "loaded 5290000 objects, 16242624 refs\n",
      "loaded 5300000 objects, 16273601 refs\n",
      "loaded 5310000 objects, 16303780 refs\n",
      "loaded 5320000 objects, 16336649 refs\n",
      "loaded 5330000 objects, 16367263 refs\n",
      "loaded 5340000 objects, 16400026 refs\n",
      "loaded 5350000 objects, 16432336 refs\n",
      "loaded 5360000 objects, 16463887 refs\n",
      "loaded 5370000 objects, 16493069 refs\n",
      "loaded 5380000 objects, 16517708 refs\n",
      "loaded 5390000 objects, 16550098 refs\n",
      "loaded 5400000 objects, 16581710 refs\n",
      "loaded 5410000 objects, 16613825 refs\n",
      "loaded 5420000 objects, 16645164 refs\n",
      "loaded 5430000 objects, 16676083 refs\n",
      "loaded 5440000 objects, 16707794 refs\n",
      "loaded 5450000 objects, 16739575 refs\n",
      "loaded 5460000 objects, 16770726 refs\n",
      "loaded 5470000 objects, 16803081 refs\n",
      "loaded 5480000 objects, 16835724 refs\n",
      "loaded 5490000 objects, 16867121 refs\n",
      "loaded 5500000 objects, 16896338 refs\n",
      "loaded 5510000 objects, 16929324 refs\n",
      "loaded 5520000 objects, 16961059 refs\n",
      "loaded 5530000 objects, 16990222 refs\n",
      "loaded 5540000 objects, 17021705 refs\n",
      "loaded 5550000 objects, 17050994 refs\n",
      "loaded 5560000 objects, 17082597 refs\n",
      "loaded 5570000 objects, 17113981 refs\n",
      "loaded 5580000 objects, 17145397 refs\n",
      "loaded 5590000 objects, 17176792 refs\n",
      "loaded 5600000 objects, 17207199 refs\n",
      "loaded 5610000 objects, 17237295 refs\n",
      "loaded 5620000 objects, 17272020 refs\n",
      "loaded 5630000 objects, 17302225 refs\n",
      "loaded 5640000 objects, 17332594 refs\n",
      "loaded 5650000 objects, 17361583 refs\n",
      "loaded 5660000 objects, 17390105 refs\n",
      "loaded 5670000 objects, 17421351 refs\n",
      "loaded 5680000 objects, 17455692 refs\n",
      "loaded 5690000 objects, 17486473 refs\n",
      "loaded 5700000 objects, 17519820 refs\n",
      "loaded 5710000 objects, 17550399 refs\n",
      "loaded 5720000 objects, 17581352 refs\n",
      "loaded 5730000 objects, 17613862 refs\n",
      "loaded 5740000 objects, 17644905 refs\n",
      "loaded 5750000 objects, 17676901 refs\n",
      "loaded 5760000 objects, 17707039 refs\n",
      "loaded 5770000 objects, 17730319 refs\n",
      "loaded 5780000 objects, 17746835 refs\n",
      "(sqlite3.OperationalError) cannot commit - no transaction is active [SQL: u'COMMIT']\n",
      "\n",
      "Marking top objects... None\n",
      "5786514 (5.8M) objects and 17773400 (17.8M) references totalling 961401795 (961.4M) bytes (9210.0s)\n"
     ]
    }
   ],
   "source": [
    "%read ../field_override_dump/pre-gc.dump"
   ]
  },
  {
   "cell_type": "code",
   "execution_count": 8,
   "metadata": {
    "collapsed": false,
    "scrolled": false
   },
   "outputs": [
    {
     "name": "stdout",
     "output_type": "stream",
     "text": [
      "Reading\n",
      "loaded 10000 objects, 27757 refs\n",
      "loaded 20000 objects, 55538 refs\n",
      "loaded 30000 objects, 78078 refs\n",
      "loaded 40000 objects, 102544 refs\n",
      "loaded 50000 objects, 127005 refs\n",
      "loaded 60000 objects, 152046 refs\n",
      "loaded 70000 objects, 170283 refs\n",
      "loaded 80000 objects, 185354 refs\n",
      "loaded 90000 objects, 209869 refs\n",
      "loaded 100000 objects, 244452 refs\n",
      "loaded 110000 objects, 274866 refs\n",
      "loaded 120000 objects, 303696 refs\n",
      "loaded 130000 objects, 339626 refs\n",
      "loaded 140000 objects, 369690 refs\n",
      "loaded 150000 objects, 408856 refs\n",
      "loaded 160000 objects, 449403 refs\n",
      "loaded 170000 objects, 489287 refs\n",
      "loaded 180000 objects, 494824 refs\n",
      "loaded 190000 objects, 533744 refs\n",
      "loaded 200000 objects, 567752 refs\n",
      "loaded 210000 objects, 599169 refs\n",
      "loaded 220000 objects, 628394 refs\n",
      "loaded 230000 objects, 649954 refs\n",
      "loaded 240000 objects, 676616 refs\n",
      "loaded 250000 objects, 712156 refs\n",
      "loaded 260000 objects, 740454 refs\n",
      "loaded 270000 objects, 766760 refs\n",
      "loaded 280000 objects, 796496 refs\n",
      "loaded 290000 objects, 832610 refs\n",
      "loaded 300000 objects, 871409 refs\n",
      "loaded 310000 objects, 904861 refs\n",
      "loaded 320000 objects, 929333 refs\n",
      "loaded 330000 objects, 954359 refs\n",
      "loaded 340000 objects, 984562 refs\n",
      "loaded 350000 objects, 1012955 refs\n",
      "loaded 360000 objects, 1035633 refs\n",
      "loaded 370000 objects, 1064536 refs\n",
      "loaded 380000 objects, 1103515 refs\n",
      "loaded 390000 objects, 1144967 refs\n",
      "loaded 400000 objects, 1177480 refs\n",
      "loaded 410000 objects, 1210334 refs\n",
      "loaded 420000 objects, 1236999 refs\n",
      "loaded 430000 objects, 1262285 refs\n",
      "loaded 440000 objects, 1282541 refs\n",
      "loaded 450000 objects, 1295097 refs\n",
      "(sqlite3.OperationalError) cannot commit - no transaction is active [SQL: u'COMMIT']\n",
      "\n",
      "Marking top objects... None\n",
      "459949 (459.9K) objects and 1321607 (1.3M) references totalling 89745862 (89.7M) bytes (49.3s)\n"
     ]
    }
   ],
   "source": [
    "%read ../no_override_dump/pre-gc.dump"
   ]
  },
  {
   "cell_type": "code",
   "execution_count": 3,
   "metadata": {
    "collapsed": false
   },
   "outputs": [
    {
     "name": "stdout",
     "output_type": "stream",
     "text": [
      "Database opened, available via variable 'memsee'\n"
     ]
    }
   ],
   "source": [
    "%open field_overrides.db"
   ]
  },
  {
   "cell_type": "code",
   "execution_count": 5,
   "metadata": {
    "collapsed": false,
    "scrolled": false
   },
   "outputs": [
    {
     "name": "stdout",
     "output_type": "stream",
     "text": [
      "Using generation 1 of 2\n"
     ]
    },
    {
     "data": {
      "text/html": [
       "<script type=\"text/javascript\">\n",
       "if ($(\"#dg-css\").length == 0){\n",
       "    $(\"head\").append([\n",
       "        \"<link href='/nbextensions/qgridjs/lib/slick.grid.css' rel='stylesheet'>\",\n",
       "        \"<link href='/nbextensions/qgridjs/lib/slick-default-theme.css' rel='stylesheet'>\",\n",
       "        \"<link href='http://cdnjs.cloudflare.com/ajax/libs/jqueryui/1.10.4/css/jquery-ui.min.css' rel='stylesheet'>\",\n",
       "        \"<link id='dg-css' href='/nbextensions/qgridjs/qgrid.css' rel='stylesheet'>\"\n",
       "    ]);\n",
       "}\n",
       "</script>\n",
       "<div class='q-grid-container'>\n",
       "<div id='dbdbf74b-b709-4a50-8ad2-6175248ca73c' class='q-grid'></div>\n",
       "</div>"
      ]
     },
     "metadata": {},
     "output_type": "display_data"
    },
    {
     "data": {
      "application/javascript": [
       "var path_dictionary = {\n",
       "    jquery_drag: \"/nbextensions/qgridjs/lib/jquery.event.drag-2.2\",\n",
       "    slick_core: \"/nbextensions/qgridjs/lib/slick.core.2.2\",\n",
       "    slick_data_view: \"/nbextensions/qgridjs/lib/slick.dataview.2.2\",\n",
       "    slick_check_box_column: \"/nbextensions/qgridjs/lib/slick.checkboxselectcolumn\",\n",
       "    slick_row_selection_model: \"/nbextensions/qgridjs/lib/slick.rowselectionmodel\",\n",
       "    slick_grid: \"/nbextensions/qgridjs/lib/slick.grid.2.2\",\n",
       "    data_grid: \"/nbextensions/qgridjs/qgrid\",\n",
       "    date_filter: \"/nbextensions/qgridjs/qgrid.datefilter\",\n",
       "    slider_filter: \"/nbextensions/qgridjs/qgrid.sliderfilter\",\n",
       "    text_filter: \"/nbextensions/qgridjs/qgrid.textfilter\",\n",
       "    filter_base:  \"/nbextensions/qgridjs/qgrid.filterbase\",\n",
       "    handlebars: \"https://cdnjs.cloudflare.com/ajax/libs/handlebars.js/2.0.0/handlebars.min\"\n",
       "};\n",
       "\n",
       "var existing_config = require.s.contexts._.config;\n",
       "if (!existing_config.paths['underscore']){\n",
       "    path_dictionary['underscore'] = \"https://cdnjs.cloudflare.com/ajax/libs/underscore.js/1.7.0/underscore-min\";\n",
       "}\n",
       "\n",
       "if (!existing_config.paths['moment']){\n",
       "    path_dictionary['moment'] = \"https://cdnjs.cloudflare.com/ajax/libs/moment.js/2.8.3/moment.min\";\n",
       "}\n",
       "\n",
       "if (!existing_config.paths['jqueryui']){\n",
       "    path_dictionary['jqueryui'] = \"https://ajax.googleapis.com/ajax/libs/jqueryui/1.11.1/jquery-ui.min\";\n",
       "}\n",
       "\n",
       "require.config({\n",
       "    paths: path_dictionary\n",
       "});\n",
       "\n",
       "if (typeof jQuery === 'function') {\n",
       "    define('jquery', function() { return jQuery; });\n",
       "}\n",
       "\n",
       "require([\n",
       "    'jquery',\n",
       "    'jquery_drag',\n",
       "    'slick_core',\n",
       "    'slick_data_view'\n",
       "],\n",
       "function($){\n",
       "    $('#dbdbf74b-b709-4a50-8ad2-6175248ca73c').closest('.rendered_html').removeClass('rendered_html');\n",
       "    require([\n",
       "      'slick_check_box_column',\n",
       "      'slick_row_selection_model',\n",
       "      'slick_grid'\n",
       "    ], function(){\n",
       "        require([\"data_grid\"], function(dgrid){\n",
       "            var grid = new dgrid.QGrid('#dbdbf74b-b709-4a50-8ad2-6175248ca73c', [{\"#\":\"#0.0000\",\"count(*)\":1723919,\"type\":\"unicode\"},{\"#\":\"#0.0001\",\"count(*)\":1365646,\"type\":\"dict\"},{\"#\":\"#0.0002\",\"count(*)\":391292,\"type\":\"tuple\"},{\"#\":\"#0.0003\",\"count(*)\":326390,\"type\":\"cell\"},{\"#\":\"#0.0004\",\"count(*)\":285148,\"type\":\"function\"},{\"#\":\"#0.0005\",\"count(*)\":206164,\"type\":\"CourseLocator\"},{\"#\":\"#0.0006\",\"count(*)\":206163,\"type\":\"BlockUsageLocator\"},{\"#\":\"#0.0007\",\"count(*)\":201010,\"type\":\"str\"},{\"#\":\"#0.0008\",\"count(*)\":166887,\"type\":\"functools.partial\"},{\"#\":\"#0.0009\",\"count(*)\":158434,\"type\":\"list\"},{\"#\":\"#0.0010\",\"count(*)\":60973,\"type\":\"datetime.datetime\"},{\"#\":\"#0.0011\",\"count(*)\":43988,\"type\":\"code\"},{\"#\":\"#0.0012\",\"count(*)\":41686,\"type\":\"KvsFieldData\"},{\"#\":\"#0.0013\",\"count(*)\":41686,\"type\":\"LmsFieldData\"},{\"#\":\"#0.0014\",\"count(*)\":41686,\"type\":\"ReadOnlyFieldData\"},{\"#\":\"#0.0015\",\"count(*)\":41305,\"type\":\"float\"},{\"#\":\"#0.0016\",\"count(*)\":20848,\"type\":\"Mixologist\"},{\"#\":\"#0.0017\",\"count(*)\":20844,\"type\":\"FSService\"},{\"#\":\"#0.0018\",\"count(*)\":20844,\"type\":\"ModuleI18nService\"},{\"#\":\"#0.0019\",\"count(*)\":20843,\"type\":\"DjangoKeyValueStore\"},{\"#\":\"#0.0020\",\"count(*)\":20843,\"type\":\"DjangoXBlockUserService\"},{\"#\":\"#0.0021\",\"count(*)\":20843,\"type\":\"FakeFieldOverrideProvider\"},{\"#\":\"#0.0022\",\"count(*)\":20843,\"type\":\"LibraryToolsService\"},{\"#\":\"#0.0023\",\"count(*)\":20843,\"type\":\"LmsModuleSystem\"},{\"#\":\"#0.0024\",\"count(*)\":20843,\"type\":\"LmsPartitionService\"},{\"#\":\"#0.0025\",\"count(*)\":20843,\"type\":\"MongoKeyValueStore\"},{\"#\":\"#0.0026\",\"count(*)\":20843,\"type\":\"OverrideFieldData\"},{\"#\":\"#0.0027\",\"count(*)\":20843,\"type\":\"ReverificationService\"},{\"#\":\"#0.0028\",\"count(*)\":20843,\"type\":\"ScopeIds\"},{\"#\":\"#0.0029\",\"count(*)\":20843,\"type\":\"SettingsService\"},{\"#\":\"#0.0030\",\"count(*)\":20843,\"type\":\"UserTagsService\"},{\"#\":\"#0.0031\",\"count(*)\":20740,\"type\":\"tzutc\"},{\"#\":\"#0.0032\",\"count(*)\":19583,\"type\":\"int\"},{\"#\":\"#0.0033\",\"count(*)\":9200,\"type\":\"SequenceDescriptorWithMixins\"},{\"#\":\"#0.0034\",\"count(*)\":8923,\"type\":\"weakref\"},{\"#\":\"#0.0035\",\"count(*)\":6272,\"type\":\"type\"},{\"#\":\"#0.0036\",\"count(*)\":5093,\"type\":\"RestrictedElement\"},{\"#\":\"#0.0037\",\"count(*)\":4621,\"type\":\"CourseInfoTab\"},{\"#\":\"#0.0038\",\"count(*)\":4621,\"type\":\"CoursewareTab\"},{\"#\":\"#0.0039\",\"count(*)\":4621,\"type\":\"DiscussionTab\"},{\"#\":\"#0.0040\",\"count(*)\":4621,\"type\":\"PDFTextbookTabs\"},{\"#\":\"#0.0041\",\"count(*)\":4621,\"type\":\"ProgressTab\"},{\"#\":\"#0.0042\",\"count(*)\":4621,\"type\":\"WikiTab\"},{\"#\":\"#0.0043\",\"count(*)\":4620,\"type\":\"CourseDescriptorWithMixins\"},{\"#\":\"#0.0044\",\"count(*)\":4385,\"type\":\"getset_descriptor\"},{\"#\":\"#0.0045\",\"count(*)\":4378,\"type\":\"VerticalBlockWithMixins\"},{\"#\":\"#0.0046\",\"count(*)\":4288,\"type\":\"set\"},{\"#\":\"#0.0047\",\"count(*)\":3917,\"type\":\"builtin_function_or_method\"},{\"#\":\"#0.0048\",\"count(*)\":3174,\"type\":\"module\"},{\"#\":\"#0.0049\",\"count(*)\":2457,\"type\":\"property\"},{\"#\":\"#0.0050\",\"count(*)\":2430,\"type\":\"instancemethod\"},{\"#\":\"#0.0051\",\"count(*)\":2138,\"type\":\"long\"},{\"#\":\"#0.0052\",\"count(*)\":1966,\"type\":\"wrapper_descriptor\"},{\"#\":\"#0.0053\",\"count(*)\":1818,\"type\":\"lxml.etree._Document\"},{\"#\":\"#0.0054\",\"count(*)\":1290,\"type\":\"method_descriptor\"},{\"#\":\"#0.0055\",\"count(*)\":1137,\"type\":\"classmethod\"},{\"#\":\"#0.0056\",\"count(*)\":1033,\"type\":\"_sre.SRE_Pattern\"},{\"#\":\"#0.0057\",\"count(*)\":1014,\"type\":\"__proxy__\"},{\"#\":\"#0.0058\",\"count(*)\":959,\"type\":\"instance\"},{\"#\":\"#0.0059\",\"count(*)\":945,\"type\":\"datetime.timedelta\"},{\"#\":\"#0.0060\",\"count(*)\":909,\"type\":\"CapaDescriptorWithMixins\"},{\"#\":\"#0.0061\",\"count(*)\":909,\"type\":\"CapaModuleWithMixins\"},{\"#\":\"#0.0062\",\"count(*)\":909,\"type\":\"CorrectMap\"},{\"#\":\"#0.0063\",\"count(*)\":909,\"type\":\"LoncapaProblem\"},{\"#\":\"#0.0064\",\"count(*)\":909,\"type\":\"LoncapaSystem\"},{\"#\":\"#0.0065\",\"count(*)\":909,\"type\":\"lxml.etree._Element\"},{\"#\":\"#0.0066\",\"count(*)\":833,\"type\":\"DiscussionDescriptorWithMixins\"},{\"#\":\"#0.0067\",\"count(*)\":799,\"type\":\"TextLine\"},{\"#\":\"#0.0068\",\"count(*)\":793,\"type\":\"_ElementStringResult\"},{\"#\":\"#0.0069\",\"count(*)\":764,\"type\":\"WeakSet\"},{\"#\":\"#0.0070\",\"count(*)\":750,\"type\":\"RegexURLPattern\"},{\"#\":\"#0.0071\",\"count(*)\":717,\"type\":\"classobj\"},{\"#\":\"#0.0072\",\"count(*)\":696,\"type\":\"staticmethod\"},{\"#\":\"#0.0073\",\"count(*)\":680,\"type\":\"SortedDict\"},{\"#\":\"#0.0074\",\"count(*)\":642,\"type\":\"FormulaResponse\"},{\"#\":\"#0.0075\",\"count(*)\":624,\"type\":\"ChoiceGroup\"},{\"#\":\"#0.0076\",\"count(*)\":595,\"type\":\"Score\"},{\"#\":\"#0.0077\",\"count(*)\":557,\"type\":\"member_descriptor\"},{\"#\":\"#0.0078\",\"count(*)\":529,\"type\":\"HtmlDescriptorWithMixins\"},{\"#\":\"#0.0079\",\"count(*)\":517,\"type\":\"MultipleChoiceResponse\"},{\"#\":\"#0.0080\",\"count(*)\":480,\"type\":\"ModelState\"},{\"#\":\"#0.0081\",\"count(*)\":476,\"type\":\"StudentModule\"},{\"#\":\"#0.0082\",\"count(*)\":472,\"type\":\"operator.itemgetter\"},{\"#\":\"#0.0083\",\"count(*)\":438,\"type\":\"RelatedObject\"},{\"#\":\"#0.0084\",\"count(*)\":397,\"type\":\"vectorize\"},{\"#\":\"#0.0085\",\"count(*)\":393,\"type\":\"fortran\"},{\"#\":\"#0.0086\",\"count(*)\":390,\"type\":\"CharField\"},{\"#\":\"#0.0087\",\"count(*)\":384,\"type\":\"MaxLengthValidator\"},{\"#\":\"#0.0088\",\"count(*)\":374,\"type\":\"VideoDescriptorWithMixins\"},{\"#\":\"#0.0089\",\"count(*)\":362,\"type\":\"ProcessAwareLogger\"},{\"#\":\"#0.0090\",\"count(*)\":298,\"type\":\"EntryPoint\"},{\"#\":\"#0.0091\",\"count(*)\":291,\"type\":\"numpy.ufunc\"},{\"#\":\"#0.0092\",\"count(*)\":278,\"type\":\"Literal\"},{\"#\":\"#0.0093\",\"count(*)\":271,\"type\":\"MovedAttribute\"},{\"#\":\"#0.0094\",\"count(*)\":258,\"type\":\"MovedModule\"},{\"#\":\"#0.0095\",\"count(*)\":237,\"type\":\"include\"},{\"#\":\"#0.0096\",\"count(*)\":234,\"type\":\"ManagerDescriptor\"},{\"#\":\"#0.0097\",\"count(*)\":231,\"type\":\"ABCMeta\"},{\"#\":\"#0.0098\",\"count(*)\":227,\"type\":\"CustomResponse\"},{\"#\":\"#0.0099\",\"count(*)\":216,\"type\":\"ReverseSingleRelatedObjectDescriptor\"},{\"#\":\"#0.0100\",\"count(*)\":205,\"type\":\"ModelBase\"},{\"#\":\"#0.0101\",\"count(*)\":204,\"type\":\"Options\"},{\"#\":\"#0.0102\",\"count(*)\":200,\"type\":\"And\"},{\"#\":\"#0.0103\",\"count(*)\":200,\"type\":\"Distribution\"},{\"#\":\"#0.0104\",\"count(*)\":196,\"type\":\"ManyToOneRel\"},{\"#\":\"#0.0105\",\"count(*)\":195,\"type\":\"ForeignKey\"},{\"#\":\"#0.0106\",\"count(*)\":192,\"type\":\"Manager\"},{\"#\":\"#0.0107\",\"count(*)\":181,\"type\":\"frozenset\"},{\"#\":\"#0.0108\",\"count(*)\":180,\"type\":\"AutoField\"},{\"#\":\"#0.0109\",\"count(*)\":178,\"type\":\"DragAndDropInput\"},{\"#\":\"#0.0110\",\"count(*)\":178,\"type\":\"_FuncPtr\"},{\"#\":\"#0.0111\",\"count(*)\":170,\"type\":\"Or\"},{\"#\":\"#0.0112\",\"count(*)\":162,\"type\":\"Production\"},{\"#\":\"#0.0113\",\"count(*)\":156,\"type\":\"String\"},{\"#\":\"#0.0114\",\"count(*)\":154,\"type\":\"DateTimeField\"},{\"#\":\"#0.0115\",\"count(*)\":154,\"type\":\"PyCapsule\"},{\"#\":\"#0.0116\",\"count(*)\":152,\"type\":\"NumericalResponse\"},{\"#\":\"#0.0117\",\"count(*)\":144,\"type\":\"ForeignRelatedObjectsDescriptor\"},{\"#\":\"#0.0118\",\"count(*)\":129,\"type\":\"Option\"},{\"#\":\"#0.0119\",\"count(*)\":119,\"type\":\"RegexURLResolver\"},{\"#\":\"#0.0120\",\"count(*)\":116,\"type\":\"CythonMetaType\"},{\"#\":\"#0.0121\",\"count(*)\":115,\"type\":\"MediaDefiningClass\"},{\"#\":\"#0.0122\",\"count(*)\":113,\"type\":\"Nonterminal\"},{\"#\":\"#0.0123\",\"count(*)\":107,\"type\":\"ChoiceResponse\"},{\"#\":\"#0.0124\",\"count(*)\":104,\"type\":\"TextInput\"},{\"#\":\"#0.0125\",\"count(*)\":103,\"type\":\"SequenceModuleWithMixins\"},{\"#\":\"#0.0126\",\"count(*)\":101,\"type\":\"thread.lock\"},{\"#\":\"#0.0127\",\"count(*)\":99,\"type\":\"BooleanField\"},{\"#\":\"#0.0128\",\"count(*)\":99,\"type\":\"TextField\"},{\"#\":\"#0.0129\",\"count(*)\":98,\"type\":\"ChildrenModelMetaclass\"},{\"#\":\"#0.0130\",\"count(*)\":94,\"type\":\"FunctionClass\"},{\"#\":\"#0.0131\",\"count(*)\":94,\"type\":\"_ErrorStop\"},{\"#\":\"#0.0132\",\"count(*)\":87,\"type\":\"KeyedRef\"},{\"#\":\"#0.0133\",\"count(*)\":81,\"type\":\"_TokenType\"},{\"#\":\"#0.0134\",\"count(*)\":80,\"type\":\"RegexLexerMeta\"},{\"#\":\"#0.0135\",\"count(*)\":70,\"type\":\"ProxyAttribute\"},{\"#\":\"#0.0136\",\"count(*)\":65,\"type\":\"Dict\"},{\"#\":\"#0.0137\",\"count(*)\":64,\"type\":\"Boolean\"},{\"#\":\"#0.0138\",\"count(*)\":63,\"type\":\"Schema\"},{\"#\":\"#0.0139\",\"count(*)\":62,\"type\":\"Forward\"},{\"#\":\"#0.0140\",\"count(*)\":62,\"type\":\"Suppress\"},{\"#\":\"#0.0141\",\"count(*)\":61,\"type\":\"words\"},{\"#\":\"#0.0142\",\"count(*)\":58,\"type\":\"LazyCorpusLoader\"},{\"#\":\"#0.0143\",\"count(*)\":57,\"type\":\"BasicMeta\"},{\"#\":\"#0.0144\",\"count(*)\":57,\"type\":\"numpy.ndarray\"},{\"#\":\"#0.0145\",\"count(*)\":56,\"type\":\"Creator\"},{\"#\":\"#0.0146\",\"count(*)\":56,\"type\":\"SettingMeta\"},{\"#\":\"#0.0147\",\"count(*)\":54,\"type\":\"Signal\"},{\"#\":\"#0.0148\",\"count(*)\":53,\"type\":\"StgDict\"},{\"#\":\"#0.0149\",\"count(*)\":53,\"type\":\"cached_property\"},{\"#\":\"#0.0150\",\"count(*)\":52,\"type\":\"Keyword\"},{\"#\":\"#0.0151\",\"count(*)\":49,\"type\":\"FormulaEquationInput\"},{\"#\":\"#0.0152\",\"count(*)\":48,\"type\":\"CourseKeyField\"},{\"#\":\"#0.0153\",\"count(*)\":47,\"type\":\"IntegerField\"},{\"#\":\"#0.0154\",\"count(*)\":45,\"type\":\"OptionInput\"},{\"#\":\"#0.0155\",\"count(*)\":45,\"type\":\"OptionResponse\"},{\"#\":\"#0.0156\",\"count(*)\":43,\"type\":\"Optional\"},{\"#\":\"#0.0157\",\"count(*)\":42,\"type\":\"NoseTester\"},{\"#\":\"#0.0158\",\"count(*)\":42,\"type\":\"PrimitiveCategory\"},{\"#\":\"#0.0159\",\"count(*)\":42,\"type\":\"WhereNode\"},{\"#\":\"#0.0160\",\"count(*)\":42,\"type\":\"operator.attrgetter\"},{\"#\":\"#0.0161\",\"count(*)\":41,\"type\":\"Where\"},{\"#\":\"#0.0162\",\"count(*)\":40,\"type\":\"WeightedProduction\"},{\"#\":\"#0.0163\",\"count(*)\":39,\"type\":\"_RLock\"},{\"#\":\"#0.0164\",\"count(*)\":39,\"type\":\"object\"},{\"#\":\"#0.0165\",\"count(*)\":37,\"type\":\"MatchFirst\"},{\"#\":\"#0.0166\",\"count(*)\":37,\"type\":\"_thread._localdummy\"},{\"#\":\"#0.0167\",\"count(*)\":36,\"type\":\"DistInfoDistribution\"},{\"#\":\"#0.0168\",\"count(*)\":36,\"type\":\"PSLiteral\"},{\"#\":\"#0.0169\",\"count(*)\":36,\"type\":\"Path\"},{\"#\":\"#0.0170\",\"count(*)\":36,\"type\":\"SerializerMetaclass\"},{\"#\":\"#0.0171\",\"count(*)\":35,\"type\":\"InternalTraceWrapper\"},{\"#\":\"#0.0172\",\"count(*)\":35,\"type\":\"Transaction\"},{\"#\":\"#0.0173\",\"count(*)\":34,\"type\":\"ModelAdmin\"},{\"#\":\"#0.0174\",\"count(*)\":33,\"type\":\"typedef\"},{\"#\":\"#0.0175\",\"count(*)\":32,\"type\":\"DeclarativeFieldsMetaclass\"},{\"#\":\"#0.0176\",\"count(*)\":32,\"type\":\"Required\"},{\"#\":\"#0.0177\",\"count(*)\":31,\"type\":\"PSKeyword\"},{\"#\":\"#0.0178\",\"count(*)\":30,\"type\":\"Integer\"},{\"#\":\"#0.0179\",\"count(*)\":30,\"type\":\"MultiValueDict\"},{\"#\":\"#0.0180\",\"count(*)\":29,\"type\":\"_ctypes.PyCSimpleType\"},{\"#\":\"#0.0181\",\"count(*)\":28,\"type\":\"CheckboxInput\"},{\"#\":\"#0.0182\",\"count(*)\":28,\"type\":\"List\"},{\"#\":\"#0.0183\",\"count(*)\":28,\"type\":\"Regex\"},{\"#\":\"#0.0184\",\"count(*)\":27,\"type\":\"CheckType\"},{\"#\":\"#0.0185\",\"count(*)\":26,\"type\":\"Extension\"},{\"#\":\"#0.0186\",\"count(*)\":26,\"type\":\"ReferenceList\"},{\"#\":\"#0.0187\",\"count(*)\":25,\"type\":\"PlaceHolder\"},{\"#\":\"#0.0188\",\"count(*)\":24,\"type\":\"OptionType\"},{\"#\":\"#0.0189\",\"count(*)\":24,\"type\":\"Scope\"},{\"#\":\"#0.0190\",\"count(*)\":24,\"type\":\"SeparateContext\"},{\"#\":\"#0.0191\",\"count(*)\":23,\"type\":\"NullHandler\"},{\"#\":\"#0.0192\",\"count(*)\":23,\"type\":\"OpaqueKeyMetaclass\"},{\"#\":\"#0.0193\",\"count(*)\":23,\"type\":\"Select\"},{\"#\":\"#0.0194\",\"count(*)\":23,\"type\":\"Template\"},{\"#\":\"#0.0195\",\"count(*)\":23,\"type\":\"thread._local\"},{\"#\":\"#0.0196\",\"count(*)\":22,\"type\":\"ModuleInfo\"},{\"#\":\"#0.0197\",\"count(*)\":22,\"type\":\"Proxy\"},{\"#\":\"#0.0198\",\"count(*)\":22,\"type\":\"Style\"},{\"#\":\"#0.0199\",\"count(*)\":22,\"type\":\"Word\"},{\"#\":\"#0.0200\",\"count(*)\":22,\"type\":\"abstractproperty\"},{\"#\":\"#0.0201\",\"count(*)\":22,\"type\":\"classmethod_descriptor\"},{\"#\":\"#0.0202\",\"count(*)\":22,\"type\":\"datetime.date\"},{\"#\":\"#0.0203\",\"count(*)\":22,\"type\":\"ivmpf\"},{\"#\":\"#0.0204\",\"count(*)\":20,\"type\":\"ModelChoiceIterator\"},{\"#\":\"#0.0205\",\"count(*)\":20,\"type\":\"OneToOneField\"},{\"#\":\"#0.0206\",\"count(*)\":20,\"type\":\"OneToOneRel\"},{\"#\":\"#0.0207\",\"count(*)\":20,\"type\":\"Predicate\"},{\"#\":\"#0.0208\",\"count(*)\":20,\"type\":\"Query\"},{\"#\":\"#0.0209\",\"count(*)\":20,\"type\":\"lazy\"},{\"#\":\"#0.0210\",\"count(*)\":19,\"type\":\"AutoCreatedField\"},{\"#\":\"#0.0211\",\"count(*)\":19,\"type\":\"AutoLastModifiedField\"},{\"#\":\"#0.0212\",\"count(*)\":19,\"type\":\"LazyImporter\"},{\"#\":\"#0.0213\",\"count(*)\":19,\"type\":\"QuerySet\"},{\"#\":\"#0.0214\",\"count(*)\":19,\"type\":\"SingleRelatedObjectDescriptor\"},{\"#\":\"#0.0215\",\"count(*)\":19,\"type\":\"combined\"},{\"#\":\"#0.0216\",\"count(*)\":19,\"type\":\"mpq\"},{\"#\":\"#0.0217\",\"count(*)\":18,\"type\":\"BoundMethodWeakref\"},{\"#\":\"#0.0218\",\"count(*)\":18,\"type\":\"CheckCallable\"},{\"#\":\"#0.0219\",\"count(*)\":18,\"type\":\"FunctionalCategory\"},{\"#\":\"#0.0220\",\"count(*)\":18,\"type\":\"override_settings\"},{\"#\":\"#0.0221\",\"count(*)\":17,\"type\":\"Group\"},{\"#\":\"#0.0222\",\"count(*)\":17,\"type\":\"Markup\"},{\"#\":\"#0.0223\",\"count(*)\":17,\"type\":\"ModelFormMetaclass\"},{\"#\":\"#0.0224\",\"count(*)\":17,\"type\":\"OrderedDict\"},{\"#\":\"#0.0225\",\"count(*)\":17,\"type\":\"PositiveIntegerField\"},{\"#\":\"#0.0226\",\"count(*)\":17,\"type\":\"Singleton\"},{\"#\":\"#0.0227\",\"count(*)\":17,\"type\":\"SplitResult\"},{\"#\":\"#0.0228\",\"count(*)\":17,\"type\":\"collections.defaultdict\"},{\"#\":\"#0.0229\",\"count(*)\":16,\"type\":\"ConfigurationModelAdmin\"},{\"#\":\"#0.0230\",\"count(*)\":16,\"type\":\"FollowedBy\"},{\"#\":\"#0.0231\",\"count(*)\":16,\"type\":\"LeafInitRule\"},{\"#\":\"#0.0232\",\"count(*)\":16,\"type\":\"ModelFormOptions\"},{\"#\":\"#0.0233\",\"count(*)\":16,\"type\":\"SerializerMethodField\"},{\"#\":\"#0.0234\",\"count(*)\":16,\"type\":\"_ctypes.PyCFuncPtrType\"},{\"#\":\"#0.0235\",\"count(*)\":15,\"type\":\"Not\"},{\"#\":\"#0.0236\",\"count(*)\":15,\"type\":\"WriteConcern\"},{\"#\":\"#0.0237\",\"count(*)\":15,\"type\":\"numpy.dtype\"},{\"#\":\"#0.0238\",\"count(*)\":14,\"type\":\"BinaryPredicate\"},{\"#\":\"#0.0239\",\"count(*)\":14,\"type\":\"Date\"},{\"#\":\"#0.0240\",\"count(*)\":14,\"type\":\"PromiseProxy\"},{\"#\":\"#0.0241\",\"count(*)\":14,\"type\":\"Sentinel\"},{\"#\":\"#0.0242\",\"count(*)\":14,\"type\":\"Textarea\"},{\"#\":\"#0.0243\",\"count(*)\":14,\"type\":\"constant\"},{\"#\":\"#0.0244\",\"count(*)\":14,\"type\":\"numpy.float64\"},{\"#\":\"#0.0245\",\"count(*)\":13,\"type\":\"CodecInfo\"},{\"#\":\"#0.0246\",\"count(*)\":13,\"type\":\"Combine\"},{\"#\":\"#0.0247\",\"count(*)\":13,\"type\":\"Context\"},{\"#\":\"#0.0248\",\"count(*)\":13,\"type\":\"Float\"},{\"#\":\"#0.0249\",\"count(*)\":13,\"type\":\"ManyToManyField\"},{\"#\":\"#0.0250\",\"count(*)\":13,\"type\":\"ManyToManyRel\"},{\"#\":\"#0.0251\",\"count(*)\":13,\"type\":\"Q\"},{\"#\":\"#0.0252\",\"count(*)\":13,\"type\":\"QueryManager\"},{\"#\":\"#0.0253\",\"count(*)\":13,\"type\":\"ReverseManyRelatedObjectsDescriptor\"},{\"#\":\"#0.0254\",\"count(*)\":13,\"type\":\"YAMLObjectMetaclass\"},{\"#\":\"#0.0255\",\"count(*)\":13,\"type\":\"frame\"},{\"#\":\"#0.0256\",\"count(*)\":12,\"type\":\"DType\"},{\"#\":\"#0.0257\",\"count(*)\":12,\"type\":\"ManyRelatedObjectsDescriptor\"},{\"#\":\"#0.0258\",\"count(*)\":12,\"type\":\"lxml.etree._ErrorLog\"},{\"#\":\"#0.0259\",\"count(*)\":12,\"type\":\"lxml.etree._TempStore\"},{\"#\":\"#0.0260\",\"count(*)\":11,\"type\":\"DateTimeInput\"},{\"#\":\"#0.0261\",\"count(*)\":11,\"type\":\"FloatField\"},{\"#\":\"#0.0262\",\"count(*)\":11,\"type\":\"ModelChoiceField\"},{\"#\":\"#0.0263\",\"count(*)\":11,\"type\":\"OneOrMore\"},{\"#\":\"#0.0264\",\"count(*)\":11,\"type\":\"SelectMultiple\"},{\"#\":\"#0.0265\",\"count(*)\":11,\"type\":\"URLField\"},{\"#\":\"#0.0266\",\"count(*)\":11,\"type\":\"_TagMeta\"},{\"#\":\"#0.0267\",\"count(*)\":11,\"type\":\"cython_function_or_method\"},{\"#\":\"#0.0268\",\"count(*)\":11,\"type\":\"ivmpf_constant\"},{\"#\":\"#0.0269\",\"count(*)\":10,\"type\":\"Logger\"},{\"#\":\"#0.0270\",\"count(*)\":10,\"type\":\"NamedAttributesMetaclass\"},{\"#\":\"#0.0271\",\"count(*)\":10,\"type\":\"TemplateNamespace\"},{\"#\":\"#0.0272\",\"count(*)\":10,\"type\":\"TypeInfo\"},{\"#\":\"#0.0273\",\"count(*)\":10,\"type\":\"_Condition\"},{\"#\":\"#0.0274\",\"count(*)\":10,\"type\":\"_getitem_property\"},{\"#\":\"#0.0275\",\"count(*)\":10,\"type\":\"lxml.etree.XPath\"},{\"#\":\"#0.0276\",\"count(*)\":10,\"type\":\"lxml.etree._ExceptionContext\"},{\"#\":\"#0.0277\",\"count(*)\":10,\"type\":\"lxml.etree._ExsltRegExp\"},{\"#\":\"#0.0278\",\"count(*)\":10,\"type\":\"lxml.etree._XPathContext\"},{\"#\":\"#0.0279\",\"count(*)\":9,\"type\":\"Collection\"},{\"#\":\"#0.0280\",\"count(*)\":9,\"type\":\"Equivalent\"},{\"#\":\"#0.0281\",\"count(*)\":9,\"type\":\"LexerMeta\"},{\"#\":\"#0.0282\",\"count(*)\":9,\"type\":\"Library\"},{\"#\":\"#0.0283\",\"count(*)\":9,\"type\":\"OR\"},{\"#\":\"#0.0284\",\"count(*)\":9,\"type\":\"PDFColorSpace\"},{\"#\":\"#0.0285\",\"count(*)\":9,\"type\":\"ParseResults\"},{\"#\":\"#0.0286\",\"count(*)\":9,\"type\":\"URLValidator\"},{\"#\":\"#0.0287\",\"count(*)\":9,\"type\":\"UnaryTopologicalOp\"},{\"#\":\"#0.0288\",\"count(*)\":9,\"type\":\"ZeroOrMore\"},{\"#\":\"#0.0289\",\"count(*)\":9,\"type\":\"_FakeSignal\"},{\"#\":\"#0.0290\",\"count(*)\":9,\"type\":\"_socketobject\"},{\"#\":\"#0.0291\",\"count(*)\":9,\"type\":\"complex\"},{\"#\":\"#0.0292\",\"count(*)\":8,\"type\":\"Dummy\"},{\"#\":\"#0.0293\",\"count(*)\":8,\"type\":\"EmailField\"},{\"#\":\"#0.0294\",\"count(*)\":8,\"type\":\"MinValueValidator\"},{\"#\":\"#0.0295\",\"count(*)\":8,\"type\":\"PasswordInput\"},{\"#\":\"#0.0296\",\"count(*)\":8,\"type\":\"RegexValidator\"},{\"#\":\"#0.0297\",\"count(*)\":8,\"type\":\"SubfieldBase\"},{\"#\":\"#0.0298\",\"count(*)\":8,\"type\":\"Wild\"},{\"#\":\"#0.0299\",\"count(*)\":8,\"type\":\"_arraymethod\"},{\"#\":\"#0.0300\",\"count(*)\":8,\"type\":\"file\"},{\"#\":\"#0.0301\",\"count(*)\":8,\"type\":\"lxml.etree._ResolverRegistry\"},{\"#\":\"#0.0302\",\"count(*)\":7,\"type\":\"BinaryCombinatorRule\"},{\"#\":\"#0.0303\",\"count(*)\":7,\"type\":\"CDLL\"},{\"#\":\"#0.0304\",\"count(*)\":7,\"type\":\"CFunctionType\"},{\"#\":\"#0.0305\",\"count(*)\":7,\"type\":\"DBAPISet\"},{\"#\":\"#0.0306\",\"count(*)\":7,\"type\":\"Decimal\"},{\"#\":\"#0.0307\",\"count(*)\":7,\"type\":\"Field\"},{\"#\":\"#0.0308\",\"count(*)\":7,\"type\":\"FunctionWrapper\"},{\"#\":\"#0.0309\",\"count(*)\":7,\"type\":\"ModelSerializerOptions\"},{\"#\":\"#0.0310\",\"count(*)\":7,\"type\":\"NotAny\"},{\"#\":\"#0.0311\",\"count(*)\":7,\"type\":\"StdCodecData\"},{\"#\":\"#0.0312\",\"count(*)\":7,\"type\":\"Step\"},{\"#\":\"#0.0313\",\"count(*)\":7,\"type\":\"_MovedItems\"},{\"#\":\"#0.0314\",\"count(*)\":7,\"type\":\"_ctypes.PyCPointerType\"},{\"#\":\"#0.0315\",\"count(*)\":7,\"type\":\"_socket.socket\"},{\"#\":\"#0.0316\",\"count(*)\":7,\"type\":\"itertools.count\"},{\"#\":\"#0.0317\",\"count(*)\":7,\"type\":\"mpf\"},{\"#\":\"#0.0318\",\"count(*)\":7,\"type\":\"weekday\"},{\"#\":\"#0.0319\",\"count(*)\":6,\"type\":\"BaseConverter\"},{\"#\":\"#0.0320\",\"count(*)\":6,\"type\":\"Client\"},{\"#\":\"#0.0321\",\"count(*)\":6,\"type\":\"DummyLock\"},{\"#\":\"#0.0322\",\"count(*)\":6,\"type\":\"HiddenInput\"},{\"#\":\"#0.0323\",\"count(*)\":6,\"type\":\"LazyClassProperty\"},{\"#\":\"#0.0324\",\"count(*)\":6,\"type\":\"MemcachedCache\"},{\"#\":\"#0.0325\",\"count(*)\":6,\"type\":\"ScopeBase\"},{\"#\":\"#0.0326\",\"count(*)\":6,\"type\":\"ScopeChoiceField\"},{\"#\":\"#0.0327\",\"count(*)\":6,\"type\":\"SlugField\"},{\"#\":\"#0.0328\",\"count(*)\":6,\"type\":\"ThreadIdent\"},{\"#\":\"#0.0329\",\"count(*)\":6,\"type\":\"_Host\"},{\"#\":\"#0.0330\",\"count(*)\":6,\"type\":\"_MethodFunc\"},{\"#\":\"#0.0331\",\"count(*)\":6,\"type\":\"_ctypes.CField\"},{\"#\":\"#0.0332\",\"count(*)\":6,\"type\":\"_typedict\"},{\"#\":\"#0.0333\",\"count(*)\":6,\"type\":\"exists_property\"},{\"#\":\"#0.0334\",\"count(*)\":6,\"type\":\"imp.NullImporter\"},{\"#\":\"#0.0335\",\"count(*)\":6,\"type\":\"method-wrapper\"},{\"#\":\"#0.0336\",\"count(*)\":6,\"type\":\"numpy.float32\"},{\"#\":\"#0.0337\",\"count(*)\":6,\"type\":\"value_property\"},{\"#\":\"#0.0338\",\"count(*)\":5,\"type\":\"America\\/New_York\"},{\"#\":\"#0.0339\",\"count(*)\":5,\"type\":\"BackwardCombinator\"},{\"#\":\"#0.0340\",\"count(*)\":5,\"type\":\"BlockedMessage\"},{\"#\":\"#0.0341\",\"count(*)\":5,\"type\":\"Chat\"},{\"#\":\"#0.0342\",\"count(*)\":5,\"type\":\"ChoiceField\"},{\"#\":\"#0.0343\",\"count(*)\":5,\"type\":\"CompleteFundamentalRule\"},{\"#\":\"#0.0344\",\"count(*)\":5,\"type\":\"DecimalField\"},{\"#\":\"#0.0345\",\"count(*)\":5,\"type\":\"FeatureCompleteFundamentalRule\"},{\"#\":\"#0.0346\",\"count(*)\":5,\"type\":\"Formatter\"},{\"#\":\"#0.0347\",\"count(*)\":5,\"type\":\"NoneToEmptyManager\"},{\"#\":\"#0.0348\",\"count(*)\":5,\"type\":\"RegexpTokenizer\"},{\"#\":\"#0.0349\",\"count(*)\":5,\"type\":\"Timedelta\"},{\"#\":\"#0.0350\",\"count(*)\":5,\"type\":\"UUIDField\"},{\"#\":\"#0.0351\",\"count(*)\":5,\"type\":\"UnaryPredicate\"},{\"#\":\"#0.0352\",\"count(*)\":5,\"type\":\"class_property\"},{\"#\":\"#0.0353\",\"count(*)\":5,\"type\":\"scipy.sparse._csparsetools.Enum\"},{\"#\":\"#0.0354\",\"count(*)\":5,\"type\":\"scputimes\"},{\"#\":\"#0.0355\",\"count(*)\":4,\"type\":\"BinaryTopologicalOp\"},{\"#\":\"#0.0356\",\"count(*)\":4,\"type\":\"DateTime\"},{\"#\":\"#0.0357\",\"count(*)\":4,\"type\":\"DeprecatedImport\"},{\"#\":\"#0.0358\",\"count(*)\":4,\"type\":\"EmptyPredictRule\"},{\"#\":\"#0.0359\",\"count(*)\":4,\"type\":\"EnabledExtensionManager\"},{\"#\":\"#0.0360\",\"count(*)\":4,\"type\":\"EnumMeta\"},{\"#\":\"#0.0361\",\"count(*)\":4,\"type\":\"FeatureEmptyPredictRule\"},{\"#\":\"#0.0362\",\"count(*)\":4,\"type\":\"ForwardCombinator\"},{\"#\":\"#0.0363\",\"count(*)\":4,\"type\":\"Implies\"},{\"#\":\"#0.0364\",\"count(*)\":4,\"type\":\"LocationKeyField\"},{\"#\":\"#0.0365\",\"count(*)\":4,\"type\":\"ModelMultipleChoiceField\"},{\"#\":\"#0.0366\",\"count(*)\":4,\"type\":\"MonitorField\"},{\"#\":\"#0.0367\",\"count(*)\":4,\"type\":\"PunktLanguageVars\"},{\"#\":\"#0.0368\",\"count(*)\":4,\"type\":\"PyCObject\"},{\"#\":\"#0.0369\",\"count(*)\":4,\"type\":\"QueryDict\"},{\"#\":\"#0.0370\",\"count(*)\":4,\"type\":\"Random\"},{\"#\":\"#0.0371\",\"count(*)\":4,\"type\":\"StatusField\"},{\"#\":\"#0.0372\",\"count(*)\":4,\"type\":\"StringField\"},{\"#\":\"#0.0373\",\"count(*)\":4,\"type\":\"Symbol\"},{\"#\":\"#0.0374\",\"count(*)\":4,\"type\":\"TaskType\"},{\"#\":\"#0.0375\",\"count(*)\":4,\"type\":\"TimeItemDescriptor\"},{\"#\":\"#0.0376\",\"count(*)\":4,\"type\":\"UUID\"},{\"#\":\"#0.0377\",\"count(*)\":4,\"type\":\"User\"},{\"#\":\"#0.0378\",\"count(*)\":4,\"type\":\"VideoSortField\"},{\"#\":\"#0.0379\",\"count(*)\":4,\"type\":\"_Event\"},{\"#\":\"#0.0380\",\"count(*)\":4,\"type\":\"_ctypes.PyCStructType\"},{\"#\":\"#0.0381\",\"count(*)\":4,\"type\":\"cStringIO.StringO\"},{\"#\":\"#0.0382\",\"count(*)\":4,\"type\":\"poly1d\"},{\"#\":\"#0.0383\",\"count(*)\":3,\"type\":\"ActiveBulkThread\"},{\"#\":\"#0.0384\",\"count(*)\":3,\"type\":\"Array\"},{\"#\":\"#0.0385\",\"count(*)\":3,\"type\":\"ArrayORCustomString\"},{\"#\":\"#0.0386\",\"count(*)\":3,\"type\":\"CallerStack\"},{\"#\":\"#0.0387\",\"count(*)\":3,\"type\":\"Choices\"},{\"#\":\"#0.0388\",\"count(*)\":3,\"type\":\"CodeMirrorWidget\"},{\"#\":\"#0.0389\",\"count(*)\":3,\"type\":\"Counter\"},{\"#\":\"#0.0390\",\"count(*)\":3,\"type\":\"CsrfViewMiddleware\"},{\"#\":\"#0.0391\",\"count(*)\":3,\"type\":\"CursorManager\"},{\"#\":\"#0.0392\",\"count(*)\":3,\"type\":\"Database\"},{\"#\":\"#0.0393\",\"count(*)\":3,\"type\":\"DateField\"},{\"#\":\"#0.0394\",\"count(*)\":3,\"type\":\"DefaultStorage\"},{\"#\":\"#0.0395\",\"count(*)\":3,\"type\":\"DummyCache\"},{\"#\":\"#0.0396\",\"count(*)\":3,\"type\":\"Exchange\"},{\"#\":\"#0.0397\",\"count(*)\":3,\"type\":\"FeatureSingleEdgeFundamentalRule\"},{\"#\":\"#0.0398\",\"count(*)\":3,\"type\":\"FeatureTopDownInitRule\"},{\"#\":\"#0.0399\",\"count(*)\":3,\"type\":\"Future\"},{\"#\":\"#0.0400\",\"count(*)\":3,\"type\":\"GaussLegendre\"},{\"#\":\"#0.0401\",\"count(*)\":3,\"type\":\"HMACAlgorithm\"},{\"#\":\"#0.0402\",\"count(*)\":3,\"type\":\"IPAddressField\"},{\"#\":\"#0.0403\",\"count(*)\":3,\"type\":\"JSONField\"},{\"#\":\"#0.0404\",\"count(*)\":3,\"type\":\"Member\"},{\"#\":\"#0.0405\",\"count(*)\":3,\"type\":\"MetaErrorClass\"},{\"#\":\"#0.0406\",\"count(*)\":3,\"type\":\"MinLengthValidator\"},{\"#\":\"#0.0407\",\"count(*)\":3,\"type\":\"Module_six_moves_urllib\"},{\"#\":\"#0.0408\",\"count(*)\":3,\"type\":\"Module_six_moves_urllib_error\"},{\"#\":\"#0.0409\",\"count(*)\":3,\"type\":\"Module_six_moves_urllib_parse\"},{\"#\":\"#0.0410\",\"count(*)\":3,\"type\":\"Module_six_moves_urllib_request\"},{\"#\":\"#0.0411\",\"count(*)\":3,\"type\":\"Module_six_moves_urllib_response\"},{\"#\":\"#0.0412\",\"count(*)\":3,\"type\":\"Module_six_moves_urllib_robotparser\"},{\"#\":\"#0.0413\",\"count(*)\":3,\"type\":\"MongoClient\"},{\"#\":\"#0.0414\",\"count(*)\":3,\"type\":\"PermWrapper\"},{\"#\":\"#0.0415\",\"count(*)\":3,\"type\":\"PickledObjectField\"},{\"#\":\"#0.0416\",\"count(*)\":3,\"type\":\"RelativeTime\"},{\"#\":\"#0.0417\",\"count(*)\":3,\"type\":\"Route\"},{\"#\":\"#0.0418\",\"count(*)\":3,\"type\":\"RoutingBackend\"},{\"#\":\"#0.0419\",\"count(*)\":3,\"type\":\"SekizaiDictionary\"},{\"#\":\"#0.0420\",\"count(*)\":3,\"type\":\"Settings\"},{\"#\":\"#0.0421\",\"count(*)\":3,\"type\":\"SingleEdgeFundamentalRule\"},{\"#\":\"#0.0422\",\"count(*)\":3,\"type\":\"SocketInfo\"},{\"#\":\"#0.0423\",\"count(*)\":3,\"type\":\"StringEnd\"},{\"#\":\"#0.0424\",\"count(*)\":3,\"type\":\"SystemRandom\"},{\"#\":\"#0.0425\",\"count(*)\":3,\"type\":\"TagRegistry\"},{\"#\":\"#0.0426\",\"count(*)\":3,\"type\":\"TanhSinh\"},{\"#\":\"#0.0427\",\"count(*)\":3,\"type\":\"ThreadVigil\"},{\"#\":\"#0.0428\",\"count(*)\":3,\"type\":\"TopDownInitRule\"},{\"#\":\"#0.0429\",\"count(*)\":3,\"type\":\"TopLevelDocumentMetaclass\"},{\"#\":\"#0.0430\",\"count(*)\":3,\"type\":\"TypedChoiceField\"},{\"#\":\"#0.0431\",\"count(*)\":3,\"type\":\"UndirectedComposition\"},{\"#\":\"#0.0432\",\"count(*)\":3,\"type\":\"UserPartitionList\"},{\"#\":\"#0.0433\",\"count(*)\":3,\"type\":\"_NullHandler\"},{\"#\":\"#0.0434\",\"count(*)\":3,\"type\":\"_Printer\"},{\"#\":\"#0.0435\",\"count(*)\":3,\"type\":\"_SentinelObject\"},{\"#\":\"#0.0436\",\"count(*)\":3,\"type\":\"_SixMetaPathImporter\"},{\"#\":\"#0.0437\",\"count(*)\":3,\"type\":\"classonlymethod\"},{\"#\":\"#0.0438\",\"count(*)\":3,\"type\":\"codec\"},{\"#\":\"#0.0439\",\"count(*)\":3,\"type\":\"collections.deque\"},{\"#\":\"#0.0440\",\"count(*)\":3,\"type\":\"lxml.etree.XMLParser\"},{\"#\":\"#0.0441\",\"count(*)\":3,\"type\":\"memoized_property\"},{\"#\":\"#0.0442\",\"count(*)\":3,\"type\":\"operator.methodcaller\"},{\"#\":\"#0.0443\",\"count(*)\":2,\"type\":\"AIClassifierSetAdmin\"},{\"#\":\"#0.0444\",\"count(*)\":2,\"type\":\"AIGradingWorkflowAdmin\"},{\"#\":\"#0.0445\",\"count(*)\":2,\"type\":\"AITrainingWorkflowAdmin\"},{\"#\":\"#0.0446\",\"count(*)\":2,\"type\":\"AccessTokenAdmin\"},{\"#\":\"#0.0447\",\"count(*)\":2,\"type\":\"AppConfMetaClass\"},{\"#\":\"#0.0448\",\"count(*)\":2,\"type\":\"ArticleAdmin\"},{\"#\":\"#0.0449\",\"count(*)\":2,\"type\":\"ArticleRevisionAdmin\"},{\"#\":\"#0.0450\",\"count(*)\":2,\"type\":\"AssessmentAdmin\"},{\"#\":\"#0.0451\",\"count(*)\":2,\"type\":\"AssessmentFeedbackAdmin\"},{\"#\":\"#0.0452\",\"count(*)\":2,\"type\":\"AssessmentWorkflowAdmin\"},{\"#\":\"#0.0453\",\"count(*)\":2,\"type\":\"AssociationAdmin\"},{\"#\":\"#0.0454\",\"count(*)\":2,\"type\":\"Body\"},{\"#\":\"#0.0455\",\"count(*)\":2,\"type\":\"BottomUpPredictCombineRule\"},{\"#\":\"#0.0456\",\"count(*)\":2,\"type\":\"BottomUpPredictRule\"},{\"#\":\"#0.0457\",\"count(*)\":2,\"type\":\"CCGLexicon\"},{\"#\":\"#0.0458\",\"count(*)\":2,\"type\":\"CacheMiddleware\"},{\"#\":\"#0.0459\",\"count(*)\":2,\"type\":\"CachedTopDownPredictRule\"},{\"#\":\"#0.0460\",\"count(*)\":2,\"type\":\"CachingDescriptorSystem\"},{\"#\":\"#0.0461\",\"count(*)\":2,\"type\":\"CaselessLiteral\"},{\"#\":\"#0.0462\",\"count(*)\":2,\"type\":\"ClassProperty\"},{\"#\":\"#0.0463\",\"count(*)\":2,\"type\":\"ClientAdmin\"},{\"#\":\"#0.0464\",\"count(*)\":2,\"type\":\"CommaSeparatedIntegerField\"},{\"#\":\"#0.0465\",\"count(*)\":2,\"type\":\"ConfiguredStorage\"},{\"#\":\"#0.0466\",\"count(*)\":2,\"type\":\"Constraint\"},{\"#\":\"#0.0467\",\"count(*)\":2,\"type\":\"CountryDescriptor\"},{\"#\":\"#0.0468\",\"count(*)\":2,\"type\":\"CountryField\"},{\"#\":\"#0.0469\",\"count(*)\":2,\"type\":\"CourseActionStateManager\"},{\"#\":\"#0.0470\",\"count(*)\":2,\"type\":\"CourseAuthorizationAdmin\"},{\"#\":\"#0.0471\",\"count(*)\":2,\"type\":\"CourseEmailAdmin\"},{\"#\":\"#0.0472\",\"count(*)\":2,\"type\":\"CourseEmailTemplateAdmin\"},{\"#\":\"#0.0473\",\"count(*)\":2,\"type\":\"CourseLocationManager\"},{\"#\":\"#0.0474\",\"count(*)\":2,\"type\":\"CriterionOptionSerializer\"},{\"#\":\"#0.0475\",\"count(*)\":2,\"type\":\"DatabaseOperations\"},{\"#\":\"#0.0476\",\"count(*)\":2,\"type\":\"DefaultRouter\"},{\"#\":\"#0.0477\",\"count(*)\":2,\"type\":\"DocumentMetaclass\"},{\"#\":\"#0.0478\",\"count(*)\":2,\"type\":\"DynamicTemplateLookup\"},{\"#\":\"#0.0479\",\"count(*)\":2,\"type\":\"Empty\"},{\"#\":\"#0.0480\",\"count(*)\":2,\"type\":\"EmptyManager\"},{\"#\":\"#0.0481\",\"count(*)\":2,\"type\":\"ErrorClass\"},{\"#\":\"#0.0482\",\"count(*)\":2,\"type\":\"Expression\"},{\"#\":\"#0.0483\",\"count(*)\":2,\"type\":\"ExtendedManager\"},{\"#\":\"#0.0484\",\"count(*)\":2,\"type\":\"FeatureBottomUpPredictCombineRule\"},{\"#\":\"#0.0485\",\"count(*)\":2,\"type\":\"FeatureBottomUpPredictRule\"},{\"#\":\"#0.0486\",\"count(*)\":2,\"type\":\"FeatureTopDownPredictRule\"},{\"#\":\"#0.0487\",\"count(*)\":2,\"type\":\"FilteredBottomUpPredictCombineRule\"},{\"#\":\"#0.0488\",\"count(*)\":2,\"type\":\"GMPYIntegerRing\"},{\"#\":\"#0.0489\",\"count(*)\":2,\"type\":\"GMPYIntegerType\"},{\"#\":\"#0.0490\",\"count(*)\":2,\"type\":\"GMPYRationalType\"},{\"#\":\"#0.0491\",\"count(*)\":2,\"type\":\"GrantAdmin\"},{\"#\":\"#0.0492\",\"count(*)\":2,\"type\":\"GroupAdmin\"},{\"#\":\"#0.0493\",\"count(*)\":2,\"type\":\"HTTPAdapter\"},{\"#\":\"#0.0494\",\"count(*)\":2,\"type\":\"HashContainer\"},{\"#\":\"#0.0495\",\"count(*)\":2,\"type\":\"HtmlElementClassLookup\"},{\"#\":\"#0.0496\",\"count(*)\":2,\"type\":\"IPFilterAdmin\"},{\"#\":\"#0.0497\",\"count(*)\":2,\"type\":\"ImageInput\"},{\"#\":\"#0.0498\",\"count(*)\":2,\"type\":\"ImageResponse\"},{\"#\":\"#0.0499\",\"count(*)\":2,\"type\":\"IndexExpression\"},{\"#\":\"#0.0500\",\"count(*)\":2,\"type\":\"InheritanceManager\"},{\"#\":\"#0.0501\",\"count(*)\":2,\"type\":\"InstructorTaskAdmin\"},{\"#\":\"#0.0502\",\"count(*)\":2,\"type\":\"InterpolateOp\"},{\"#\":\"#0.0503\",\"count(*)\":2,\"type\":\"JSONDecoder\"},{\"#\":\"#0.0504\",\"count(*)\":2,\"type\":\"JSONEncoder\"},{\"#\":\"#0.0505\",\"count(*)\":2,\"type\":\"LazyList\"},{\"#\":\"#0.0506\",\"count(*)\":2,\"type\":\"LazySet\"},{\"#\":\"#0.0507\",\"count(*)\":2,\"type\":\"LengthReader\"},{\"#\":\"#0.0508\",\"count(*)\":2,\"type\":\"LibraryLoader\"},{\"#\":\"#0.0509\",\"count(*)\":2,\"type\":\"LimitedStream\"},{\"#\":\"#0.0510\",\"count(*)\":2,\"type\":\"LineEnd\"},{\"#\":\"#0.0511\",\"count(*)\":2,\"type\":\"LoggerBackend\"},{\"#\":\"#0.0512\",\"count(*)\":2,\"type\":\"LookupDict\"},{\"#\":\"#0.0513\",\"count(*)\":2,\"type\":\"MPTTModelBase\"},{\"#\":\"#0.0514\",\"count(*)\":2,\"type\":\"MPTTOptions\"},{\"#\":\"#0.0515\",\"count(*)\":2,\"type\":\"MachAr\"},{\"#\":\"#0.0516\",\"count(*)\":2,\"type\":\"Namespace\"},{\"#\":\"#0.0517\",\"count(*)\":2,\"type\":\"NextPageField\"},{\"#\":\"#0.0518\",\"count(*)\":2,\"type\":\"NonceAdmin\"},{\"#\":\"#0.0519\",\"count(*)\":2,\"type\":\"OptoutAdmin\"},{\"#\":\"#0.0520\",\"count(*)\":2,\"type\":\"PSSymbolTable\"},{\"#\":\"#0.0521\",\"count(*)\":2,\"type\":\"PeerWorkflowAdmin\"},{\"#\":\"#0.0522\",\"count(*)\":2,\"type\":\"PeriodicTaskAdmin\"},{\"#\":\"#0.0523\",\"count(*)\":2,\"type\":\"PoolManager\"},{\"#\":\"#0.0524\",\"count(*)\":2,\"type\":\"PreviousPageField\"},{\"#\":\"#0.0525\",\"count(*)\":2,\"type\":\"PrimaryKeyRelatedField\"},{\"#\":\"#0.0526\",\"count(*)\":2,\"type\":\"ProfileAdmin\"},{\"#\":\"#0.0527\",\"count(*)\":2,\"type\":\"ProjectOp\"},{\"#\":\"#0.0528\",\"count(*)\":2,\"type\":\"PythonIntegerRing\"},{\"#\":\"#0.0529\",\"count(*)\":2,\"type\":\"PythonRationalType\"},{\"#\":\"#0.0530\",\"count(*)\":2,\"type\":\"Quitter\"},{\"#\":\"#0.0531\",\"count(*)\":2,\"type\":\"Rational\"},{\"#\":\"#0.0532\",\"count(*)\":2,\"type\":\"RecentlyUsedContainer\"},{\"#\":\"#0.0533\",\"count(*)\":2,\"type\":\"Reference\"},{\"#\":\"#0.0534\",\"count(*)\":2,\"type\":\"RegexField\"},{\"#\":\"#0.0535\",\"count(*)\":2,\"type\":\"ResourceLoader\"},{\"#\":\"#0.0536\",\"count(*)\":2,\"type\":\"RestrictedCourseAdmin\"},{\"#\":\"#0.0537\",\"count(*)\":2,\"type\":\"RoleCache\"},{\"#\":\"#0.0538\",\"count(*)\":2,\"type\":\"RubricAdmin\"},{\"#\":\"#0.0539\",\"count(*)\":2,\"type\":\"SafeString\"},{\"#\":\"#0.0540\",\"count(*)\":2,\"type\":\"ScoreAdmin\"},{\"#\":\"#0.0541\",\"count(*)\":2,\"type\":\"ScoreSummaryAdmin\"},{\"#\":\"#0.0542\",\"count(*)\":2,\"type\":\"SessionNegotiator\"},{\"#\":\"#0.0543\",\"count(*)\":2,\"type\":\"SessionStorage\"},{\"#\":\"#0.0544\",\"count(*)\":2,\"type\":\"SessionStore\"},{\"#\":\"#0.0545\",\"count(*)\":2,\"type\":\"SiteAdmin\"},{\"#\":\"#0.0546\",\"count(*)\":2,\"type\":\"SlugRelatedField\"},{\"#\":\"#0.0547\",\"count(*)\":2,\"type\":\"SmallIntegerField\"},{\"#\":\"#0.0548\",\"count(*)\":2,\"type\":\"SocketUnreader\"},{\"#\":\"#0.0549\",\"count(*)\":2,\"type\":\"SortDirection\"},{\"#\":\"#0.0550\",\"count(*)\":2,\"type\":\"StreamHandler\"},{\"#\":\"#0.0551\",\"count(*)\":2,\"type\":\"StringResponse\"},{\"#\":\"#0.0552\",\"count(*)\":2,\"type\":\"StudentItemAdmin\"},{\"#\":\"#0.0553\",\"count(*)\":2,\"type\":\"StyleMeta\"},{\"#\":\"#0.0554\",\"count(*)\":2,\"type\":\"SubmissionAdmin\"},{\"#\":\"#0.0555\",\"count(*)\":2,\"type\":\"SurveyFormAdmin\"},{\"#\":\"#0.0556\",\"count(*)\":2,\"type\":\"SymPyIntegerRing\"},{\"#\":\"#0.0557\",\"count(*)\":2,\"type\":\"SysLogHandler\"},{\"#\":\"#0.0558\",\"count(*)\":2,\"type\":\"TaskMonitor\"},{\"#\":\"#0.0559\",\"count(*)\":2,\"type\":\"TrustedClientAdmin\"},{\"#\":\"#0.0560\",\"count(*)\":2,\"type\":\"URLPathAdmin\"},{\"#\":\"#0.0561\",\"count(*)\":2,\"type\":\"UTC\"},{\"#\":\"#0.0562\",\"count(*)\":2,\"type\":\"UnaryRealProperty\"},{\"#\":\"#0.0563\",\"count(*)\":2,\"type\":\"Undefined\"},{\"#\":\"#0.0564\",\"count(*)\":2,\"type\":\"UndirectedFunctionApplication\"},{\"#\":\"#0.0565\",\"count(*)\":2,\"type\":\"UndirectedSubstitution\"},{\"#\":\"#0.0566\",\"count(*)\":2,\"type\":\"UndirectedTypeRaise\"},{\"#\":\"#0.0567\",\"count(*)\":2,\"type\":\"UserAdmin\"},{\"#\":\"#0.0568\",\"count(*)\":2,\"type\":\"UserOpenIDAdmin\"},{\"#\":\"#0.0569\",\"count(*)\":2,\"type\":\"VideoAdmin\"},{\"#\":\"#0.0570\",\"count(*)\":2,\"type\":\"WSGIRequest\"},{\"#\":\"#0.0571\",\"count(*)\":2,\"type\":\"WeightedGrammar\"},{\"#\":\"#0.0572\",\"count(*)\":2,\"type\":\"WhitespaceTokenizer\"},{\"#\":\"#0.0573\",\"count(*)\":2,\"type\":\"WordPunctTokenizer\"},{\"#\":\"#0.0574\",\"count(*)\":2,\"type\":\"WorkerMonitor\"},{\"#\":\"#0.0575\",\"count(*)\":2,\"type\":\"XMLParser\"},{\"#\":\"#0.0576\",\"count(*)\":2,\"type\":\"_EnsureCsrfCookie\"},{\"#\":\"#0.0577\",\"count(*)\":2,\"type\":\"_EnsureCsrfToken\"},{\"#\":\"#0.0578\",\"count(*)\":2,\"type\":\"_MainProcess\"},{\"#\":\"#0.0579\",\"count(*)\":2,\"type\":\"_MetaSubClass\"},{\"#\":\"#0.0580\",\"count(*)\":2,\"type\":\"_RouteClassAttributeToGetattr\"},{\"#\":\"#0.0581\",\"count(*)\":2,\"type\":\"_Semaphore\"},{\"#\":\"#0.0582\",\"count(*)\":2,\"type\":\"_automodule\"},{\"#\":\"#0.0583\",\"count(*)\":2,\"type\":\"_closedsocket\"},{\"#\":\"#0.0584\",\"count(*)\":2,\"type\":\"_csv.Dialect\"},{\"#\":\"#0.0585\",\"count(*)\":2,\"type\":\"_ctypes.CThunkObject\"},{\"#\":\"#0.0586\",\"count(*)\":2,\"type\":\"_nogil\"},{\"#\":\"#0.0587\",\"count(*)\":2,\"type\":\"bool\"},{\"#\":\"#0.0588\",\"count(*)\":2,\"type\":\"datetime.time\"},{\"#\":\"#0.0589\",\"count(*)\":2,\"type\":\"finfo\"},{\"#\":\"#0.0590\",\"count(*)\":2,\"type\":\"frechet_l_gen\"},{\"#\":\"#0.0591\",\"count(*)\":2,\"type\":\"frechet_r_gen\"},{\"#\":\"#0.0592\",\"count(*)\":2,\"type\":\"listiterator\"},{\"#\":\"#0.0593\",\"count(*)\":2,\"type\":\"lxml.etree.XSLTAccessControl\"},{\"#\":\"#0.0594\",\"count(*)\":2,\"type\":\"lxml.etree._ParserContext\"},{\"#\":\"#0.0595\",\"count(*)\":2,\"type\":\"lxml.etree._RotatingErrorLog\"},{\"#\":\"#0.0596\",\"count(*)\":2,\"type\":\"nd_grid\"},{\"#\":\"#0.0597\",\"count(*)\":2,\"type\":\"numpy.bool_\"},{\"#\":\"#0.0598\",\"count(*)\":2,\"type\":\"traceback\"},{\"#\":\"#0.0599\",\"count(*)\":2,\"type\":\"version_info_t\"},{\"#\":\"#0.0600\",\"count(*)\":2,\"type\":\"vonmises_gen\"},{\"#\":\"#0.0601\",\"count(*)\":2,\"type\":\"weakproxy\"},{\"#\":\"#0.0602\",\"count(*)\":1,\"type\":\"\\u2218\"},{\"#\":\"#0.0603\",\"count(*)\":1,\"type\":\"APISettings\"},{\"#\":\"#0.0604\",\"count(*)\":1,\"type\":\"AccessLog\"},{\"#\":\"#0.0605\",\"count(*)\":1,\"type\":\"AccessLogFormat\"},{\"#\":\"#0.0606\",\"count(*)\":1,\"type\":\"AccessTokenManager\"},{\"#\":\"#0.0607\",\"count(*)\":1,\"type\":\"Add\"},{\"#\":\"#0.0608\",\"count(*)\":1,\"type\":\"AdminEmailHandler\"},{\"#\":\"#0.0609\",\"count(*)\":1,\"type\":\"AdminSite\"},{\"#\":\"#0.0610\",\"count(*)\":1,\"type\":\"AgentLimitsSettings\"},{\"#\":\"#0.0611\",\"count(*)\":1,\"type\":\"AjaxExceptionMiddleware\"},{\"#\":\"#0.0612\",\"count(*)\":1,\"type\":\"AnalyticsEventsSettings\"},{\"#\":\"#0.0613\",\"count(*)\":1,\"type\":\"AnalyticsEventsTransactionsSettings\"},{\"#\":\"#0.0614\",\"count(*)\":1,\"type\":\"AnonymousUser\"},{\"#\":\"#0.0615\",\"count(*)\":1,\"type\":\"AnyType\"},{\"#\":\"#0.0616\",\"count(*)\":1,\"type\":\"AppCache\"},{\"#\":\"#0.0617\",\"count(*)\":1,\"type\":\"AppConfOptions\"},{\"#\":\"#0.0618\",\"count(*)\":1,\"type\":\"AppLoader\"},{\"#\":\"#0.0619\",\"count(*)\":1,\"type\":\"Arbiter\"},{\"#\":\"#0.0620\",\"count(*)\":1,\"type\":\"ArticleFkManager\"},{\"#\":\"#0.0621\",\"count(*)\":1,\"type\":\"ArticleManager\"},{\"#\":\"#0.0622\",\"count(*)\":1,\"type\":\"ArticleQuerySet\"},{\"#\":\"#0.0623\",\"count(*)\":1,\"type\":\"AssessmentFeedbackOptionSerializer\"},{\"#\":\"#0.0624\",\"count(*)\":1,\"type\":\"AssessmentSerializer\"},{\"#\":\"#0.0625\",\"count(*)\":1,\"type\":\"AssumptionsContext\"},{\"#\":\"#0.0626\",\"count(*)\":1,\"type\":\"AugLoad\"},{\"#\":\"#0.0627\",\"count(*)\":1,\"type\":\"AugStore\"},{\"#\":\"#0.0628\",\"count(*)\":1,\"type\":\"AuthenticationString\"},{\"#\":\"#0.0629\",\"count(*)\":1,\"type\":\"Backend\"},{\"#\":\"#0.0630\",\"count(*)\":1,\"type\":\"Backlog\"},{\"#\":\"#0.0631\",\"count(*)\":1,\"type\":\"BackwardTypeRaiseRule\"},{\"#\":\"#0.0632\",\"count(*)\":1,\"type\":\"BinaryRealProperty\"},{\"#\":\"#0.0633\",\"count(*)\":1,\"type\":\"Bind\"},{\"#\":\"#0.0634\",\"count(*)\":1,\"type\":\"BitAnd\"},{\"#\":\"#0.0635\",\"count(*)\":1,\"type\":\"BitOr\"},{\"#\":\"#0.0636\",\"count(*)\":1,\"type\":\"BitXor\"},{\"#\":\"#0.0637\",\"count(*)\":1,\"type\":\"BlanklineTokenizer\"},{\"#\":\"#0.0638\",\"count(*)\":1,\"type\":\"BlockTypeKeyField\"},{\"#\":\"#0.0639\",\"count(*)\":1,\"type\":\"BoundsOp\"},{\"#\":\"#0.0640\",\"count(*)\":1,\"type\":\"BrowserMonitorSettings\"},{\"#\":\"#0.0641\",\"count(*)\":1,\"type\":\"CCGVar\"},{\"#\":\"#0.0642\",\"count(*)\":1,\"type\":\"CClass\"},{\"#\":\"#0.0643\",\"count(*)\":1,\"type\":\"CacheBackedAuthenticationMiddleware\"},{\"#\":\"#0.0644\",\"count(*)\":1,\"type\":\"CachedDnsName\"},{\"#\":\"#0.0645\",\"count(*)\":1,\"type\":\"CaseInsensitiveDict\"},{\"#\":\"#0.0646\",\"count(*)\":1,\"type\":\"Catalan\"},{\"#\":\"#0.0647\",\"count(*)\":1,\"type\":\"Celery\"},{\"#\":\"#0.0648\",\"count(*)\":1,\"type\":\"CertFile\"},{\"#\":\"#0.0649\",\"count(*)\":1,\"type\":\"ChartParser\"},{\"#\":\"#0.0650\",\"count(*)\":1,\"type\":\"ClassRegistry\"},{\"#\":\"#0.0651\",\"count(*)\":1,\"type\":\"CommonMiddleware\"},{\"#\":\"#0.0652\",\"count(*)\":1,\"type\":\"CompleterRule\"},{\"#\":\"#0.0653\",\"count(*)\":1,\"type\":\"ComplexInfinity\"},{\"#\":\"#0.0654\",\"count(*)\":1,\"type\":\"CompressedTextField\"},{\"#\":\"#0.0655\",\"count(*)\":1,\"type\":\"ConditionalGetMiddleware\"},{\"#\":\"#0.0656\",\"count(*)\":1,\"type\":\"Config\"},{\"#\":\"#0.0657\",\"count(*)\":1,\"type\":\"ConfigCheck\"},{\"#\":\"#0.0658\",\"count(*)\":1,\"type\":\"ConfigFile\"},{\"#\":\"#0.0659\",\"count(*)\":1,\"type\":\"ConnectionHandler\"},{\"#\":\"#0.0660\",\"count(*)\":1,\"type\":\"ConnectionRouter\"},{\"#\":\"#0.0661\",\"count(*)\":1,\"type\":\"ConsoleSettings\"},{\"#\":\"#0.0662\",\"count(*)\":1,\"type\":\"ContentTypeManager\"},{\"#\":\"#0.0663\",\"count(*)\":1,\"type\":\"ContextFreeGrammar\"},{\"#\":\"#0.0664\",\"count(*)\":1,\"type\":\"CorsMiddleware\"},{\"#\":\"#0.0665\",\"count(*)\":1,\"type\":\"Countries\"},{\"#\":\"#0.0666\",\"count(*)\":1,\"type\":\"CountryMiddleware\"},{\"#\":\"#0.0667\",\"count(*)\":1,\"type\":\"CourseAccessRoleAdmin\"},{\"#\":\"#0.0668\",\"count(*)\":1,\"type\":\"CourseModeAdmin\"},{\"#\":\"#0.0669\",\"count(*)\":1,\"type\":\"CourseModuleWithMixins\"},{\"#\":\"#0.0670\",\"count(*)\":1,\"type\":\"CourseRerunUIStateManager\"},{\"#\":\"#0.0671\",\"count(*)\":1,\"type\":\"CourseSerializer\"},{\"#\":\"#0.0672\",\"count(*)\":1,\"type\":\"CourseStructureAdmin\"},{\"#\":\"#0.0673\",\"count(*)\":1,\"type\":\"CourseTabList\"},{\"#\":\"#0.0674\",\"count(*)\":1,\"type\":\"CriterionSerializer\"},{\"#\":\"#0.0675\",\"count(*)\":1,\"type\":\"CrossApplicationTracerSettings\"},{\"#\":\"#0.0676\",\"count(*)\":1,\"type\":\"CurrentRequestUserMiddleware\"},{\"#\":\"#0.0677\",\"count(*)\":1,\"type\":\"CythonDotParallel\"},{\"#\":\"#0.0678\",\"count(*)\":1,\"type\":\"Daemon\"},{\"#\":\"#0.0679\",\"count(*)\":1,\"type\":\"DarkLangMiddleware\"},{\"#\":\"#0.0680\",\"count(*)\":1,\"type\":\"DatabaseClient\"},{\"#\":\"#0.0681\",\"count(*)\":1,\"type\":\"DatabaseCreation\"},{\"#\":\"#0.0682\",\"count(*)\":1,\"type\":\"DatabaseFeatures\"},{\"#\":\"#0.0683\",\"count(*)\":1,\"type\":\"DatabaseIntrospection\"},{\"#\":\"#0.0684\",\"count(*)\":1,\"type\":\"DatabaseValidation\"},{\"#\":\"#0.0685\",\"count(*)\":1,\"type\":\"DatabaseWrapper\"},{\"#\":\"#0.0686\",\"count(*)\":1,\"type\":\"DateInput\"},{\"#\":\"#0.0687\",\"count(*)\":1,\"type\":\"Debug\"},{\"#\":\"#0.0688\",\"count(*)\":1,\"type\":\"DebugSettings\"},{\"#\":\"#0.0689\",\"count(*)\":1,\"type\":\"Decode\"},{\"#\":\"#0.0690\",\"count(*)\":1,\"type\":\"DefaultConnectionProxy\"},{\"#\":\"#0.0691\",\"count(*)\":1,\"type\":\"DefaultProcName\"},{\"#\":\"#0.0692\",\"count(*)\":1,\"type\":\"Del\"},{\"#\":\"#0.0693\",\"count(*)\":1,\"type\":\"Div\"},{\"#\":\"#0.0694\",\"count(*)\":1,\"type\":\"DjangoFixup\"},{\"#\":\"#0.0695\",\"count(*)\":1,\"type\":\"DjangoSettings\"},{\"#\":\"#0.0696\",\"count(*)\":1,\"type\":\"DjangoTracker\"},{\"#\":\"#0.0697\",\"count(*)\":1,\"type\":\"DogHttpApi\"},{\"#\":\"#0.0698\",\"count(*)\":1,\"type\":\"DogStatsApi\"},{\"#\":\"#0.0699\",\"count(*)\":1,\"type\":\"Downloader\"},{\"#\":\"#0.0700\",\"count(*)\":1,\"type\":\"DraftModuleStore\"},{\"#\":\"#0.0701\",\"count(*)\":1,\"type\":\"DraftVersioningModuleStore\"},{\"#\":\"#0.0702\",\"count(*)\":1,\"type\":\"EmailValidator\"},{\"#\":\"#0.0703\",\"count(*)\":1,\"type\":\"EmptyNodeList\"},{\"#\":\"#0.0704\",\"count(*)\":1,\"type\":\"EmptySet\"},{\"#\":\"#0.0705\",\"count(*)\":1,\"type\":\"EnableStdioInheritance\"},{\"#\":\"#0.0706\",\"count(*)\":1,\"type\":\"EncodedVideoSerializer\"},{\"#\":\"#0.0707\",\"count(*)\":1,\"type\":\"EndToken\"},{\"#\":\"#0.0708\",\"count(*)\":1,\"type\":\"EntityType\"},{\"#\":\"#0.0709\",\"count(*)\":1,\"type\":\"Eq\"},{\"#\":\"#0.0710\",\"count(*)\":1,\"type\":\"ErrorCollectorSettings\"},{\"#\":\"#0.0711\",\"count(*)\":1,\"type\":\"ErrorLog\"},{\"#\":\"#0.0712\",\"count(*)\":1,\"type\":\"EulerGamma\"},{\"#\":\"#0.0713\",\"count(*)\":1,\"type\":\"EventType\"},{\"#\":\"#0.0714\",\"count(*)\":1,\"type\":\"Exp1\"},{\"#\":\"#0.0715\",\"count(*)\":1,\"type\":\"ExpressionDomain\"},{\"#\":\"#0.0716\",\"count(*)\":1,\"type\":\"ExtCodecData\"},{\"#\":\"#0.0717\",\"count(*)\":1,\"type\":\"ExtendMarkdownPlugin\"},{\"#\":\"#0.0718\",\"count(*)\":1,\"type\":\"ExternalAuthMapAdmin\"},{\"#\":\"#0.0719\",\"count(*)\":1,\"type\":\"FPContext\"},{\"#\":\"#0.0720\",\"count(*)\":1,\"type\":\"Feature\"},{\"#\":\"#0.0721\",\"count(*)\":1,\"type\":\"FeatureCompleterRule\"},{\"#\":\"#0.0722\",\"count(*)\":1,\"type\":\"FeatureFundamentalRule\"},{\"#\":\"#0.0723\",\"count(*)\":1,\"type\":\"FeaturePredictorRule\"},{\"#\":\"#0.0724\",\"count(*)\":1,\"type\":\"FeatureScannerRule\"},{\"#\":\"#0.0725\",\"count(*)\":1,\"type\":\"FieldDataCache\"},{\"#\":\"#0.0726\",\"count(*)\":1,\"type\":\"FileBasedCache\"},{\"#\":\"#0.0727\",\"count(*)\":1,\"type\":\"FileDescriptor\"},{\"#\":\"#0.0728\",\"count(*)\":1,\"type\":\"FileField\"},{\"#\":\"#0.0729\",\"count(*)\":1,\"type\":\"Filesystem\"},{\"#\":\"#0.0730\",\"count(*)\":1,\"type\":\"FilterSetMetaclass\"},{\"#\":\"#0.0731\",\"count(*)\":1,\"type\":\"FilteredCompleteFundamentalRule\"},{\"#\":\"#0.0732\",\"count(*)\":1,\"type\":\"FilteredSingleEdgeFundamentalRule\"},{\"#\":\"#0.0733\",\"count(*)\":1,\"type\":\"FixedOffset\"},{\"#\":\"#0.0734\",\"count(*)\":1,\"type\":\"FloorDiv\"},{\"#\":\"#0.0735\",\"count(*)\":1,\"type\":\"ForwardTypeRaiseRule\"},{\"#\":\"#0.0736\",\"count(*)\":1,\"type\":\"ForwardedAllowIPS\"},{\"#\":\"#0.0737\",\"count(*)\":1,\"type\":\"GEOSImpl\"},{\"#\":\"#0.0738\",\"count(*)\":1,\"type\":\"GMPYRationalField\"},{\"#\":\"#0.0739\",\"count(*)\":1,\"type\":\"GenericForeignKey\"},{\"#\":\"#0.0740\",\"count(*)\":1,\"type\":\"GenericRel\"},{\"#\":\"#0.0741\",\"count(*)\":1,\"type\":\"GenericRelation\"},{\"#\":\"#0.0742\",\"count(*)\":1,\"type\":\"GlobalParserTLS\"},{\"#\":\"#0.0743\",\"count(*)\":1,\"type\":\"GoldenRatio\"},{\"#\":\"#0.0744\",\"count(*)\":1,\"type\":\"GracefulTimeout\"},{\"#\":\"#0.0745\",\"count(*)\":1,\"type\":\"GridFS\"},{\"#\":\"#0.0746\",\"count(*)\":1,\"type\":\"GroupAccessDict\"},{\"#\":\"#0.0747\",\"count(*)\":1,\"type\":\"GroupManager\"},{\"#\":\"#0.0748\",\"count(*)\":1,\"type\":\"Gt\"},{\"#\":\"#0.0749\",\"count(*)\":1,\"type\":\"GtE\"},{\"#\":\"#0.0750\",\"count(*)\":1,\"type\":\"HTMLParser\"},{\"#\":\"#0.0751\",\"count(*)\":1,\"type\":\"HTTPBasicAuth\"},{\"#\":\"#0.0752\",\"count(*)\":1,\"type\":\"Half\"},{\"#\":\"#0.0753\",\"count(*)\":1,\"type\":\"HtmlFormatter\"},{\"#\":\"#0.0754\",\"count(*)\":1,\"type\":\"HyperlinkedIdentityField\"},{\"#\":\"#0.0755\",\"count(*)\":1,\"type\":\"HyperlinkedModelSerializerOptions\"},{\"#\":\"#0.0756\",\"count(*)\":1,\"type\":\"IdentityFunction\"},{\"#\":\"#0.0757\",\"count(*)\":1,\"type\":\"ImaginaryUnit\"},{\"#\":\"#0.0758\",\"count(*)\":1,\"type\":\"In\"},{\"#\":\"#0.0759\",\"count(*)\":1,\"type\":\"Infinity\"},{\"#\":\"#0.0760\",\"count(*)\":1,\"type\":\"InstructorTab\"},{\"#\":\"#0.0761\",\"count(*)\":1,\"type\":\"Invert\"},{\"#\":\"#0.0762\",\"count(*)\":1,\"type\":\"InvoiceAdmin\"},{\"#\":\"#0.0763\",\"count(*)\":1,\"type\":\"Is\"},{\"#\":\"#0.0764\",\"count(*)\":1,\"type\":\"IsNot\"},{\"#\":\"#0.0765\",\"count(*)\":1,\"type\":\"JsonField\"},{\"#\":\"#0.0766\",\"count(*)\":1,\"type\":\"Keepalive\"},{\"#\":\"#0.0767\",\"count(*)\":1,\"type\":\"KeyFile\"},{\"#\":\"#0.0768\",\"count(*)\":1,\"type\":\"LGEOS16LR\"},{\"#\":\"#0.0769\",\"count(*)\":1,\"type\":\"LShift\"},{\"#\":\"#0.0770\",\"count(*)\":1,\"type\":\"LamportClock\"},{\"#\":\"#0.0771\",\"count(*)\":1,\"type\":\"LanguagePreferenceMiddleware\"},{\"#\":\"#0.0772\",\"count(*)\":1,\"type\":\"LanguageProficiencySerializer\"},{\"#\":\"#0.0773\",\"count(*)\":1,\"type\":\"LazyLoader\"},{\"#\":\"#0.0774\",\"count(*)\":1,\"type\":\"LazySettings\"},{\"#\":\"#0.0775\",\"count(*)\":1,\"type\":\"LegacyFieldMappingProcessor\"},{\"#\":\"#0.0776\",\"count(*)\":1,\"type\":\"LimitRequestFieldSize\"},{\"#\":\"#0.0777\",\"count(*)\":1,\"type\":\"LimitRequestFields\"},{\"#\":\"#0.0778\",\"count(*)\":1,\"type\":\"LimitRequestLine\"},{\"#\":\"#0.0779\",\"count(*)\":1,\"type\":\"LineStart\"},{\"#\":\"#0.0780\",\"count(*)\":1,\"type\":\"LinkPlugin\"},{\"#\":\"#0.0781\",\"count(*)\":1,\"type\":\"LinkedInAddToProfileConfigurationAdmin\"},{\"#\":\"#0.0782\",\"count(*)\":1,\"type\":\"Load\"},{\"#\":\"#0.0783\",\"count(*)\":1,\"type\":\"LocMemCache\"},{\"#\":\"#0.0784\",\"count(*)\":1,\"type\":\"Local\"},{\"#\":\"#0.0785\",\"count(*)\":1,\"type\":\"LocaleMiddleware\"},{\"#\":\"#0.0786\",\"count(*)\":1,\"type\":\"LocaleTime\"},{\"#\":\"#0.0787\",\"count(*)\":1,\"type\":\"LogConfig\"},{\"#\":\"#0.0788\",\"count(*)\":1,\"type\":\"LogEntryManager\"},{\"#\":\"#0.0789\",\"count(*)\":1,\"type\":\"LoggerClass\"},{\"#\":\"#0.0790\",\"count(*)\":1,\"type\":\"Loglevel\"},{\"#\":\"#0.0791\",\"count(*)\":1,\"type\":\"Lt\"},{\"#\":\"#0.0792\",\"count(*)\":1,\"type\":\"LtE\"},{\"#\":\"#0.0793\",\"count(*)\":1,\"type\":\"MPContext\"},{\"#\":\"#0.0794\",\"count(*)\":1,\"type\":\"MPIntervalContext\"},{\"#\":\"#0.0795\",\"count(*)\":1,\"type\":\"MPmathComplexDomain\"},{\"#\":\"#0.0796\",\"count(*)\":1,\"type\":\"MPmathRealDomain\"},{\"#\":\"#0.0797\",\"count(*)\":1,\"type\":\"MakoMiddleware\"},{\"#\":\"#0.0798\",\"count(*)\":1,\"type\":\"MaskedConstant\"},{\"#\":\"#0.0799\",\"count(*)\":1,\"type\":\"MaxRequests\"},{\"#\":\"#0.0800\",\"count(*)\":1,\"type\":\"MessageMiddleware\"},{\"#\":\"#0.0801\",\"count(*)\":1,\"type\":\"MetaDict\"},{\"#\":\"#0.0802\",\"count(*)\":1,\"type\":\"MicrositeMiddleware\"},{\"#\":\"#0.0803\",\"count(*)\":1,\"type\":\"MixedModuleStore\"},{\"#\":\"#0.0804\",\"count(*)\":1,\"type\":\"Mod\"},{\"#\":\"#0.0805\",\"count(*)\":1,\"type\":\"Mode\"},{\"#\":\"#0.0806\",\"count(*)\":1,\"type\":\"ModuleWrapper\"},{\"#\":\"#0.0807\",\"count(*)\":1,\"type\":\"MongoConnection\"},{\"#\":\"#0.0808\",\"count(*)\":1,\"type\":\"MongoContentStore\"},{\"#\":\"#0.0809\",\"count(*)\":1,\"type\":\"Mult\"},{\"#\":\"#0.0810\",\"count(*)\":1,\"type\":\"NaN\"},{\"#\":\"#0.0811\",\"count(*)\":1,\"type\":\"NameWhitelistProcessor\"},{\"#\":\"#0.0812\",\"count(*)\":1,\"type\":\"NegativeInfinity\"},{\"#\":\"#0.0813\",\"count(*)\":1,\"type\":\"NegativeOne\"},{\"#\":\"#0.0814\",\"count(*)\":1,\"type\":\"NoneAlgorithm\"},{\"#\":\"#0.0815\",\"count(*)\":1,\"type\":\"NoneType\"},{\"#\":\"#0.0816\",\"count(*)\":1,\"type\":\"NotEq\"},{\"#\":\"#0.0817\",\"count(*)\":1,\"type\":\"NotFound\"},{\"#\":\"#0.0818\",\"count(*)\":1,\"type\":\"NotImplementedType\"},{\"#\":\"#0.0819\",\"count(*)\":1,\"type\":\"NotIn\"},{\"#\":\"#0.0820\",\"count(*)\":1,\"type\":\"NotifyPlugin\"},{\"#\":\"#0.0821\",\"count(*)\":1,\"type\":\"NumWorkersChanged\"},{\"#\":\"#0.0822\",\"count(*)\":1,\"type\":\"NumberSymbol\"},{\"#\":\"#0.0823\",\"count(*)\":1,\"type\":\"OSFS\"},{\"#\":\"#0.0824\",\"count(*)\":1,\"type\":\"ObjectIdField\"},{\"#\":\"#0.0825\",\"count(*)\":1,\"type\":\"OnReload\"},{\"#\":\"#0.0826\",\"count(*)\":1,\"type\":\"OnStarting\"},{\"#\":\"#0.0827\",\"count(*)\":1,\"type\":\"One\"},{\"#\":\"#0.0828\",\"count(*)\":1,\"type\":\"PDFArrayCompact\"},{\"#\":\"#0.0829\",\"count(*)\":1,\"type\":\"Param\"},{\"#\":\"#0.0830\",\"count(*)\":1,\"type\":\"ParentLocationCache\"},{\"#\":\"#0.0831\",\"count(*)\":1,\"type\":\"ParseException\"},{\"#\":\"#0.0832\",\"count(*)\":1,\"type\":\"PasswordResetTokenGenerator\"},{\"#\":\"#0.0833\",\"count(*)\":1,\"type\":\"PeriodicTaskManager\"},{\"#\":\"#0.0834\",\"count(*)\":1,\"type\":\"PermissionManager\"},{\"#\":\"#0.0835\",\"count(*)\":1,\"type\":\"Pi\"},{\"#\":\"#0.0836\",\"count(*)\":1,\"type\":\"Pidfile\"},{\"#\":\"#0.0837\",\"count(*)\":1,\"type\":\"PipelineCachedStorage\"},{\"#\":\"#0.0838\",\"count(*)\":1,\"type\":\"PluginLoader\"},{\"#\":\"#0.0839\",\"count(*)\":1,\"type\":\"PointerInstance\"},{\"#\":\"#0.0840\",\"count(*)\":1,\"type\":\"PositiveSmallIntegerField\"},{\"#\":\"#0.0841\",\"count(*)\":1,\"type\":\"PostRequest\"},{\"#\":\"#0.0842\",\"count(*)\":1,\"type\":\"Postfork\"},{\"#\":\"#0.0843\",\"count(*)\":1,\"type\":\"Pow\"},{\"#\":\"#0.0844\",\"count(*)\":1,\"type\":\"PreExec\"},{\"#\":\"#0.0845\",\"count(*)\":1,\"type\":\"PreRequest\"},{\"#\":\"#0.0846\",\"count(*)\":1,\"type\":\"PredictorRule\"},{\"#\":\"#0.0847\",\"count(*)\":1,\"type\":\"Prefork\"},{\"#\":\"#0.0848\",\"count(*)\":1,\"type\":\"PreloadApp\"},{\"#\":\"#0.0849\",\"count(*)\":1,\"type\":\"ProbabilisticFundamentalRule\"},{\"#\":\"#0.0850\",\"count(*)\":1,\"type\":\"ProcessHostSettings\"},{\"#\":\"#0.0851\",\"count(*)\":1,\"type\":\"Procname\"},{\"#\":\"#0.0852\",\"count(*)\":1,\"type\":\"ProfilingRegexLexerMeta\"},{\"#\":\"#0.0853\",\"count(*)\":1,\"type\":\"ProxyAllowFrom\"},{\"#\":\"#0.0854\",\"count(*)\":1,\"type\":\"ProxyProtocol\"},{\"#\":\"#0.0855\",\"count(*)\":1,\"type\":\"PunktParameters\"},{\"#\":\"#0.0856\",\"count(*)\":1,\"type\":\"PyDLL\"},{\"#\":\"#0.0857\",\"count(*)\":1,\"type\":\"PyJWT\"},{\"#\":\"#0.0858\",\"count(*)\":1,\"type\":\"PythonPath\"},{\"#\":\"#0.0859\",\"count(*)\":1,\"type\":\"PythonRationalField\"},{\"#\":\"#0.0860\",\"count(*)\":1,\"type\":\"QuerySetManager\"},{\"#\":\"#0.0861\",\"count(*)\":1,\"type\":\"RClass\"},{\"#\":\"#0.0862\",\"count(*)\":1,\"type\":\"RSAImplementation\"},{\"#\":\"#0.0863\",\"count(*)\":1,\"type\":\"RShift\"},{\"#\":\"#0.0864\",\"count(*)\":1,\"type\":\"RWLock\"},{\"#\":\"#0.0865\",\"count(*)\":1,\"type\":\"Randomization\"},{\"#\":\"#0.0866\",\"count(*)\":1,\"type\":\"RateLimitAdminSite\"},{\"#\":\"#0.0867\",\"count(*)\":1,\"type\":\"RateLimitMiddleware\"},{\"#\":\"#0.0868\",\"count(*)\":1,\"type\":\"ReadOnlyPasswordHashField\"},{\"#\":\"#0.0869\",\"count(*)\":1,\"type\":\"ReadOnlyPasswordHashWidget\"},{\"#\":\"#0.0870\",\"count(*)\":1,\"type\":\"RedirectUnenrolledMiddleware\"},{\"#\":\"#0.0871\",\"count(*)\":1,\"type\":\"ReferenceValueDict\"},{\"#\":\"#0.0872\",\"count(*)\":1,\"type\":\"RequestCache\"},{\"#\":\"#0.0873\",\"count(*)\":1,\"type\":\"RequestsConnectionFilter\"},{\"#\":\"#0.0874\",\"count(*)\":1,\"type\":\"RequestsCookieJar\"},{\"#\":\"#0.0875\",\"count(*)\":1,\"type\":\"RequireDebugFalse\"},{\"#\":\"#0.0876\",\"count(*)\":1,\"type\":\"Retry\"},{\"#\":\"#0.0877\",\"count(*)\":1,\"type\":\"ReverseGenericRelatedObjectsDescriptor\"},{\"#\":\"#0.0878\",\"count(*)\":1,\"type\":\"RootLogger\"},{\"#\":\"#0.0879\",\"count(*)\":1,\"type\":\"RumSettings\"},{\"#\":\"#0.0880\",\"count(*)\":1,\"type\":\"SExprTokenizer\"},{\"#\":\"#0.0881\",\"count(*)\":1,\"type\":\"ScannerRule\"},{\"#\":\"#0.0882\",\"count(*)\":1,\"type\":\"SecureSchemeHeader\"},{\"#\":\"#0.0883\",\"count(*)\":1,\"type\":\"SegmentBackend\"},{\"#\":\"#0.0884\",\"count(*)\":1,\"type\":\"SerializerRegistry\"},{\"#\":\"#0.0885\",\"count(*)\":1,\"type\":\"Session\"},{\"#\":\"#0.0886\",\"count(*)\":1,\"type\":\"SessionInactivityTimeout\"},{\"#\":\"#0.0887\",\"count(*)\":1,\"type\":\"SessionManager\"},{\"#\":\"#0.0888\",\"count(*)\":1,\"type\":\"SessionMiddleware\"},{\"#\":\"#0.0889\",\"count(*)\":1,\"type\":\"SignalHandler\"},{\"#\":\"#0.0890\",\"count(*)\":1,\"type\":\"Signals\"},{\"#\":\"#0.0891\",\"count(*)\":1,\"type\":\"SimpleCookie\"},{\"#\":\"#0.0892\",\"count(*)\":1,\"type\":\"SimpleRouter\"},{\"#\":\"#0.0893\",\"count(*)\":1,\"type\":\"SingletonRegistry\"},{\"#\":\"#0.0894\",\"count(*)\":1,\"type\":\"SiteManager\"},{\"#\":\"#0.0895\",\"count(*)\":1,\"type\":\"SkippedReverificationAdmin\"},{\"#\":\"#0.0896\",\"count(*)\":1,\"type\":\"SlashFeature\"},{\"#\":\"#0.0897\",\"count(*)\":1,\"type\":\"SlowSqlSettings\"},{\"#\":\"#0.0898\",\"count(*)\":1,\"type\":\"SoftDeleteCouponAdmin\"},{\"#\":\"#0.0899\",\"count(*)\":1,\"type\":\"SoftDeleteCouponManager\"},{\"#\":\"#0.0900\",\"count(*)\":1,\"type\":\"SoftwareSecurePhotoVerificationAdmin\"},{\"#\":\"#0.0901\",\"count(*)\":1,\"type\":\"Spew\"},{\"#\":\"#0.0902\",\"count(*)\":1,\"type\":\"SplashMiddleware\"},{\"#\":\"#0.0903\",\"count(*)\":1,\"type\":\"StaticContentServer\"},{\"#\":\"#0.0904\",\"count(*)\":1,\"type\":\"Statistics\"},{\"#\":\"#0.0905\",\"count(*)\":1,\"type\":\"StatsdAggregator\"},{\"#\":\"#0.0906\",\"count(*)\":1,\"type\":\"Status\"},{\"#\":\"#0.0907\",\"count(*)\":1,\"type\":\"Store\"},{\"#\":\"#0.0908\",\"count(*)\":1,\"type\":\"StringStart\"},{\"#\":\"#0.0909\",\"count(*)\":1,\"type\":\"Sub\"},{\"#\":\"#0.0910\",\"count(*)\":1,\"type\":\"SubtitleSerializer\"},{\"#\":\"#0.0911\",\"count(*)\":1,\"type\":\"SymPyRationalField\"},{\"#\":\"#0.0912\",\"count(*)\":1,\"type\":\"SyncWorker\"},{\"#\":\"#0.0913\",\"count(*)\":1,\"type\":\"SyntheticsSettings\"},{\"#\":\"#0.0914\",\"count(*)\":1,\"type\":\"Syslog\"},{\"#\":\"#0.0915\",\"count(*)\":1,\"type\":\"SyslogFacility\"},{\"#\":\"#0.0916\",\"count(*)\":1,\"type\":\"SyslogPrefix\"},{\"#\":\"#0.0917\",\"count(*)\":1,\"type\":\"SyslogTo\"},{\"#\":\"#0.0918\",\"count(*)\":1,\"type\":\"TCPSocket\"},{\"#\":\"#0.0919\",\"count(*)\":1,\"type\":\"TabTokenizer\"},{\"#\":\"#0.0920\",\"count(*)\":1,\"type\":\"TaskChoiceField\"},{\"#\":\"#0.0921\",\"count(*)\":1,\"type\":\"TaskManager\"},{\"#\":\"#0.0922\",\"count(*)\":1,\"type\":\"TaskRegistry\"},{\"#\":\"#0.0923\",\"count(*)\":1,\"type\":\"TaskSelectWidget\"},{\"#\":\"#0.0924\",\"count(*)\":1,\"type\":\"TaskSetManager\"},{\"#\":\"#0.0925\",\"count(*)\":1,\"type\":\"TaskStateManager\"},{\"#\":\"#0.0926\",\"count(*)\":1,\"type\":\"TestLoader\"},{\"#\":\"#0.0927\",\"count(*)\":1,\"type\":\"TextCalendar\"},{\"#\":\"#0.0928\",\"count(*)\":1,\"type\":\"TextbookList\"},{\"#\":\"#0.0929\",\"count(*)\":1,\"type\":\"ThreadLocalContextLocator\"},{\"#\":\"#0.0930\",\"count(*)\":1,\"type\":\"ThreadProfilerSettings\"},{\"#\":\"#0.0931\",\"count(*)\":1,\"type\":\"TimeRE\"},{\"#\":\"#0.0932\",\"count(*)\":1,\"type\":\"Timeout\"},{\"#\":\"#0.0933\",\"count(*)\":1,\"type\":\"TmpUploadDir\"},{\"#\":\"#0.0934\",\"count(*)\":1,\"type\":\"TrackMiddleware\"},{\"#\":\"#0.0935\",\"count(*)\":1,\"type\":\"Trans\"},{\"#\":\"#0.0936\",\"count(*)\":1,\"type\":\"TransactionCache\"},{\"#\":\"#0.0937\",\"count(*)\":1,\"type\":\"TransactionMetricsSettings\"},{\"#\":\"#0.0938\",\"count(*)\":1,\"type\":\"TransactionMiddleware\"},{\"#\":\"#0.0939\",\"count(*)\":1,\"type\":\"TransactionNameSettings\"},{\"#\":\"#0.0940\",\"count(*)\":1,\"type\":\"TransactionTracerSettings\"},{\"#\":\"#0.0941\",\"count(*)\":1,\"type\":\"TreeForeignKey\"},{\"#\":\"#0.0942\",\"count(*)\":1,\"type\":\"TreeManager\"},{\"#\":\"#0.0943\",\"count(*)\":1,\"type\":\"TreeNodeChoiceField\"},{\"#\":\"#0.0944\",\"count(*)\":1,\"type\":\"TreeNodePositionField\"},{\"#\":\"#0.0945\",\"count(*)\":1,\"type\":\"TreebankWordTokenizer\"},{\"#\":\"#0.0946\",\"count(*)\":1,\"type\":\"Trie\"},{\"#\":\"#0.0947\",\"count(*)\":1,\"type\":\"TruthValueType\"},{\"#\":\"#0.0948\",\"count(*)\":1,\"type\":\"Tuple\"},{\"#\":\"#0.0949\",\"count(*)\":1,\"type\":\"UAdd\"},{\"#\":\"#0.0950\",\"count(*)\":1,\"type\":\"URLPathManager\"},{\"#\":\"#0.0951\",\"count(*)\":1,\"type\":\"USub\"},{\"#\":\"#0.0952\",\"count(*)\":1,\"type\":\"Umask\"},{\"#\":\"#0.0953\",\"count(*)\":1,\"type\":\"UserManager\"},{\"#\":\"#0.0954\",\"count(*)\":1,\"type\":\"UserSerializer\"},{\"#\":\"#0.0955\",\"count(*)\":1,\"type\":\"UserStandingMiddleware\"},{\"#\":\"#0.0956\",\"count(*)\":1,\"type\":\"UserTagsEventContextMiddleware\"},{\"#\":\"#0.0957\",\"count(*)\":1,\"type\":\"VerificationStatusAdmin\"},{\"#\":\"#0.0958\",\"count(*)\":1,\"type\":\"VersionInteger\"},{\"#\":\"#0.0959\",\"count(*)\":1,\"type\":\"VersionTuple\"},{\"#\":\"#0.0960\",\"count(*)\":1,\"type\":\"VideoEventProcessor\"},{\"#\":\"#0.0961\",\"count(*)\":1,\"type\":\"ViewNameMiddleware\"},{\"#\":\"#0.0962\",\"count(*)\":1,\"type\":\"WSGIApplication\"},{\"#\":\"#0.0963\",\"count(*)\":1,\"type\":\"WSGIHandler\"},{\"#\":\"#0.0964\",\"count(*)\":1,\"type\":\"WhenReady\"},{\"#\":\"#0.0965\",\"count(*)\":1,\"type\":\"WikiAccessMiddleware\"},{\"#\":\"#0.0966\",\"count(*)\":1,\"type\":\"WorkerClass\"},{\"#\":\"#0.0967\",\"count(*)\":1,\"type\":\"WorkerConnections\"},{\"#\":\"#0.0968\",\"count(*)\":1,\"type\":\"WorkerExit\"},{\"#\":\"#0.0969\",\"count(*)\":1,\"type\":\"WorkerTmp\"},{\"#\":\"#0.0970\",\"count(*)\":1,\"type\":\"Workers\"},{\"#\":\"#0.0971\",\"count(*)\":1,\"type\":\"WorkingSet\"},{\"#\":\"#0.0972\",\"count(*)\":1,\"type\":\"XForwardedFor\"},{\"#\":\"#0.0973\",\"count(*)\":1,\"type\":\"XFrameOptionsMiddleware\"},{\"#\":\"#0.0974\",\"count(*)\":1,\"type\":\"XHTMLParser\"},{\"#\":\"#0.0975\",\"count(*)\":1,\"type\":\"XMLEntityEscaper\"},{\"#\":\"#0.0976\",\"count(*)\":1,\"type\":\"XModuleStudentInfoField\"},{\"#\":\"#0.0977\",\"count(*)\":1,\"type\":\"XQueueInterface\"},{\"#\":\"#0.0978\",\"count(*)\":1,\"type\":\"XraySessionSettings\"},{\"#\":\"#0.0979\",\"count(*)\":1,\"type\":\"Zero\"},{\"#\":\"#0.0980\",\"count(*)\":1,\"type\":\"_ANY\"},{\"#\":\"#0.0981\",\"count(*)\":1,\"type\":\"_AnyETag\"},{\"#\":\"#0.0982\",\"count(*)\":1,\"type\":\"_Call\"},{\"#\":\"#0.0983\",\"count(*)\":1,\"type\":\"_CcxContext\"},{\"#\":\"#0.0984\",\"count(*)\":1,\"type\":\"_Constants\"},{\"#\":\"#0.0985\",\"count(*)\":1,\"type\":\"_EmptyDecoratorAndManager\"},{\"#\":\"#0.0986\",\"count(*)\":1,\"type\":\"_FileOpeners\"},{\"#\":\"#0.0987\",\"count(*)\":1,\"type\":\"_FusedType\"},{\"#\":\"#0.0988\",\"count(*)\":1,\"type\":\"_GeoIPMetaclass\"},{\"#\":\"#0.0989\",\"count(*)\":1,\"type\":\"_Helper\"},{\"#\":\"#0.0990\",\"count(*)\":1,\"type\":\"_ImmutableMapping\"},{\"#\":\"#0.0991\",\"count(*)\":1,\"type\":\"_JsonImplementation\"},{\"#\":\"#0.0992\",\"count(*)\":1,\"type\":\"_LocalStack\"},{\"#\":\"#0.0993\",\"count(*)\":1,\"type\":\"_Log10Memoize\"},{\"#\":\"#0.0994\",\"count(*)\":1,\"type\":\"_MainThread\"},{\"#\":\"#0.0995\",\"count(*)\":1,\"type\":\"_Max\"},{\"#\":\"#0.0996\",\"count(*)\":1,\"type\":\"_Name2StandardEncodingMap\"},{\"#\":\"#0.0997\",\"count(*)\":1,\"type\":\"_NoETag\"},{\"#\":\"#0.0998\",\"count(*)\":1,\"type\":\"_NullToken\"},{\"#\":\"#0.0999\",\"count(*)\":1,\"type\":\"_OverridesDisabled\"},{\"#\":\"#0.1000\",\"count(*)\":1,\"type\":\"_Sentinel\"},{\"#\":\"#0.1001\",\"count(*)\":1,\"type\":\"_TLS\"},{\"#\":\"#0.1002\",\"count(*)\":1,\"type\":\"_TemplateMetaclass\"},{\"#\":\"#0.1003\",\"count(*)\":1,\"type\":\"_This\"},{\"#\":\"#0.1004\",\"count(*)\":1,\"type\":\"_UTC\"},{\"#\":\"#0.1005\",\"count(*)\":1,\"type\":\"_UnificationFailure\"},{\"#\":\"#0.1006\",\"count(*)\":1,\"type\":\"_WarningDescriptor\"},{\"#\":\"#0.1007\",\"count(*)\":1,\"type\":\"_Zone\"},{\"#\":\"#0.1008\",\"count(*)\":1,\"type\":\"_ctypes.PyCArrayType\"},{\"#\":\"#0.1009\",\"count(*)\":1,\"type\":\"_ctypes.UnionType\"},{\"#\":\"#0.1010\",\"count(*)\":1,\"type\":\"_inherit\"},{\"#\":\"#0.1011\",\"count(*)\":1,\"type\":\"_json.Scanner\"},{\"#\":\"#0.1012\",\"count(*)\":1,\"type\":\"_maximum_operation\"},{\"#\":\"#0.1013\",\"count(*)\":1,\"type\":\"_minimum_operation\"},{\"#\":\"#0.1014\",\"count(*)\":1,\"type\":\"_swapped_meta\"},{\"#\":\"#0.1015\",\"count(*)\":1,\"type\":\"_tzparser\"},{\"#\":\"#0.1016\",\"count(*)\":1,\"type\":\"_unspecified\"},{\"#\":\"#0.1017\",\"count(*)\":1,\"type\":\"alpha_gen\"},{\"#\":\"#0.1018\",\"count(*)\":1,\"type\":\"anglit_gen\"},{\"#\":\"#0.1019\",\"count(*)\":1,\"type\":\"arcsine_gen\"},{\"#\":\"#0.1020\",\"count(*)\":1,\"type\":\"array.array\"},{\"#\":\"#0.1021\",\"count(*)\":1,\"type\":\"bernoulli_gen\"},{\"#\":\"#0.1022\",\"count(*)\":1,\"type\":\"beta_gen\"},{\"#\":\"#0.1023\",\"count(*)\":1,\"type\":\"betaprime_gen\"},{\"#\":\"#0.1024\",\"count(*)\":1,\"type\":\"binom_gen\"},{\"#\":\"#0.1025\",\"count(*)\":1,\"type\":\"boltzmann_gen\"},{\"#\":\"#0.1026\",\"count(*)\":1,\"type\":\"bradford_gen\"},{\"#\":\"#0.1027\",\"count(*)\":1,\"type\":\"burr_gen\"},{\"#\":\"#0.1028\",\"count(*)\":1,\"type\":\"cauchy_gen\"},{\"#\":\"#0.1029\",\"count(*)\":1,\"type\":\"celery\"},{\"#\":\"#0.1030\",\"count(*)\":1,\"type\":\"chi2_gen\"},{\"#\":\"#0.1031\",\"count(*)\":1,\"type\":\"chi_gen\"},{\"#\":\"#0.1032\",\"count(*)\":1,\"type\":\"colored\"},{\"#\":\"#0.1033\",\"count(*)\":1,\"type\":\"control\"},{\"#\":\"#0.1034\",\"count(*)\":1,\"type\":\"cosine_gen\"},{\"#\":\"#0.1035\",\"count(*)\":1,\"type\":\"decorators\"},{\"#\":\"#0.1036\",\"count(*)\":1,\"type\":\"dgamma_gen\"},{\"#\":\"#0.1037\",\"count(*)\":1,\"type\":\"dlaplace_gen\"},{\"#\":\"#0.1038\",\"count(*)\":1,\"type\":\"doc\"},{\"#\":\"#0.1039\",\"count(*)\":1,\"type\":\"dweibull_gen\"},{\"#\":\"#0.1040\",\"count(*)\":1,\"type\":\"ellipsis\"},{\"#\":\"#0.1041\",\"count(*)\":1,\"type\":\"erlang_gen\"},{\"#\":\"#0.1042\",\"count(*)\":1,\"type\":\"error\"},{\"#\":\"#0.1043\",\"count(*)\":1,\"type\":\"exceptions.MemoryError\"},{\"#\":\"#0.1044\",\"count(*)\":1,\"type\":\"exceptions.RuntimeError\"},{\"#\":\"#0.1045\",\"count(*)\":1,\"type\":\"exceptions.TypeError\"},{\"#\":\"#0.1046\",\"count(*)\":1,\"type\":\"execute\"},{\"#\":\"#0.1047\",\"count(*)\":1,\"type\":\"expon_gen\"},{\"#\":\"#0.1048\",\"count(*)\":1,\"type\":\"exponpow_gen\"},{\"#\":\"#0.1049\",\"count(*)\":1,\"type\":\"exponweib_gen\"},{\"#\":\"#0.1050\",\"count(*)\":1,\"type\":\"f_gen\"},{\"#\":\"#0.1051\",\"count(*)\":1,\"type\":\"fatiguelife_gen\"},{\"#\":\"#0.1052\",\"count(*)\":1,\"type\":\"fisk_gen\"},{\"#\":\"#0.1053\",\"count(*)\":1,\"type\":\"foldcauchy_gen\"},{\"#\":\"#0.1054\",\"count(*)\":1,\"type\":\"foldnorm_gen\"},{\"#\":\"#0.1055\",\"count(*)\":1,\"type\":\"gamma_gen\"},{\"#\":\"#0.1056\",\"count(*)\":1,\"type\":\"gausshyper_gen\"},{\"#\":\"#0.1057\",\"count(*)\":1,\"type\":\"generator\"},{\"#\":\"#0.1058\",\"count(*)\":1,\"type\":\"genexpon_gen\"},{\"#\":\"#0.1059\",\"count(*)\":1,\"type\":\"genextreme_gen\"},{\"#\":\"#0.1060\",\"count(*)\":1,\"type\":\"gengamma_gen\"},{\"#\":\"#0.1061\",\"count(*)\":1,\"type\":\"genhalflogistic_gen\"},{\"#\":\"#0.1062\",\"count(*)\":1,\"type\":\"genlogistic_gen\"},{\"#\":\"#0.1063\",\"count(*)\":1,\"type\":\"genpareto_gen\"},{\"#\":\"#0.1064\",\"count(*)\":1,\"type\":\"geom_gen\"},{\"#\":\"#0.1065\",\"count(*)\":1,\"type\":\"gilbrat_gen\"},{\"#\":\"#0.1066\",\"count(*)\":1,\"type\":\"gompertz_gen\"},{\"#\":\"#0.1067\",\"count(*)\":1,\"type\":\"gumbel_l_gen\"},{\"#\":\"#0.1068\",\"count(*)\":1,\"type\":\"gumbel_r_gen\"},{\"#\":\"#0.1069\",\"count(*)\":1,\"type\":\"halfcauchy_gen\"},{\"#\":\"#0.1070\",\"count(*)\":1,\"type\":\"halflogistic_gen\"},{\"#\":\"#0.1071\",\"count(*)\":1,\"type\":\"halfnorm_gen\"},{\"#\":\"#0.1072\",\"count(*)\":1,\"type\":\"hypergeom_gen\"},{\"#\":\"#0.1073\",\"count(*)\":1,\"type\":\"hypsecant_gen\"},{\"#\":\"#0.1074\",\"count(*)\":1,\"type\":\"invgamma_gen\"},{\"#\":\"#0.1075\",\"count(*)\":1,\"type\":\"invgauss_gen\"},{\"#\":\"#0.1076\",\"count(*)\":1,\"type\":\"invweibull_gen\"},{\"#\":\"#0.1077\",\"count(*)\":1,\"type\":\"ivmpc\"},{\"#\":\"#0.1078\",\"count(*)\":1,\"type\":\"johnsonsb_gen\"},{\"#\":\"#0.1079\",\"count(*)\":1,\"type\":\"johnsonsu_gen\"},{\"#\":\"#0.1080\",\"count(*)\":1,\"type\":\"ksone_gen\"},{\"#\":\"#0.1081\",\"count(*)\":1,\"type\":\"kstwobign_gen\"},{\"#\":\"#0.1082\",\"count(*)\":1,\"type\":\"laplace_gen\"},{\"#\":\"#0.1083\",\"count(*)\":1,\"type\":\"levy_gen\"},{\"#\":\"#0.1084\",\"count(*)\":1,\"type\":\"levy_l_gen\"},{\"#\":\"#0.1085\",\"count(*)\":1,\"type\":\"levy_stable_gen\"},{\"#\":\"#0.1086\",\"count(*)\":1,\"type\":\"log\"},{\"#\":\"#0.1087\",\"count(*)\":1,\"type\":\"loggamma_gen\"},{\"#\":\"#0.1088\",\"count(*)\":1,\"type\":\"logistic_gen\"},{\"#\":\"#0.1089\",\"count(*)\":1,\"type\":\"loglaplace_gen\"},{\"#\":\"#0.1090\",\"count(*)\":1,\"type\":\"lognorm_gen\"},{\"#\":\"#0.1091\",\"count(*)\":1,\"type\":\"logser_gen\"},{\"#\":\"#0.1092\",\"count(*)\":1,\"type\":\"lomax_gen\"},{\"#\":\"#0.1093\",\"count(*)\":1,\"type\":\"lxml.etree.ElementDefaultClassLookup\"},{\"#\":\"#0.1094\",\"count(*)\":1,\"type\":\"lxml.etree.HTMLParser\"},{\"#\":\"#0.1095\",\"count(*)\":1,\"type\":\"lxml.etree.ParserBasedElementClassLookup\"},{\"#\":\"#0.1096\",\"count(*)\":1,\"type\":\"lxml.etree._LogEntry\"},{\"#\":\"#0.1097\",\"count(*)\":1,\"type\":\"lxml.etree._MemDebug\"},{\"#\":\"#0.1098\",\"count(*)\":1,\"type\":\"lxml.etree._ParserDictionaryContext\"},{\"#\":\"#0.1099\",\"count(*)\":1,\"type\":\"maxwell_gen\"},{\"#\":\"#0.1100\",\"count(*)\":1,\"type\":\"memoized_instancemethod\"},{\"#\":\"#0.1101\",\"count(*)\":1,\"type\":\"messaging\"},{\"#\":\"#0.1102\",\"count(*)\":1,\"type\":\"mielke_gen\"},{\"#\":\"#0.1103\",\"count(*)\":1,\"type\":\"mpc\"},{\"#\":\"#0.1104\",\"count(*)\":1,\"type\":\"mr_class\"},{\"#\":\"#0.1105\",\"count(*)\":1,\"type\":\"mtrand.RandomState\"},{\"#\":\"#0.1106\",\"count(*)\":1,\"type\":\"multimethod\"},{\"#\":\"#0.1107\",\"count(*)\":1,\"type\":\"multivariate_normal_gen\"},{\"#\":\"#0.1108\",\"count(*)\":1,\"type\":\"nakagami_gen\"},{\"#\":\"#0.1109\",\"count(*)\":1,\"type\":\"name\"},{\"#\":\"#0.1110\",\"count(*)\":1,\"type\":\"nbinom_gen\"},{\"#\":\"#0.1111\",\"count(*)\":1,\"type\":\"ncf_gen\"},{\"#\":\"#0.1112\",\"count(*)\":1,\"type\":\"nct_gen\"},{\"#\":\"#0.1113\",\"count(*)\":1,\"type\":\"ncx2_gen\"},{\"#\":\"#0.1114\",\"count(*)\":1,\"type\":\"norm_gen\"},{\"#\":\"#0.1115\",\"count(*)\":1,\"type\":\"numpy.int32\"},{\"#\":\"#0.1116\",\"count(*)\":1,\"type\":\"numpy.int64\"},{\"#\":\"#0.1117\",\"count(*)\":1,\"type\":\"pareto_gen\"},{\"#\":\"#0.1118\",\"count(*)\":1,\"type\":\"parser\"},{\"#\":\"#0.1119\",\"count(*)\":1,\"type\":\"parserinfo\"},{\"#\":\"#0.1120\",\"count(*)\":1,\"type\":\"pearson3_gen\"},{\"#\":\"#0.1121\",\"count(*)\":1,\"type\":\"planck_gen\"},{\"#\":\"#0.1122\",\"count(*)\":1,\"type\":\"poisson_gen\"},{\"#\":\"#0.1123\",\"count(*)\":1,\"type\":\"powerlaw_gen\"},{\"#\":\"#0.1124\",\"count(*)\":1,\"type\":\"powerlognorm_gen\"},{\"#\":\"#0.1125\",\"count(*)\":1,\"type\":\"powernorm_gen\"},{\"#\":\"#0.1126\",\"count(*)\":1,\"type\":\"promise\"},{\"#\":\"#0.1127\",\"count(*)\":1,\"type\":\"randint_gen\"},{\"#\":\"#0.1128\",\"count(*)\":1,\"type\":\"rayleigh_gen\"},{\"#\":\"#0.1129\",\"count(*)\":1,\"type\":\"rdist_gen\"},{\"#\":\"#0.1130\",\"count(*)\":1,\"type\":\"recipinvgauss_gen\"},{\"#\":\"#0.1131\",\"count(*)\":1,\"type\":\"reciprocal_gen\"},{\"#\":\"#0.1132\",\"count(*)\":1,\"type\":\"registry\"},{\"#\":\"#0.1133\",\"count(*)\":1,\"type\":\"rice_gen\"},{\"#\":\"#0.1134\",\"count(*)\":1,\"type\":\"semicircular_gen\"},{\"#\":\"#0.1135\",\"count(*)\":1,\"type\":\"simplejson._speedups.Scanner\"},{\"#\":\"#0.1136\",\"count(*)\":1,\"type\":\"skellam_gen\"},{\"#\":\"#0.1137\",\"count(*)\":1,\"type\":\"sys.flags\"},{\"#\":\"#0.1138\",\"count(*)\":1,\"type\":\"sys.float_info\"},{\"#\":\"#0.1139\",\"count(*)\":1,\"type\":\"sys.long_info\"},{\"#\":\"#0.1140\",\"count(*)\":1,\"type\":\"sys.version_info\"},{\"#\":\"#0.1141\",\"count(*)\":1,\"type\":\"t_gen\"},{\"#\":\"#0.1142\",\"count(*)\":1,\"type\":\"task\"},{\"#\":\"#0.1143\",\"count(*)\":1,\"type\":\"triang_gen\"},{\"#\":\"#0.1144\",\"count(*)\":1,\"type\":\"truncexpon_gen\"},{\"#\":\"#0.1145\",\"count(*)\":1,\"type\":\"truncnorm_gen\"},{\"#\":\"#0.1146\",\"count(*)\":1,\"type\":\"tukeylambda_gen\"},{\"#\":\"#0.1147\",\"count(*)\":1,\"type\":\"tupleiterator\"},{\"#\":\"#0.1148\",\"count(*)\":1,\"type\":\"unicodedata.UCD\"},{\"#\":\"#0.1149\",\"count(*)\":1,\"type\":\"uniform_gen\"},{\"#\":\"#0.1150\",\"count(*)\":1,\"type\":\"wald_gen\"},{\"#\":\"#0.1151\",\"count(*)\":1,\"type\":\"wrapcauchy_gen\"},{\"#\":\"#0.1152\",\"count(*)\":1,\"type\":\"zipf_gen\"}], [{\"field\": \"#\"}, {\"field\": \"count(*)\", \"type\": \"Integer\"}, {\"field\": \"type\"}]);\n",
       "            grid.initialize_slick_grid();\n",
       "        });\n",
       "    });\n",
       "});\n"
      ]
     },
     "metadata": {},
     "output_type": "display_data"
    }
   ],
   "source": [
    "%gen 1\n",
    "%select count(*), type from obj group by type order by 1 desc"
   ]
  },
  {
   "cell_type": "code",
   "execution_count": 6,
   "metadata": {
    "collapsed": false,
    "scrolled": false
   },
   "outputs": [
    {
     "name": "stdout",
     "output_type": "stream",
     "text": [
      "Using generation 2 of 2\n"
     ]
    },
    {
     "data": {
      "text/html": [
       "<script type=\"text/javascript\">\n",
       "if ($(\"#dg-css\").length == 0){\n",
       "    $(\"head\").append([\n",
       "        \"<link href='/nbextensions/qgridjs/lib/slick.grid.css' rel='stylesheet'>\",\n",
       "        \"<link href='/nbextensions/qgridjs/lib/slick-default-theme.css' rel='stylesheet'>\",\n",
       "        \"<link href='http://cdnjs.cloudflare.com/ajax/libs/jqueryui/1.10.4/css/jquery-ui.min.css' rel='stylesheet'>\",\n",
       "        \"<link id='dg-css' href='/nbextensions/qgridjs/qgrid.css' rel='stylesheet'>\"\n",
       "    ]);\n",
       "}\n",
       "</script>\n",
       "<div class='q-grid-container'>\n",
       "<div id='a8961b8d-22d6-4176-a3c7-db050a4fc472' class='q-grid'></div>\n",
       "</div>"
      ]
     },
     "metadata": {},
     "output_type": "display_data"
    },
    {
     "data": {
      "application/javascript": [
       "var path_dictionary = {\n",
       "    jquery_drag: \"/nbextensions/qgridjs/lib/jquery.event.drag-2.2\",\n",
       "    slick_core: \"/nbextensions/qgridjs/lib/slick.core.2.2\",\n",
       "    slick_data_view: \"/nbextensions/qgridjs/lib/slick.dataview.2.2\",\n",
       "    slick_check_box_column: \"/nbextensions/qgridjs/lib/slick.checkboxselectcolumn\",\n",
       "    slick_row_selection_model: \"/nbextensions/qgridjs/lib/slick.rowselectionmodel\",\n",
       "    slick_grid: \"/nbextensions/qgridjs/lib/slick.grid.2.2\",\n",
       "    data_grid: \"/nbextensions/qgridjs/qgrid\",\n",
       "    date_filter: \"/nbextensions/qgridjs/qgrid.datefilter\",\n",
       "    slider_filter: \"/nbextensions/qgridjs/qgrid.sliderfilter\",\n",
       "    text_filter: \"/nbextensions/qgridjs/qgrid.textfilter\",\n",
       "    filter_base:  \"/nbextensions/qgridjs/qgrid.filterbase\",\n",
       "    handlebars: \"https://cdnjs.cloudflare.com/ajax/libs/handlebars.js/2.0.0/handlebars.min\"\n",
       "};\n",
       "\n",
       "var existing_config = require.s.contexts._.config;\n",
       "if (!existing_config.paths['underscore']){\n",
       "    path_dictionary['underscore'] = \"https://cdnjs.cloudflare.com/ajax/libs/underscore.js/1.7.0/underscore-min\";\n",
       "}\n",
       "\n",
       "if (!existing_config.paths['moment']){\n",
       "    path_dictionary['moment'] = \"https://cdnjs.cloudflare.com/ajax/libs/moment.js/2.8.3/moment.min\";\n",
       "}\n",
       "\n",
       "if (!existing_config.paths['jqueryui']){\n",
       "    path_dictionary['jqueryui'] = \"https://ajax.googleapis.com/ajax/libs/jqueryui/1.11.1/jquery-ui.min\";\n",
       "}\n",
       "\n",
       "require.config({\n",
       "    paths: path_dictionary\n",
       "});\n",
       "\n",
       "if (typeof jQuery === 'function') {\n",
       "    define('jquery', function() { return jQuery; });\n",
       "}\n",
       "\n",
       "require([\n",
       "    'jquery',\n",
       "    'jquery_drag',\n",
       "    'slick_core',\n",
       "    'slick_data_view'\n",
       "],\n",
       "function($){\n",
       "    $('#a8961b8d-22d6-4176-a3c7-db050a4fc472').closest('.rendered_html').removeClass('rendered_html');\n",
       "    require([\n",
       "      'slick_check_box_column',\n",
       "      'slick_row_selection_model',\n",
       "      'slick_grid'\n",
       "    ], function(){\n",
       "        require([\"data_grid\"], function(dgrid){\n",
       "            var grid = new dgrid.QGrid('#a8961b8d-22d6-4176-a3c7-db050a4fc472', [{\"#\":\"#1.0000\",\"count(*)\":138843,\"type\":\"str\"},{\"#\":\"#1.0001\",\"count(*)\":52161,\"type\":\"function\"},{\"#\":\"#1.0002\",\"count(*)\":50877,\"type\":\"tuple\"},{\"#\":\"#1.0003\",\"count(*)\":43949,\"type\":\"code\"},{\"#\":\"#1.0004\",\"count(*)\":40635,\"type\":\"dict\"},{\"#\":\"#1.0005\",\"count(*)\":21995,\"type\":\"list\"},{\"#\":\"#1.0006\",\"count(*)\":19582,\"type\":\"int\"},{\"#\":\"#1.0007\",\"count(*)\":18740,\"type\":\"unicode\"},{\"#\":\"#1.0008\",\"count(*)\":10059,\"type\":\"cell\"},{\"#\":\"#1.0009\",\"count(*)\":8906,\"type\":\"weakref\"},{\"#\":\"#1.0010\",\"count(*)\":6251,\"type\":\"type\"},{\"#\":\"#1.0011\",\"count(*)\":4387,\"type\":\"getset_descriptor\"},{\"#\":\"#1.0012\",\"count(*)\":3181,\"type\":\"float\"},{\"#\":\"#1.0013\",\"count(*)\":3173,\"type\":\"module\"},{\"#\":\"#1.0014\",\"count(*)\":2474,\"type\":\"set\"},{\"#\":\"#1.0015\",\"count(*)\":2457,\"type\":\"property\"},{\"#\":\"#1.0016\",\"count(*)\":2404,\"type\":\"instancemethod\"},{\"#\":\"#1.0017\",\"count(*)\":2098,\"type\":\"builtin_function_or_method\"},{\"#\":\"#1.0018\",\"count(*)\":1976,\"type\":\"wrapper_descriptor\"},{\"#\":\"#1.0019\",\"count(*)\":1291,\"type\":\"method_descriptor\"},{\"#\":\"#1.0020\",\"count(*)\":1181,\"type\":\"long\"},{\"#\":\"#1.0021\",\"count(*)\":1091,\"type\":\"classmethod\"},{\"#\":\"#1.0022\",\"count(*)\":1014,\"type\":\"__proxy__\"},{\"#\":\"#1.0023\",\"count(*)\":1005,\"type\":\"_sre.SRE_Pattern\"},{\"#\":\"#1.0024\",\"count(*)\":954,\"type\":\"instance\"},{\"#\":\"#1.0025\",\"count(*)\":761,\"type\":\"WeakSet\"},{\"#\":\"#1.0026\",\"count(*)\":750,\"type\":\"RegexURLPattern\"},{\"#\":\"#1.0027\",\"count(*)\":717,\"type\":\"classobj\"},{\"#\":\"#1.0028\",\"count(*)\":696,\"type\":\"staticmethod\"},{\"#\":\"#1.0029\",\"count(*)\":668,\"type\":\"SortedDict\"},{\"#\":\"#1.0030\",\"count(*)\":559,\"type\":\"member_descriptor\"},{\"#\":\"#1.0031\",\"count(*)\":472,\"type\":\"operator.itemgetter\"},{\"#\":\"#1.0032\",\"count(*)\":438,\"type\":\"RelatedObject\"},{\"#\":\"#1.0033\",\"count(*)\":397,\"type\":\"vectorize\"},{\"#\":\"#1.0034\",\"count(*)\":393,\"type\":\"fortran\"},{\"#\":\"#1.0035\",\"count(*)\":390,\"type\":\"CharField\"},{\"#\":\"#1.0036\",\"count(*)\":384,\"type\":\"MaxLengthValidator\"},{\"#\":\"#1.0037\",\"count(*)\":362,\"type\":\"ProcessAwareLogger\"},{\"#\":\"#1.0038\",\"count(*)\":298,\"type\":\"EntryPoint\"},{\"#\":\"#1.0039\",\"count(*)\":291,\"type\":\"numpy.ufunc\"},{\"#\":\"#1.0040\",\"count(*)\":278,\"type\":\"Literal\"},{\"#\":\"#1.0041\",\"count(*)\":271,\"type\":\"MovedAttribute\"},{\"#\":\"#1.0042\",\"count(*)\":258,\"type\":\"MovedModule\"},{\"#\":\"#1.0043\",\"count(*)\":255,\"type\":\"datetime.datetime\"},{\"#\":\"#1.0044\",\"count(*)\":237,\"type\":\"include\"},{\"#\":\"#1.0045\",\"count(*)\":234,\"type\":\"ManagerDescriptor\"},{\"#\":\"#1.0046\",\"count(*)\":230,\"type\":\"ABCMeta\"},{\"#\":\"#1.0047\",\"count(*)\":216,\"type\":\"ReverseSingleRelatedObjectDescriptor\"},{\"#\":\"#1.0048\",\"count(*)\":205,\"type\":\"ModelBase\"},{\"#\":\"#1.0049\",\"count(*)\":204,\"type\":\"Options\"},{\"#\":\"#1.0050\",\"count(*)\":200,\"type\":\"And\"},{\"#\":\"#1.0051\",\"count(*)\":200,\"type\":\"Distribution\"},{\"#\":\"#1.0052\",\"count(*)\":196,\"type\":\"ManyToOneRel\"},{\"#\":\"#1.0053\",\"count(*)\":195,\"type\":\"ForeignKey\"},{\"#\":\"#1.0054\",\"count(*)\":192,\"type\":\"Manager\"},{\"#\":\"#1.0055\",\"count(*)\":181,\"type\":\"frozenset\"},{\"#\":\"#1.0056\",\"count(*)\":180,\"type\":\"AutoField\"},{\"#\":\"#1.0057\",\"count(*)\":178,\"type\":\"_FuncPtr\"},{\"#\":\"#1.0058\",\"count(*)\":170,\"type\":\"Or\"},{\"#\":\"#1.0059\",\"count(*)\":162,\"type\":\"Production\"},{\"#\":\"#1.0060\",\"count(*)\":156,\"type\":\"String\"},{\"#\":\"#1.0061\",\"count(*)\":154,\"type\":\"DateTimeField\"},{\"#\":\"#1.0062\",\"count(*)\":154,\"type\":\"PyCapsule\"},{\"#\":\"#1.0063\",\"count(*)\":144,\"type\":\"ForeignRelatedObjectsDescriptor\"},{\"#\":\"#1.0064\",\"count(*)\":129,\"type\":\"Option\"},{\"#\":\"#1.0065\",\"count(*)\":119,\"type\":\"RegexURLResolver\"},{\"#\":\"#1.0066\",\"count(*)\":117,\"type\":\"functools.partial\"},{\"#\":\"#1.0067\",\"count(*)\":116,\"type\":\"CythonMetaType\"},{\"#\":\"#1.0068\",\"count(*)\":115,\"type\":\"MediaDefiningClass\"},{\"#\":\"#1.0069\",\"count(*)\":113,\"type\":\"Nonterminal\"},{\"#\":\"#1.0070\",\"count(*)\":104,\"type\":\"TextInput\"},{\"#\":\"#1.0071\",\"count(*)\":101,\"type\":\"thread.lock\"},{\"#\":\"#1.0072\",\"count(*)\":99,\"type\":\"BooleanField\"},{\"#\":\"#1.0073\",\"count(*)\":99,\"type\":\"TextField\"},{\"#\":\"#1.0074\",\"count(*)\":98,\"type\":\"ChildrenModelMetaclass\"},{\"#\":\"#1.0075\",\"count(*)\":94,\"type\":\"FunctionClass\"},{\"#\":\"#1.0076\",\"count(*)\":94,\"type\":\"_ErrorStop\"},{\"#\":\"#1.0077\",\"count(*)\":87,\"type\":\"KeyedRef\"},{\"#\":\"#1.0078\",\"count(*)\":81,\"type\":\"_TokenType\"},{\"#\":\"#1.0079\",\"count(*)\":80,\"type\":\"RegexLexerMeta\"},{\"#\":\"#1.0080\",\"count(*)\":70,\"type\":\"ProxyAttribute\"},{\"#\":\"#1.0081\",\"count(*)\":65,\"type\":\"Dict\"},{\"#\":\"#1.0082\",\"count(*)\":64,\"type\":\"Boolean\"},{\"#\":\"#1.0083\",\"count(*)\":63,\"type\":\"Schema\"},{\"#\":\"#1.0084\",\"count(*)\":62,\"type\":\"Forward\"},{\"#\":\"#1.0085\",\"count(*)\":62,\"type\":\"Suppress\"},{\"#\":\"#1.0086\",\"count(*)\":61,\"type\":\"words\"},{\"#\":\"#1.0087\",\"count(*)\":58,\"type\":\"LazyCorpusLoader\"},{\"#\":\"#1.0088\",\"count(*)\":57,\"type\":\"BasicMeta\"},{\"#\":\"#1.0089\",\"count(*)\":57,\"type\":\"numpy.ndarray\"},{\"#\":\"#1.0090\",\"count(*)\":56,\"type\":\"Creator\"},{\"#\":\"#1.0091\",\"count(*)\":56,\"type\":\"SettingMeta\"},{\"#\":\"#1.0092\",\"count(*)\":54,\"type\":\"Signal\"},{\"#\":\"#1.0093\",\"count(*)\":53,\"type\":\"StgDict\"},{\"#\":\"#1.0094\",\"count(*)\":53,\"type\":\"cached_property\"},{\"#\":\"#1.0095\",\"count(*)\":52,\"type\":\"Keyword\"},{\"#\":\"#1.0096\",\"count(*)\":48,\"type\":\"CourseKeyField\"},{\"#\":\"#1.0097\",\"count(*)\":47,\"type\":\"IntegerField\"},{\"#\":\"#1.0098\",\"count(*)\":43,\"type\":\"Optional\"},{\"#\":\"#1.0099\",\"count(*)\":42,\"type\":\"NoseTester\"},{\"#\":\"#1.0100\",\"count(*)\":42,\"type\":\"PrimitiveCategory\"},{\"#\":\"#1.0101\",\"count(*)\":42,\"type\":\"operator.attrgetter\"},{\"#\":\"#1.0102\",\"count(*)\":41,\"type\":\"Where\"},{\"#\":\"#1.0103\",\"count(*)\":40,\"type\":\"WeightedProduction\"},{\"#\":\"#1.0104\",\"count(*)\":39,\"type\":\"WhereNode\"},{\"#\":\"#1.0105\",\"count(*)\":39,\"type\":\"_RLock\"},{\"#\":\"#1.0106\",\"count(*)\":39,\"type\":\"object\"},{\"#\":\"#1.0107\",\"count(*)\":37,\"type\":\"MatchFirst\"},{\"#\":\"#1.0108\",\"count(*)\":37,\"type\":\"_thread._localdummy\"},{\"#\":\"#1.0109\",\"count(*)\":36,\"type\":\"DistInfoDistribution\"},{\"#\":\"#1.0110\",\"count(*)\":36,\"type\":\"PSLiteral\"},{\"#\":\"#1.0111\",\"count(*)\":36,\"type\":\"Path\"},{\"#\":\"#1.0112\",\"count(*)\":36,\"type\":\"SerializerMetaclass\"},{\"#\":\"#1.0113\",\"count(*)\":36,\"type\":\"datetime.timedelta\"},{\"#\":\"#1.0114\",\"count(*)\":35,\"type\":\"InternalTraceWrapper\"},{\"#\":\"#1.0115\",\"count(*)\":35,\"type\":\"Transaction\"},{\"#\":\"#1.0116\",\"count(*)\":34,\"type\":\"ModelAdmin\"},{\"#\":\"#1.0117\",\"count(*)\":33,\"type\":\"typedef\"},{\"#\":\"#1.0118\",\"count(*)\":32,\"type\":\"DeclarativeFieldsMetaclass\"},{\"#\":\"#1.0119\",\"count(*)\":32,\"type\":\"Required\"},{\"#\":\"#1.0120\",\"count(*)\":31,\"type\":\"PSKeyword\"},{\"#\":\"#1.0121\",\"count(*)\":30,\"type\":\"Integer\"},{\"#\":\"#1.0122\",\"count(*)\":29,\"type\":\"_ctypes.PyCSimpleType\"},{\"#\":\"#1.0123\",\"count(*)\":28,\"type\":\"CheckboxInput\"},{\"#\":\"#1.0124\",\"count(*)\":28,\"type\":\"List\"},{\"#\":\"#1.0125\",\"count(*)\":28,\"type\":\"MultiValueDict\"},{\"#\":\"#1.0126\",\"count(*)\":28,\"type\":\"Regex\"},{\"#\":\"#1.0127\",\"count(*)\":27,\"type\":\"CheckType\"},{\"#\":\"#1.0128\",\"count(*)\":26,\"type\":\"Extension\"},{\"#\":\"#1.0129\",\"count(*)\":26,\"type\":\"ReferenceList\"},{\"#\":\"#1.0130\",\"count(*)\":25,\"type\":\"PlaceHolder\"},{\"#\":\"#1.0131\",\"count(*)\":24,\"type\":\"OptionType\"},{\"#\":\"#1.0132\",\"count(*)\":24,\"type\":\"Scope\"},{\"#\":\"#1.0133\",\"count(*)\":24,\"type\":\"SeparateContext\"},{\"#\":\"#1.0134\",\"count(*)\":23,\"type\":\"NullHandler\"},{\"#\":\"#1.0135\",\"count(*)\":23,\"type\":\"OpaqueKeyMetaclass\"},{\"#\":\"#1.0136\",\"count(*)\":23,\"type\":\"Select\"},{\"#\":\"#1.0137\",\"count(*)\":23,\"type\":\"Template\"},{\"#\":\"#1.0138\",\"count(*)\":23,\"type\":\"thread._local\"},{\"#\":\"#1.0139\",\"count(*)\":22,\"type\":\"ModuleInfo\"},{\"#\":\"#1.0140\",\"count(*)\":22,\"type\":\"Proxy\"},{\"#\":\"#1.0141\",\"count(*)\":22,\"type\":\"Style\"},{\"#\":\"#1.0142\",\"count(*)\":22,\"type\":\"Word\"},{\"#\":\"#1.0143\",\"count(*)\":22,\"type\":\"abstractproperty\"},{\"#\":\"#1.0144\",\"count(*)\":22,\"type\":\"classmethod_descriptor\"},{\"#\":\"#1.0145\",\"count(*)\":22,\"type\":\"datetime.date\"},{\"#\":\"#1.0146\",\"count(*)\":22,\"type\":\"ivmpf\"},{\"#\":\"#1.0147\",\"count(*)\":20,\"type\":\"ModelChoiceIterator\"},{\"#\":\"#1.0148\",\"count(*)\":20,\"type\":\"OneToOneField\"},{\"#\":\"#1.0149\",\"count(*)\":20,\"type\":\"OneToOneRel\"},{\"#\":\"#1.0150\",\"count(*)\":20,\"type\":\"Predicate\"},{\"#\":\"#1.0151\",\"count(*)\":20,\"type\":\"lazy\"},{\"#\":\"#1.0152\",\"count(*)\":19,\"type\":\"AutoCreatedField\"},{\"#\":\"#1.0153\",\"count(*)\":19,\"type\":\"AutoLastModifiedField\"},{\"#\":\"#1.0154\",\"count(*)\":19,\"type\":\"LazyImporter\"},{\"#\":\"#1.0155\",\"count(*)\":19,\"type\":\"Query\"},{\"#\":\"#1.0156\",\"count(*)\":19,\"type\":\"SingleRelatedObjectDescriptor\"},{\"#\":\"#1.0157\",\"count(*)\":19,\"type\":\"combined\"},{\"#\":\"#1.0158\",\"count(*)\":19,\"type\":\"mpq\"},{\"#\":\"#1.0159\",\"count(*)\":18,\"type\":\"BoundMethodWeakref\"},{\"#\":\"#1.0160\",\"count(*)\":18,\"type\":\"CheckCallable\"},{\"#\":\"#1.0161\",\"count(*)\":18,\"type\":\"FunctionalCategory\"},{\"#\":\"#1.0162\",\"count(*)\":18,\"type\":\"QuerySet\"},{\"#\":\"#1.0163\",\"count(*)\":18,\"type\":\"override_settings\"},{\"#\":\"#1.0164\",\"count(*)\":17,\"type\":\"Group\"},{\"#\":\"#1.0165\",\"count(*)\":17,\"type\":\"ModelFormMetaclass\"},{\"#\":\"#1.0166\",\"count(*)\":17,\"type\":\"OrderedDict\"},{\"#\":\"#1.0167\",\"count(*)\":17,\"type\":\"PositiveIntegerField\"},{\"#\":\"#1.0168\",\"count(*)\":17,\"type\":\"Singleton\"},{\"#\":\"#1.0169\",\"count(*)\":16,\"type\":\"ConfigurationModelAdmin\"},{\"#\":\"#1.0170\",\"count(*)\":16,\"type\":\"FollowedBy\"},{\"#\":\"#1.0171\",\"count(*)\":16,\"type\":\"LeafInitRule\"},{\"#\":\"#1.0172\",\"count(*)\":16,\"type\":\"ModelFormOptions\"},{\"#\":\"#1.0173\",\"count(*)\":16,\"type\":\"SerializerMethodField\"},{\"#\":\"#1.0174\",\"count(*)\":16,\"type\":\"_ctypes.PyCFuncPtrType\"},{\"#\":\"#1.0175\",\"count(*)\":16,\"type\":\"collections.defaultdict\"},{\"#\":\"#1.0176\",\"count(*)\":15,\"type\":\"Not\"},{\"#\":\"#1.0177\",\"count(*)\":15,\"type\":\"WriteConcern\"},{\"#\":\"#1.0178\",\"count(*)\":15,\"type\":\"numpy.dtype\"},{\"#\":\"#1.0179\",\"count(*)\":14,\"type\":\"BinaryPredicate\"},{\"#\":\"#1.0180\",\"count(*)\":14,\"type\":\"Date\"},{\"#\":\"#1.0181\",\"count(*)\":14,\"type\":\"PromiseProxy\"},{\"#\":\"#1.0182\",\"count(*)\":14,\"type\":\"Textarea\"},{\"#\":\"#1.0183\",\"count(*)\":14,\"type\":\"constant\"},{\"#\":\"#1.0184\",\"count(*)\":14,\"type\":\"numpy.float64\"},{\"#\":\"#1.0185\",\"count(*)\":13,\"type\":\"CodecInfo\"},{\"#\":\"#1.0186\",\"count(*)\":13,\"type\":\"Combine\"},{\"#\":\"#1.0187\",\"count(*)\":13,\"type\":\"Float\"},{\"#\":\"#1.0188\",\"count(*)\":13,\"type\":\"ManyToManyField\"},{\"#\":\"#1.0189\",\"count(*)\":13,\"type\":\"ManyToManyRel\"},{\"#\":\"#1.0190\",\"count(*)\":13,\"type\":\"Q\"},{\"#\":\"#1.0191\",\"count(*)\":13,\"type\":\"QueryManager\"},{\"#\":\"#1.0192\",\"count(*)\":13,\"type\":\"ReverseManyRelatedObjectsDescriptor\"},{\"#\":\"#1.0193\",\"count(*)\":13,\"type\":\"Sentinel\"},{\"#\":\"#1.0194\",\"count(*)\":13,\"type\":\"YAMLObjectMetaclass\"},{\"#\":\"#1.0195\",\"count(*)\":13,\"type\":\"frame\"},{\"#\":\"#1.0196\",\"count(*)\":12,\"type\":\"DType\"},{\"#\":\"#1.0197\",\"count(*)\":12,\"type\":\"ManyRelatedObjectsDescriptor\"},{\"#\":\"#1.0198\",\"count(*)\":12,\"type\":\"lxml.etree._ErrorLog\"},{\"#\":\"#1.0199\",\"count(*)\":12,\"type\":\"lxml.etree._TempStore\"},{\"#\":\"#1.0200\",\"count(*)\":11,\"type\":\"DateTimeInput\"},{\"#\":\"#1.0201\",\"count(*)\":11,\"type\":\"FloatField\"},{\"#\":\"#1.0202\",\"count(*)\":11,\"type\":\"ModelChoiceField\"},{\"#\":\"#1.0203\",\"count(*)\":11,\"type\":\"OneOrMore\"},{\"#\":\"#1.0204\",\"count(*)\":11,\"type\":\"SelectMultiple\"},{\"#\":\"#1.0205\",\"count(*)\":11,\"type\":\"SplitResult\"},{\"#\":\"#1.0206\",\"count(*)\":11,\"type\":\"URLField\"},{\"#\":\"#1.0207\",\"count(*)\":11,\"type\":\"_TagMeta\"},{\"#\":\"#1.0208\",\"count(*)\":11,\"type\":\"cython_function_or_method\"},{\"#\":\"#1.0209\",\"count(*)\":11,\"type\":\"ivmpf_constant\"},{\"#\":\"#1.0210\",\"count(*)\":10,\"type\":\"Logger\"},{\"#\":\"#1.0211\",\"count(*)\":10,\"type\":\"NamedAttributesMetaclass\"},{\"#\":\"#1.0212\",\"count(*)\":10,\"type\":\"TypeInfo\"},{\"#\":\"#1.0213\",\"count(*)\":10,\"type\":\"_Condition\"},{\"#\":\"#1.0214\",\"count(*)\":10,\"type\":\"_getitem_property\"},{\"#\":\"#1.0215\",\"count(*)\":10,\"type\":\"lxml.etree.XPath\"},{\"#\":\"#1.0216\",\"count(*)\":10,\"type\":\"lxml.etree._ExceptionContext\"},{\"#\":\"#1.0217\",\"count(*)\":10,\"type\":\"lxml.etree._ExsltRegExp\"},{\"#\":\"#1.0218\",\"count(*)\":10,\"type\":\"lxml.etree._XPathContext\"},{\"#\":\"#1.0219\",\"count(*)\":9,\"type\":\"Collection\"},{\"#\":\"#1.0220\",\"count(*)\":9,\"type\":\"Equivalent\"},{\"#\":\"#1.0221\",\"count(*)\":9,\"type\":\"LexerMeta\"},{\"#\":\"#1.0222\",\"count(*)\":9,\"type\":\"Library\"},{\"#\":\"#1.0223\",\"count(*)\":9,\"type\":\"OR\"},{\"#\":\"#1.0224\",\"count(*)\":9,\"type\":\"PDFColorSpace\"},{\"#\":\"#1.0225\",\"count(*)\":9,\"type\":\"ParseResults\"},{\"#\":\"#1.0226\",\"count(*)\":9,\"type\":\"URLValidator\"},{\"#\":\"#1.0227\",\"count(*)\":9,\"type\":\"UnaryTopologicalOp\"},{\"#\":\"#1.0228\",\"count(*)\":9,\"type\":\"ZeroOrMore\"},{\"#\":\"#1.0229\",\"count(*)\":9,\"type\":\"_FakeSignal\"},{\"#\":\"#1.0230\",\"count(*)\":9,\"type\":\"complex\"},{\"#\":\"#1.0231\",\"count(*)\":8,\"type\":\"Dummy\"},{\"#\":\"#1.0232\",\"count(*)\":8,\"type\":\"EmailField\"},{\"#\":\"#1.0233\",\"count(*)\":8,\"type\":\"MinValueValidator\"},{\"#\":\"#1.0234\",\"count(*)\":8,\"type\":\"PasswordInput\"},{\"#\":\"#1.0235\",\"count(*)\":8,\"type\":\"RegexValidator\"},{\"#\":\"#1.0236\",\"count(*)\":8,\"type\":\"SubfieldBase\"},{\"#\":\"#1.0237\",\"count(*)\":8,\"type\":\"Wild\"},{\"#\":\"#1.0238\",\"count(*)\":8,\"type\":\"_arraymethod\"},{\"#\":\"#1.0239\",\"count(*)\":8,\"type\":\"_socketobject\"},{\"#\":\"#1.0240\",\"count(*)\":8,\"type\":\"file\"},{\"#\":\"#1.0241\",\"count(*)\":8,\"type\":\"lxml.etree._ResolverRegistry\"},{\"#\":\"#1.0242\",\"count(*)\":7,\"type\":\"BinaryCombinatorRule\"},{\"#\":\"#1.0243\",\"count(*)\":7,\"type\":\"CDLL\"},{\"#\":\"#1.0244\",\"count(*)\":7,\"type\":\"CFunctionType\"},{\"#\":\"#1.0245\",\"count(*)\":7,\"type\":\"DBAPISet\"},{\"#\":\"#1.0246\",\"count(*)\":7,\"type\":\"Decimal\"},{\"#\":\"#1.0247\",\"count(*)\":7,\"type\":\"Field\"},{\"#\":\"#1.0248\",\"count(*)\":7,\"type\":\"FunctionWrapper\"},{\"#\":\"#1.0249\",\"count(*)\":7,\"type\":\"ModelSerializerOptions\"},{\"#\":\"#1.0250\",\"count(*)\":7,\"type\":\"NotAny\"},{\"#\":\"#1.0251\",\"count(*)\":7,\"type\":\"StdCodecData\"},{\"#\":\"#1.0252\",\"count(*)\":7,\"type\":\"Step\"},{\"#\":\"#1.0253\",\"count(*)\":7,\"type\":\"_MovedItems\"},{\"#\":\"#1.0254\",\"count(*)\":7,\"type\":\"_ctypes.PyCPointerType\"},{\"#\":\"#1.0255\",\"count(*)\":7,\"type\":\"_socket.socket\"},{\"#\":\"#1.0256\",\"count(*)\":7,\"type\":\"mpf\"},{\"#\":\"#1.0257\",\"count(*)\":7,\"type\":\"weekday\"},{\"#\":\"#1.0258\",\"count(*)\":6,\"type\":\"BaseConverter\"},{\"#\":\"#1.0259\",\"count(*)\":6,\"type\":\"Client\"},{\"#\":\"#1.0260\",\"count(*)\":6,\"type\":\"DummyLock\"},{\"#\":\"#1.0261\",\"count(*)\":6,\"type\":\"HiddenInput\"},{\"#\":\"#1.0262\",\"count(*)\":6,\"type\":\"LazyClassProperty\"},{\"#\":\"#1.0263\",\"count(*)\":6,\"type\":\"MemcachedCache\"},{\"#\":\"#1.0264\",\"count(*)\":6,\"type\":\"ScopeBase\"},{\"#\":\"#1.0265\",\"count(*)\":6,\"type\":\"ScopeChoiceField\"},{\"#\":\"#1.0266\",\"count(*)\":6,\"type\":\"SlugField\"},{\"#\":\"#1.0267\",\"count(*)\":6,\"type\":\"ThreadIdent\"},{\"#\":\"#1.0268\",\"count(*)\":6,\"type\":\"_Host\"},{\"#\":\"#1.0269\",\"count(*)\":6,\"type\":\"_MethodFunc\"},{\"#\":\"#1.0270\",\"count(*)\":6,\"type\":\"_ctypes.CField\"},{\"#\":\"#1.0271\",\"count(*)\":6,\"type\":\"_typedict\"},{\"#\":\"#1.0272\",\"count(*)\":6,\"type\":\"exists_property\"},{\"#\":\"#1.0273\",\"count(*)\":6,\"type\":\"imp.NullImporter\"},{\"#\":\"#1.0274\",\"count(*)\":6,\"type\":\"method-wrapper\"},{\"#\":\"#1.0275\",\"count(*)\":6,\"type\":\"numpy.float32\"},{\"#\":\"#1.0276\",\"count(*)\":6,\"type\":\"value_property\"},{\"#\":\"#1.0277\",\"count(*)\":5,\"type\":\"America\\/New_York\"},{\"#\":\"#1.0278\",\"count(*)\":5,\"type\":\"BackwardCombinator\"},{\"#\":\"#1.0279\",\"count(*)\":5,\"type\":\"BlockedMessage\"},{\"#\":\"#1.0280\",\"count(*)\":5,\"type\":\"Chat\"},{\"#\":\"#1.0281\",\"count(*)\":5,\"type\":\"ChoiceField\"},{\"#\":\"#1.0282\",\"count(*)\":5,\"type\":\"CompleteFundamentalRule\"},{\"#\":\"#1.0283\",\"count(*)\":5,\"type\":\"DecimalField\"},{\"#\":\"#1.0284\",\"count(*)\":5,\"type\":\"FeatureCompleteFundamentalRule\"},{\"#\":\"#1.0285\",\"count(*)\":5,\"type\":\"Formatter\"},{\"#\":\"#1.0286\",\"count(*)\":5,\"type\":\"NoneToEmptyManager\"},{\"#\":\"#1.0287\",\"count(*)\":5,\"type\":\"RegexpTokenizer\"},{\"#\":\"#1.0288\",\"count(*)\":5,\"type\":\"Timedelta\"},{\"#\":\"#1.0289\",\"count(*)\":5,\"type\":\"UUIDField\"},{\"#\":\"#1.0290\",\"count(*)\":5,\"type\":\"UnaryPredicate\"},{\"#\":\"#1.0291\",\"count(*)\":5,\"type\":\"class_property\"},{\"#\":\"#1.0292\",\"count(*)\":5,\"type\":\"itertools.count\"},{\"#\":\"#1.0293\",\"count(*)\":5,\"type\":\"scipy.sparse._csparsetools.Enum\"},{\"#\":\"#1.0294\",\"count(*)\":5,\"type\":\"scputimes\"},{\"#\":\"#1.0295\",\"count(*)\":4,\"type\":\"BinaryTopologicalOp\"},{\"#\":\"#1.0296\",\"count(*)\":4,\"type\":\"DateTime\"},{\"#\":\"#1.0297\",\"count(*)\":4,\"type\":\"DeprecatedImport\"},{\"#\":\"#1.0298\",\"count(*)\":4,\"type\":\"EmptyPredictRule\"},{\"#\":\"#1.0299\",\"count(*)\":4,\"type\":\"EnabledExtensionManager\"},{\"#\":\"#1.0300\",\"count(*)\":4,\"type\":\"EnumMeta\"},{\"#\":\"#1.0301\",\"count(*)\":4,\"type\":\"FeatureEmptyPredictRule\"},{\"#\":\"#1.0302\",\"count(*)\":4,\"type\":\"ForwardCombinator\"},{\"#\":\"#1.0303\",\"count(*)\":4,\"type\":\"Implies\"},{\"#\":\"#1.0304\",\"count(*)\":4,\"type\":\"LocationKeyField\"},{\"#\":\"#1.0305\",\"count(*)\":4,\"type\":\"ModelMultipleChoiceField\"},{\"#\":\"#1.0306\",\"count(*)\":4,\"type\":\"MonitorField\"},{\"#\":\"#1.0307\",\"count(*)\":4,\"type\":\"PunktLanguageVars\"},{\"#\":\"#1.0308\",\"count(*)\":4,\"type\":\"PyCObject\"},{\"#\":\"#1.0309\",\"count(*)\":4,\"type\":\"Random\"},{\"#\":\"#1.0310\",\"count(*)\":4,\"type\":\"StatusField\"},{\"#\":\"#1.0311\",\"count(*)\":4,\"type\":\"StringField\"},{\"#\":\"#1.0312\",\"count(*)\":4,\"type\":\"Symbol\"},{\"#\":\"#1.0313\",\"count(*)\":4,\"type\":\"TaskType\"},{\"#\":\"#1.0314\",\"count(*)\":4,\"type\":\"TimeItemDescriptor\"},{\"#\":\"#1.0315\",\"count(*)\":4,\"type\":\"UUID\"},{\"#\":\"#1.0316\",\"count(*)\":4,\"type\":\"VideoSortField\"},{\"#\":\"#1.0317\",\"count(*)\":4,\"type\":\"_Event\"},{\"#\":\"#1.0318\",\"count(*)\":4,\"type\":\"_ctypes.PyCStructType\"},{\"#\":\"#1.0319\",\"count(*)\":4,\"type\":\"poly1d\"},{\"#\":\"#1.0320\",\"count(*)\":3,\"type\":\"ActiveBulkThread\"},{\"#\":\"#1.0321\",\"count(*)\":3,\"type\":\"Array\"},{\"#\":\"#1.0322\",\"count(*)\":3,\"type\":\"ArrayORCustomString\"},{\"#\":\"#1.0323\",\"count(*)\":3,\"type\":\"Choices\"},{\"#\":\"#1.0324\",\"count(*)\":3,\"type\":\"CodeMirrorWidget\"},{\"#\":\"#1.0325\",\"count(*)\":3,\"type\":\"Context\"},{\"#\":\"#1.0326\",\"count(*)\":3,\"type\":\"Counter\"},{\"#\":\"#1.0327\",\"count(*)\":3,\"type\":\"CsrfViewMiddleware\"},{\"#\":\"#1.0328\",\"count(*)\":3,\"type\":\"CursorManager\"},{\"#\":\"#1.0329\",\"count(*)\":3,\"type\":\"Database\"},{\"#\":\"#1.0330\",\"count(*)\":3,\"type\":\"DateField\"},{\"#\":\"#1.0331\",\"count(*)\":3,\"type\":\"DefaultStorage\"},{\"#\":\"#1.0332\",\"count(*)\":3,\"type\":\"DummyCache\"},{\"#\":\"#1.0333\",\"count(*)\":3,\"type\":\"Exchange\"},{\"#\":\"#1.0334\",\"count(*)\":3,\"type\":\"FeatureSingleEdgeFundamentalRule\"},{\"#\":\"#1.0335\",\"count(*)\":3,\"type\":\"FeatureTopDownInitRule\"},{\"#\":\"#1.0336\",\"count(*)\":3,\"type\":\"Future\"},{\"#\":\"#1.0337\",\"count(*)\":3,\"type\":\"GaussLegendre\"},{\"#\":\"#1.0338\",\"count(*)\":3,\"type\":\"HMACAlgorithm\"},{\"#\":\"#1.0339\",\"count(*)\":3,\"type\":\"IPAddressField\"},{\"#\":\"#1.0340\",\"count(*)\":3,\"type\":\"JSONField\"},{\"#\":\"#1.0341\",\"count(*)\":3,\"type\":\"Member\"},{\"#\":\"#1.0342\",\"count(*)\":3,\"type\":\"MetaErrorClass\"},{\"#\":\"#1.0343\",\"count(*)\":3,\"type\":\"MinLengthValidator\"},{\"#\":\"#1.0344\",\"count(*)\":3,\"type\":\"Mixologist\"},{\"#\":\"#1.0345\",\"count(*)\":3,\"type\":\"Module_six_moves_urllib\"},{\"#\":\"#1.0346\",\"count(*)\":3,\"type\":\"Module_six_moves_urllib_error\"},{\"#\":\"#1.0347\",\"count(*)\":3,\"type\":\"Module_six_moves_urllib_parse\"},{\"#\":\"#1.0348\",\"count(*)\":3,\"type\":\"Module_six_moves_urllib_request\"},{\"#\":\"#1.0349\",\"count(*)\":3,\"type\":\"Module_six_moves_urllib_response\"},{\"#\":\"#1.0350\",\"count(*)\":3,\"type\":\"Module_six_moves_urllib_robotparser\"},{\"#\":\"#1.0351\",\"count(*)\":3,\"type\":\"MongoClient\"},{\"#\":\"#1.0352\",\"count(*)\":3,\"type\":\"PickledObjectField\"},{\"#\":\"#1.0353\",\"count(*)\":3,\"type\":\"RelativeTime\"},{\"#\":\"#1.0354\",\"count(*)\":3,\"type\":\"Route\"},{\"#\":\"#1.0355\",\"count(*)\":3,\"type\":\"RoutingBackend\"},{\"#\":\"#1.0356\",\"count(*)\":3,\"type\":\"Settings\"},{\"#\":\"#1.0357\",\"count(*)\":3,\"type\":\"SingleEdgeFundamentalRule\"},{\"#\":\"#1.0358\",\"count(*)\":3,\"type\":\"SocketInfo\"},{\"#\":\"#1.0359\",\"count(*)\":3,\"type\":\"StringEnd\"},{\"#\":\"#1.0360\",\"count(*)\":3,\"type\":\"SystemRandom\"},{\"#\":\"#1.0361\",\"count(*)\":3,\"type\":\"TagRegistry\"},{\"#\":\"#1.0362\",\"count(*)\":3,\"type\":\"TanhSinh\"},{\"#\":\"#1.0363\",\"count(*)\":3,\"type\":\"ThreadVigil\"},{\"#\":\"#1.0364\",\"count(*)\":3,\"type\":\"TopDownInitRule\"},{\"#\":\"#1.0365\",\"count(*)\":3,\"type\":\"TopLevelDocumentMetaclass\"},{\"#\":\"#1.0366\",\"count(*)\":3,\"type\":\"TypedChoiceField\"},{\"#\":\"#1.0367\",\"count(*)\":3,\"type\":\"UndirectedComposition\"},{\"#\":\"#1.0368\",\"count(*)\":3,\"type\":\"UserPartitionList\"},{\"#\":\"#1.0369\",\"count(*)\":3,\"type\":\"_NullHandler\"},{\"#\":\"#1.0370\",\"count(*)\":3,\"type\":\"_Printer\"},{\"#\":\"#1.0371\",\"count(*)\":3,\"type\":\"_SentinelObject\"},{\"#\":\"#1.0372\",\"count(*)\":3,\"type\":\"_SixMetaPathImporter\"},{\"#\":\"#1.0373\",\"count(*)\":3,\"type\":\"classonlymethod\"},{\"#\":\"#1.0374\",\"count(*)\":3,\"type\":\"codec\"},{\"#\":\"#1.0375\",\"count(*)\":3,\"type\":\"lxml.etree.XMLParser\"},{\"#\":\"#1.0376\",\"count(*)\":3,\"type\":\"memoized_property\"},{\"#\":\"#1.0377\",\"count(*)\":3,\"type\":\"operator.methodcaller\"},{\"#\":\"#1.0378\",\"count(*)\":2,\"type\":\"AIClassifierSetAdmin\"},{\"#\":\"#1.0379\",\"count(*)\":2,\"type\":\"AIGradingWorkflowAdmin\"},{\"#\":\"#1.0380\",\"count(*)\":2,\"type\":\"AITrainingWorkflowAdmin\"},{\"#\":\"#1.0381\",\"count(*)\":2,\"type\":\"AccessTokenAdmin\"},{\"#\":\"#1.0382\",\"count(*)\":2,\"type\":\"AppConfMetaClass\"},{\"#\":\"#1.0383\",\"count(*)\":2,\"type\":\"ArticleAdmin\"},{\"#\":\"#1.0384\",\"count(*)\":2,\"type\":\"ArticleRevisionAdmin\"},{\"#\":\"#1.0385\",\"count(*)\":2,\"type\":\"AssessmentAdmin\"},{\"#\":\"#1.0386\",\"count(*)\":2,\"type\":\"AssessmentFeedbackAdmin\"},{\"#\":\"#1.0387\",\"count(*)\":2,\"type\":\"AssessmentWorkflowAdmin\"},{\"#\":\"#1.0388\",\"count(*)\":2,\"type\":\"AssociationAdmin\"},{\"#\":\"#1.0389\",\"count(*)\":2,\"type\":\"BottomUpPredictCombineRule\"},{\"#\":\"#1.0390\",\"count(*)\":2,\"type\":\"BottomUpPredictRule\"},{\"#\":\"#1.0391\",\"count(*)\":2,\"type\":\"CCGLexicon\"},{\"#\":\"#1.0392\",\"count(*)\":2,\"type\":\"CacheMiddleware\"},{\"#\":\"#1.0393\",\"count(*)\":2,\"type\":\"CachedTopDownPredictRule\"},{\"#\":\"#1.0394\",\"count(*)\":2,\"type\":\"CaselessLiteral\"},{\"#\":\"#1.0395\",\"count(*)\":2,\"type\":\"ClassProperty\"},{\"#\":\"#1.0396\",\"count(*)\":2,\"type\":\"ClientAdmin\"},{\"#\":\"#1.0397\",\"count(*)\":2,\"type\":\"CommaSeparatedIntegerField\"},{\"#\":\"#1.0398\",\"count(*)\":2,\"type\":\"ConfiguredStorage\"},{\"#\":\"#1.0399\",\"count(*)\":2,\"type\":\"CountryDescriptor\"},{\"#\":\"#1.0400\",\"count(*)\":2,\"type\":\"CountryField\"},{\"#\":\"#1.0401\",\"count(*)\":2,\"type\":\"CourseActionStateManager\"},{\"#\":\"#1.0402\",\"count(*)\":2,\"type\":\"CourseAuthorizationAdmin\"},{\"#\":\"#1.0403\",\"count(*)\":2,\"type\":\"CourseEmailAdmin\"},{\"#\":\"#1.0404\",\"count(*)\":2,\"type\":\"CourseEmailTemplateAdmin\"},{\"#\":\"#1.0405\",\"count(*)\":2,\"type\":\"CriterionOptionSerializer\"},{\"#\":\"#1.0406\",\"count(*)\":2,\"type\":\"DatabaseOperations\"},{\"#\":\"#1.0407\",\"count(*)\":2,\"type\":\"DefaultRouter\"},{\"#\":\"#1.0408\",\"count(*)\":2,\"type\":\"DocumentMetaclass\"},{\"#\":\"#1.0409\",\"count(*)\":2,\"type\":\"DynamicTemplateLookup\"},{\"#\":\"#1.0410\",\"count(*)\":2,\"type\":\"Empty\"},{\"#\":\"#1.0411\",\"count(*)\":2,\"type\":\"EmptyManager\"},{\"#\":\"#1.0412\",\"count(*)\":2,\"type\":\"ErrorClass\"},{\"#\":\"#1.0413\",\"count(*)\":2,\"type\":\"Expression\"},{\"#\":\"#1.0414\",\"count(*)\":2,\"type\":\"ExtendedManager\"},{\"#\":\"#1.0415\",\"count(*)\":2,\"type\":\"FeatureBottomUpPredictCombineRule\"},{\"#\":\"#1.0416\",\"count(*)\":2,\"type\":\"FeatureBottomUpPredictRule\"},{\"#\":\"#1.0417\",\"count(*)\":2,\"type\":\"FeatureTopDownPredictRule\"},{\"#\":\"#1.0418\",\"count(*)\":2,\"type\":\"FilteredBottomUpPredictCombineRule\"},{\"#\":\"#1.0419\",\"count(*)\":2,\"type\":\"GMPYIntegerRing\"},{\"#\":\"#1.0420\",\"count(*)\":2,\"type\":\"GMPYIntegerType\"},{\"#\":\"#1.0421\",\"count(*)\":2,\"type\":\"GMPYRationalType\"},{\"#\":\"#1.0422\",\"count(*)\":2,\"type\":\"GrantAdmin\"},{\"#\":\"#1.0423\",\"count(*)\":2,\"type\":\"GroupAdmin\"},{\"#\":\"#1.0424\",\"count(*)\":2,\"type\":\"HTTPAdapter\"},{\"#\":\"#1.0425\",\"count(*)\":2,\"type\":\"HashContainer\"},{\"#\":\"#1.0426\",\"count(*)\":2,\"type\":\"HtmlElementClassLookup\"},{\"#\":\"#1.0427\",\"count(*)\":2,\"type\":\"IPFilterAdmin\"},{\"#\":\"#1.0428\",\"count(*)\":2,\"type\":\"IndexExpression\"},{\"#\":\"#1.0429\",\"count(*)\":2,\"type\":\"InheritanceManager\"},{\"#\":\"#1.0430\",\"count(*)\":2,\"type\":\"InstructorTaskAdmin\"},{\"#\":\"#1.0431\",\"count(*)\":2,\"type\":\"InterpolateOp\"},{\"#\":\"#1.0432\",\"count(*)\":2,\"type\":\"JSONDecoder\"},{\"#\":\"#1.0433\",\"count(*)\":2,\"type\":\"JSONEncoder\"},{\"#\":\"#1.0434\",\"count(*)\":2,\"type\":\"LazyList\"},{\"#\":\"#1.0435\",\"count(*)\":2,\"type\":\"LazySet\"},{\"#\":\"#1.0436\",\"count(*)\":2,\"type\":\"LibraryLoader\"},{\"#\":\"#1.0437\",\"count(*)\":2,\"type\":\"LineEnd\"},{\"#\":\"#1.0438\",\"count(*)\":2,\"type\":\"LoggerBackend\"},{\"#\":\"#1.0439\",\"count(*)\":2,\"type\":\"LookupDict\"},{\"#\":\"#1.0440\",\"count(*)\":2,\"type\":\"MPTTModelBase\"},{\"#\":\"#1.0441\",\"count(*)\":2,\"type\":\"MPTTOptions\"},{\"#\":\"#1.0442\",\"count(*)\":2,\"type\":\"MachAr\"},{\"#\":\"#1.0443\",\"count(*)\":2,\"type\":\"Namespace\"},{\"#\":\"#1.0444\",\"count(*)\":2,\"type\":\"NextPageField\"},{\"#\":\"#1.0445\",\"count(*)\":2,\"type\":\"NonceAdmin\"},{\"#\":\"#1.0446\",\"count(*)\":2,\"type\":\"OptoutAdmin\"},{\"#\":\"#1.0447\",\"count(*)\":2,\"type\":\"PSSymbolTable\"},{\"#\":\"#1.0448\",\"count(*)\":2,\"type\":\"PeerWorkflowAdmin\"},{\"#\":\"#1.0449\",\"count(*)\":2,\"type\":\"PeriodicTaskAdmin\"},{\"#\":\"#1.0450\",\"count(*)\":2,\"type\":\"PoolManager\"},{\"#\":\"#1.0451\",\"count(*)\":2,\"type\":\"PreviousPageField\"},{\"#\":\"#1.0452\",\"count(*)\":2,\"type\":\"PrimaryKeyRelatedField\"},{\"#\":\"#1.0453\",\"count(*)\":2,\"type\":\"ProfileAdmin\"},{\"#\":\"#1.0454\",\"count(*)\":2,\"type\":\"ProjectOp\"},{\"#\":\"#1.0455\",\"count(*)\":2,\"type\":\"PythonIntegerRing\"},{\"#\":\"#1.0456\",\"count(*)\":2,\"type\":\"PythonRationalType\"},{\"#\":\"#1.0457\",\"count(*)\":2,\"type\":\"Quitter\"},{\"#\":\"#1.0458\",\"count(*)\":2,\"type\":\"Rational\"},{\"#\":\"#1.0459\",\"count(*)\":2,\"type\":\"RecentlyUsedContainer\"},{\"#\":\"#1.0460\",\"count(*)\":2,\"type\":\"Reference\"},{\"#\":\"#1.0461\",\"count(*)\":2,\"type\":\"RegexField\"},{\"#\":\"#1.0462\",\"count(*)\":2,\"type\":\"ResourceLoader\"},{\"#\":\"#1.0463\",\"count(*)\":2,\"type\":\"RestrictedCourseAdmin\"},{\"#\":\"#1.0464\",\"count(*)\":2,\"type\":\"RubricAdmin\"},{\"#\":\"#1.0465\",\"count(*)\":2,\"type\":\"SafeString\"},{\"#\":\"#1.0466\",\"count(*)\":2,\"type\":\"ScoreAdmin\"},{\"#\":\"#1.0467\",\"count(*)\":2,\"type\":\"ScoreSummaryAdmin\"},{\"#\":\"#1.0468\",\"count(*)\":2,\"type\":\"SessionNegotiator\"},{\"#\":\"#1.0469\",\"count(*)\":2,\"type\":\"SiteAdmin\"},{\"#\":\"#1.0470\",\"count(*)\":2,\"type\":\"SlugRelatedField\"},{\"#\":\"#1.0471\",\"count(*)\":2,\"type\":\"SmallIntegerField\"},{\"#\":\"#1.0472\",\"count(*)\":2,\"type\":\"SortDirection\"},{\"#\":\"#1.0473\",\"count(*)\":2,\"type\":\"StreamHandler\"},{\"#\":\"#1.0474\",\"count(*)\":2,\"type\":\"StudentItemAdmin\"},{\"#\":\"#1.0475\",\"count(*)\":2,\"type\":\"StyleMeta\"},{\"#\":\"#1.0476\",\"count(*)\":2,\"type\":\"SubmissionAdmin\"},{\"#\":\"#1.0477\",\"count(*)\":2,\"type\":\"SurveyFormAdmin\"},{\"#\":\"#1.0478\",\"count(*)\":2,\"type\":\"SymPyIntegerRing\"},{\"#\":\"#1.0479\",\"count(*)\":2,\"type\":\"SysLogHandler\"},{\"#\":\"#1.0480\",\"count(*)\":2,\"type\":\"TaskMonitor\"},{\"#\":\"#1.0481\",\"count(*)\":2,\"type\":\"TrustedClientAdmin\"},{\"#\":\"#1.0482\",\"count(*)\":2,\"type\":\"URLPathAdmin\"},{\"#\":\"#1.0483\",\"count(*)\":2,\"type\":\"UTC\"},{\"#\":\"#1.0484\",\"count(*)\":2,\"type\":\"UnaryRealProperty\"},{\"#\":\"#1.0485\",\"count(*)\":2,\"type\":\"Undefined\"},{\"#\":\"#1.0486\",\"count(*)\":2,\"type\":\"UndirectedFunctionApplication\"},{\"#\":\"#1.0487\",\"count(*)\":2,\"type\":\"UndirectedSubstitution\"},{\"#\":\"#1.0488\",\"count(*)\":2,\"type\":\"UndirectedTypeRaise\"},{\"#\":\"#1.0489\",\"count(*)\":2,\"type\":\"UserAdmin\"},{\"#\":\"#1.0490\",\"count(*)\":2,\"type\":\"UserOpenIDAdmin\"},{\"#\":\"#1.0491\",\"count(*)\":2,\"type\":\"VideoAdmin\"},{\"#\":\"#1.0492\",\"count(*)\":2,\"type\":\"WeightedGrammar\"},{\"#\":\"#1.0493\",\"count(*)\":2,\"type\":\"WhitespaceTokenizer\"},{\"#\":\"#1.0494\",\"count(*)\":2,\"type\":\"WordPunctTokenizer\"},{\"#\":\"#1.0495\",\"count(*)\":2,\"type\":\"WorkerMonitor\"},{\"#\":\"#1.0496\",\"count(*)\":2,\"type\":\"XMLParser\"},{\"#\":\"#1.0497\",\"count(*)\":2,\"type\":\"_EnsureCsrfCookie\"},{\"#\":\"#1.0498\",\"count(*)\":2,\"type\":\"_EnsureCsrfToken\"},{\"#\":\"#1.0499\",\"count(*)\":2,\"type\":\"_MainProcess\"},{\"#\":\"#1.0500\",\"count(*)\":2,\"type\":\"_MetaSubClass\"},{\"#\":\"#1.0501\",\"count(*)\":2,\"type\":\"_RouteClassAttributeToGetattr\"},{\"#\":\"#1.0502\",\"count(*)\":2,\"type\":\"_Semaphore\"},{\"#\":\"#1.0503\",\"count(*)\":2,\"type\":\"_automodule\"},{\"#\":\"#1.0504\",\"count(*)\":2,\"type\":\"_csv.Dialect\"},{\"#\":\"#1.0505\",\"count(*)\":2,\"type\":\"_ctypes.CThunkObject\"},{\"#\":\"#1.0506\",\"count(*)\":2,\"type\":\"_nogil\"},{\"#\":\"#1.0507\",\"count(*)\":2,\"type\":\"bool\"},{\"#\":\"#1.0508\",\"count(*)\":2,\"type\":\"collections.deque\"},{\"#\":\"#1.0509\",\"count(*)\":2,\"type\":\"datetime.time\"},{\"#\":\"#1.0510\",\"count(*)\":2,\"type\":\"finfo\"},{\"#\":\"#1.0511\",\"count(*)\":2,\"type\":\"frechet_l_gen\"},{\"#\":\"#1.0512\",\"count(*)\":2,\"type\":\"frechet_r_gen\"},{\"#\":\"#1.0513\",\"count(*)\":2,\"type\":\"listiterator\"},{\"#\":\"#1.0514\",\"count(*)\":2,\"type\":\"lxml.etree.XSLTAccessControl\"},{\"#\":\"#1.0515\",\"count(*)\":2,\"type\":\"lxml.etree._ParserContext\"},{\"#\":\"#1.0516\",\"count(*)\":2,\"type\":\"lxml.etree._RotatingErrorLog\"},{\"#\":\"#1.0517\",\"count(*)\":2,\"type\":\"nd_grid\"},{\"#\":\"#1.0518\",\"count(*)\":2,\"type\":\"numpy.bool_\"},{\"#\":\"#1.0519\",\"count(*)\":2,\"type\":\"traceback\"},{\"#\":\"#1.0520\",\"count(*)\":2,\"type\":\"version_info_t\"},{\"#\":\"#1.0521\",\"count(*)\":2,\"type\":\"vonmises_gen\"},{\"#\":\"#1.0522\",\"count(*)\":1,\"type\":\"\\u2218\"},{\"#\":\"#1.0523\",\"count(*)\":1,\"type\":\"APISettings\"},{\"#\":\"#1.0524\",\"count(*)\":1,\"type\":\"AccessLog\"},{\"#\":\"#1.0525\",\"count(*)\":1,\"type\":\"AccessLogFormat\"},{\"#\":\"#1.0526\",\"count(*)\":1,\"type\":\"AccessTokenManager\"},{\"#\":\"#1.0527\",\"count(*)\":1,\"type\":\"Add\"},{\"#\":\"#1.0528\",\"count(*)\":1,\"type\":\"AdminEmailHandler\"},{\"#\":\"#1.0529\",\"count(*)\":1,\"type\":\"AdminSite\"},{\"#\":\"#1.0530\",\"count(*)\":1,\"type\":\"AgentLimitsSettings\"},{\"#\":\"#1.0531\",\"count(*)\":1,\"type\":\"AjaxExceptionMiddleware\"},{\"#\":\"#1.0532\",\"count(*)\":1,\"type\":\"AnalyticsEventsSettings\"},{\"#\":\"#1.0533\",\"count(*)\":1,\"type\":\"AnalyticsEventsTransactionsSettings\"},{\"#\":\"#1.0534\",\"count(*)\":1,\"type\":\"AnonymousUser\"},{\"#\":\"#1.0535\",\"count(*)\":1,\"type\":\"AnyType\"},{\"#\":\"#1.0536\",\"count(*)\":1,\"type\":\"AppCache\"},{\"#\":\"#1.0537\",\"count(*)\":1,\"type\":\"AppConfOptions\"},{\"#\":\"#1.0538\",\"count(*)\":1,\"type\":\"AppLoader\"},{\"#\":\"#1.0539\",\"count(*)\":1,\"type\":\"Arbiter\"},{\"#\":\"#1.0540\",\"count(*)\":1,\"type\":\"ArticleFkManager\"},{\"#\":\"#1.0541\",\"count(*)\":1,\"type\":\"ArticleManager\"},{\"#\":\"#1.0542\",\"count(*)\":1,\"type\":\"ArticleQuerySet\"},{\"#\":\"#1.0543\",\"count(*)\":1,\"type\":\"AssessmentFeedbackOptionSerializer\"},{\"#\":\"#1.0544\",\"count(*)\":1,\"type\":\"AssessmentSerializer\"},{\"#\":\"#1.0545\",\"count(*)\":1,\"type\":\"AssumptionsContext\"},{\"#\":\"#1.0546\",\"count(*)\":1,\"type\":\"AugLoad\"},{\"#\":\"#1.0547\",\"count(*)\":1,\"type\":\"AugStore\"},{\"#\":\"#1.0548\",\"count(*)\":1,\"type\":\"AuthenticationString\"},{\"#\":\"#1.0549\",\"count(*)\":1,\"type\":\"Backend\"},{\"#\":\"#1.0550\",\"count(*)\":1,\"type\":\"Backlog\"},{\"#\":\"#1.0551\",\"count(*)\":1,\"type\":\"BackwardTypeRaiseRule\"},{\"#\":\"#1.0552\",\"count(*)\":1,\"type\":\"BinaryRealProperty\"},{\"#\":\"#1.0553\",\"count(*)\":1,\"type\":\"Bind\"},{\"#\":\"#1.0554\",\"count(*)\":1,\"type\":\"BitAnd\"},{\"#\":\"#1.0555\",\"count(*)\":1,\"type\":\"BitOr\"},{\"#\":\"#1.0556\",\"count(*)\":1,\"type\":\"BitXor\"},{\"#\":\"#1.0557\",\"count(*)\":1,\"type\":\"BlanklineTokenizer\"},{\"#\":\"#1.0558\",\"count(*)\":1,\"type\":\"BlockTypeKeyField\"},{\"#\":\"#1.0559\",\"count(*)\":1,\"type\":\"BoundsOp\"},{\"#\":\"#1.0560\",\"count(*)\":1,\"type\":\"BrowserMonitorSettings\"},{\"#\":\"#1.0561\",\"count(*)\":1,\"type\":\"CCGVar\"},{\"#\":\"#1.0562\",\"count(*)\":1,\"type\":\"CClass\"},{\"#\":\"#1.0563\",\"count(*)\":1,\"type\":\"CacheBackedAuthenticationMiddleware\"},{\"#\":\"#1.0564\",\"count(*)\":1,\"type\":\"CachedDnsName\"},{\"#\":\"#1.0565\",\"count(*)\":1,\"type\":\"CaseInsensitiveDict\"},{\"#\":\"#1.0566\",\"count(*)\":1,\"type\":\"Catalan\"},{\"#\":\"#1.0567\",\"count(*)\":1,\"type\":\"Celery\"},{\"#\":\"#1.0568\",\"count(*)\":1,\"type\":\"CertFile\"},{\"#\":\"#1.0569\",\"count(*)\":1,\"type\":\"ChartParser\"},{\"#\":\"#1.0570\",\"count(*)\":1,\"type\":\"ClassRegistry\"},{\"#\":\"#1.0571\",\"count(*)\":1,\"type\":\"CommonMiddleware\"},{\"#\":\"#1.0572\",\"count(*)\":1,\"type\":\"CompleterRule\"},{\"#\":\"#1.0573\",\"count(*)\":1,\"type\":\"ComplexInfinity\"},{\"#\":\"#1.0574\",\"count(*)\":1,\"type\":\"CompressedTextField\"},{\"#\":\"#1.0575\",\"count(*)\":1,\"type\":\"ConditionalGetMiddleware\"},{\"#\":\"#1.0576\",\"count(*)\":1,\"type\":\"Config\"},{\"#\":\"#1.0577\",\"count(*)\":1,\"type\":\"ConfigCheck\"},{\"#\":\"#1.0578\",\"count(*)\":1,\"type\":\"ConfigFile\"},{\"#\":\"#1.0579\",\"count(*)\":1,\"type\":\"ConnectionHandler\"},{\"#\":\"#1.0580\",\"count(*)\":1,\"type\":\"ConnectionRouter\"},{\"#\":\"#1.0581\",\"count(*)\":1,\"type\":\"ConsoleSettings\"},{\"#\":\"#1.0582\",\"count(*)\":1,\"type\":\"Constraint\"},{\"#\":\"#1.0583\",\"count(*)\":1,\"type\":\"ContentTypeManager\"},{\"#\":\"#1.0584\",\"count(*)\":1,\"type\":\"ContextFreeGrammar\"},{\"#\":\"#1.0585\",\"count(*)\":1,\"type\":\"CorsMiddleware\"},{\"#\":\"#1.0586\",\"count(*)\":1,\"type\":\"Countries\"},{\"#\":\"#1.0587\",\"count(*)\":1,\"type\":\"CountryMiddleware\"},{\"#\":\"#1.0588\",\"count(*)\":1,\"type\":\"CourseAccessRoleAdmin\"},{\"#\":\"#1.0589\",\"count(*)\":1,\"type\":\"CourseLocator\"},{\"#\":\"#1.0590\",\"count(*)\":1,\"type\":\"CourseModeAdmin\"},{\"#\":\"#1.0591\",\"count(*)\":1,\"type\":\"CourseRerunUIStateManager\"},{\"#\":\"#1.0592\",\"count(*)\":1,\"type\":\"CourseSerializer\"},{\"#\":\"#1.0593\",\"count(*)\":1,\"type\":\"CourseStructureAdmin\"},{\"#\":\"#1.0594\",\"count(*)\":1,\"type\":\"CourseTabList\"},{\"#\":\"#1.0595\",\"count(*)\":1,\"type\":\"CriterionSerializer\"},{\"#\":\"#1.0596\",\"count(*)\":1,\"type\":\"CrossApplicationTracerSettings\"},{\"#\":\"#1.0597\",\"count(*)\":1,\"type\":\"CurrentRequestUserMiddleware\"},{\"#\":\"#1.0598\",\"count(*)\":1,\"type\":\"CythonDotParallel\"},{\"#\":\"#1.0599\",\"count(*)\":1,\"type\":\"Daemon\"},{\"#\":\"#1.0600\",\"count(*)\":1,\"type\":\"DarkLangMiddleware\"},{\"#\":\"#1.0601\",\"count(*)\":1,\"type\":\"DatabaseClient\"},{\"#\":\"#1.0602\",\"count(*)\":1,\"type\":\"DatabaseCreation\"},{\"#\":\"#1.0603\",\"count(*)\":1,\"type\":\"DatabaseFeatures\"},{\"#\":\"#1.0604\",\"count(*)\":1,\"type\":\"DatabaseIntrospection\"},{\"#\":\"#1.0605\",\"count(*)\":1,\"type\":\"DatabaseValidation\"},{\"#\":\"#1.0606\",\"count(*)\":1,\"type\":\"DatabaseWrapper\"},{\"#\":\"#1.0607\",\"count(*)\":1,\"type\":\"DateInput\"},{\"#\":\"#1.0608\",\"count(*)\":1,\"type\":\"Debug\"},{\"#\":\"#1.0609\",\"count(*)\":1,\"type\":\"DebugSettings\"},{\"#\":\"#1.0610\",\"count(*)\":1,\"type\":\"Decode\"},{\"#\":\"#1.0611\",\"count(*)\":1,\"type\":\"DefaultConnectionProxy\"},{\"#\":\"#1.0612\",\"count(*)\":1,\"type\":\"DefaultProcName\"},{\"#\":\"#1.0613\",\"count(*)\":1,\"type\":\"Del\"},{\"#\":\"#1.0614\",\"count(*)\":1,\"type\":\"Div\"},{\"#\":\"#1.0615\",\"count(*)\":1,\"type\":\"DjangoFixup\"},{\"#\":\"#1.0616\",\"count(*)\":1,\"type\":\"DjangoSettings\"},{\"#\":\"#1.0617\",\"count(*)\":1,\"type\":\"DjangoTracker\"},{\"#\":\"#1.0618\",\"count(*)\":1,\"type\":\"DogHttpApi\"},{\"#\":\"#1.0619\",\"count(*)\":1,\"type\":\"DogStatsApi\"},{\"#\":\"#1.0620\",\"count(*)\":1,\"type\":\"Downloader\"},{\"#\":\"#1.0621\",\"count(*)\":1,\"type\":\"DraftModuleStore\"},{\"#\":\"#1.0622\",\"count(*)\":1,\"type\":\"DraftVersioningModuleStore\"},{\"#\":\"#1.0623\",\"count(*)\":1,\"type\":\"EmailValidator\"},{\"#\":\"#1.0624\",\"count(*)\":1,\"type\":\"EmptyNodeList\"},{\"#\":\"#1.0625\",\"count(*)\":1,\"type\":\"EmptySet\"},{\"#\":\"#1.0626\",\"count(*)\":1,\"type\":\"EnableStdioInheritance\"},{\"#\":\"#1.0627\",\"count(*)\":1,\"type\":\"EncodedVideoSerializer\"},{\"#\":\"#1.0628\",\"count(*)\":1,\"type\":\"EndToken\"},{\"#\":\"#1.0629\",\"count(*)\":1,\"type\":\"EntityType\"},{\"#\":\"#1.0630\",\"count(*)\":1,\"type\":\"Eq\"},{\"#\":\"#1.0631\",\"count(*)\":1,\"type\":\"ErrorCollectorSettings\"},{\"#\":\"#1.0632\",\"count(*)\":1,\"type\":\"ErrorLog\"},{\"#\":\"#1.0633\",\"count(*)\":1,\"type\":\"EulerGamma\"},{\"#\":\"#1.0634\",\"count(*)\":1,\"type\":\"EventType\"},{\"#\":\"#1.0635\",\"count(*)\":1,\"type\":\"Exp1\"},{\"#\":\"#1.0636\",\"count(*)\":1,\"type\":\"ExpressionDomain\"},{\"#\":\"#1.0637\",\"count(*)\":1,\"type\":\"ExtCodecData\"},{\"#\":\"#1.0638\",\"count(*)\":1,\"type\":\"ExtendMarkdownPlugin\"},{\"#\":\"#1.0639\",\"count(*)\":1,\"type\":\"ExternalAuthMapAdmin\"},{\"#\":\"#1.0640\",\"count(*)\":1,\"type\":\"FPContext\"},{\"#\":\"#1.0641\",\"count(*)\":1,\"type\":\"FSService\"},{\"#\":\"#1.0642\",\"count(*)\":1,\"type\":\"Feature\"},{\"#\":\"#1.0643\",\"count(*)\":1,\"type\":\"FeatureCompleterRule\"},{\"#\":\"#1.0644\",\"count(*)\":1,\"type\":\"FeatureFundamentalRule\"},{\"#\":\"#1.0645\",\"count(*)\":1,\"type\":\"FeaturePredictorRule\"},{\"#\":\"#1.0646\",\"count(*)\":1,\"type\":\"FeatureScannerRule\"},{\"#\":\"#1.0647\",\"count(*)\":1,\"type\":\"FileBasedCache\"},{\"#\":\"#1.0648\",\"count(*)\":1,\"type\":\"FileDescriptor\"},{\"#\":\"#1.0649\",\"count(*)\":1,\"type\":\"FileField\"},{\"#\":\"#1.0650\",\"count(*)\":1,\"type\":\"Filesystem\"},{\"#\":\"#1.0651\",\"count(*)\":1,\"type\":\"FilterSetMetaclass\"},{\"#\":\"#1.0652\",\"count(*)\":1,\"type\":\"FilteredCompleteFundamentalRule\"},{\"#\":\"#1.0653\",\"count(*)\":1,\"type\":\"FilteredSingleEdgeFundamentalRule\"},{\"#\":\"#1.0654\",\"count(*)\":1,\"type\":\"FixedOffset\"},{\"#\":\"#1.0655\",\"count(*)\":1,\"type\":\"FloorDiv\"},{\"#\":\"#1.0656\",\"count(*)\":1,\"type\":\"ForwardTypeRaiseRule\"},{\"#\":\"#1.0657\",\"count(*)\":1,\"type\":\"ForwardedAllowIPS\"},{\"#\":\"#1.0658\",\"count(*)\":1,\"type\":\"GEOSImpl\"},{\"#\":\"#1.0659\",\"count(*)\":1,\"type\":\"GMPYRationalField\"},{\"#\":\"#1.0660\",\"count(*)\":1,\"type\":\"GenericForeignKey\"},{\"#\":\"#1.0661\",\"count(*)\":1,\"type\":\"GenericRel\"},{\"#\":\"#1.0662\",\"count(*)\":1,\"type\":\"GenericRelation\"},{\"#\":\"#1.0663\",\"count(*)\":1,\"type\":\"GlobalParserTLS\"},{\"#\":\"#1.0664\",\"count(*)\":1,\"type\":\"GoldenRatio\"},{\"#\":\"#1.0665\",\"count(*)\":1,\"type\":\"GracefulTimeout\"},{\"#\":\"#1.0666\",\"count(*)\":1,\"type\":\"GridFS\"},{\"#\":\"#1.0667\",\"count(*)\":1,\"type\":\"GroupAccessDict\"},{\"#\":\"#1.0668\",\"count(*)\":1,\"type\":\"GroupManager\"},{\"#\":\"#1.0669\",\"count(*)\":1,\"type\":\"Gt\"},{\"#\":\"#1.0670\",\"count(*)\":1,\"type\":\"GtE\"},{\"#\":\"#1.0671\",\"count(*)\":1,\"type\":\"HTMLParser\"},{\"#\":\"#1.0672\",\"count(*)\":1,\"type\":\"HTTPBasicAuth\"},{\"#\":\"#1.0673\",\"count(*)\":1,\"type\":\"Half\"},{\"#\":\"#1.0674\",\"count(*)\":1,\"type\":\"HtmlFormatter\"},{\"#\":\"#1.0675\",\"count(*)\":1,\"type\":\"HyperlinkedIdentityField\"},{\"#\":\"#1.0676\",\"count(*)\":1,\"type\":\"HyperlinkedModelSerializerOptions\"},{\"#\":\"#1.0677\",\"count(*)\":1,\"type\":\"IdentityFunction\"},{\"#\":\"#1.0678\",\"count(*)\":1,\"type\":\"ImaginaryUnit\"},{\"#\":\"#1.0679\",\"count(*)\":1,\"type\":\"In\"},{\"#\":\"#1.0680\",\"count(*)\":1,\"type\":\"Infinity\"},{\"#\":\"#1.0681\",\"count(*)\":1,\"type\":\"Invert\"},{\"#\":\"#1.0682\",\"count(*)\":1,\"type\":\"InvoiceAdmin\"},{\"#\":\"#1.0683\",\"count(*)\":1,\"type\":\"Is\"},{\"#\":\"#1.0684\",\"count(*)\":1,\"type\":\"IsNot\"},{\"#\":\"#1.0685\",\"count(*)\":1,\"type\":\"JsonField\"},{\"#\":\"#1.0686\",\"count(*)\":1,\"type\":\"Keepalive\"},{\"#\":\"#1.0687\",\"count(*)\":1,\"type\":\"KeyFile\"},{\"#\":\"#1.0688\",\"count(*)\":1,\"type\":\"LGEOS16LR\"},{\"#\":\"#1.0689\",\"count(*)\":1,\"type\":\"LShift\"},{\"#\":\"#1.0690\",\"count(*)\":1,\"type\":\"LamportClock\"},{\"#\":\"#1.0691\",\"count(*)\":1,\"type\":\"LanguagePreferenceMiddleware\"},{\"#\":\"#1.0692\",\"count(*)\":1,\"type\":\"LanguageProficiencySerializer\"},{\"#\":\"#1.0693\",\"count(*)\":1,\"type\":\"LazyLoader\"},{\"#\":\"#1.0694\",\"count(*)\":1,\"type\":\"LazySettings\"},{\"#\":\"#1.0695\",\"count(*)\":1,\"type\":\"LegacyFieldMappingProcessor\"},{\"#\":\"#1.0696\",\"count(*)\":1,\"type\":\"LimitRequestFieldSize\"},{\"#\":\"#1.0697\",\"count(*)\":1,\"type\":\"LimitRequestFields\"},{\"#\":\"#1.0698\",\"count(*)\":1,\"type\":\"LimitRequestLine\"},{\"#\":\"#1.0699\",\"count(*)\":1,\"type\":\"LineStart\"},{\"#\":\"#1.0700\",\"count(*)\":1,\"type\":\"LinkPlugin\"},{\"#\":\"#1.0701\",\"count(*)\":1,\"type\":\"LinkedInAddToProfileConfigurationAdmin\"},{\"#\":\"#1.0702\",\"count(*)\":1,\"type\":\"Load\"},{\"#\":\"#1.0703\",\"count(*)\":1,\"type\":\"LocMemCache\"},{\"#\":\"#1.0704\",\"count(*)\":1,\"type\":\"Local\"},{\"#\":\"#1.0705\",\"count(*)\":1,\"type\":\"LocaleMiddleware\"},{\"#\":\"#1.0706\",\"count(*)\":1,\"type\":\"LocaleTime\"},{\"#\":\"#1.0707\",\"count(*)\":1,\"type\":\"LogConfig\"},{\"#\":\"#1.0708\",\"count(*)\":1,\"type\":\"LogEntryManager\"},{\"#\":\"#1.0709\",\"count(*)\":1,\"type\":\"LoggerClass\"},{\"#\":\"#1.0710\",\"count(*)\":1,\"type\":\"Loglevel\"},{\"#\":\"#1.0711\",\"count(*)\":1,\"type\":\"Lt\"},{\"#\":\"#1.0712\",\"count(*)\":1,\"type\":\"LtE\"},{\"#\":\"#1.0713\",\"count(*)\":1,\"type\":\"MPContext\"},{\"#\":\"#1.0714\",\"count(*)\":1,\"type\":\"MPIntervalContext\"},{\"#\":\"#1.0715\",\"count(*)\":1,\"type\":\"MPmathComplexDomain\"},{\"#\":\"#1.0716\",\"count(*)\":1,\"type\":\"MPmathRealDomain\"},{\"#\":\"#1.0717\",\"count(*)\":1,\"type\":\"MakoMiddleware\"},{\"#\":\"#1.0718\",\"count(*)\":1,\"type\":\"MaskedConstant\"},{\"#\":\"#1.0719\",\"count(*)\":1,\"type\":\"MaxRequests\"},{\"#\":\"#1.0720\",\"count(*)\":1,\"type\":\"MessageMiddleware\"},{\"#\":\"#1.0721\",\"count(*)\":1,\"type\":\"MetaDict\"},{\"#\":\"#1.0722\",\"count(*)\":1,\"type\":\"MicrositeMiddleware\"},{\"#\":\"#1.0723\",\"count(*)\":1,\"type\":\"MixedModuleStore\"},{\"#\":\"#1.0724\",\"count(*)\":1,\"type\":\"Mod\"},{\"#\":\"#1.0725\",\"count(*)\":1,\"type\":\"Mode\"},{\"#\":\"#1.0726\",\"count(*)\":1,\"type\":\"ModuleI18nService\"},{\"#\":\"#1.0727\",\"count(*)\":1,\"type\":\"ModuleWrapper\"},{\"#\":\"#1.0728\",\"count(*)\":1,\"type\":\"MongoConnection\"},{\"#\":\"#1.0729\",\"count(*)\":1,\"type\":\"MongoContentStore\"},{\"#\":\"#1.0730\",\"count(*)\":1,\"type\":\"Mult\"},{\"#\":\"#1.0731\",\"count(*)\":1,\"type\":\"NaN\"},{\"#\":\"#1.0732\",\"count(*)\":1,\"type\":\"NameWhitelistProcessor\"},{\"#\":\"#1.0733\",\"count(*)\":1,\"type\":\"NegativeInfinity\"},{\"#\":\"#1.0734\",\"count(*)\":1,\"type\":\"NegativeOne\"},{\"#\":\"#1.0735\",\"count(*)\":1,\"type\":\"NoneAlgorithm\"},{\"#\":\"#1.0736\",\"count(*)\":1,\"type\":\"NoneType\"},{\"#\":\"#1.0737\",\"count(*)\":1,\"type\":\"NotEq\"},{\"#\":\"#1.0738\",\"count(*)\":1,\"type\":\"NotFound\"},{\"#\":\"#1.0739\",\"count(*)\":1,\"type\":\"NotImplementedType\"},{\"#\":\"#1.0740\",\"count(*)\":1,\"type\":\"NotIn\"},{\"#\":\"#1.0741\",\"count(*)\":1,\"type\":\"NotifyPlugin\"},{\"#\":\"#1.0742\",\"count(*)\":1,\"type\":\"NumWorkersChanged\"},{\"#\":\"#1.0743\",\"count(*)\":1,\"type\":\"NumberSymbol\"},{\"#\":\"#1.0744\",\"count(*)\":1,\"type\":\"OSFS\"},{\"#\":\"#1.0745\",\"count(*)\":1,\"type\":\"ObjectIdField\"},{\"#\":\"#1.0746\",\"count(*)\":1,\"type\":\"OnReload\"},{\"#\":\"#1.0747\",\"count(*)\":1,\"type\":\"OnStarting\"},{\"#\":\"#1.0748\",\"count(*)\":1,\"type\":\"One\"},{\"#\":\"#1.0749\",\"count(*)\":1,\"type\":\"PDFArrayCompact\"},{\"#\":\"#1.0750\",\"count(*)\":1,\"type\":\"Param\"},{\"#\":\"#1.0751\",\"count(*)\":1,\"type\":\"ParseException\"},{\"#\":\"#1.0752\",\"count(*)\":1,\"type\":\"PasswordResetTokenGenerator\"},{\"#\":\"#1.0753\",\"count(*)\":1,\"type\":\"PeriodicTaskManager\"},{\"#\":\"#1.0754\",\"count(*)\":1,\"type\":\"PermissionManager\"},{\"#\":\"#1.0755\",\"count(*)\":1,\"type\":\"Pi\"},{\"#\":\"#1.0756\",\"count(*)\":1,\"type\":\"Pidfile\"},{\"#\":\"#1.0757\",\"count(*)\":1,\"type\":\"PipelineCachedStorage\"},{\"#\":\"#1.0758\",\"count(*)\":1,\"type\":\"PluginLoader\"},{\"#\":\"#1.0759\",\"count(*)\":1,\"type\":\"PointerInstance\"},{\"#\":\"#1.0760\",\"count(*)\":1,\"type\":\"PositiveSmallIntegerField\"},{\"#\":\"#1.0761\",\"count(*)\":1,\"type\":\"PostRequest\"},{\"#\":\"#1.0762\",\"count(*)\":1,\"type\":\"Postfork\"},{\"#\":\"#1.0763\",\"count(*)\":1,\"type\":\"Pow\"},{\"#\":\"#1.0764\",\"count(*)\":1,\"type\":\"PreExec\"},{\"#\":\"#1.0765\",\"count(*)\":1,\"type\":\"PreRequest\"},{\"#\":\"#1.0766\",\"count(*)\":1,\"type\":\"PredictorRule\"},{\"#\":\"#1.0767\",\"count(*)\":1,\"type\":\"Prefork\"},{\"#\":\"#1.0768\",\"count(*)\":1,\"type\":\"PreloadApp\"},{\"#\":\"#1.0769\",\"count(*)\":1,\"type\":\"ProbabilisticFundamentalRule\"},{\"#\":\"#1.0770\",\"count(*)\":1,\"type\":\"ProcessHostSettings\"},{\"#\":\"#1.0771\",\"count(*)\":1,\"type\":\"Procname\"},{\"#\":\"#1.0772\",\"count(*)\":1,\"type\":\"ProfilingRegexLexerMeta\"},{\"#\":\"#1.0773\",\"count(*)\":1,\"type\":\"ProxyAllowFrom\"},{\"#\":\"#1.0774\",\"count(*)\":1,\"type\":\"ProxyProtocol\"},{\"#\":\"#1.0775\",\"count(*)\":1,\"type\":\"PunktParameters\"},{\"#\":\"#1.0776\",\"count(*)\":1,\"type\":\"PyDLL\"},{\"#\":\"#1.0777\",\"count(*)\":1,\"type\":\"PyJWT\"},{\"#\":\"#1.0778\",\"count(*)\":1,\"type\":\"PythonPath\"},{\"#\":\"#1.0779\",\"count(*)\":1,\"type\":\"PythonRationalField\"},{\"#\":\"#1.0780\",\"count(*)\":1,\"type\":\"QuerySetManager\"},{\"#\":\"#1.0781\",\"count(*)\":1,\"type\":\"RClass\"},{\"#\":\"#1.0782\",\"count(*)\":1,\"type\":\"RSAImplementation\"},{\"#\":\"#1.0783\",\"count(*)\":1,\"type\":\"RShift\"},{\"#\":\"#1.0784\",\"count(*)\":1,\"type\":\"RWLock\"},{\"#\":\"#1.0785\",\"count(*)\":1,\"type\":\"Randomization\"},{\"#\":\"#1.0786\",\"count(*)\":1,\"type\":\"RateLimitAdminSite\"},{\"#\":\"#1.0787\",\"count(*)\":1,\"type\":\"RateLimitMiddleware\"},{\"#\":\"#1.0788\",\"count(*)\":1,\"type\":\"ReadOnlyPasswordHashField\"},{\"#\":\"#1.0789\",\"count(*)\":1,\"type\":\"ReadOnlyPasswordHashWidget\"},{\"#\":\"#1.0790\",\"count(*)\":1,\"type\":\"RedirectUnenrolledMiddleware\"},{\"#\":\"#1.0791\",\"count(*)\":1,\"type\":\"ReferenceValueDict\"},{\"#\":\"#1.0792\",\"count(*)\":1,\"type\":\"RequestCache\"},{\"#\":\"#1.0793\",\"count(*)\":1,\"type\":\"RequestsConnectionFilter\"},{\"#\":\"#1.0794\",\"count(*)\":1,\"type\":\"RequestsCookieJar\"},{\"#\":\"#1.0795\",\"count(*)\":1,\"type\":\"RequireDebugFalse\"},{\"#\":\"#1.0796\",\"count(*)\":1,\"type\":\"Retry\"},{\"#\":\"#1.0797\",\"count(*)\":1,\"type\":\"ReverseGenericRelatedObjectsDescriptor\"},{\"#\":\"#1.0798\",\"count(*)\":1,\"type\":\"RootLogger\"},{\"#\":\"#1.0799\",\"count(*)\":1,\"type\":\"RumSettings\"},{\"#\":\"#1.0800\",\"count(*)\":1,\"type\":\"SExprTokenizer\"},{\"#\":\"#1.0801\",\"count(*)\":1,\"type\":\"ScannerRule\"},{\"#\":\"#1.0802\",\"count(*)\":1,\"type\":\"SecureSchemeHeader\"},{\"#\":\"#1.0803\",\"count(*)\":1,\"type\":\"SegmentBackend\"},{\"#\":\"#1.0804\",\"count(*)\":1,\"type\":\"SerializerRegistry\"},{\"#\":\"#1.0805\",\"count(*)\":1,\"type\":\"Session\"},{\"#\":\"#1.0806\",\"count(*)\":1,\"type\":\"SessionInactivityTimeout\"},{\"#\":\"#1.0807\",\"count(*)\":1,\"type\":\"SessionManager\"},{\"#\":\"#1.0808\",\"count(*)\":1,\"type\":\"SessionMiddleware\"},{\"#\":\"#1.0809\",\"count(*)\":1,\"type\":\"SignalHandler\"},{\"#\":\"#1.0810\",\"count(*)\":1,\"type\":\"Signals\"},{\"#\":\"#1.0811\",\"count(*)\":1,\"type\":\"SimpleCookie\"},{\"#\":\"#1.0812\",\"count(*)\":1,\"type\":\"SimpleRouter\"},{\"#\":\"#1.0813\",\"count(*)\":1,\"type\":\"SingletonRegistry\"},{\"#\":\"#1.0814\",\"count(*)\":1,\"type\":\"SiteManager\"},{\"#\":\"#1.0815\",\"count(*)\":1,\"type\":\"SkippedReverificationAdmin\"},{\"#\":\"#1.0816\",\"count(*)\":1,\"type\":\"SlashFeature\"},{\"#\":\"#1.0817\",\"count(*)\":1,\"type\":\"SlowSqlSettings\"},{\"#\":\"#1.0818\",\"count(*)\":1,\"type\":\"SoftDeleteCouponAdmin\"},{\"#\":\"#1.0819\",\"count(*)\":1,\"type\":\"SoftDeleteCouponManager\"},{\"#\":\"#1.0820\",\"count(*)\":1,\"type\":\"SoftwareSecurePhotoVerificationAdmin\"},{\"#\":\"#1.0821\",\"count(*)\":1,\"type\":\"Spew\"},{\"#\":\"#1.0822\",\"count(*)\":1,\"type\":\"SplashMiddleware\"},{\"#\":\"#1.0823\",\"count(*)\":1,\"type\":\"StaticContentServer\"},{\"#\":\"#1.0824\",\"count(*)\":1,\"type\":\"Statistics\"},{\"#\":\"#1.0825\",\"count(*)\":1,\"type\":\"StatsdAggregator\"},{\"#\":\"#1.0826\",\"count(*)\":1,\"type\":\"Store\"},{\"#\":\"#1.0827\",\"count(*)\":1,\"type\":\"StringStart\"},{\"#\":\"#1.0828\",\"count(*)\":1,\"type\":\"Sub\"},{\"#\":\"#1.0829\",\"count(*)\":1,\"type\":\"SubtitleSerializer\"},{\"#\":\"#1.0830\",\"count(*)\":1,\"type\":\"SymPyRationalField\"},{\"#\":\"#1.0831\",\"count(*)\":1,\"type\":\"SyncWorker\"},{\"#\":\"#1.0832\",\"count(*)\":1,\"type\":\"SyntheticsSettings\"},{\"#\":\"#1.0833\",\"count(*)\":1,\"type\":\"Syslog\"},{\"#\":\"#1.0834\",\"count(*)\":1,\"type\":\"SyslogFacility\"},{\"#\":\"#1.0835\",\"count(*)\":1,\"type\":\"SyslogPrefix\"},{\"#\":\"#1.0836\",\"count(*)\":1,\"type\":\"SyslogTo\"},{\"#\":\"#1.0837\",\"count(*)\":1,\"type\":\"TCPSocket\"},{\"#\":\"#1.0838\",\"count(*)\":1,\"type\":\"TabTokenizer\"},{\"#\":\"#1.0839\",\"count(*)\":1,\"type\":\"TaskChoiceField\"},{\"#\":\"#1.0840\",\"count(*)\":1,\"type\":\"TaskManager\"},{\"#\":\"#1.0841\",\"count(*)\":1,\"type\":\"TaskRegistry\"},{\"#\":\"#1.0842\",\"count(*)\":1,\"type\":\"TaskSelectWidget\"},{\"#\":\"#1.0843\",\"count(*)\":1,\"type\":\"TaskSetManager\"},{\"#\":\"#1.0844\",\"count(*)\":1,\"type\":\"TaskStateManager\"},{\"#\":\"#1.0845\",\"count(*)\":1,\"type\":\"TestLoader\"},{\"#\":\"#1.0846\",\"count(*)\":1,\"type\":\"TextCalendar\"},{\"#\":\"#1.0847\",\"count(*)\":1,\"type\":\"TextbookList\"},{\"#\":\"#1.0848\",\"count(*)\":1,\"type\":\"ThreadLocalContextLocator\"},{\"#\":\"#1.0849\",\"count(*)\":1,\"type\":\"ThreadProfilerSettings\"},{\"#\":\"#1.0850\",\"count(*)\":1,\"type\":\"TimeRE\"},{\"#\":\"#1.0851\",\"count(*)\":1,\"type\":\"Timeout\"},{\"#\":\"#1.0852\",\"count(*)\":1,\"type\":\"TmpUploadDir\"},{\"#\":\"#1.0853\",\"count(*)\":1,\"type\":\"TrackMiddleware\"},{\"#\":\"#1.0854\",\"count(*)\":1,\"type\":\"Trans\"},{\"#\":\"#1.0855\",\"count(*)\":1,\"type\":\"TransactionCache\"},{\"#\":\"#1.0856\",\"count(*)\":1,\"type\":\"TransactionMetricsSettings\"},{\"#\":\"#1.0857\",\"count(*)\":1,\"type\":\"TransactionMiddleware\"},{\"#\":\"#1.0858\",\"count(*)\":1,\"type\":\"TransactionNameSettings\"},{\"#\":\"#1.0859\",\"count(*)\":1,\"type\":\"TransactionTracerSettings\"},{\"#\":\"#1.0860\",\"count(*)\":1,\"type\":\"TreeForeignKey\"},{\"#\":\"#1.0861\",\"count(*)\":1,\"type\":\"TreeManager\"},{\"#\":\"#1.0862\",\"count(*)\":1,\"type\":\"TreeNodeChoiceField\"},{\"#\":\"#1.0863\",\"count(*)\":1,\"type\":\"TreeNodePositionField\"},{\"#\":\"#1.0864\",\"count(*)\":1,\"type\":\"TreebankWordTokenizer\"},{\"#\":\"#1.0865\",\"count(*)\":1,\"type\":\"Trie\"},{\"#\":\"#1.0866\",\"count(*)\":1,\"type\":\"TruthValueType\"},{\"#\":\"#1.0867\",\"count(*)\":1,\"type\":\"Tuple\"},{\"#\":\"#1.0868\",\"count(*)\":1,\"type\":\"UAdd\"},{\"#\":\"#1.0869\",\"count(*)\":1,\"type\":\"URLPathManager\"},{\"#\":\"#1.0870\",\"count(*)\":1,\"type\":\"USub\"},{\"#\":\"#1.0871\",\"count(*)\":1,\"type\":\"Umask\"},{\"#\":\"#1.0872\",\"count(*)\":1,\"type\":\"User\"},{\"#\":\"#1.0873\",\"count(*)\":1,\"type\":\"UserManager\"},{\"#\":\"#1.0874\",\"count(*)\":1,\"type\":\"UserSerializer\"},{\"#\":\"#1.0875\",\"count(*)\":1,\"type\":\"UserStandingMiddleware\"},{\"#\":\"#1.0876\",\"count(*)\":1,\"type\":\"UserTagsEventContextMiddleware\"},{\"#\":\"#1.0877\",\"count(*)\":1,\"type\":\"VerificationStatusAdmin\"},{\"#\":\"#1.0878\",\"count(*)\":1,\"type\":\"VersionInteger\"},{\"#\":\"#1.0879\",\"count(*)\":1,\"type\":\"VersionTuple\"},{\"#\":\"#1.0880\",\"count(*)\":1,\"type\":\"VideoEventProcessor\"},{\"#\":\"#1.0881\",\"count(*)\":1,\"type\":\"ViewNameMiddleware\"},{\"#\":\"#1.0882\",\"count(*)\":1,\"type\":\"WSGIApplication\"},{\"#\":\"#1.0883\",\"count(*)\":1,\"type\":\"WSGIHandler\"},{\"#\":\"#1.0884\",\"count(*)\":1,\"type\":\"WhenReady\"},{\"#\":\"#1.0885\",\"count(*)\":1,\"type\":\"WikiAccessMiddleware\"},{\"#\":\"#1.0886\",\"count(*)\":1,\"type\":\"WorkerClass\"},{\"#\":\"#1.0887\",\"count(*)\":1,\"type\":\"WorkerConnections\"},{\"#\":\"#1.0888\",\"count(*)\":1,\"type\":\"WorkerExit\"},{\"#\":\"#1.0889\",\"count(*)\":1,\"type\":\"WorkerTmp\"},{\"#\":\"#1.0890\",\"count(*)\":1,\"type\":\"Workers\"},{\"#\":\"#1.0891\",\"count(*)\":1,\"type\":\"WorkingSet\"},{\"#\":\"#1.0892\",\"count(*)\":1,\"type\":\"XForwardedFor\"},{\"#\":\"#1.0893\",\"count(*)\":1,\"type\":\"XFrameOptionsMiddleware\"},{\"#\":\"#1.0894\",\"count(*)\":1,\"type\":\"XHTMLParser\"},{\"#\":\"#1.0895\",\"count(*)\":1,\"type\":\"XMLEntityEscaper\"},{\"#\":\"#1.0896\",\"count(*)\":1,\"type\":\"XQueueInterface\"},{\"#\":\"#1.0897\",\"count(*)\":1,\"type\":\"XraySessionSettings\"},{\"#\":\"#1.0898\",\"count(*)\":1,\"type\":\"Zero\"},{\"#\":\"#1.0899\",\"count(*)\":1,\"type\":\"_ANY\"},{\"#\":\"#1.0900\",\"count(*)\":1,\"type\":\"_AnyETag\"},{\"#\":\"#1.0901\",\"count(*)\":1,\"type\":\"_Call\"},{\"#\":\"#1.0902\",\"count(*)\":1,\"type\":\"_CcxContext\"},{\"#\":\"#1.0903\",\"count(*)\":1,\"type\":\"_Constants\"},{\"#\":\"#1.0904\",\"count(*)\":1,\"type\":\"_EmptyDecoratorAndManager\"},{\"#\":\"#1.0905\",\"count(*)\":1,\"type\":\"_FileOpeners\"},{\"#\":\"#1.0906\",\"count(*)\":1,\"type\":\"_FusedType\"},{\"#\":\"#1.0907\",\"count(*)\":1,\"type\":\"_GeoIPMetaclass\"},{\"#\":\"#1.0908\",\"count(*)\":1,\"type\":\"_Helper\"},{\"#\":\"#1.0909\",\"count(*)\":1,\"type\":\"_ImmutableMapping\"},{\"#\":\"#1.0910\",\"count(*)\":1,\"type\":\"_JsonImplementation\"},{\"#\":\"#1.0911\",\"count(*)\":1,\"type\":\"_LocalStack\"},{\"#\":\"#1.0912\",\"count(*)\":1,\"type\":\"_Log10Memoize\"},{\"#\":\"#1.0913\",\"count(*)\":1,\"type\":\"_MainThread\"},{\"#\":\"#1.0914\",\"count(*)\":1,\"type\":\"_Max\"},{\"#\":\"#1.0915\",\"count(*)\":1,\"type\":\"_Name2StandardEncodingMap\"},{\"#\":\"#1.0916\",\"count(*)\":1,\"type\":\"_NoETag\"},{\"#\":\"#1.0917\",\"count(*)\":1,\"type\":\"_NullToken\"},{\"#\":\"#1.0918\",\"count(*)\":1,\"type\":\"_OverridesDisabled\"},{\"#\":\"#1.0919\",\"count(*)\":1,\"type\":\"_Sentinel\"},{\"#\":\"#1.0920\",\"count(*)\":1,\"type\":\"_TLS\"},{\"#\":\"#1.0921\",\"count(*)\":1,\"type\":\"_TemplateMetaclass\"},{\"#\":\"#1.0922\",\"count(*)\":1,\"type\":\"_This\"},{\"#\":\"#1.0923\",\"count(*)\":1,\"type\":\"_UTC\"},{\"#\":\"#1.0924\",\"count(*)\":1,\"type\":\"_UnificationFailure\"},{\"#\":\"#1.0925\",\"count(*)\":1,\"type\":\"_WarningDescriptor\"},{\"#\":\"#1.0926\",\"count(*)\":1,\"type\":\"_Zone\"},{\"#\":\"#1.0927\",\"count(*)\":1,\"type\":\"_closedsocket\"},{\"#\":\"#1.0928\",\"count(*)\":1,\"type\":\"_ctypes.PyCArrayType\"},{\"#\":\"#1.0929\",\"count(*)\":1,\"type\":\"_ctypes.UnionType\"},{\"#\":\"#1.0930\",\"count(*)\":1,\"type\":\"_inherit\"},{\"#\":\"#1.0931\",\"count(*)\":1,\"type\":\"_json.Scanner\"},{\"#\":\"#1.0932\",\"count(*)\":1,\"type\":\"_maximum_operation\"},{\"#\":\"#1.0933\",\"count(*)\":1,\"type\":\"_minimum_operation\"},{\"#\":\"#1.0934\",\"count(*)\":1,\"type\":\"_swapped_meta\"},{\"#\":\"#1.0935\",\"count(*)\":1,\"type\":\"_tzparser\"},{\"#\":\"#1.0936\",\"count(*)\":1,\"type\":\"_unspecified\"},{\"#\":\"#1.0937\",\"count(*)\":1,\"type\":\"alpha_gen\"},{\"#\":\"#1.0938\",\"count(*)\":1,\"type\":\"anglit_gen\"},{\"#\":\"#1.0939\",\"count(*)\":1,\"type\":\"arcsine_gen\"},{\"#\":\"#1.0940\",\"count(*)\":1,\"type\":\"array.array\"},{\"#\":\"#1.0941\",\"count(*)\":1,\"type\":\"bernoulli_gen\"},{\"#\":\"#1.0942\",\"count(*)\":1,\"type\":\"beta_gen\"},{\"#\":\"#1.0943\",\"count(*)\":1,\"type\":\"betaprime_gen\"},{\"#\":\"#1.0944\",\"count(*)\":1,\"type\":\"binom_gen\"},{\"#\":\"#1.0945\",\"count(*)\":1,\"type\":\"boltzmann_gen\"},{\"#\":\"#1.0946\",\"count(*)\":1,\"type\":\"bradford_gen\"},{\"#\":\"#1.0947\",\"count(*)\":1,\"type\":\"burr_gen\"},{\"#\":\"#1.0948\",\"count(*)\":1,\"type\":\"cauchy_gen\"},{\"#\":\"#1.0949\",\"count(*)\":1,\"type\":\"celery\"},{\"#\":\"#1.0950\",\"count(*)\":1,\"type\":\"chi2_gen\"},{\"#\":\"#1.0951\",\"count(*)\":1,\"type\":\"chi_gen\"},{\"#\":\"#1.0952\",\"count(*)\":1,\"type\":\"colored\"},{\"#\":\"#1.0953\",\"count(*)\":1,\"type\":\"control\"},{\"#\":\"#1.0954\",\"count(*)\":1,\"type\":\"cosine_gen\"},{\"#\":\"#1.0955\",\"count(*)\":1,\"type\":\"decorators\"},{\"#\":\"#1.0956\",\"count(*)\":1,\"type\":\"dgamma_gen\"},{\"#\":\"#1.0957\",\"count(*)\":1,\"type\":\"dlaplace_gen\"},{\"#\":\"#1.0958\",\"count(*)\":1,\"type\":\"doc\"},{\"#\":\"#1.0959\",\"count(*)\":1,\"type\":\"dweibull_gen\"},{\"#\":\"#1.0960\",\"count(*)\":1,\"type\":\"ellipsis\"},{\"#\":\"#1.0961\",\"count(*)\":1,\"type\":\"erlang_gen\"},{\"#\":\"#1.0962\",\"count(*)\":1,\"type\":\"error\"},{\"#\":\"#1.0963\",\"count(*)\":1,\"type\":\"exceptions.MemoryError\"},{\"#\":\"#1.0964\",\"count(*)\":1,\"type\":\"exceptions.RuntimeError\"},{\"#\":\"#1.0965\",\"count(*)\":1,\"type\":\"exceptions.TypeError\"},{\"#\":\"#1.0966\",\"count(*)\":1,\"type\":\"execute\"},{\"#\":\"#1.0967\",\"count(*)\":1,\"type\":\"expon_gen\"},{\"#\":\"#1.0968\",\"count(*)\":1,\"type\":\"exponpow_gen\"},{\"#\":\"#1.0969\",\"count(*)\":1,\"type\":\"exponweib_gen\"},{\"#\":\"#1.0970\",\"count(*)\":1,\"type\":\"f_gen\"},{\"#\":\"#1.0971\",\"count(*)\":1,\"type\":\"fatiguelife_gen\"},{\"#\":\"#1.0972\",\"count(*)\":1,\"type\":\"fisk_gen\"},{\"#\":\"#1.0973\",\"count(*)\":1,\"type\":\"foldcauchy_gen\"},{\"#\":\"#1.0974\",\"count(*)\":1,\"type\":\"foldnorm_gen\"},{\"#\":\"#1.0975\",\"count(*)\":1,\"type\":\"gamma_gen\"},{\"#\":\"#1.0976\",\"count(*)\":1,\"type\":\"gausshyper_gen\"},{\"#\":\"#1.0977\",\"count(*)\":1,\"type\":\"generator\"},{\"#\":\"#1.0978\",\"count(*)\":1,\"type\":\"genexpon_gen\"},{\"#\":\"#1.0979\",\"count(*)\":1,\"type\":\"genextreme_gen\"},{\"#\":\"#1.0980\",\"count(*)\":1,\"type\":\"gengamma_gen\"},{\"#\":\"#1.0981\",\"count(*)\":1,\"type\":\"genhalflogistic_gen\"},{\"#\":\"#1.0982\",\"count(*)\":1,\"type\":\"genlogistic_gen\"},{\"#\":\"#1.0983\",\"count(*)\":1,\"type\":\"genpareto_gen\"},{\"#\":\"#1.0984\",\"count(*)\":1,\"type\":\"geom_gen\"},{\"#\":\"#1.0985\",\"count(*)\":1,\"type\":\"gilbrat_gen\"},{\"#\":\"#1.0986\",\"count(*)\":1,\"type\":\"gompertz_gen\"},{\"#\":\"#1.0987\",\"count(*)\":1,\"type\":\"gumbel_l_gen\"},{\"#\":\"#1.0988\",\"count(*)\":1,\"type\":\"gumbel_r_gen\"},{\"#\":\"#1.0989\",\"count(*)\":1,\"type\":\"halfcauchy_gen\"},{\"#\":\"#1.0990\",\"count(*)\":1,\"type\":\"halflogistic_gen\"},{\"#\":\"#1.0991\",\"count(*)\":1,\"type\":\"halfnorm_gen\"},{\"#\":\"#1.0992\",\"count(*)\":1,\"type\":\"hypergeom_gen\"},{\"#\":\"#1.0993\",\"count(*)\":1,\"type\":\"hypsecant_gen\"},{\"#\":\"#1.0994\",\"count(*)\":1,\"type\":\"invgamma_gen\"},{\"#\":\"#1.0995\",\"count(*)\":1,\"type\":\"invgauss_gen\"},{\"#\":\"#1.0996\",\"count(*)\":1,\"type\":\"invweibull_gen\"},{\"#\":\"#1.0997\",\"count(*)\":1,\"type\":\"ivmpc\"},{\"#\":\"#1.0998\",\"count(*)\":1,\"type\":\"johnsonsb_gen\"},{\"#\":\"#1.0999\",\"count(*)\":1,\"type\":\"johnsonsu_gen\"},{\"#\":\"#1.1000\",\"count(*)\":1,\"type\":\"ksone_gen\"},{\"#\":\"#1.1001\",\"count(*)\":1,\"type\":\"kstwobign_gen\"},{\"#\":\"#1.1002\",\"count(*)\":1,\"type\":\"laplace_gen\"},{\"#\":\"#1.1003\",\"count(*)\":1,\"type\":\"levy_gen\"},{\"#\":\"#1.1004\",\"count(*)\":1,\"type\":\"levy_l_gen\"},{\"#\":\"#1.1005\",\"count(*)\":1,\"type\":\"levy_stable_gen\"},{\"#\":\"#1.1006\",\"count(*)\":1,\"type\":\"log\"},{\"#\":\"#1.1007\",\"count(*)\":1,\"type\":\"loggamma_gen\"},{\"#\":\"#1.1008\",\"count(*)\":1,\"type\":\"logistic_gen\"},{\"#\":\"#1.1009\",\"count(*)\":1,\"type\":\"loglaplace_gen\"},{\"#\":\"#1.1010\",\"count(*)\":1,\"type\":\"lognorm_gen\"},{\"#\":\"#1.1011\",\"count(*)\":1,\"type\":\"logser_gen\"},{\"#\":\"#1.1012\",\"count(*)\":1,\"type\":\"lomax_gen\"},{\"#\":\"#1.1013\",\"count(*)\":1,\"type\":\"lxml.etree.ElementDefaultClassLookup\"},{\"#\":\"#1.1014\",\"count(*)\":1,\"type\":\"lxml.etree.HTMLParser\"},{\"#\":\"#1.1015\",\"count(*)\":1,\"type\":\"lxml.etree.ParserBasedElementClassLookup\"},{\"#\":\"#1.1016\",\"count(*)\":1,\"type\":\"lxml.etree._LogEntry\"},{\"#\":\"#1.1017\",\"count(*)\":1,\"type\":\"lxml.etree._MemDebug\"},{\"#\":\"#1.1018\",\"count(*)\":1,\"type\":\"lxml.etree._ParserDictionaryContext\"},{\"#\":\"#1.1019\",\"count(*)\":1,\"type\":\"maxwell_gen\"},{\"#\":\"#1.1020\",\"count(*)\":1,\"type\":\"memoized_instancemethod\"},{\"#\":\"#1.1021\",\"count(*)\":1,\"type\":\"messaging\"},{\"#\":\"#1.1022\",\"count(*)\":1,\"type\":\"mielke_gen\"},{\"#\":\"#1.1023\",\"count(*)\":1,\"type\":\"mpc\"},{\"#\":\"#1.1024\",\"count(*)\":1,\"type\":\"mr_class\"},{\"#\":\"#1.1025\",\"count(*)\":1,\"type\":\"mtrand.RandomState\"},{\"#\":\"#1.1026\",\"count(*)\":1,\"type\":\"multimethod\"},{\"#\":\"#1.1027\",\"count(*)\":1,\"type\":\"multivariate_normal_gen\"},{\"#\":\"#1.1028\",\"count(*)\":1,\"type\":\"nakagami_gen\"},{\"#\":\"#1.1029\",\"count(*)\":1,\"type\":\"name\"},{\"#\":\"#1.1030\",\"count(*)\":1,\"type\":\"nbinom_gen\"},{\"#\":\"#1.1031\",\"count(*)\":1,\"type\":\"ncf_gen\"},{\"#\":\"#1.1032\",\"count(*)\":1,\"type\":\"nct_gen\"},{\"#\":\"#1.1033\",\"count(*)\":1,\"type\":\"ncx2_gen\"},{\"#\":\"#1.1034\",\"count(*)\":1,\"type\":\"norm_gen\"},{\"#\":\"#1.1035\",\"count(*)\":1,\"type\":\"numpy.int32\"},{\"#\":\"#1.1036\",\"count(*)\":1,\"type\":\"numpy.int64\"},{\"#\":\"#1.1037\",\"count(*)\":1,\"type\":\"pareto_gen\"},{\"#\":\"#1.1038\",\"count(*)\":1,\"type\":\"parser\"},{\"#\":\"#1.1039\",\"count(*)\":1,\"type\":\"parserinfo\"},{\"#\":\"#1.1040\",\"count(*)\":1,\"type\":\"pearson3_gen\"},{\"#\":\"#1.1041\",\"count(*)\":1,\"type\":\"planck_gen\"},{\"#\":\"#1.1042\",\"count(*)\":1,\"type\":\"poisson_gen\"},{\"#\":\"#1.1043\",\"count(*)\":1,\"type\":\"powerlaw_gen\"},{\"#\":\"#1.1044\",\"count(*)\":1,\"type\":\"powerlognorm_gen\"},{\"#\":\"#1.1045\",\"count(*)\":1,\"type\":\"powernorm_gen\"},{\"#\":\"#1.1046\",\"count(*)\":1,\"type\":\"promise\"},{\"#\":\"#1.1047\",\"count(*)\":1,\"type\":\"randint_gen\"},{\"#\":\"#1.1048\",\"count(*)\":1,\"type\":\"rayleigh_gen\"},{\"#\":\"#1.1049\",\"count(*)\":1,\"type\":\"rdist_gen\"},{\"#\":\"#1.1050\",\"count(*)\":1,\"type\":\"recipinvgauss_gen\"},{\"#\":\"#1.1051\",\"count(*)\":1,\"type\":\"reciprocal_gen\"},{\"#\":\"#1.1052\",\"count(*)\":1,\"type\":\"registry\"},{\"#\":\"#1.1053\",\"count(*)\":1,\"type\":\"rice_gen\"},{\"#\":\"#1.1054\",\"count(*)\":1,\"type\":\"semicircular_gen\"},{\"#\":\"#1.1055\",\"count(*)\":1,\"type\":\"simplejson._speedups.Scanner\"},{\"#\":\"#1.1056\",\"count(*)\":1,\"type\":\"skellam_gen\"},{\"#\":\"#1.1057\",\"count(*)\":1,\"type\":\"sys.flags\"},{\"#\":\"#1.1058\",\"count(*)\":1,\"type\":\"sys.float_info\"},{\"#\":\"#1.1059\",\"count(*)\":1,\"type\":\"sys.long_info\"},{\"#\":\"#1.1060\",\"count(*)\":1,\"type\":\"sys.version_info\"},{\"#\":\"#1.1061\",\"count(*)\":1,\"type\":\"t_gen\"},{\"#\":\"#1.1062\",\"count(*)\":1,\"type\":\"task\"},{\"#\":\"#1.1063\",\"count(*)\":1,\"type\":\"triang_gen\"},{\"#\":\"#1.1064\",\"count(*)\":1,\"type\":\"truncexpon_gen\"},{\"#\":\"#1.1065\",\"count(*)\":1,\"type\":\"truncnorm_gen\"},{\"#\":\"#1.1066\",\"count(*)\":1,\"type\":\"tukeylambda_gen\"},{\"#\":\"#1.1067\",\"count(*)\":1,\"type\":\"tupleiterator\"},{\"#\":\"#1.1068\",\"count(*)\":1,\"type\":\"unicodedata.UCD\"},{\"#\":\"#1.1069\",\"count(*)\":1,\"type\":\"uniform_gen\"},{\"#\":\"#1.1070\",\"count(*)\":1,\"type\":\"wald_gen\"},{\"#\":\"#1.1071\",\"count(*)\":1,\"type\":\"wrapcauchy_gen\"},{\"#\":\"#1.1072\",\"count(*)\":1,\"type\":\"zipf_gen\"}], [{\"field\": \"#\"}, {\"field\": \"count(*)\", \"type\": \"Integer\"}, {\"field\": \"type\"}]);\n",
       "            grid.initialize_slick_grid();\n",
       "        });\n",
       "    });\n",
       "});\n"
      ]
     },
     "metadata": {},
     "output_type": "display_data"
    }
   ],
   "source": [
    "%gen 2\n",
    "%select count(*), type from obj group by type order by 1 desc"
   ]
  },
  {
   "cell_type": "code",
   "execution_count": 3,
   "metadata": {
    "collapsed": false,
    "scrolled": false
   },
   "outputs": [
    {
     "name": "stdout",
     "output_type": "stream",
     "text": [
      "Using generation 1 of 2\n",
      "Loading object graph for generation 1\n",
      "\n",
      "Loading 5786515 objects... \n",
      "Done (14.6032171249 secs)\n",
      "\n",
      "Loading 17797238 edges... \n",
      "Done (78.6453619003 secs)\n",
      "\n"
     ]
    },
    {
     "name": "stderr",
     "output_type": "stream",
     "text": [
      "memsee.py:803: RuntimeWarning: Couldn't reach some vertices at structural_properties.c:740\n",
      "  output='vpath',\n"
     ]
    }
   ],
   "source": [
    "%gen 1\n",
    "%path from \"address in 0&\" to \"type = 'KvsFieldData'\""
   ]
  },
  {
   "cell_type": "code",
   "execution_count": 5,
   "metadata": {
    "collapsed": false
   },
   "outputs": [
    {
     "data": {
      "text/html": [
       "<script type=\"text/javascript\">\n",
       "if ($(\"#dg-css\").length == 0){\n",
       "    $(\"head\").append([\n",
       "        \"<link href='/nbextensions/qgridjs/lib/slick.grid.css' rel='stylesheet'>\",\n",
       "        \"<link href='/nbextensions/qgridjs/lib/slick-default-theme.css' rel='stylesheet'>\",\n",
       "        \"<link href='http://cdnjs.cloudflare.com/ajax/libs/jqueryui/1.10.4/css/jquery-ui.min.css' rel='stylesheet'>\",\n",
       "        \"<link id='dg-css' href='/nbextensions/qgridjs/qgrid.css' rel='stylesheet'>\"\n",
       "    ]);\n",
       "}\n",
       "</script>\n",
       "<div class='q-grid-container'>\n",
       "<div id='848b823a-9847-4427-b654-c56e6f038e9f' class='q-grid'></div>\n",
       "</div>"
      ]
     },
     "metadata": {},
     "output_type": "display_data"
    },
    {
     "data": {
      "application/javascript": [
       "var path_dictionary = {\n",
       "    jquery_drag: \"/nbextensions/qgridjs/lib/jquery.event.drag-2.2\",\n",
       "    slick_core: \"/nbextensions/qgridjs/lib/slick.core.2.2\",\n",
       "    slick_data_view: \"/nbextensions/qgridjs/lib/slick.dataview.2.2\",\n",
       "    slick_check_box_column: \"/nbextensions/qgridjs/lib/slick.checkboxselectcolumn\",\n",
       "    slick_row_selection_model: \"/nbextensions/qgridjs/lib/slick.rowselectionmodel\",\n",
       "    slick_grid: \"/nbextensions/qgridjs/lib/slick.grid.2.2\",\n",
       "    data_grid: \"/nbextensions/qgridjs/qgrid\",\n",
       "    date_filter: \"/nbextensions/qgridjs/qgrid.datefilter\",\n",
       "    slider_filter: \"/nbextensions/qgridjs/qgrid.sliderfilter\",\n",
       "    text_filter: \"/nbextensions/qgridjs/qgrid.textfilter\",\n",
       "    filter_base:  \"/nbextensions/qgridjs/qgrid.filterbase\",\n",
       "    handlebars: \"https://cdnjs.cloudflare.com/ajax/libs/handlebars.js/2.0.0/handlebars.min\"\n",
       "};\n",
       "\n",
       "var existing_config = require.s.contexts._.config;\n",
       "if (!existing_config.paths['underscore']){\n",
       "    path_dictionary['underscore'] = \"https://cdnjs.cloudflare.com/ajax/libs/underscore.js/1.7.0/underscore-min\";\n",
       "}\n",
       "\n",
       "if (!existing_config.paths['moment']){\n",
       "    path_dictionary['moment'] = \"https://cdnjs.cloudflare.com/ajax/libs/moment.js/2.8.3/moment.min\";\n",
       "}\n",
       "\n",
       "if (!existing_config.paths['jqueryui']){\n",
       "    path_dictionary['jqueryui'] = \"https://ajax.googleapis.com/ajax/libs/jqueryui/1.11.1/jquery-ui.min\";\n",
       "}\n",
       "\n",
       "require.config({\n",
       "    paths: path_dictionary\n",
       "});\n",
       "\n",
       "if (typeof jQuery === 'function') {\n",
       "    define('jquery', function() { return jQuery; });\n",
       "}\n",
       "\n",
       "require([\n",
       "    'jquery',\n",
       "    'jquery_drag',\n",
       "    'slick_core',\n",
       "    'slick_data_view'\n",
       "],\n",
       "function($){\n",
       "    $('#848b823a-9847-4427-b654-c56e6f038e9f').closest('.rendered_html').removeClass('rendered_html');\n",
       "    require([\n",
       "      'slick_check_box_column',\n",
       "      'slick_row_selection_model',\n",
       "      'slick_grid'\n",
       "    ], function(){\n",
       "        require([\"data_grid\"], function(dgrid){\n",
       "            var grid = new dgrid.QGrid('#848b823a-9847-4427-b654-c56e6f038e9f', [{\"#\":\"#1.0000\",\"count(*)\":1365646,\"type\":\"dict\",\"size\":566440912.0},{\"#\":\"#1.0001\",\"count(*)\":1723919,\"type\":\"unicode\",\"size\":158529712.0},{\"#\":\"#1.0002\",\"count(*)\":285148,\"type\":\"function\",\"size\":34217760.0},{\"#\":\"#1.0003\",\"count(*)\":391292,\"type\":\"tuple\",\"size\":30976152.0},{\"#\":\"#1.0004\",\"count(*)\":206164,\"type\":\"CourseLocator\",\"size\":24739680.0},{\"#\":\"#1.0005\",\"count(*)\":201010,\"type\":\"str\",\"size\":22737694.0},{\"#\":\"#1.0006\",\"count(*)\":326390,\"type\":\"cell\",\"size\":18277840.0},{\"#\":\"#1.0007\",\"count(*)\":158434,\"type\":\"list\",\"size\":17260160.0},{\"#\":\"#1.0008\",\"count(*)\":206163,\"type\":\"BlockUsageLocator\",\"size\":16493040.0},{\"#\":\"#1.0009\",\"count(*)\":166887,\"type\":\"functools.partial\",\"size\":14686056.0},{\"#\":\"#1.0010\",\"count(*)\":6272,\"type\":\"type\",\"size\":5669888.0},{\"#\":\"#1.0011\",\"count(*)\":43988,\"type\":\"code\",\"size\":5630464.0},{\"#\":\"#1.0012\",\"count(*)\":60973,\"type\":\"datetime.datetime\",\"size\":2926704.0},{\"#\":\"#1.0013\",\"count(*)\":41686,\"type\":\"KvsFieldData\",\"size\":2667904.0},{\"#\":\"#1.0014\",\"count(*)\":41686,\"type\":\"LmsFieldData\",\"size\":2667904.0},{\"#\":\"#1.0015\",\"count(*)\":41686,\"type\":\"ReadOnlyFieldData\",\"size\":2667904.0},{\"#\":\"#1.0016\",\"count(*)\":20843,\"type\":\"ScopeIds\",\"size\":1834184.0},{\"#\":\"#1.0017\",\"count(*)\":4288,\"type\":\"set\",\"size\":1380608.0},{\"#\":\"#1.0018\",\"count(*)\":20848,\"type\":\"Mixologist\",\"size\":1334272.0},{\"#\":\"#1.0019\",\"count(*)\":20844,\"type\":\"FSService\",\"size\":1334016.0},{\"#\":\"#1.0020\",\"count(*)\":20844,\"type\":\"ModuleI18nService\",\"size\":1334016.0},{\"#\":\"#1.0021\",\"count(*)\":20843,\"type\":\"DjangoKeyValueStore\",\"size\":1333952.0},{\"#\":\"#1.0022\",\"count(*)\":20843,\"type\":\"DjangoXBlockUserService\",\"size\":1333952.0},{\"#\":\"#1.0023\",\"count(*)\":20843,\"type\":\"FakeFieldOverrideProvider\",\"size\":1333952.0},{\"#\":\"#1.0024\",\"count(*)\":20843,\"type\":\"LibraryToolsService\",\"size\":1333952.0},{\"#\":\"#1.0025\",\"count(*)\":20843,\"type\":\"LmsModuleSystem\",\"size\":1333952.0},{\"#\":\"#1.0026\",\"count(*)\":20843,\"type\":\"LmsPartitionService\",\"size\":1333952.0},{\"#\":\"#1.0027\",\"count(*)\":20843,\"type\":\"MongoKeyValueStore\",\"size\":1333952.0},{\"#\":\"#1.0028\",\"count(*)\":20843,\"type\":\"OverrideFieldData\",\"size\":1333952.0},{\"#\":\"#1.0029\",\"count(*)\":20843,\"type\":\"ReverificationService\",\"size\":1333952.0},{\"#\":\"#1.0030\",\"count(*)\":20843,\"type\":\"SettingsService\",\"size\":1333952.0},{\"#\":\"#1.0031\",\"count(*)\":20843,\"type\":\"UserTagsService\",\"size\":1333952.0},{\"#\":\"#1.0032\",\"count(*)\":20740,\"type\":\"tzutc\",\"size\":1327360.0},{\"#\":\"#1.0033\",\"count(*)\":41305,\"type\":\"float\",\"size\":991320.0},{\"#\":\"#1.0034\",\"count(*)\":8923,\"type\":\"weakref\",\"size\":785224.0},{\"#\":\"#1.0035\",\"count(*)\":9200,\"type\":\"SequenceDescriptorWithMixins\",\"size\":588800.0},{\"#\":\"#1.0036\",\"count(*)\":19583,\"type\":\"int\",\"size\":469992.0},{\"#\":\"#1.0037\",\"count(*)\":5093,\"type\":\"RestrictedElement\",\"size\":366696.0},{\"#\":\"#1.0038\",\"count(*)\":4385,\"type\":\"getset_descriptor\",\"size\":315720.0},{\"#\":\"#1.0039\",\"count(*)\":4621,\"type\":\"CourseInfoTab\",\"size\":295744.0},{\"#\":\"#1.0040\",\"count(*)\":4621,\"type\":\"CoursewareTab\",\"size\":295744.0},{\"#\":\"#1.0041\",\"count(*)\":4621,\"type\":\"DiscussionTab\",\"size\":295744.0},{\"#\":\"#1.0042\",\"count(*)\":4621,\"type\":\"PDFTextbookTabs\",\"size\":295744.0},{\"#\":\"#1.0043\",\"count(*)\":4621,\"type\":\"ProgressTab\",\"size\":295744.0},{\"#\":\"#1.0044\",\"count(*)\":4621,\"type\":\"WikiTab\",\"size\":295744.0},{\"#\":\"#1.0045\",\"count(*)\":4620,\"type\":\"CourseDescriptorWithMixins\",\"size\":295680.0},{\"#\":\"#1.0046\",\"count(*)\":3917,\"type\":\"builtin_function_or_method\",\"size\":282024.0},{\"#\":\"#1.0047\",\"count(*)\":4378,\"type\":\"VerticalBlockWithMixins\",\"size\":280192.0},{\"#\":\"#1.0048\",\"count(*)\":680,\"type\":\"SortedDict\",\"size\":231232.0},{\"#\":\"#1.0049\",\"count(*)\":2457,\"type\":\"property\",\"size\":216216.0},{\"#\":\"#1.0050\",\"count(*)\":231,\"type\":\"ABCMeta\",\"size\":208824.0},{\"#\":\"#1.0051\",\"count(*)\":1,\"type\":\"ParentLocationCache\",\"size\":196904.0},{\"#\":\"#1.0052\",\"count(*)\":2430,\"type\":\"instancemethod\",\"size\":194400.0},{\"#\":\"#1.0053\",\"count(*)\":205,\"type\":\"ModelBase\",\"size\":185320.0},{\"#\":\"#1.0054\",\"count(*)\":3174,\"type\":\"module\",\"size\":177777.0},{\"#\":\"#1.0055\",\"count(*)\":1818,\"type\":\"lxml.etree._Document\",\"size\":159984.0},{\"#\":\"#1.0056\",\"count(*)\":1966,\"type\":\"wrapper_descriptor\",\"size\":157280.0},{\"#\":\"#1.0057\",\"count(*)\":181,\"type\":\"frozenset\",\"size\":105224.0},{\"#\":\"#1.0058\",\"count(*)\":116,\"type\":\"CythonMetaType\",\"size\":104864.0},{\"#\":\"#1.0059\",\"count(*)\":115,\"type\":\"MediaDefiningClass\",\"size\":103960.0},{\"#\":\"#1.0060\",\"count(*)\":1290,\"type\":\"method_descriptor\",\"size\":92880.0},{\"#\":\"#1.0061\",\"count(*)\":1033,\"type\":\"_sre.SRE_Pattern\",\"size\":90904.0},{\"#\":\"#1.0062\",\"count(*)\":98,\"type\":\"ChildrenModelMetaclass\",\"size\":88592.0},{\"#\":\"#1.0063\",\"count(*)\":30,\"type\":\"MultiValueDict\",\"size\":87216.0},{\"#\":\"#1.0064\",\"count(*)\":94,\"type\":\"FunctionClass\",\"size\":84976.0},{\"#\":\"#1.0065\",\"count(*)\":2138,\"type\":\"long\",\"size\":84552.0},{\"#\":\"#1.0066\",\"count(*)\":717,\"type\":\"classobj\",\"size\":74568.0},{\"#\":\"#1.0067\",\"count(*)\":80,\"type\":\"RegexLexerMeta\",\"size\":72320.0},{\"#\":\"#1.0068\",\"count(*)\":959,\"type\":\"instance\",\"size\":68912.0},{\"#\":\"#1.0069\",\"count(*)\":909,\"type\":\"lxml.etree._Element\",\"size\":65448.0},{\"#\":\"#1.0070\",\"count(*)\":1014,\"type\":\"__proxy__\",\"size\":64896.0},{\"#\":\"#1.0071\",\"count(*)\":1137,\"type\":\"classmethod\",\"size\":63672.0},{\"#\":\"#1.0072\",\"count(*)\":909,\"type\":\"CapaDescriptorWithMixins\",\"size\":58176.0},{\"#\":\"#1.0073\",\"count(*)\":909,\"type\":\"CapaModuleWithMixins\",\"size\":58176.0},{\"#\":\"#1.0074\",\"count(*)\":909,\"type\":\"CorrectMap\",\"size\":58176.0},{\"#\":\"#1.0075\",\"count(*)\":909,\"type\":\"LoncapaProblem\",\"size\":58176.0},{\"#\":\"#1.0076\",\"count(*)\":909,\"type\":\"LoncapaSystem\",\"size\":58176.0},{\"#\":\"#1.0077\",\"count(*)\":793,\"type\":\"_ElementStringResult\",\"size\":57775.0},{\"#\":\"#1.0078\",\"count(*)\":595,\"type\":\"Score\",\"size\":57120.0},{\"#\":\"#1.0079\",\"count(*)\":833,\"type\":\"DiscussionDescriptorWithMixins\",\"size\":53312.0},{\"#\":\"#1.0080\",\"count(*)\":57,\"type\":\"BasicMeta\",\"size\":51528.0},{\"#\":\"#1.0081\",\"count(*)\":799,\"type\":\"TextLine\",\"size\":51136.0},{\"#\":\"#1.0082\",\"count(*)\":56,\"type\":\"SettingMeta\",\"size\":50624.0},{\"#\":\"#1.0083\",\"count(*)\":53,\"type\":\"StgDict\",\"size\":49352.0},{\"#\":\"#1.0084\",\"count(*)\":764,\"type\":\"WeakSet\",\"size\":48896.0},{\"#\":\"#1.0085\",\"count(*)\":750,\"type\":\"RegexURLPattern\",\"size\":48000.0},{\"#\":\"#1.0086\",\"count(*)\":291,\"type\":\"numpy.ufunc\",\"size\":41904.0},{\"#\":\"#1.0087\",\"count(*)\":642,\"type\":\"FormulaResponse\",\"size\":41088.0},{\"#\":\"#1.0088\",\"count(*)\":557,\"type\":\"member_descriptor\",\"size\":40104.0},{\"#\":\"#1.0089\",\"count(*)\":624,\"type\":\"ChoiceGroup\",\"size\":39936.0},{\"#\":\"#1.0090\",\"count(*)\":696,\"type\":\"staticmethod\",\"size\":38976.0},{\"#\":\"#1.0091\",\"count(*)\":945,\"type\":\"datetime.timedelta\",\"size\":37800.0},{\"#\":\"#1.0092\",\"count(*)\":178,\"type\":\"_FuncPtr\",\"size\":37024.0},{\"#\":\"#1.0093\",\"count(*)\":529,\"type\":\"HtmlDescriptorWithMixins\",\"size\":33856.0},{\"#\":\"#1.0094\",\"count(*)\":2,\"type\":\"LazySet\",\"size\":33248.0},{\"#\":\"#1.0095\",\"count(*)\":517,\"type\":\"MultipleChoiceResponse\",\"size\":33088.0},{\"#\":\"#1.0096\",\"count(*)\":36,\"type\":\"SerializerMetaclass\",\"size\":32544.0},{\"#\":\"#1.0097\",\"count(*)\":480,\"type\":\"ModelState\",\"size\":30720.0},{\"#\":\"#1.0098\",\"count(*)\":476,\"type\":\"StudentModule\",\"size\":30464.0},{\"#\":\"#1.0099\",\"count(*)\":472,\"type\":\"operator.itemgetter\",\"size\":30208.0},{\"#\":\"#1.0100\",\"count(*)\":32,\"type\":\"DeclarativeFieldsMetaclass\",\"size\":28928.0},{\"#\":\"#1.0101\",\"count(*)\":438,\"type\":\"RelatedObject\",\"size\":28032.0},{\"#\":\"#1.0102\",\"count(*)\":29,\"type\":\"_ctypes.PyCSimpleType\",\"size\":26216.0},{\"#\":\"#1.0103\",\"count(*)\":397,\"type\":\"vectorize\",\"size\":25408.0},{\"#\":\"#1.0104\",\"count(*)\":390,\"type\":\"CharField\",\"size\":24960.0},{\"#\":\"#1.0105\",\"count(*)\":384,\"type\":\"MaxLengthValidator\",\"size\":24576.0},{\"#\":\"#1.0106\",\"count(*)\":374,\"type\":\"VideoDescriptorWithMixins\",\"size\":23936.0},{\"#\":\"#1.0107\",\"count(*)\":362,\"type\":\"ProcessAwareLogger\",\"size\":23168.0},{\"#\":\"#1.0108\",\"count(*)\":24,\"type\":\"OptionType\",\"size\":21696.0},{\"#\":\"#1.0109\",\"count(*)\":23,\"type\":\"OpaqueKeyMetaclass\",\"size\":20792.0},{\"#\":\"#1.0110\",\"count(*)\":4,\"type\":\"Random\",\"size\":20256.0},{\"#\":\"#1.0111\",\"count(*)\":6,\"type\":\"_typedict\",\"size\":20208.0},{\"#\":\"#1.0112\",\"count(*)\":298,\"type\":\"EntryPoint\",\"size\":19072.0},{\"#\":\"#1.0113\",\"count(*)\":237,\"type\":\"include\",\"size\":18617.0},{\"#\":\"#1.0114\",\"count(*)\":278,\"type\":\"Literal\",\"size\":17792.0},{\"#\":\"#1.0115\",\"count(*)\":271,\"type\":\"MovedAttribute\",\"size\":17344.0},{\"#\":\"#1.0116\",\"count(*)\":258,\"type\":\"MovedModule\",\"size\":16512.0},{\"#\":\"#1.0117\",\"count(*)\":393,\"type\":\"fortran\",\"size\":15720.0},{\"#\":\"#1.0118\",\"count(*)\":17,\"type\":\"ModelFormMetaclass\",\"size\":15368.0},{\"#\":\"#1.0119\",\"count(*)\":17,\"type\":\"Singleton\",\"size\":15368.0},{\"#\":\"#1.0120\",\"count(*)\":3,\"type\":\"SystemRandom\",\"size\":15192.0},{\"#\":\"#1.0121\",\"count(*)\":234,\"type\":\"ManagerDescriptor\",\"size\":14976.0},{\"#\":\"#1.0122\",\"count(*)\":227,\"type\":\"CustomResponse\",\"size\":14528.0},{\"#\":\"#1.0123\",\"count(*)\":16,\"type\":\"_ctypes.PyCFuncPtrType\",\"size\":14464.0},{\"#\":\"#1.0124\",\"count(*)\":216,\"type\":\"ReverseSingleRelatedObjectDescriptor\",\"size\":13824.0},{\"#\":\"#1.0125\",\"count(*)\":200,\"type\":\"And\",\"size\":13144.0},{\"#\":\"#1.0126\",\"count(*)\":204,\"type\":\"Options\",\"size\":13056.0},{\"#\":\"#1.0127\",\"count(*)\":200,\"type\":\"Distribution\",\"size\":12800.0},{\"#\":\"#1.0128\",\"count(*)\":196,\"type\":\"ManyToOneRel\",\"size\":12544.0},{\"#\":\"#1.0129\",\"count(*)\":195,\"type\":\"ForeignKey\",\"size\":12480.0},{\"#\":\"#1.0130\",\"count(*)\":192,\"type\":\"Manager\",\"size\":12288.0},{\"#\":\"#1.0131\",\"count(*)\":170,\"type\":\"Or\",\"size\":12176.0},{\"#\":\"#1.0132\",\"count(*)\":17,\"type\":\"collections.defaultdict\",\"size\":11808.0},{\"#\":\"#1.0133\",\"count(*)\":13,\"type\":\"YAMLObjectMetaclass\",\"size\":11752.0},{\"#\":\"#1.0134\",\"count(*)\":180,\"type\":\"AutoField\",\"size\":11520.0},{\"#\":\"#1.0135\",\"count(*)\":178,\"type\":\"DragAndDropInput\",\"size\":11392.0},{\"#\":\"#1.0136\",\"count(*)\":156,\"type\":\"String\",\"size\":11232.0},{\"#\":\"#1.0137\",\"count(*)\":162,\"type\":\"Production\",\"size\":10368.0},{\"#\":\"#1.0138\",\"count(*)\":11,\"type\":\"_TagMeta\",\"size\":9944.0},{\"#\":\"#1.0139\",\"count(*)\":154,\"type\":\"DateTimeField\",\"size\":9856.0},{\"#\":\"#1.0140\",\"count(*)\":152,\"type\":\"NumericalResponse\",\"size\":9728.0},{\"#\":\"#1.0141\",\"count(*)\":36,\"type\":\"Path\",\"size\":9276.0},{\"#\":\"#1.0142\",\"count(*)\":144,\"type\":\"ForeignRelatedObjectsDescriptor\",\"size\":9216.0},{\"#\":\"#1.0143\",\"count(*)\":10,\"type\":\"NamedAttributesMetaclass\",\"size\":9040.0},{\"#\":\"#1.0144\",\"count(*)\":87,\"type\":\"KeyedRef\",\"size\":8352.0},{\"#\":\"#1.0145\",\"count(*)\":129,\"type\":\"Option\",\"size\":8256.0},{\"#\":\"#1.0146\",\"count(*)\":9,\"type\":\"LexerMeta\",\"size\":8136.0},{\"#\":\"#1.0147\",\"count(*)\":119,\"type\":\"RegexURLResolver\",\"size\":7616.0},{\"#\":\"#1.0148\",\"count(*)\":2,\"type\":\"StyleMeta\",\"size\":7568.0},{\"#\":\"#1.0149\",\"count(*)\":154,\"type\":\"PyCapsule\",\"size\":7392.0},{\"#\":\"#1.0150\",\"count(*)\":113,\"type\":\"Nonterminal\",\"size\":7232.0},{\"#\":\"#1.0151\",\"count(*)\":8,\"type\":\"SubfieldBase\",\"size\":7232.0},{\"#\":\"#1.0152\",\"count(*)\":107,\"type\":\"ChoiceResponse\",\"size\":6848.0},{\"#\":\"#1.0153\",\"count(*)\":104,\"type\":\"TextInput\",\"size\":6656.0},{\"#\":\"#1.0154\",\"count(*)\":103,\"type\":\"SequenceModuleWithMixins\",\"size\":6592.0},{\"#\":\"#1.0155\",\"count(*)\":99,\"type\":\"BooleanField\",\"size\":6336.0},{\"#\":\"#1.0156\",\"count(*)\":99,\"type\":\"TextField\",\"size\":6336.0},{\"#\":\"#1.0157\",\"count(*)\":7,\"type\":\"_ctypes.PyCPointerType\",\"size\":6328.0},{\"#\":\"#1.0158\",\"count(*)\":13,\"type\":\"frame\",\"size\":6152.0},{\"#\":\"#1.0159\",\"count(*)\":94,\"type\":\"_ErrorStop\",\"size\":6016.0},{\"#\":\"#1.0160\",\"count(*)\":81,\"type\":\"_TokenType\",\"size\":5920.0},{\"#\":\"#1.0161\",\"count(*)\":2,\"type\":\"LazyList\",\"size\":5304.0},{\"#\":\"#1.0162\",\"count(*)\":17,\"type\":\"OrderedDict\",\"size\":5032.0},{\"#\":\"#1.0163\",\"count(*)\":65,\"type\":\"Dict\",\"size\":4664.0},{\"#\":\"#1.0164\",\"count(*)\":64,\"type\":\"Boolean\",\"size\":4608.0},{\"#\":\"#1.0165\",\"count(*)\":70,\"type\":\"ProxyAttribute\",\"size\":4480.0},{\"#\":\"#1.0166\",\"count(*)\":15,\"type\":\"WriteConcern\",\"size\":4440.0},{\"#\":\"#1.0167\",\"count(*)\":63,\"type\":\"Schema\",\"size\":4032.0},{\"#\":\"#1.0168\",\"count(*)\":62,\"type\":\"Forward\",\"size\":3968.0},{\"#\":\"#1.0169\",\"count(*)\":62,\"type\":\"Suppress\",\"size\":3968.0},{\"#\":\"#1.0170\",\"count(*)\":61,\"type\":\"words\",\"size\":3904.0},{\"#\":\"#1.0171\",\"count(*)\":4,\"type\":\"EnumMeta\",\"size\":3856.0},{\"#\":\"#1.0172\",\"count(*)\":58,\"type\":\"LazyCorpusLoader\",\"size\":3712.0},{\"#\":\"#1.0173\",\"count(*)\":4,\"type\":\"TaskType\",\"size\":3616.0},{\"#\":\"#1.0174\",\"count(*)\":4,\"type\":\"_ctypes.PyCStructType\",\"size\":3616.0},{\"#\":\"#1.0175\",\"count(*)\":56,\"type\":\"Creator\",\"size\":3584.0},{\"#\":\"#1.0176\",\"count(*)\":54,\"type\":\"Signal\",\"size\":3456.0},{\"#\":\"#1.0177\",\"count(*)\":53,\"type\":\"cached_property\",\"size\":3392.0},{\"#\":\"#1.0178\",\"count(*)\":52,\"type\":\"Keyword\",\"size\":3328.0},{\"#\":\"#1.0179\",\"count(*)\":101,\"type\":\"thread.lock\",\"size\":3232.0},{\"#\":\"#1.0180\",\"count(*)\":49,\"type\":\"FormulaEquationInput\",\"size\":3136.0},{\"#\":\"#1.0181\",\"count(*)\":48,\"type\":\"CourseKeyField\",\"size\":3072.0},{\"#\":\"#1.0182\",\"count(*)\":47,\"type\":\"IntegerField\",\"size\":3008.0},{\"#\":\"#1.0183\",\"count(*)\":45,\"type\":\"OptionInput\",\"size\":2880.0},{\"#\":\"#1.0184\",\"count(*)\":45,\"type\":\"OptionResponse\",\"size\":2880.0},{\"#\":\"#1.0185\",\"count(*)\":43,\"type\":\"Optional\",\"size\":2752.0},{\"#\":\"#1.0186\",\"count(*)\":17,\"type\":\"Markup\",\"size\":2732.0},{\"#\":\"#1.0187\",\"count(*)\":3,\"type\":\"MetaErrorClass\",\"size\":2712.0},{\"#\":\"#1.0188\",\"count(*)\":3,\"type\":\"TopLevelDocumentMetaclass\",\"size\":2712.0},{\"#\":\"#1.0189\",\"count(*)\":42,\"type\":\"NoseTester\",\"size\":2688.0},{\"#\":\"#1.0190\",\"count(*)\":42,\"type\":\"PrimitiveCategory\",\"size\":2688.0},{\"#\":\"#1.0191\",\"count(*)\":42,\"type\":\"WhereNode\",\"size\":2688.0},{\"#\":\"#1.0192\",\"count(*)\":42,\"type\":\"operator.attrgetter\",\"size\":2688.0},{\"#\":\"#1.0193\",\"count(*)\":41,\"type\":\"Where\",\"size\":2624.0},{\"#\":\"#1.0194\",\"count(*)\":40,\"type\":\"WeightedProduction\",\"size\":2560.0},{\"#\":\"#1.0195\",\"count(*)\":39,\"type\":\"_RLock\",\"size\":2496.0},{\"#\":\"#1.0196\",\"count(*)\":37,\"type\":\"MatchFirst\",\"size\":2368.0},{\"#\":\"#1.0197\",\"count(*)\":36,\"type\":\"DistInfoDistribution\",\"size\":2304.0},{\"#\":\"#1.0198\",\"count(*)\":36,\"type\":\"PSLiteral\",\"size\":2304.0},{\"#\":\"#1.0199\",\"count(*)\":22,\"type\":\"abstractproperty\",\"size\":2288.0},{\"#\":\"#1.0200\",\"count(*)\":35,\"type\":\"InternalTraceWrapper\",\"size\":2240.0},{\"#\":\"#1.0201\",\"count(*)\":35,\"type\":\"Transaction\",\"size\":2240.0},{\"#\":\"#1.0202\",\"count(*)\":23,\"type\":\"thread._local\",\"size\":2208.0},{\"#\":\"#1.0203\",\"count(*)\":7,\"type\":\"DBAPISet\",\"size\":2192.0},{\"#\":\"#1.0204\",\"count(*)\":34,\"type\":\"ModelAdmin\",\"size\":2176.0},{\"#\":\"#1.0205\",\"count(*)\":30,\"type\":\"Integer\",\"size\":2160.0},{\"#\":\"#1.0206\",\"count(*)\":11,\"type\":\"cython_function_or_method\",\"size\":2112.0},{\"#\":\"#1.0207\",\"count(*)\":33,\"type\":\"typedef\",\"size\":2112.0},{\"#\":\"#1.0208\",\"count(*)\":20,\"type\":\"Predicate\",\"size\":2080.0},{\"#\":\"#1.0209\",\"count(*)\":32,\"type\":\"Required\",\"size\":2048.0},{\"#\":\"#1.0210\",\"count(*)\":28,\"type\":\"List\",\"size\":2016.0},{\"#\":\"#1.0211\",\"count(*)\":31,\"type\":\"PSKeyword\",\"size\":1984.0},{\"#\":\"#1.0212\",\"count(*)\":24,\"type\":\"Scope\",\"size\":1920.0},{\"#\":\"#1.0213\",\"count(*)\":26,\"type\":\"ReferenceList\",\"size\":1872.0},{\"#\":\"#1.0214\",\"count(*)\":1,\"type\":\"TimeRE\",\"size\":1832.0},{\"#\":\"#1.0215\",\"count(*)\":2,\"type\":\"AppConfMetaClass\",\"size\":1808.0},{\"#\":\"#1.0216\",\"count(*)\":2,\"type\":\"DocumentMetaclass\",\"size\":1808.0},{\"#\":\"#1.0217\",\"count(*)\":2,\"type\":\"MPTTModelBase\",\"size\":1808.0},{\"#\":\"#1.0218\",\"count(*)\":28,\"type\":\"CheckboxInput\",\"size\":1792.0},{\"#\":\"#1.0219\",\"count(*)\":28,\"type\":\"Regex\",\"size\":1792.0},{\"#\":\"#1.0220\",\"count(*)\":22,\"type\":\"Proxy\",\"size\":1760.0},{\"#\":\"#1.0221\",\"count(*)\":27,\"type\":\"CheckType\",\"size\":1728.0},{\"#\":\"#1.0222\",\"count(*)\":10,\"type\":\"lxml.etree._XPathContext\",\"size\":1680.0},{\"#\":\"#1.0223\",\"count(*)\":26,\"type\":\"Extension\",\"size\":1664.0},{\"#\":\"#1.0224\",\"count(*)\":17,\"type\":\"SplitResult\",\"size\":1632.0},{\"#\":\"#1.0225\",\"count(*)\":25,\"type\":\"PlaceHolder\",\"size\":1600.0},{\"#\":\"#1.0226\",\"count(*)\":22,\"type\":\"classmethod_descriptor\",\"size\":1584.0},{\"#\":\"#1.0227\",\"count(*)\":24,\"type\":\"SeparateContext\",\"size\":1536.0},{\"#\":\"#1.0228\",\"count(*)\":15,\"type\":\"Not\",\"size\":1520.0},{\"#\":\"#1.0229\",\"count(*)\":23,\"type\":\"NullHandler\",\"size\":1472.0},{\"#\":\"#1.0230\",\"count(*)\":23,\"type\":\"Select\",\"size\":1472.0},{\"#\":\"#1.0231\",\"count(*)\":23,\"type\":\"Template\",\"size\":1472.0},{\"#\":\"#1.0232\",\"count(*)\":7,\"type\":\"CFunctionType\",\"size\":1456.0},{\"#\":\"#1.0233\",\"count(*)\":22,\"type\":\"ModuleInfo\",\"size\":1408.0},{\"#\":\"#1.0234\",\"count(*)\":22,\"type\":\"Style\",\"size\":1408.0},{\"#\":\"#1.0235\",\"count(*)\":22,\"type\":\"Word\",\"size\":1408.0},{\"#\":\"#1.0236\",\"count(*)\":22,\"type\":\"ivmpf\",\"size\":1408.0},{\"#\":\"#1.0237\",\"count(*)\":19,\"type\":\"combined\",\"size\":1400.0},{\"#\":\"#1.0238\",\"count(*)\":20,\"type\":\"ModelChoiceIterator\",\"size\":1280.0},{\"#\":\"#1.0239\",\"count(*)\":20,\"type\":\"OneToOneField\",\"size\":1280.0},{\"#\":\"#1.0240\",\"count(*)\":20,\"type\":\"OneToOneRel\",\"size\":1280.0},{\"#\":\"#1.0241\",\"count(*)\":20,\"type\":\"Query\",\"size\":1280.0},{\"#\":\"#1.0242\",\"count(*)\":20,\"type\":\"lazy\",\"size\":1280.0},{\"#\":\"#1.0243\",\"count(*)\":14,\"type\":\"PromiseProxy\",\"size\":1232.0},{\"#\":\"#1.0244\",\"count(*)\":19,\"type\":\"AutoCreatedField\",\"size\":1216.0},{\"#\":\"#1.0245\",\"count(*)\":19,\"type\":\"AutoLastModifiedField\",\"size\":1216.0},{\"#\":\"#1.0246\",\"count(*)\":19,\"type\":\"LazyImporter\",\"size\":1216.0},{\"#\":\"#1.0247\",\"count(*)\":19,\"type\":\"QuerySet\",\"size\":1216.0},{\"#\":\"#1.0248\",\"count(*)\":19,\"type\":\"SingleRelatedObjectDescriptor\",\"size\":1216.0},{\"#\":\"#1.0249\",\"count(*)\":15,\"type\":\"numpy.dtype\",\"size\":1200.0},{\"#\":\"#1.0250\",\"count(*)\":4,\"type\":\"QueryDict\",\"size\":1184.0},{\"#\":\"#1.0251\",\"count(*)\":37,\"type\":\"_thread._localdummy\",\"size\":1184.0},{\"#\":\"#1.0252\",\"count(*)\":18,\"type\":\"BoundMethodWeakref\",\"size\":1152.0},{\"#\":\"#1.0253\",\"count(*)\":18,\"type\":\"CheckCallable\",\"size\":1152.0},{\"#\":\"#1.0254\",\"count(*)\":18,\"type\":\"FunctionalCategory\",\"size\":1152.0},{\"#\":\"#1.0255\",\"count(*)\":8,\"type\":\"file\",\"size\":1152.0},{\"#\":\"#1.0256\",\"count(*)\":12,\"type\":\"lxml.etree._ErrorLog\",\"size\":1152.0},{\"#\":\"#1.0257\",\"count(*)\":18,\"type\":\"override_settings\",\"size\":1152.0},{\"#\":\"#1.0258\",\"count(*)\":13,\"type\":\"CodecInfo\",\"size\":1144.0},{\"#\":\"#1.0259\",\"count(*)\":17,\"type\":\"Group\",\"size\":1088.0},{\"#\":\"#1.0260\",\"count(*)\":17,\"type\":\"PositiveIntegerField\",\"size\":1088.0},{\"#\":\"#1.0261\",\"count(*)\":1,\"type\":\"MetaDict\",\"size\":1064.0},{\"#\":\"#1.0262\",\"count(*)\":19,\"type\":\"mpq\",\"size\":1064.0},{\"#\":\"#1.0263\",\"count(*)\":10,\"type\":\"lxml.etree.XPath\",\"size\":1040.0},{\"#\":\"#1.0264\",\"count(*)\":16,\"type\":\"ConfigurationModelAdmin\",\"size\":1024.0},{\"#\":\"#1.0265\",\"count(*)\":16,\"type\":\"FollowedBy\",\"size\":1024.0},{\"#\":\"#1.0266\",\"count(*)\":16,\"type\":\"LeafInitRule\",\"size\":1024.0},{\"#\":\"#1.0267\",\"count(*)\":16,\"type\":\"ModelFormOptions\",\"size\":1024.0},{\"#\":\"#1.0268\",\"count(*)\":16,\"type\":\"SerializerMethodField\",\"size\":1024.0},{\"#\":\"#1.0269\",\"count(*)\":14,\"type\":\"Date\",\"size\":1008.0},{\"#\":\"#1.0270\",\"count(*)\":9,\"type\":\"_socketobject\",\"size\":1008.0},{\"#\":\"#1.0271\",\"count(*)\":14,\"type\":\"constant\",\"size\":1008.0},{\"#\":\"#1.0272\",\"count(*)\":13,\"type\":\"Float\",\"size\":1000.0},{\"#\":\"#1.0273\",\"count(*)\":8,\"type\":\"Wild\",\"size\":960.0},{\"#\":\"#1.0274\",\"count(*)\":9,\"type\":\"Equivalent\",\"size\":936.0},{\"#\":\"#1.0275\",\"count(*)\":1,\"type\":\"FilterSetMetaclass\",\"size\":904.0},{\"#\":\"#1.0276\",\"count(*)\":1,\"type\":\"ProfilingRegexLexerMeta\",\"size\":904.0},{\"#\":\"#1.0277\",\"count(*)\":1,\"type\":\"_GeoIPMetaclass\",\"size\":904.0},{\"#\":\"#1.0278\",\"count(*)\":1,\"type\":\"_TemplateMetaclass\",\"size\":904.0},{\"#\":\"#1.0279\",\"count(*)\":1,\"type\":\"_ctypes.PyCArrayType\",\"size\":904.0},{\"#\":\"#1.0280\",\"count(*)\":1,\"type\":\"_ctypes.UnionType\",\"size\":904.0},{\"#\":\"#1.0281\",\"count(*)\":1,\"type\":\"_swapped_meta\",\"size\":904.0},{\"#\":\"#1.0282\",\"count(*)\":14,\"type\":\"BinaryPredicate\",\"size\":896.0},{\"#\":\"#1.0283\",\"count(*)\":14,\"type\":\"Sentinel\",\"size\":896.0},{\"#\":\"#1.0284\",\"count(*)\":14,\"type\":\"Textarea\",\"size\":896.0},{\"#\":\"#1.0285\",\"count(*)\":3,\"type\":\"SekizaiDictionary\",\"size\":888.0},{\"#\":\"#1.0286\",\"count(*)\":57,\"type\":\"numpy.ndarray\",\"size\":885.0},{\"#\":\"#1.0287\",\"count(*)\":8,\"type\":\"Dummy\",\"size\":848.0},{\"#\":\"#1.0288\",\"count(*)\":13,\"type\":\"Combine\",\"size\":832.0},{\"#\":\"#1.0289\",\"count(*)\":13,\"type\":\"Context\",\"size\":832.0},{\"#\":\"#1.0290\",\"count(*)\":13,\"type\":\"ManyToManyField\",\"size\":832.0},{\"#\":\"#1.0291\",\"count(*)\":13,\"type\":\"ManyToManyRel\",\"size\":832.0},{\"#\":\"#1.0292\",\"count(*)\":13,\"type\":\"Q\",\"size\":832.0},{\"#\":\"#1.0293\",\"count(*)\":13,\"type\":\"QueryManager\",\"size\":832.0},{\"#\":\"#1.0294\",\"count(*)\":13,\"type\":\"ReverseManyRelatedObjectsDescriptor\",\"size\":832.0},{\"#\":\"#1.0295\",\"count(*)\":12,\"type\":\"DType\",\"size\":768.0},{\"#\":\"#1.0296\",\"count(*)\":12,\"type\":\"ManyRelatedObjectsDescriptor\",\"size\":768.0},{\"#\":\"#1.0297\",\"count(*)\":12,\"type\":\"lxml.etree._TempStore\",\"size\":768.0},{\"#\":\"#1.0298\",\"count(*)\":7,\"type\":\"FunctionWrapper\",\"size\":760.0},{\"#\":\"#1.0299\",\"count(*)\":11,\"type\":\"DateTimeInput\",\"size\":704.0},{\"#\":\"#1.0300\",\"count(*)\":11,\"type\":\"FloatField\",\"size\":704.0},{\"#\":\"#1.0301\",\"count(*)\":11,\"type\":\"ModelChoiceField\",\"size\":704.0},{\"#\":\"#1.0302\",\"count(*)\":11,\"type\":\"OneOrMore\",\"size\":704.0},{\"#\":\"#1.0303\",\"count(*)\":11,\"type\":\"SelectMultiple\",\"size\":704.0},{\"#\":\"#1.0304\",\"count(*)\":11,\"type\":\"URLField\",\"size\":704.0},{\"#\":\"#1.0305\",\"count(*)\":22,\"type\":\"datetime.date\",\"size\":704.0},{\"#\":\"#1.0306\",\"count(*)\":11,\"type\":\"ivmpf_constant\",\"size\":704.0},{\"#\":\"#1.0307\",\"count(*)\":1,\"type\":\"_Name2StandardEncodingMap\",\"size\":680.0},{\"#\":\"#1.0308\",\"count(*)\":5,\"type\":\"scputimes\",\"size\":680.0},{\"#\":\"#1.0309\",\"count(*)\":10,\"type\":\"Logger\",\"size\":640.0},{\"#\":\"#1.0310\",\"count(*)\":10,\"type\":\"TemplateNamespace\",\"size\":640.0},{\"#\":\"#1.0311\",\"count(*)\":10,\"type\":\"TypeInfo\",\"size\":640.0},{\"#\":\"#1.0312\",\"count(*)\":10,\"type\":\"_Condition\",\"size\":640.0},{\"#\":\"#1.0313\",\"count(*)\":10,\"type\":\"_getitem_property\",\"size\":640.0},{\"#\":\"#1.0314\",\"count(*)\":10,\"type\":\"lxml.etree._ExceptionContext\",\"size\":640.0},{\"#\":\"#1.0315\",\"count(*)\":10,\"type\":\"lxml.etree._ExsltRegExp\",\"size\":640.0},{\"#\":\"#1.0316\",\"count(*)\":6,\"type\":\"Client\",\"size\":624.0},{\"#\":\"#1.0317\",\"count(*)\":6,\"type\":\"_ctypes.CField\",\"size\":624.0},{\"#\":\"#1.0318\",\"count(*)\":39,\"type\":\"object\",\"size\":624.0},{\"#\":\"#1.0319\",\"count(*)\":2,\"type\":\"LookupDict\",\"size\":592.0},{\"#\":\"#1.0320\",\"count(*)\":9,\"type\":\"Collection\",\"size\":576.0},{\"#\":\"#1.0321\",\"count(*)\":9,\"type\":\"Library\",\"size\":576.0},{\"#\":\"#1.0322\",\"count(*)\":9,\"type\":\"OR\",\"size\":576.0},{\"#\":\"#1.0323\",\"count(*)\":9,\"type\":\"PDFColorSpace\",\"size\":576.0},{\"#\":\"#1.0324\",\"count(*)\":9,\"type\":\"ParseResults\",\"size\":576.0},{\"#\":\"#1.0325\",\"count(*)\":9,\"type\":\"URLValidator\",\"size\":576.0},{\"#\":\"#1.0326\",\"count(*)\":9,\"type\":\"UnaryTopologicalOp\",\"size\":576.0},{\"#\":\"#1.0327\",\"count(*)\":9,\"type\":\"ZeroOrMore\",\"size\":576.0},{\"#\":\"#1.0328\",\"count(*)\":9,\"type\":\"_FakeSignal\",\"size\":576.0},{\"#\":\"#1.0329\",\"count(*)\":8,\"type\":\"lxml.etree._ResolverRegistry\",\"size\":576.0},{\"#\":\"#1.0330\",\"count(*)\":7,\"type\":\"Decimal\",\"size\":560.0},{\"#\":\"#1.0331\",\"count(*)\":8,\"type\":\"EmailField\",\"size\":512.0},{\"#\":\"#1.0332\",\"count(*)\":8,\"type\":\"MinValueValidator\",\"size\":512.0},{\"#\":\"#1.0333\",\"count(*)\":8,\"type\":\"PasswordInput\",\"size\":512.0},{\"#\":\"#1.0334\",\"count(*)\":8,\"type\":\"RegexValidator\",\"size\":512.0},{\"#\":\"#1.0335\",\"count(*)\":8,\"type\":\"_arraymethod\",\"size\":512.0},{\"#\":\"#1.0336\",\"count(*)\":7,\"type\":\"StdCodecData\",\"size\":504.0},{\"#\":\"#1.0337\",\"count(*)\":7,\"type\":\"Step\",\"size\":504.0},{\"#\":\"#1.0338\",\"count(*)\":7,\"type\":\"itertools.count\",\"size\":504.0},{\"#\":\"#1.0339\",\"count(*)\":7,\"type\":\"mpf\",\"size\":504.0},{\"#\":\"#1.0340\",\"count(*)\":6,\"type\":\"ScopeBase\",\"size\":480.0},{\"#\":\"#1.0341\",\"count(*)\":3,\"type\":\"lxml.etree.XMLParser\",\"size\":480.0},{\"#\":\"#1.0342\",\"count(*)\":7,\"type\":\"BinaryCombinatorRule\",\"size\":448.0},{\"#\":\"#1.0343\",\"count(*)\":7,\"type\":\"CDLL\",\"size\":448.0},{\"#\":\"#1.0344\",\"count(*)\":7,\"type\":\"Field\",\"size\":448.0},{\"#\":\"#1.0345\",\"count(*)\":7,\"type\":\"ModelSerializerOptions\",\"size\":448.0},{\"#\":\"#1.0346\",\"count(*)\":7,\"type\":\"NotAny\",\"size\":448.0},{\"#\":\"#1.0347\",\"count(*)\":7,\"type\":\"_MovedItems\",\"size\":448.0},{\"#\":\"#1.0348\",\"count(*)\":7,\"type\":\"weekday\",\"size\":448.0},{\"#\":\"#1.0349\",\"count(*)\":4,\"type\":\"Implies\",\"size\":416.0},{\"#\":\"#1.0350\",\"count(*)\":6,\"type\":\"BaseConverter\",\"size\":384.0},{\"#\":\"#1.0351\",\"count(*)\":6,\"type\":\"DummyLock\",\"size\":384.0},{\"#\":\"#1.0352\",\"count(*)\":6,\"type\":\"HiddenInput\",\"size\":384.0},{\"#\":\"#1.0353\",\"count(*)\":6,\"type\":\"LazyClassProperty\",\"size\":384.0},{\"#\":\"#1.0354\",\"count(*)\":6,\"type\":\"MemcachedCache\",\"size\":384.0},{\"#\":\"#1.0355\",\"count(*)\":6,\"type\":\"ScopeChoiceField\",\"size\":384.0},{\"#\":\"#1.0356\",\"count(*)\":6,\"type\":\"SlugField\",\"size\":384.0},{\"#\":\"#1.0357\",\"count(*)\":6,\"type\":\"ThreadIdent\",\"size\":384.0},{\"#\":\"#1.0358\",\"count(*)\":6,\"type\":\"_Host\",\"size\":384.0},{\"#\":\"#1.0359\",\"count(*)\":6,\"type\":\"_MethodFunc\",\"size\":384.0},{\"#\":\"#1.0360\",\"count(*)\":6,\"type\":\"exists_property\",\"size\":384.0},{\"#\":\"#1.0361\",\"count(*)\":6,\"type\":\"method-wrapper\",\"size\":384.0},{\"#\":\"#1.0362\",\"count(*)\":6,\"type\":\"value_property\",\"size\":384.0},{\"#\":\"#1.0363\",\"count(*)\":5,\"type\":\"BlockedMessage\",\"size\":360.0},{\"#\":\"#1.0364\",\"count(*)\":5,\"type\":\"Timedelta\",\"size\":360.0},{\"#\":\"#1.0365\",\"count(*)\":2,\"type\":\"XMLParser\",\"size\":352.0},{\"#\":\"#1.0366\",\"count(*)\":7,\"type\":\"_socket.socket\",\"size\":336.0},{\"#\":\"#1.0367\",\"count(*)\":3,\"type\":\"collections.deque\",\"size\":336.0},{\"#\":\"#1.0368\",\"count(*)\":14,\"type\":\"numpy.float64\",\"size\":336.0},{\"#\":\"#1.0369\",\"count(*)\":5,\"type\":\"America\\/New_York\",\"size\":320.0},{\"#\":\"#1.0370\",\"count(*)\":5,\"type\":\"BackwardCombinator\",\"size\":320.0},{\"#\":\"#1.0371\",\"count(*)\":5,\"type\":\"Chat\",\"size\":320.0},{\"#\":\"#1.0372\",\"count(*)\":5,\"type\":\"ChoiceField\",\"size\":320.0},{\"#\":\"#1.0373\",\"count(*)\":5,\"type\":\"CompleteFundamentalRule\",\"size\":320.0},{\"#\":\"#1.0374\",\"count(*)\":5,\"type\":\"DecimalField\",\"size\":320.0},{\"#\":\"#1.0375\",\"count(*)\":5,\"type\":\"FeatureCompleteFundamentalRule\",\"size\":320.0},{\"#\":\"#1.0376\",\"count(*)\":5,\"type\":\"Formatter\",\"size\":320.0},{\"#\":\"#1.0377\",\"count(*)\":5,\"type\":\"NoneToEmptyManager\",\"size\":320.0},{\"#\":\"#1.0378\",\"count(*)\":5,\"type\":\"RegexpTokenizer\",\"size\":320.0},{\"#\":\"#1.0379\",\"count(*)\":5,\"type\":\"UUIDField\",\"size\":320.0},{\"#\":\"#1.0380\",\"count(*)\":5,\"type\":\"UnaryPredicate\",\"size\":320.0},{\"#\":\"#1.0381\",\"count(*)\":2,\"type\":\"_ctypes.CThunkObject\",\"size\":320.0},{\"#\":\"#1.0382\",\"count(*)\":5,\"type\":\"class_property\",\"size\":320.0},{\"#\":\"#1.0383\",\"count(*)\":3,\"type\":\"ActiveBulkThread\",\"size\":312.0},{\"#\":\"#1.0384\",\"count(*)\":1,\"type\":\"SimpleCookie\",\"size\":296.0},{\"#\":\"#1.0385\",\"count(*)\":4,\"type\":\"Symbol\",\"size\":296.0},{\"#\":\"#1.0386\",\"count(*)\":1,\"type\":\"TaskRegistry\",\"size\":296.0},{\"#\":\"#1.0387\",\"count(*)\":4,\"type\":\"DateTime\",\"size\":288.0},{\"#\":\"#1.0388\",\"count(*)\":9,\"type\":\"complex\",\"size\":288.0},{\"#\":\"#1.0389\",\"count(*)\":5,\"type\":\"scipy.sparse._csparsetools.Enum\",\"size\":280.0},{\"#\":\"#1.0390\",\"count(*)\":3,\"type\":\"CallerStack\",\"size\":264.0},{\"#\":\"#1.0391\",\"count(*)\":3,\"type\":\"Route\",\"size\":264.0},{\"#\":\"#1.0392\",\"count(*)\":4,\"type\":\"BinaryTopologicalOp\",\"size\":256.0},{\"#\":\"#1.0393\",\"count(*)\":4,\"type\":\"DeprecatedImport\",\"size\":256.0},{\"#\":\"#1.0394\",\"count(*)\":4,\"type\":\"EmptyPredictRule\",\"size\":256.0},{\"#\":\"#1.0395\",\"count(*)\":4,\"type\":\"EnabledExtensionManager\",\"size\":256.0},{\"#\":\"#1.0396\",\"count(*)\":4,\"type\":\"FeatureEmptyPredictRule\",\"size\":256.0},{\"#\":\"#1.0397\",\"count(*)\":4,\"type\":\"ForwardCombinator\",\"size\":256.0},{\"#\":\"#1.0398\",\"count(*)\":4,\"type\":\"LocationKeyField\",\"size\":256.0},{\"#\":\"#1.0399\",\"count(*)\":4,\"type\":\"ModelMultipleChoiceField\",\"size\":256.0},{\"#\":\"#1.0400\",\"count(*)\":4,\"type\":\"MonitorField\",\"size\":256.0},{\"#\":\"#1.0401\",\"count(*)\":4,\"type\":\"PunktLanguageVars\",\"size\":256.0},{\"#\":\"#1.0402\",\"count(*)\":4,\"type\":\"StatusField\",\"size\":256.0},{\"#\":\"#1.0403\",\"count(*)\":4,\"type\":\"StringField\",\"size\":256.0},{\"#\":\"#1.0404\",\"count(*)\":4,\"type\":\"TimeItemDescriptor\",\"size\":256.0},{\"#\":\"#1.0405\",\"count(*)\":4,\"type\":\"UUID\",\"size\":256.0},{\"#\":\"#1.0406\",\"count(*)\":4,\"type\":\"User\",\"size\":256.0},{\"#\":\"#1.0407\",\"count(*)\":4,\"type\":\"VideoSortField\",\"size\":256.0},{\"#\":\"#1.0408\",\"count(*)\":4,\"type\":\"_Event\",\"size\":256.0},{\"#\":\"#1.0409\",\"count(*)\":4,\"type\":\"poly1d\",\"size\":256.0},{\"#\":\"#1.0410\",\"count(*)\":1,\"type\":\"AssumptionsContext\",\"size\":240.0},{\"#\":\"#1.0411\",\"count(*)\":3,\"type\":\"codec\",\"size\":240.0},{\"#\":\"#1.0412\",\"count(*)\":2,\"type\":\"lxml.etree._ParserContext\",\"size\":240.0},{\"#\":\"#1.0413\",\"count(*)\":2,\"type\":\"SafeString\",\"size\":236.0},{\"#\":\"#1.0414\",\"count(*)\":4,\"type\":\"cStringIO.StringO\",\"size\":224.0},{\"#\":\"#1.0415\",\"count(*)\":3,\"type\":\"RelativeTime\",\"size\":216.0},{\"#\":\"#1.0416\",\"count(*)\":3,\"type\":\"UserPartitionList\",\"size\":216.0},{\"#\":\"#1.0417\",\"count(*)\":3,\"type\":\"classonlymethod\",\"size\":216.0},{\"#\":\"#1.0418\",\"count(*)\":3,\"type\":\"operator.methodcaller\",\"size\":216.0},{\"#\":\"#1.0419\",\"count(*)\":2,\"type\":\"ClassProperty\",\"size\":208.0},{\"#\":\"#1.0420\",\"count(*)\":3,\"type\":\"JSONField\",\"size\":208.0},{\"#\":\"#1.0421\",\"count(*)\":2,\"type\":\"Rational\",\"size\":208.0},{\"#\":\"#1.0422\",\"count(*)\":2,\"type\":\"lxml.etree._RotatingErrorLog\",\"size\":208.0},{\"#\":\"#1.0423\",\"count(*)\":3,\"type\":\"Array\",\"size\":192.0},{\"#\":\"#1.0424\",\"count(*)\":3,\"type\":\"ArrayORCustomString\",\"size\":192.0},{\"#\":\"#1.0425\",\"count(*)\":3,\"type\":\"Choices\",\"size\":192.0},{\"#\":\"#1.0426\",\"count(*)\":3,\"type\":\"CodeMirrorWidget\",\"size\":192.0},{\"#\":\"#1.0427\",\"count(*)\":3,\"type\":\"Counter\",\"size\":192.0},{\"#\":\"#1.0428\",\"count(*)\":3,\"type\":\"CsrfViewMiddleware\",\"size\":192.0},{\"#\":\"#1.0429\",\"count(*)\":3,\"type\":\"CursorManager\",\"size\":192.0},{\"#\":\"#1.0430\",\"count(*)\":3,\"type\":\"Database\",\"size\":192.0},{\"#\":\"#1.0431\",\"count(*)\":3,\"type\":\"DateField\",\"size\":192.0},{\"#\":\"#1.0432\",\"count(*)\":3,\"type\":\"DefaultStorage\",\"size\":192.0},{\"#\":\"#1.0433\",\"count(*)\":3,\"type\":\"DummyCache\",\"size\":192.0},{\"#\":\"#1.0434\",\"count(*)\":3,\"type\":\"Exchange\",\"size\":192.0},{\"#\":\"#1.0435\",\"count(*)\":3,\"type\":\"FeatureSingleEdgeFundamentalRule\",\"size\":192.0},{\"#\":\"#1.0436\",\"count(*)\":3,\"type\":\"FeatureTopDownInitRule\",\"size\":192.0},{\"#\":\"#1.0437\",\"count(*)\":3,\"type\":\"Future\",\"size\":192.0},{\"#\":\"#1.0438\",\"count(*)\":3,\"type\":\"GaussLegendre\",\"size\":192.0},{\"#\":\"#1.0439\",\"count(*)\":3,\"type\":\"HMACAlgorithm\",\"size\":192.0},{\"#\":\"#1.0440\",\"count(*)\":2,\"type\":\"HtmlElementClassLookup\",\"size\":192.0},{\"#\":\"#1.0441\",\"count(*)\":3,\"type\":\"IPAddressField\",\"size\":192.0},{\"#\":\"#1.0442\",\"count(*)\":3,\"type\":\"Member\",\"size\":192.0},{\"#\":\"#1.0443\",\"count(*)\":3,\"type\":\"MinLengthValidator\",\"size\":192.0},{\"#\":\"#1.0444\",\"count(*)\":3,\"type\":\"Module_six_moves_urllib\",\"size\":192.0},{\"#\":\"#1.0445\",\"count(*)\":3,\"type\":\"Module_six_moves_urllib_error\",\"size\":192.0},{\"#\":\"#1.0446\",\"count(*)\":3,\"type\":\"Module_six_moves_urllib_parse\",\"size\":192.0},{\"#\":\"#1.0447\",\"count(*)\":3,\"type\":\"Module_six_moves_urllib_request\",\"size\":192.0},{\"#\":\"#1.0448\",\"count(*)\":3,\"type\":\"Module_six_moves_urllib_response\",\"size\":192.0},{\"#\":\"#1.0449\",\"count(*)\":3,\"type\":\"Module_six_moves_urllib_robotparser\",\"size\":192.0},{\"#\":\"#1.0450\",\"count(*)\":3,\"type\":\"MongoClient\",\"size\":192.0},{\"#\":\"#1.0451\",\"count(*)\":3,\"type\":\"PermWrapper\",\"size\":192.0},{\"#\":\"#1.0452\",\"count(*)\":3,\"type\":\"PickledObjectField\",\"size\":192.0},{\"#\":\"#1.0453\",\"count(*)\":3,\"type\":\"RoutingBackend\",\"size\":192.0},{\"#\":\"#1.0454\",\"count(*)\":3,\"type\":\"Settings\",\"size\":192.0},{\"#\":\"#1.0455\",\"count(*)\":3,\"type\":\"SingleEdgeFundamentalRule\",\"size\":192.0},{\"#\":\"#1.0456\",\"count(*)\":3,\"type\":\"SocketInfo\",\"size\":192.0},{\"#\":\"#1.0457\",\"count(*)\":3,\"type\":\"StringEnd\",\"size\":192.0},{\"#\":\"#1.0458\",\"count(*)\":3,\"type\":\"TagRegistry\",\"size\":192.0},{\"#\":\"#1.0459\",\"count(*)\":3,\"type\":\"TanhSinh\",\"size\":192.0},{\"#\":\"#1.0460\",\"count(*)\":3,\"type\":\"ThreadVigil\",\"size\":192.0},{\"#\":\"#1.0461\",\"count(*)\":3,\"type\":\"TopDownInitRule\",\"size\":192.0},{\"#\":\"#1.0462\",\"count(*)\":3,\"type\":\"TypedChoiceField\",\"size\":192.0},{\"#\":\"#1.0463\",\"count(*)\":3,\"type\":\"UndirectedComposition\",\"size\":192.0},{\"#\":\"#1.0464\",\"count(*)\":3,\"type\":\"_NullHandler\",\"size\":192.0},{\"#\":\"#1.0465\",\"count(*)\":3,\"type\":\"_Printer\",\"size\":192.0},{\"#\":\"#1.0466\",\"count(*)\":3,\"type\":\"_SentinelObject\",\"size\":192.0},{\"#\":\"#1.0467\",\"count(*)\":3,\"type\":\"_SixMetaPathImporter\",\"size\":192.0},{\"#\":\"#1.0468\",\"count(*)\":3,\"type\":\"memoized_property\",\"size\":192.0},{\"#\":\"#1.0469\",\"count(*)\":2,\"type\":\"version_info_t\",\"size\":192.0},{\"#\":\"#1.0470\",\"count(*)\":1,\"type\":\"HTMLParser\",\"size\":176.0},{\"#\":\"#1.0471\",\"count(*)\":1,\"type\":\"XHTMLParser\",\"size\":176.0},{\"#\":\"#1.0472\",\"count(*)\":2,\"type\":\"weakproxy\",\"size\":176.0},{\"#\":\"#1.0473\",\"count(*)\":4,\"type\":\"PyCObject\",\"size\":160.0},{\"#\":\"#1.0474\",\"count(*)\":1,\"type\":\"lxml.etree.HTMLParser\",\"size\":160.0},{\"#\":\"#1.0475\",\"count(*)\":1,\"type\":\"sys.flags\",\"size\":152.0},{\"#\":\"#1.0476\",\"count(*)\":2,\"type\":\"Reference\",\"size\":144.0},{\"#\":\"#1.0477\",\"count(*)\":6,\"type\":\"numpy.float32\",\"size\":144.0},{\"#\":\"#1.0478\",\"count(*)\":2,\"type\":\"traceback\",\"size\":144.0},{\"#\":\"#1.0479\",\"count(*)\":2,\"type\":\"AIClassifierSetAdmin\",\"size\":128.0},{\"#\":\"#1.0480\",\"count(*)\":2,\"type\":\"AIGradingWorkflowAdmin\",\"size\":128.0},{\"#\":\"#1.0481\",\"count(*)\":2,\"type\":\"AITrainingWorkflowAdmin\",\"size\":128.0},{\"#\":\"#1.0482\",\"count(*)\":2,\"type\":\"AccessTokenAdmin\",\"size\":128.0},{\"#\":\"#1.0483\",\"count(*)\":2,\"type\":\"ArticleAdmin\",\"size\":128.0},{\"#\":\"#1.0484\",\"count(*)\":2,\"type\":\"ArticleRevisionAdmin\",\"size\":128.0},{\"#\":\"#1.0485\",\"count(*)\":2,\"type\":\"AssessmentAdmin\",\"size\":128.0},{\"#\":\"#1.0486\",\"count(*)\":2,\"type\":\"AssessmentFeedbackAdmin\",\"size\":128.0},{\"#\":\"#1.0487\",\"count(*)\":2,\"type\":\"AssessmentWorkflowAdmin\",\"size\":128.0},{\"#\":\"#1.0488\",\"count(*)\":2,\"type\":\"AssociationAdmin\",\"size\":128.0},{\"#\":\"#1.0489\",\"count(*)\":2,\"type\":\"Body\",\"size\":128.0},{\"#\":\"#1.0490\",\"count(*)\":2,\"type\":\"BottomUpPredictCombineRule\",\"size\":128.0},{\"#\":\"#1.0491\",\"count(*)\":2,\"type\":\"BottomUpPredictRule\",\"size\":128.0},{\"#\":\"#1.0492\",\"count(*)\":2,\"type\":\"CCGLexicon\",\"size\":128.0},{\"#\":\"#1.0493\",\"count(*)\":2,\"type\":\"CacheMiddleware\",\"size\":128.0},{\"#\":\"#1.0494\",\"count(*)\":2,\"type\":\"CachedTopDownPredictRule\",\"size\":128.0},{\"#\":\"#1.0495\",\"count(*)\":2,\"type\":\"CachingDescriptorSystem\",\"size\":128.0},{\"#\":\"#1.0496\",\"count(*)\":2,\"type\":\"CaselessLiteral\",\"size\":128.0},{\"#\":\"#1.0497\",\"count(*)\":2,\"type\":\"ClientAdmin\",\"size\":128.0},{\"#\":\"#1.0498\",\"count(*)\":2,\"type\":\"CommaSeparatedIntegerField\",\"size\":128.0},{\"#\":\"#1.0499\",\"count(*)\":2,\"type\":\"ConfiguredStorage\",\"size\":128.0},{\"#\":\"#1.0500\",\"count(*)\":2,\"type\":\"Constraint\",\"size\":128.0},{\"#\":\"#1.0501\",\"count(*)\":2,\"type\":\"CountryDescriptor\",\"size\":128.0},{\"#\":\"#1.0502\",\"count(*)\":2,\"type\":\"CountryField\",\"size\":128.0},{\"#\":\"#1.0503\",\"count(*)\":2,\"type\":\"CourseActionStateManager\",\"size\":128.0},{\"#\":\"#1.0504\",\"count(*)\":2,\"type\":\"CourseAuthorizationAdmin\",\"size\":128.0},{\"#\":\"#1.0505\",\"count(*)\":2,\"type\":\"CourseEmailAdmin\",\"size\":128.0},{\"#\":\"#1.0506\",\"count(*)\":2,\"type\":\"CourseEmailTemplateAdmin\",\"size\":128.0},{\"#\":\"#1.0507\",\"count(*)\":2,\"type\":\"CourseLocationManager\",\"size\":128.0},{\"#\":\"#1.0508\",\"count(*)\":2,\"type\":\"CriterionOptionSerializer\",\"size\":128.0},{\"#\":\"#1.0509\",\"count(*)\":2,\"type\":\"DatabaseOperations\",\"size\":128.0},{\"#\":\"#1.0510\",\"count(*)\":2,\"type\":\"DefaultRouter\",\"size\":128.0},{\"#\":\"#1.0511\",\"count(*)\":2,\"type\":\"DynamicTemplateLookup\",\"size\":128.0},{\"#\":\"#1.0512\",\"count(*)\":2,\"type\":\"Empty\",\"size\":128.0},{\"#\":\"#1.0513\",\"count(*)\":2,\"type\":\"EmptyManager\",\"size\":128.0},{\"#\":\"#1.0514\",\"count(*)\":2,\"type\":\"ErrorClass\",\"size\":128.0},{\"#\":\"#1.0515\",\"count(*)\":2,\"type\":\"ExtendedManager\",\"size\":128.0},{\"#\":\"#1.0516\",\"count(*)\":2,\"type\":\"FeatureBottomUpPredictCombineRule\",\"size\":128.0},{\"#\":\"#1.0517\",\"count(*)\":2,\"type\":\"FeatureBottomUpPredictRule\",\"size\":128.0},{\"#\":\"#1.0518\",\"count(*)\":2,\"type\":\"FeatureTopDownPredictRule\",\"size\":128.0},{\"#\":\"#1.0519\",\"count(*)\":2,\"type\":\"FilteredBottomUpPredictCombineRule\",\"size\":128.0},{\"#\":\"#1.0520\",\"count(*)\":2,\"type\":\"GMPYIntegerRing\",\"size\":128.0},{\"#\":\"#1.0521\",\"count(*)\":2,\"type\":\"GMPYIntegerType\",\"size\":128.0},{\"#\":\"#1.0522\",\"count(*)\":2,\"type\":\"GMPYRationalType\",\"size\":128.0},{\"#\":\"#1.0523\",\"count(*)\":2,\"type\":\"GrantAdmin\",\"size\":128.0},{\"#\":\"#1.0524\",\"count(*)\":2,\"type\":\"GroupAdmin\",\"size\":128.0},{\"#\":\"#1.0525\",\"count(*)\":2,\"type\":\"HTTPAdapter\",\"size\":128.0},{\"#\":\"#1.0526\",\"count(*)\":2,\"type\":\"HashContainer\",\"size\":128.0},{\"#\":\"#1.0527\",\"count(*)\":2,\"type\":\"IPFilterAdmin\",\"size\":128.0},{\"#\":\"#1.0528\",\"count(*)\":2,\"type\":\"ImageInput\",\"size\":128.0},{\"#\":\"#1.0529\",\"count(*)\":2,\"type\":\"ImageResponse\",\"size\":128.0},{\"#\":\"#1.0530\",\"count(*)\":2,\"type\":\"IndexExpression\",\"size\":128.0},{\"#\":\"#1.0531\",\"count(*)\":2,\"type\":\"InheritanceManager\",\"size\":128.0},{\"#\":\"#1.0532\",\"count(*)\":2,\"type\":\"InstructorTaskAdmin\",\"size\":128.0},{\"#\":\"#1.0533\",\"count(*)\":2,\"type\":\"InterpolateOp\",\"size\":128.0},{\"#\":\"#1.0534\",\"count(*)\":2,\"type\":\"JSONDecoder\",\"size\":128.0},{\"#\":\"#1.0535\",\"count(*)\":2,\"type\":\"JSONEncoder\",\"size\":128.0},{\"#\":\"#1.0536\",\"count(*)\":2,\"type\":\"LengthReader\",\"size\":128.0},{\"#\":\"#1.0537\",\"count(*)\":2,\"type\":\"LibraryLoader\",\"size\":128.0},{\"#\":\"#1.0538\",\"count(*)\":2,\"type\":\"LimitedStream\",\"size\":128.0},{\"#\":\"#1.0539\",\"count(*)\":2,\"type\":\"LineEnd\",\"size\":128.0},{\"#\":\"#1.0540\",\"count(*)\":2,\"type\":\"LoggerBackend\",\"size\":128.0},{\"#\":\"#1.0541\",\"count(*)\":2,\"type\":\"MPTTOptions\",\"size\":128.0},{\"#\":\"#1.0542\",\"count(*)\":2,\"type\":\"MachAr\",\"size\":128.0},{\"#\":\"#1.0543\",\"count(*)\":2,\"type\":\"Namespace\",\"size\":128.0},{\"#\":\"#1.0544\",\"count(*)\":2,\"type\":\"NextPageField\",\"size\":128.0},{\"#\":\"#1.0545\",\"count(*)\":2,\"type\":\"NonceAdmin\",\"size\":128.0},{\"#\":\"#1.0546\",\"count(*)\":2,\"type\":\"OptoutAdmin\",\"size\":128.0},{\"#\":\"#1.0547\",\"count(*)\":2,\"type\":\"PSSymbolTable\",\"size\":128.0},{\"#\":\"#1.0548\",\"count(*)\":2,\"type\":\"PeerWorkflowAdmin\",\"size\":128.0},{\"#\":\"#1.0549\",\"count(*)\":2,\"type\":\"PeriodicTaskAdmin\",\"size\":128.0},{\"#\":\"#1.0550\",\"count(*)\":2,\"type\":\"PoolManager\",\"size\":128.0},{\"#\":\"#1.0551\",\"count(*)\":2,\"type\":\"PreviousPageField\",\"size\":128.0},{\"#\":\"#1.0552\",\"count(*)\":2,\"type\":\"PrimaryKeyRelatedField\",\"size\":128.0},{\"#\":\"#1.0553\",\"count(*)\":2,\"type\":\"ProfileAdmin\",\"size\":128.0},{\"#\":\"#1.0554\",\"count(*)\":2,\"type\":\"ProjectOp\",\"size\":128.0},{\"#\":\"#1.0555\",\"count(*)\":2,\"type\":\"PythonIntegerRing\",\"size\":128.0},{\"#\":\"#1.0556\",\"count(*)\":2,\"type\":\"PythonRationalType\",\"size\":128.0},{\"#\":\"#1.0557\",\"count(*)\":2,\"type\":\"Quitter\",\"size\":128.0},{\"#\":\"#1.0558\",\"count(*)\":2,\"type\":\"RecentlyUsedContainer\",\"size\":128.0},{\"#\":\"#1.0559\",\"count(*)\":2,\"type\":\"RegexField\",\"size\":128.0},{\"#\":\"#1.0560\",\"count(*)\":2,\"type\":\"ResourceLoader\",\"size\":128.0},{\"#\":\"#1.0561\",\"count(*)\":2,\"type\":\"RestrictedCourseAdmin\",\"size\":128.0},{\"#\":\"#1.0562\",\"count(*)\":2,\"type\":\"RoleCache\",\"size\":128.0},{\"#\":\"#1.0563\",\"count(*)\":2,\"type\":\"RubricAdmin\",\"size\":128.0},{\"#\":\"#1.0564\",\"count(*)\":2,\"type\":\"ScoreAdmin\",\"size\":128.0},{\"#\":\"#1.0565\",\"count(*)\":2,\"type\":\"ScoreSummaryAdmin\",\"size\":128.0},{\"#\":\"#1.0566\",\"count(*)\":2,\"type\":\"SessionNegotiator\",\"size\":128.0},{\"#\":\"#1.0567\",\"count(*)\":2,\"type\":\"SessionStorage\",\"size\":128.0},{\"#\":\"#1.0568\",\"count(*)\":2,\"type\":\"SessionStore\",\"size\":128.0},{\"#\":\"#1.0569\",\"count(*)\":2,\"type\":\"SiteAdmin\",\"size\":128.0},{\"#\":\"#1.0570\",\"count(*)\":2,\"type\":\"SlugRelatedField\",\"size\":128.0},{\"#\":\"#1.0571\",\"count(*)\":2,\"type\":\"SmallIntegerField\",\"size\":128.0},{\"#\":\"#1.0572\",\"count(*)\":2,\"type\":\"SocketUnreader\",\"size\":128.0},{\"#\":\"#1.0573\",\"count(*)\":2,\"type\":\"SortDirection\",\"size\":128.0},{\"#\":\"#1.0574\",\"count(*)\":2,\"type\":\"StreamHandler\",\"size\":128.0},{\"#\":\"#1.0575\",\"count(*)\":2,\"type\":\"StringResponse\",\"size\":128.0},{\"#\":\"#1.0576\",\"count(*)\":2,\"type\":\"StudentItemAdmin\",\"size\":128.0},{\"#\":\"#1.0577\",\"count(*)\":2,\"type\":\"SubmissionAdmin\",\"size\":128.0},{\"#\":\"#1.0578\",\"count(*)\":2,\"type\":\"SurveyFormAdmin\",\"size\":128.0},{\"#\":\"#1.0579\",\"count(*)\":2,\"type\":\"SymPyIntegerRing\",\"size\":128.0},{\"#\":\"#1.0580\",\"count(*)\":2,\"type\":\"SysLogHandler\",\"size\":128.0},{\"#\":\"#1.0581\",\"count(*)\":2,\"type\":\"TaskMonitor\",\"size\":128.0},{\"#\":\"#1.0582\",\"count(*)\":2,\"type\":\"TrustedClientAdmin\",\"size\":128.0},{\"#\":\"#1.0583\",\"count(*)\":2,\"type\":\"URLPathAdmin\",\"size\":128.0},{\"#\":\"#1.0584\",\"count(*)\":2,\"type\":\"UTC\",\"size\":128.0},{\"#\":\"#1.0585\",\"count(*)\":2,\"type\":\"UnaryRealProperty\",\"size\":128.0},{\"#\":\"#1.0586\",\"count(*)\":2,\"type\":\"Undefined\",\"size\":128.0},{\"#\":\"#1.0587\",\"count(*)\":2,\"type\":\"UndirectedFunctionApplication\",\"size\":128.0},{\"#\":\"#1.0588\",\"count(*)\":2,\"type\":\"UndirectedSubstitution\",\"size\":128.0},{\"#\":\"#1.0589\",\"count(*)\":2,\"type\":\"UndirectedTypeRaise\",\"size\":128.0},{\"#\":\"#1.0590\",\"count(*)\":2,\"type\":\"UserAdmin\",\"size\":128.0},{\"#\":\"#1.0591\",\"count(*)\":2,\"type\":\"UserOpenIDAdmin\",\"size\":128.0},{\"#\":\"#1.0592\",\"count(*)\":2,\"type\":\"VideoAdmin\",\"size\":128.0},{\"#\":\"#1.0593\",\"count(*)\":2,\"type\":\"WSGIRequest\",\"size\":128.0},{\"#\":\"#1.0594\",\"count(*)\":2,\"type\":\"WeightedGrammar\",\"size\":128.0},{\"#\":\"#1.0595\",\"count(*)\":2,\"type\":\"WhitespaceTokenizer\",\"size\":128.0},{\"#\":\"#1.0596\",\"count(*)\":2,\"type\":\"WordPunctTokenizer\",\"size\":128.0},{\"#\":\"#1.0597\",\"count(*)\":2,\"type\":\"WorkerMonitor\",\"size\":128.0},{\"#\":\"#1.0598\",\"count(*)\":2,\"type\":\"_EnsureCsrfCookie\",\"size\":128.0},{\"#\":\"#1.0599\",\"count(*)\":2,\"type\":\"_EnsureCsrfToken\",\"size\":128.0},{\"#\":\"#1.0600\",\"count(*)\":2,\"type\":\"_MainProcess\",\"size\":128.0},{\"#\":\"#1.0601\",\"count(*)\":2,\"type\":\"_MetaSubClass\",\"size\":128.0},{\"#\":\"#1.0602\",\"count(*)\":2,\"type\":\"_RouteClassAttributeToGetattr\",\"size\":128.0},{\"#\":\"#1.0603\",\"count(*)\":2,\"type\":\"_Semaphore\",\"size\":128.0},{\"#\":\"#1.0604\",\"count(*)\":2,\"type\":\"_automodule\",\"size\":128.0},{\"#\":\"#1.0605\",\"count(*)\":2,\"type\":\"_nogil\",\"size\":128.0},{\"#\":\"#1.0606\",\"count(*)\":2,\"type\":\"finfo\",\"size\":128.0},{\"#\":\"#1.0607\",\"count(*)\":2,\"type\":\"frechet_l_gen\",\"size\":128.0},{\"#\":\"#1.0608\",\"count(*)\":2,\"type\":\"frechet_r_gen\",\"size\":128.0},{\"#\":\"#1.0609\",\"count(*)\":2,\"type\":\"listiterator\",\"size\":128.0},{\"#\":\"#1.0610\",\"count(*)\":2,\"type\":\"nd_grid\",\"size\":128.0},{\"#\":\"#1.0611\",\"count(*)\":2,\"type\":\"vonmises_gen\",\"size\":128.0},{\"#\":\"#1.0612\",\"count(*)\":1,\"type\":\"MaskedConstant\",\"size\":120.0},{\"#\":\"#1.0613\",\"count(*)\":1,\"type\":\"Mode\",\"size\":120.0},{\"#\":\"#1.0614\",\"count(*)\":1,\"type\":\"promise\",\"size\":120.0},{\"#\":\"#1.0615\",\"count(*)\":2,\"type\":\"Expression\",\"size\":112.0},{\"#\":\"#1.0616\",\"count(*)\":1,\"type\":\"NegativeOne\",\"size\":112.0},{\"#\":\"#1.0617\",\"count(*)\":1,\"type\":\"One\",\"size\":112.0},{\"#\":\"#1.0618\",\"count(*)\":1,\"type\":\"Zero\",\"size\":112.0},{\"#\":\"#1.0619\",\"count(*)\":1,\"type\":\"lxml.etree._LogEntry\",\"size\":112.0},{\"#\":\"#1.0620\",\"count(*)\":1,\"type\":\"simplejson._speedups.Scanner\",\"size\":112.0},{\"#\":\"#1.0621\",\"count(*)\":1,\"type\":\"sys.float_info\",\"size\":112.0},{\"#\":\"#1.0622\",\"count(*)\":1,\"type\":\"EmptySet\",\"size\":104.0},{\"#\":\"#1.0623\",\"count(*)\":1,\"type\":\"GlobalParserTLS\",\"size\":104.0},{\"#\":\"#1.0624\",\"count(*)\":1,\"type\":\"Half\",\"size\":104.0},{\"#\":\"#1.0625\",\"count(*)\":1,\"type\":\"Infinity\",\"size\":104.0},{\"#\":\"#1.0626\",\"count(*)\":1,\"type\":\"LGEOS16LR\",\"size\":104.0},{\"#\":\"#1.0627\",\"count(*)\":1,\"type\":\"NaN\",\"size\":104.0},{\"#\":\"#1.0628\",\"count(*)\":1,\"type\":\"NegativeInfinity\",\"size\":104.0},{\"#\":\"#1.0629\",\"count(*)\":1,\"type\":\"Tuple\",\"size\":104.0},{\"#\":\"#1.0630\",\"count(*)\":1,\"type\":\"_CcxContext\",\"size\":104.0},{\"#\":\"#1.0631\",\"count(*)\":1,\"type\":\"_OverridesDisabled\",\"size\":104.0},{\"#\":\"#1.0632\",\"count(*)\":1,\"type\":\"_TLS\",\"size\":104.0},{\"#\":\"#1.0633\",\"count(*)\":1,\"type\":\"_json.Scanner\",\"size\":104.0},{\"#\":\"#1.0634\",\"count(*)\":1,\"type\":\"error\",\"size\":104.0},{\"#\":\"#1.0635\",\"count(*)\":1,\"type\":\"AuthenticationString\",\"size\":101.0},{\"#\":\"#1.0636\",\"count(*)\":2,\"type\":\"_csv.Dialect\",\"size\":96.0},{\"#\":\"#1.0637\",\"count(*)\":6,\"type\":\"imp.NullImporter\",\"size\":96.0},{\"#\":\"#1.0638\",\"count(*)\":1,\"type\":\"doc\",\"size\":93.0},{\"#\":\"#1.0639\",\"count(*)\":1,\"type\":\"Catalan\",\"size\":88.0},{\"#\":\"#1.0640\",\"count(*)\":1,\"type\":\"ComplexInfinity\",\"size\":88.0},{\"#\":\"#1.0641\",\"count(*)\":1,\"type\":\"EulerGamma\",\"size\":88.0},{\"#\":\"#1.0642\",\"count(*)\":1,\"type\":\"Exp1\",\"size\":88.0},{\"#\":\"#1.0643\",\"count(*)\":1,\"type\":\"GoldenRatio\",\"size\":88.0},{\"#\":\"#1.0644\",\"count(*)\":1,\"type\":\"IdentityFunction\",\"size\":88.0},{\"#\":\"#1.0645\",\"count(*)\":1,\"type\":\"ImaginaryUnit\",\"size\":88.0},{\"#\":\"#1.0646\",\"count(*)\":1,\"type\":\"NumberSymbol\",\"size\":88.0},{\"#\":\"#1.0647\",\"count(*)\":1,\"type\":\"Pi\",\"size\":88.0},{\"#\":\"#1.0648\",\"count(*)\":1,\"type\":\"VersionTuple\",\"size\":88.0},{\"#\":\"#1.0649\",\"count(*)\":1,\"type\":\"lxml.etree.ElementDefaultClassLookup\",\"size\":88.0},{\"#\":\"#1.0650\",\"count(*)\":1,\"type\":\"name\",\"size\":81.0},{\"#\":\"#1.0651\",\"count(*)\":1,\"type\":\"ExtCodecData\",\"size\":80.0},{\"#\":\"#1.0652\",\"count(*)\":1,\"type\":\"ParseException\",\"size\":80.0},{\"#\":\"#1.0653\",\"count(*)\":1,\"type\":\"_Call\",\"size\":80.0},{\"#\":\"#1.0654\",\"count(*)\":2,\"type\":\"datetime.time\",\"size\":80.0},{\"#\":\"#1.0655\",\"count(*)\":1,\"type\":\"generator\",\"size\":80.0},{\"#\":\"#1.0656\",\"count(*)\":1,\"type\":\"lxml.etree.ParserBasedElementClassLookup\",\"size\":80.0},{\"#\":\"#1.0657\",\"count(*)\":1,\"type\":\"lxml.etree._ParserDictionaryContext\",\"size\":80.0},{\"#\":\"#1.0658\",\"count(*)\":1,\"type\":\"CourseTabList\",\"size\":72.0},{\"#\":\"#1.0659\",\"count(*)\":1,\"type\":\"Filesystem\",\"size\":72.0},{\"#\":\"#1.0660\",\"count(*)\":1,\"type\":\"GroupAccessDict\",\"size\":72.0},{\"#\":\"#1.0661\",\"count(*)\":1,\"type\":\"Randomization\",\"size\":72.0},{\"#\":\"#1.0662\",\"count(*)\":1,\"type\":\"ReferenceValueDict\",\"size\":72.0},{\"#\":\"#1.0663\",\"count(*)\":1,\"type\":\"Status\",\"size\":72.0},{\"#\":\"#1.0664\",\"count(*)\":1,\"type\":\"TextbookList\",\"size\":72.0},{\"#\":\"#1.0665\",\"count(*)\":1,\"type\":\"VersionInteger\",\"size\":72.0},{\"#\":\"#1.0666\",\"count(*)\":1,\"type\":\"exceptions.MemoryError\",\"size\":72.0},{\"#\":\"#1.0667\",\"count(*)\":1,\"type\":\"exceptions.RuntimeError\",\"size\":72.0},{\"#\":\"#1.0668\",\"count(*)\":1,\"type\":\"exceptions.TypeError\",\"size\":72.0},{\"#\":\"#1.0669\",\"count(*)\":1,\"type\":\"mpc\",\"size\":72.0},{\"#\":\"#1.0670\",\"count(*)\":1,\"type\":\"APISettings\",\"size\":64.0},{\"#\":\"#1.0671\",\"count(*)\":1,\"type\":\"AccessLog\",\"size\":64.0},{\"#\":\"#1.0672\",\"count(*)\":1,\"type\":\"AccessLogFormat\",\"size\":64.0},{\"#\":\"#1.0673\",\"count(*)\":1,\"type\":\"AccessTokenManager\",\"size\":64.0},{\"#\":\"#1.0674\",\"count(*)\":1,\"type\":\"Add\",\"size\":64.0},{\"#\":\"#1.0675\",\"count(*)\":1,\"type\":\"AdminEmailHandler\",\"size\":64.0},{\"#\":\"#1.0676\",\"count(*)\":1,\"type\":\"AdminSite\",\"size\":64.0},{\"#\":\"#1.0677\",\"count(*)\":1,\"type\":\"AgentLimitsSettings\",\"size\":64.0},{\"#\":\"#1.0678\",\"count(*)\":1,\"type\":\"AjaxExceptionMiddleware\",\"size\":64.0},{\"#\":\"#1.0679\",\"count(*)\":1,\"type\":\"AnalyticsEventsSettings\",\"size\":64.0},{\"#\":\"#1.0680\",\"count(*)\":1,\"type\":\"AnalyticsEventsTransactionsSettings\",\"size\":64.0},{\"#\":\"#1.0681\",\"count(*)\":1,\"type\":\"AnonymousUser\",\"size\":64.0},{\"#\":\"#1.0682\",\"count(*)\":1,\"type\":\"AnyType\",\"size\":64.0},{\"#\":\"#1.0683\",\"count(*)\":1,\"type\":\"AppCache\",\"size\":64.0},{\"#\":\"#1.0684\",\"count(*)\":1,\"type\":\"AppConfOptions\",\"size\":64.0},{\"#\":\"#1.0685\",\"count(*)\":1,\"type\":\"AppLoader\",\"size\":64.0},{\"#\":\"#1.0686\",\"count(*)\":1,\"type\":\"Arbiter\",\"size\":64.0},{\"#\":\"#1.0687\",\"count(*)\":1,\"type\":\"ArticleFkManager\",\"size\":64.0},{\"#\":\"#1.0688\",\"count(*)\":1,\"type\":\"ArticleManager\",\"size\":64.0},{\"#\":\"#1.0689\",\"count(*)\":1,\"type\":\"ArticleQuerySet\",\"size\":64.0},{\"#\":\"#1.0690\",\"count(*)\":1,\"type\":\"AssessmentFeedbackOptionSerializer\",\"size\":64.0},{\"#\":\"#1.0691\",\"count(*)\":1,\"type\":\"AssessmentSerializer\",\"size\":64.0},{\"#\":\"#1.0692\",\"count(*)\":1,\"type\":\"AugLoad\",\"size\":64.0},{\"#\":\"#1.0693\",\"count(*)\":1,\"type\":\"AugStore\",\"size\":64.0},{\"#\":\"#1.0694\",\"count(*)\":1,\"type\":\"Backend\",\"size\":64.0},{\"#\":\"#1.0695\",\"count(*)\":1,\"type\":\"Backlog\",\"size\":64.0},{\"#\":\"#1.0696\",\"count(*)\":1,\"type\":\"BackwardTypeRaiseRule\",\"size\":64.0},{\"#\":\"#1.0697\",\"count(*)\":1,\"type\":\"BinaryRealProperty\",\"size\":64.0},{\"#\":\"#1.0698\",\"count(*)\":1,\"type\":\"Bind\",\"size\":64.0},{\"#\":\"#1.0699\",\"count(*)\":1,\"type\":\"BitAnd\",\"size\":64.0},{\"#\":\"#1.0700\",\"count(*)\":1,\"type\":\"BitOr\",\"size\":64.0},{\"#\":\"#1.0701\",\"count(*)\":1,\"type\":\"BitXor\",\"size\":64.0},{\"#\":\"#1.0702\",\"count(*)\":1,\"type\":\"BlanklineTokenizer\",\"size\":64.0},{\"#\":\"#1.0703\",\"count(*)\":1,\"type\":\"BlockTypeKeyField\",\"size\":64.0},{\"#\":\"#1.0704\",\"count(*)\":1,\"type\":\"BoundsOp\",\"size\":64.0},{\"#\":\"#1.0705\",\"count(*)\":1,\"type\":\"BrowserMonitorSettings\",\"size\":64.0},{\"#\":\"#1.0706\",\"count(*)\":1,\"type\":\"CCGVar\",\"size\":64.0},{\"#\":\"#1.0707\",\"count(*)\":1,\"type\":\"CClass\",\"size\":64.0},{\"#\":\"#1.0708\",\"count(*)\":1,\"type\":\"CacheBackedAuthenticationMiddleware\",\"size\":64.0},{\"#\":\"#1.0709\",\"count(*)\":1,\"type\":\"CachedDnsName\",\"size\":64.0},{\"#\":\"#1.0710\",\"count(*)\":1,\"type\":\"CaseInsensitiveDict\",\"size\":64.0},{\"#\":\"#1.0711\",\"count(*)\":1,\"type\":\"Celery\",\"size\":64.0},{\"#\":\"#1.0712\",\"count(*)\":1,\"type\":\"CertFile\",\"size\":64.0},{\"#\":\"#1.0713\",\"count(*)\":1,\"type\":\"ChartParser\",\"size\":64.0},{\"#\":\"#1.0714\",\"count(*)\":1,\"type\":\"CommonMiddleware\",\"size\":64.0},{\"#\":\"#1.0715\",\"count(*)\":1,\"type\":\"CompleterRule\",\"size\":64.0},{\"#\":\"#1.0716\",\"count(*)\":1,\"type\":\"CompressedTextField\",\"size\":64.0},{\"#\":\"#1.0717\",\"count(*)\":1,\"type\":\"ConditionalGetMiddleware\",\"size\":64.0},{\"#\":\"#1.0718\",\"count(*)\":1,\"type\":\"Config\",\"size\":64.0},{\"#\":\"#1.0719\",\"count(*)\":1,\"type\":\"ConfigCheck\",\"size\":64.0},{\"#\":\"#1.0720\",\"count(*)\":1,\"type\":\"ConfigFile\",\"size\":64.0},{\"#\":\"#1.0721\",\"count(*)\":1,\"type\":\"ConnectionHandler\",\"size\":64.0},{\"#\":\"#1.0722\",\"count(*)\":1,\"type\":\"ConnectionRouter\",\"size\":64.0},{\"#\":\"#1.0723\",\"count(*)\":1,\"type\":\"ConsoleSettings\",\"size\":64.0},{\"#\":\"#1.0724\",\"count(*)\":1,\"type\":\"ContentTypeManager\",\"size\":64.0},{\"#\":\"#1.0725\",\"count(*)\":1,\"type\":\"ContextFreeGrammar\",\"size\":64.0},{\"#\":\"#1.0726\",\"count(*)\":1,\"type\":\"CorsMiddleware\",\"size\":64.0},{\"#\":\"#1.0727\",\"count(*)\":1,\"type\":\"Countries\",\"size\":64.0},{\"#\":\"#1.0728\",\"count(*)\":1,\"type\":\"CountryMiddleware\",\"size\":64.0},{\"#\":\"#1.0729\",\"count(*)\":1,\"type\":\"CourseAccessRoleAdmin\",\"size\":64.0},{\"#\":\"#1.0730\",\"count(*)\":1,\"type\":\"CourseModeAdmin\",\"size\":64.0},{\"#\":\"#1.0731\",\"count(*)\":1,\"type\":\"CourseModuleWithMixins\",\"size\":64.0},{\"#\":\"#1.0732\",\"count(*)\":1,\"type\":\"CourseRerunUIStateManager\",\"size\":64.0},{\"#\":\"#1.0733\",\"count(*)\":1,\"type\":\"CourseSerializer\",\"size\":64.0},{\"#\":\"#1.0734\",\"count(*)\":1,\"type\":\"CourseStructureAdmin\",\"size\":64.0},{\"#\":\"#1.0735\",\"count(*)\":1,\"type\":\"CriterionSerializer\",\"size\":64.0},{\"#\":\"#1.0736\",\"count(*)\":1,\"type\":\"CrossApplicationTracerSettings\",\"size\":64.0},{\"#\":\"#1.0737\",\"count(*)\":1,\"type\":\"CurrentRequestUserMiddleware\",\"size\":64.0},{\"#\":\"#1.0738\",\"count(*)\":1,\"type\":\"CythonDotParallel\",\"size\":64.0},{\"#\":\"#1.0739\",\"count(*)\":1,\"type\":\"Daemon\",\"size\":64.0},{\"#\":\"#1.0740\",\"count(*)\":1,\"type\":\"DarkLangMiddleware\",\"size\":64.0},{\"#\":\"#1.0741\",\"count(*)\":1,\"type\":\"DatabaseClient\",\"size\":64.0},{\"#\":\"#1.0742\",\"count(*)\":1,\"type\":\"DatabaseCreation\",\"size\":64.0},{\"#\":\"#1.0743\",\"count(*)\":1,\"type\":\"DatabaseFeatures\",\"size\":64.0},{\"#\":\"#1.0744\",\"count(*)\":1,\"type\":\"DatabaseIntrospection\",\"size\":64.0},{\"#\":\"#1.0745\",\"count(*)\":1,\"type\":\"DatabaseValidation\",\"size\":64.0},{\"#\":\"#1.0746\",\"count(*)\":1,\"type\":\"DatabaseWrapper\",\"size\":64.0},{\"#\":\"#1.0747\",\"count(*)\":1,\"type\":\"DateInput\",\"size\":64.0},{\"#\":\"#1.0748\",\"count(*)\":1,\"type\":\"Debug\",\"size\":64.0},{\"#\":\"#1.0749\",\"count(*)\":1,\"type\":\"DebugSettings\",\"size\":64.0},{\"#\":\"#1.0750\",\"count(*)\":1,\"type\":\"Decode\",\"size\":64.0},{\"#\":\"#1.0751\",\"count(*)\":1,\"type\":\"DefaultConnectionProxy\",\"size\":64.0},{\"#\":\"#1.0752\",\"count(*)\":1,\"type\":\"DefaultProcName\",\"size\":64.0},{\"#\":\"#1.0753\",\"count(*)\":1,\"type\":\"Del\",\"size\":64.0},{\"#\":\"#1.0754\",\"count(*)\":1,\"type\":\"Div\",\"size\":64.0},{\"#\":\"#1.0755\",\"count(*)\":1,\"type\":\"DjangoFixup\",\"size\":64.0},{\"#\":\"#1.0756\",\"count(*)\":1,\"type\":\"DjangoSettings\",\"size\":64.0},{\"#\":\"#1.0757\",\"count(*)\":1,\"type\":\"DjangoTracker\",\"size\":64.0},{\"#\":\"#1.0758\",\"count(*)\":1,\"type\":\"DogHttpApi\",\"size\":64.0},{\"#\":\"#1.0759\",\"count(*)\":1,\"type\":\"DogStatsApi\",\"size\":64.0},{\"#\":\"#1.0760\",\"count(*)\":1,\"type\":\"Downloader\",\"size\":64.0},{\"#\":\"#1.0761\",\"count(*)\":1,\"type\":\"DraftModuleStore\",\"size\":64.0},{\"#\":\"#1.0762\",\"count(*)\":1,\"type\":\"DraftVersioningModuleStore\",\"size\":64.0},{\"#\":\"#1.0763\",\"count(*)\":1,\"type\":\"EmailValidator\",\"size\":64.0},{\"#\":\"#1.0764\",\"count(*)\":1,\"type\":\"EnableStdioInheritance\",\"size\":64.0},{\"#\":\"#1.0765\",\"count(*)\":1,\"type\":\"EncodedVideoSerializer\",\"size\":64.0},{\"#\":\"#1.0766\",\"count(*)\":1,\"type\":\"EndToken\",\"size\":64.0},{\"#\":\"#1.0767\",\"count(*)\":1,\"type\":\"EntityType\",\"size\":64.0},{\"#\":\"#1.0768\",\"count(*)\":1,\"type\":\"Eq\",\"size\":64.0},{\"#\":\"#1.0769\",\"count(*)\":1,\"type\":\"ErrorCollectorSettings\",\"size\":64.0},{\"#\":\"#1.0770\",\"count(*)\":1,\"type\":\"ErrorLog\",\"size\":64.0},{\"#\":\"#1.0771\",\"count(*)\":1,\"type\":\"EventType\",\"size\":64.0},{\"#\":\"#1.0772\",\"count(*)\":1,\"type\":\"ExpressionDomain\",\"size\":64.0},{\"#\":\"#1.0773\",\"count(*)\":1,\"type\":\"ExtendMarkdownPlugin\",\"size\":64.0},{\"#\":\"#1.0774\",\"count(*)\":1,\"type\":\"ExternalAuthMapAdmin\",\"size\":64.0},{\"#\":\"#1.0775\",\"count(*)\":1,\"type\":\"FPContext\",\"size\":64.0},{\"#\":\"#1.0776\",\"count(*)\":1,\"type\":\"Feature\",\"size\":64.0},{\"#\":\"#1.0777\",\"count(*)\":1,\"type\":\"FeatureCompleterRule\",\"size\":64.0},{\"#\":\"#1.0778\",\"count(*)\":1,\"type\":\"FeatureFundamentalRule\",\"size\":64.0},{\"#\":\"#1.0779\",\"count(*)\":1,\"type\":\"FeaturePredictorRule\",\"size\":64.0},{\"#\":\"#1.0780\",\"count(*)\":1,\"type\":\"FeatureScannerRule\",\"size\":64.0},{\"#\":\"#1.0781\",\"count(*)\":1,\"type\":\"FieldDataCache\",\"size\":64.0},{\"#\":\"#1.0782\",\"count(*)\":1,\"type\":\"FileBasedCache\",\"size\":64.0},{\"#\":\"#1.0783\",\"count(*)\":1,\"type\":\"FileDescriptor\",\"size\":64.0},{\"#\":\"#1.0784\",\"count(*)\":1,\"type\":\"FileField\",\"size\":64.0},{\"#\":\"#1.0785\",\"count(*)\":1,\"type\":\"FilteredCompleteFundamentalRule\",\"size\":64.0},{\"#\":\"#1.0786\",\"count(*)\":1,\"type\":\"FilteredSingleEdgeFundamentalRule\",\"size\":64.0},{\"#\":\"#1.0787\",\"count(*)\":1,\"type\":\"FixedOffset\",\"size\":64.0},{\"#\":\"#1.0788\",\"count(*)\":1,\"type\":\"FloorDiv\",\"size\":64.0},{\"#\":\"#1.0789\",\"count(*)\":1,\"type\":\"ForwardTypeRaiseRule\",\"size\":64.0},{\"#\":\"#1.0790\",\"count(*)\":1,\"type\":\"ForwardedAllowIPS\",\"size\":64.0},{\"#\":\"#1.0791\",\"count(*)\":1,\"type\":\"GEOSImpl\",\"size\":64.0},{\"#\":\"#1.0792\",\"count(*)\":1,\"type\":\"GMPYRationalField\",\"size\":64.0},{\"#\":\"#1.0793\",\"count(*)\":1,\"type\":\"GenericForeignKey\",\"size\":64.0},{\"#\":\"#1.0794\",\"count(*)\":1,\"type\":\"GenericRel\",\"size\":64.0},{\"#\":\"#1.0795\",\"count(*)\":1,\"type\":\"GenericRelation\",\"size\":64.0},{\"#\":\"#1.0796\",\"count(*)\":1,\"type\":\"GracefulTimeout\",\"size\":64.0},{\"#\":\"#1.0797\",\"count(*)\":1,\"type\":\"GridFS\",\"size\":64.0},{\"#\":\"#1.0798\",\"count(*)\":1,\"type\":\"GroupManager\",\"size\":64.0},{\"#\":\"#1.0799\",\"count(*)\":1,\"type\":\"Gt\",\"size\":64.0},{\"#\":\"#1.0800\",\"count(*)\":1,\"type\":\"GtE\",\"size\":64.0},{\"#\":\"#1.0801\",\"count(*)\":1,\"type\":\"HTTPBasicAuth\",\"size\":64.0},{\"#\":\"#1.0802\",\"count(*)\":1,\"type\":\"HtmlFormatter\",\"size\":64.0},{\"#\":\"#1.0803\",\"count(*)\":1,\"type\":\"HyperlinkedIdentityField\",\"size\":64.0},{\"#\":\"#1.0804\",\"count(*)\":1,\"type\":\"HyperlinkedModelSerializerOptions\",\"size\":64.0},{\"#\":\"#1.0805\",\"count(*)\":1,\"type\":\"In\",\"size\":64.0},{\"#\":\"#1.0806\",\"count(*)\":1,\"type\":\"InstructorTab\",\"size\":64.0},{\"#\":\"#1.0807\",\"count(*)\":1,\"type\":\"Invert\",\"size\":64.0},{\"#\":\"#1.0808\",\"count(*)\":1,\"type\":\"InvoiceAdmin\",\"size\":64.0},{\"#\":\"#1.0809\",\"count(*)\":1,\"type\":\"Is\",\"size\":64.0},{\"#\":\"#1.0810\",\"count(*)\":1,\"type\":\"IsNot\",\"size\":64.0},{\"#\":\"#1.0811\",\"count(*)\":1,\"type\":\"JsonField\",\"size\":64.0},{\"#\":\"#1.0812\",\"count(*)\":1,\"type\":\"Keepalive\",\"size\":64.0},{\"#\":\"#1.0813\",\"count(*)\":1,\"type\":\"KeyFile\",\"size\":64.0},{\"#\":\"#1.0814\",\"count(*)\":1,\"type\":\"LShift\",\"size\":64.0},{\"#\":\"#1.0815\",\"count(*)\":1,\"type\":\"LamportClock\",\"size\":64.0},{\"#\":\"#1.0816\",\"count(*)\":1,\"type\":\"LanguagePreferenceMiddleware\",\"size\":64.0},{\"#\":\"#1.0817\",\"count(*)\":1,\"type\":\"LanguageProficiencySerializer\",\"size\":64.0},{\"#\":\"#1.0818\",\"count(*)\":1,\"type\":\"LazyLoader\",\"size\":64.0},{\"#\":\"#1.0819\",\"count(*)\":1,\"type\":\"LazySettings\",\"size\":64.0},{\"#\":\"#1.0820\",\"count(*)\":1,\"type\":\"LegacyFieldMappingProcessor\",\"size\":64.0},{\"#\":\"#1.0821\",\"count(*)\":1,\"type\":\"LimitRequestFieldSize\",\"size\":64.0},{\"#\":\"#1.0822\",\"count(*)\":1,\"type\":\"LimitRequestFields\",\"size\":64.0},{\"#\":\"#1.0823\",\"count(*)\":1,\"type\":\"LimitRequestLine\",\"size\":64.0},{\"#\":\"#1.0824\",\"count(*)\":1,\"type\":\"LineStart\",\"size\":64.0},{\"#\":\"#1.0825\",\"count(*)\":1,\"type\":\"LinkPlugin\",\"size\":64.0},{\"#\":\"#1.0826\",\"count(*)\":1,\"type\":\"LinkedInAddToProfileConfigurationAdmin\",\"size\":64.0},{\"#\":\"#1.0827\",\"count(*)\":1,\"type\":\"Load\",\"size\":64.0},{\"#\":\"#1.0828\",\"count(*)\":1,\"type\":\"LocMemCache\",\"size\":64.0},{\"#\":\"#1.0829\",\"count(*)\":1,\"type\":\"Local\",\"size\":64.0},{\"#\":\"#1.0830\",\"count(*)\":1,\"type\":\"LocaleMiddleware\",\"size\":64.0},{\"#\":\"#1.0831\",\"count(*)\":1,\"type\":\"LocaleTime\",\"size\":64.0},{\"#\":\"#1.0832\",\"count(*)\":1,\"type\":\"LogConfig\",\"size\":64.0},{\"#\":\"#1.0833\",\"count(*)\":1,\"type\":\"LogEntryManager\",\"size\":64.0},{\"#\":\"#1.0834\",\"count(*)\":1,\"type\":\"LoggerClass\",\"size\":64.0},{\"#\":\"#1.0835\",\"count(*)\":1,\"type\":\"Loglevel\",\"size\":64.0},{\"#\":\"#1.0836\",\"count(*)\":1,\"type\":\"Lt\",\"size\":64.0},{\"#\":\"#1.0837\",\"count(*)\":1,\"type\":\"LtE\",\"size\":64.0},{\"#\":\"#1.0838\",\"count(*)\":1,\"type\":\"MPContext\",\"size\":64.0},{\"#\":\"#1.0839\",\"count(*)\":1,\"type\":\"MPIntervalContext\",\"size\":64.0},{\"#\":\"#1.0840\",\"count(*)\":1,\"type\":\"MPmathComplexDomain\",\"size\":64.0},{\"#\":\"#1.0841\",\"count(*)\":1,\"type\":\"MPmathRealDomain\",\"size\":64.0},{\"#\":\"#1.0842\",\"count(*)\":1,\"type\":\"MakoMiddleware\",\"size\":64.0},{\"#\":\"#1.0843\",\"count(*)\":1,\"type\":\"MaxRequests\",\"size\":64.0},{\"#\":\"#1.0844\",\"count(*)\":1,\"type\":\"MessageMiddleware\",\"size\":64.0},{\"#\":\"#1.0845\",\"count(*)\":1,\"type\":\"MicrositeMiddleware\",\"size\":64.0},{\"#\":\"#1.0846\",\"count(*)\":1,\"type\":\"MixedModuleStore\",\"size\":64.0},{\"#\":\"#1.0847\",\"count(*)\":1,\"type\":\"Mod\",\"size\":64.0},{\"#\":\"#1.0848\",\"count(*)\":1,\"type\":\"ModuleWrapper\",\"size\":64.0},{\"#\":\"#1.0849\",\"count(*)\":1,\"type\":\"MongoConnection\",\"size\":64.0},{\"#\":\"#1.0850\",\"count(*)\":1,\"type\":\"MongoContentStore\",\"size\":64.0},{\"#\":\"#1.0851\",\"count(*)\":1,\"type\":\"Mult\",\"size\":64.0},{\"#\":\"#1.0852\",\"count(*)\":1,\"type\":\"NameWhitelistProcessor\",\"size\":64.0},{\"#\":\"#1.0853\",\"count(*)\":1,\"type\":\"NoneAlgorithm\",\"size\":64.0},{\"#\":\"#1.0854\",\"count(*)\":1,\"type\":\"NotEq\",\"size\":64.0},{\"#\":\"#1.0855\",\"count(*)\":1,\"type\":\"NotFound\",\"size\":64.0},{\"#\":\"#1.0856\",\"count(*)\":1,\"type\":\"NotIn\",\"size\":64.0},{\"#\":\"#1.0857\",\"count(*)\":1,\"type\":\"NotifyPlugin\",\"size\":64.0},{\"#\":\"#1.0858\",\"count(*)\":1,\"type\":\"NumWorkersChanged\",\"size\":64.0},{\"#\":\"#1.0859\",\"count(*)\":1,\"type\":\"OSFS\",\"size\":64.0},{\"#\":\"#1.0860\",\"count(*)\":1,\"type\":\"ObjectIdField\",\"size\":64.0},{\"#\":\"#1.0861\",\"count(*)\":1,\"type\":\"OnReload\",\"size\":64.0},{\"#\":\"#1.0862\",\"count(*)\":1,\"type\":\"OnStarting\",\"size\":64.0},{\"#\":\"#1.0863\",\"count(*)\":1,\"type\":\"PDFArrayCompact\",\"size\":64.0},{\"#\":\"#1.0864\",\"count(*)\":1,\"type\":\"Param\",\"size\":64.0},{\"#\":\"#1.0865\",\"count(*)\":1,\"type\":\"PasswordResetTokenGenerator\",\"size\":64.0},{\"#\":\"#1.0866\",\"count(*)\":1,\"type\":\"PeriodicTaskManager\",\"size\":64.0},{\"#\":\"#1.0867\",\"count(*)\":1,\"type\":\"PermissionManager\",\"size\":64.0},{\"#\":\"#1.0868\",\"count(*)\":1,\"type\":\"Pidfile\",\"size\":64.0},{\"#\":\"#1.0869\",\"count(*)\":1,\"type\":\"PipelineCachedStorage\",\"size\":64.0},{\"#\":\"#1.0870\",\"count(*)\":1,\"type\":\"PluginLoader\",\"size\":64.0},{\"#\":\"#1.0871\",\"count(*)\":1,\"type\":\"PointerInstance\",\"size\":64.0},{\"#\":\"#1.0872\",\"count(*)\":1,\"type\":\"PositiveSmallIntegerField\",\"size\":64.0},{\"#\":\"#1.0873\",\"count(*)\":1,\"type\":\"PostRequest\",\"size\":64.0},{\"#\":\"#1.0874\",\"count(*)\":1,\"type\":\"Postfork\",\"size\":64.0},{\"#\":\"#1.0875\",\"count(*)\":1,\"type\":\"Pow\",\"size\":64.0},{\"#\":\"#1.0876\",\"count(*)\":1,\"type\":\"PreExec\",\"size\":64.0},{\"#\":\"#1.0877\",\"count(*)\":1,\"type\":\"PreRequest\",\"size\":64.0},{\"#\":\"#1.0878\",\"count(*)\":1,\"type\":\"PredictorRule\",\"size\":64.0},{\"#\":\"#1.0879\",\"count(*)\":1,\"type\":\"Prefork\",\"size\":64.0},{\"#\":\"#1.0880\",\"count(*)\":1,\"type\":\"PreloadApp\",\"size\":64.0},{\"#\":\"#1.0881\",\"count(*)\":1,\"type\":\"ProbabilisticFundamentalRule\",\"size\":64.0},{\"#\":\"#1.0882\",\"count(*)\":1,\"type\":\"ProcessHostSettings\",\"size\":64.0},{\"#\":\"#1.0883\",\"count(*)\":1,\"type\":\"Procname\",\"size\":64.0},{\"#\":\"#1.0884\",\"count(*)\":1,\"type\":\"ProxyAllowFrom\",\"size\":64.0},{\"#\":\"#1.0885\",\"count(*)\":1,\"type\":\"ProxyProtocol\",\"size\":64.0},{\"#\":\"#1.0886\",\"count(*)\":1,\"type\":\"PunktParameters\",\"size\":64.0},{\"#\":\"#1.0887\",\"count(*)\":1,\"type\":\"PyDLL\",\"size\":64.0},{\"#\":\"#1.0888\",\"count(*)\":1,\"type\":\"PyJWT\",\"size\":64.0},{\"#\":\"#1.0889\",\"count(*)\":1,\"type\":\"PythonPath\",\"size\":64.0},{\"#\":\"#1.0890\",\"count(*)\":1,\"type\":\"PythonRationalField\",\"size\":64.0},{\"#\":\"#1.0891\",\"count(*)\":1,\"type\":\"QuerySetManager\",\"size\":64.0},{\"#\":\"#1.0892\",\"count(*)\":1,\"type\":\"RClass\",\"size\":64.0},{\"#\":\"#1.0893\",\"count(*)\":1,\"type\":\"RSAImplementation\",\"size\":64.0},{\"#\":\"#1.0894\",\"count(*)\":1,\"type\":\"RShift\",\"size\":64.0},{\"#\":\"#1.0895\",\"count(*)\":1,\"type\":\"RWLock\",\"size\":64.0},{\"#\":\"#1.0896\",\"count(*)\":1,\"type\":\"RateLimitAdminSite\",\"size\":64.0},{\"#\":\"#1.0897\",\"count(*)\":1,\"type\":\"RateLimitMiddleware\",\"size\":64.0},{\"#\":\"#1.0898\",\"count(*)\":1,\"type\":\"ReadOnlyPasswordHashField\",\"size\":64.0},{\"#\":\"#1.0899\",\"count(*)\":1,\"type\":\"ReadOnlyPasswordHashWidget\",\"size\":64.0},{\"#\":\"#1.0900\",\"count(*)\":1,\"type\":\"RedirectUnenrolledMiddleware\",\"size\":64.0},{\"#\":\"#1.0901\",\"count(*)\":1,\"type\":\"RequestCache\",\"size\":64.0},{\"#\":\"#1.0902\",\"count(*)\":1,\"type\":\"RequestsConnectionFilter\",\"size\":64.0},{\"#\":\"#1.0903\",\"count(*)\":1,\"type\":\"RequestsCookieJar\",\"size\":64.0},{\"#\":\"#1.0904\",\"count(*)\":1,\"type\":\"RequireDebugFalse\",\"size\":64.0},{\"#\":\"#1.0905\",\"count(*)\":1,\"type\":\"Retry\",\"size\":64.0},{\"#\":\"#1.0906\",\"count(*)\":1,\"type\":\"ReverseGenericRelatedObjectsDescriptor\",\"size\":64.0},{\"#\":\"#1.0907\",\"count(*)\":1,\"type\":\"RootLogger\",\"size\":64.0},{\"#\":\"#1.0908\",\"count(*)\":1,\"type\":\"RumSettings\",\"size\":64.0},{\"#\":\"#1.0909\",\"count(*)\":1,\"type\":\"SExprTokenizer\",\"size\":64.0},{\"#\":\"#1.0910\",\"count(*)\":1,\"type\":\"ScannerRule\",\"size\":64.0},{\"#\":\"#1.0911\",\"count(*)\":1,\"type\":\"SecureSchemeHeader\",\"size\":64.0},{\"#\":\"#1.0912\",\"count(*)\":1,\"type\":\"SegmentBackend\",\"size\":64.0},{\"#\":\"#1.0913\",\"count(*)\":1,\"type\":\"SerializerRegistry\",\"size\":64.0},{\"#\":\"#1.0914\",\"count(*)\":1,\"type\":\"Session\",\"size\":64.0},{\"#\":\"#1.0915\",\"count(*)\":1,\"type\":\"SessionInactivityTimeout\",\"size\":64.0},{\"#\":\"#1.0916\",\"count(*)\":1,\"type\":\"SessionManager\",\"size\":64.0},{\"#\":\"#1.0917\",\"count(*)\":1,\"type\":\"SessionMiddleware\",\"size\":64.0},{\"#\":\"#1.0918\",\"count(*)\":1,\"type\":\"SignalHandler\",\"size\":64.0},{\"#\":\"#1.0919\",\"count(*)\":1,\"type\":\"Signals\",\"size\":64.0},{\"#\":\"#1.0920\",\"count(*)\":1,\"type\":\"SimpleRouter\",\"size\":64.0},{\"#\":\"#1.0921\",\"count(*)\":1,\"type\":\"SiteManager\",\"size\":64.0},{\"#\":\"#1.0922\",\"count(*)\":1,\"type\":\"SkippedReverificationAdmin\",\"size\":64.0},{\"#\":\"#1.0923\",\"count(*)\":1,\"type\":\"SlashFeature\",\"size\":64.0},{\"#\":\"#1.0924\",\"count(*)\":1,\"type\":\"SlowSqlSettings\",\"size\":64.0},{\"#\":\"#1.0925\",\"count(*)\":1,\"type\":\"SoftDeleteCouponAdmin\",\"size\":64.0},{\"#\":\"#1.0926\",\"count(*)\":1,\"type\":\"SoftDeleteCouponManager\",\"size\":64.0},{\"#\":\"#1.0927\",\"count(*)\":1,\"type\":\"SoftwareSecurePhotoVerificationAdmin\",\"size\":64.0},{\"#\":\"#1.0928\",\"count(*)\":1,\"type\":\"Spew\",\"size\":64.0},{\"#\":\"#1.0929\",\"count(*)\":1,\"type\":\"SplashMiddleware\",\"size\":64.0},{\"#\":\"#1.0930\",\"count(*)\":1,\"type\":\"StaticContentServer\",\"size\":64.0},{\"#\":\"#1.0931\",\"count(*)\":1,\"type\":\"Statistics\",\"size\":64.0},{\"#\":\"#1.0932\",\"count(*)\":1,\"type\":\"StatsdAggregator\",\"size\":64.0},{\"#\":\"#1.0933\",\"count(*)\":1,\"type\":\"Store\",\"size\":64.0},{\"#\":\"#1.0934\",\"count(*)\":1,\"type\":\"StringStart\",\"size\":64.0},{\"#\":\"#1.0935\",\"count(*)\":1,\"type\":\"Sub\",\"size\":64.0},{\"#\":\"#1.0936\",\"count(*)\":1,\"type\":\"SubtitleSerializer\",\"size\":64.0},{\"#\":\"#1.0937\",\"count(*)\":1,\"type\":\"SymPyRationalField\",\"size\":64.0},{\"#\":\"#1.0938\",\"count(*)\":1,\"type\":\"SyncWorker\",\"size\":64.0},{\"#\":\"#1.0939\",\"count(*)\":1,\"type\":\"SyntheticsSettings\",\"size\":64.0},{\"#\":\"#1.0940\",\"count(*)\":1,\"type\":\"Syslog\",\"size\":64.0},{\"#\":\"#1.0941\",\"count(*)\":1,\"type\":\"SyslogFacility\",\"size\":64.0},{\"#\":\"#1.0942\",\"count(*)\":1,\"type\":\"SyslogPrefix\",\"size\":64.0},{\"#\":\"#1.0943\",\"count(*)\":1,\"type\":\"SyslogTo\",\"size\":64.0},{\"#\":\"#1.0944\",\"count(*)\":1,\"type\":\"TCPSocket\",\"size\":64.0},{\"#\":\"#1.0945\",\"count(*)\":1,\"type\":\"TabTokenizer\",\"size\":64.0},{\"#\":\"#1.0946\",\"count(*)\":1,\"type\":\"TaskChoiceField\",\"size\":64.0},{\"#\":\"#1.0947\",\"count(*)\":1,\"type\":\"TaskManager\",\"size\":64.0},{\"#\":\"#1.0948\",\"count(*)\":1,\"type\":\"TaskSelectWidget\",\"size\":64.0},{\"#\":\"#1.0949\",\"count(*)\":1,\"type\":\"TaskSetManager\",\"size\":64.0},{\"#\":\"#1.0950\",\"count(*)\":1,\"type\":\"TaskStateManager\",\"size\":64.0},{\"#\":\"#1.0951\",\"count(*)\":1,\"type\":\"TestLoader\",\"size\":64.0},{\"#\":\"#1.0952\",\"count(*)\":1,\"type\":\"TextCalendar\",\"size\":64.0},{\"#\":\"#1.0953\",\"count(*)\":1,\"type\":\"ThreadLocalContextLocator\",\"size\":64.0},{\"#\":\"#1.0954\",\"count(*)\":1,\"type\":\"ThreadProfilerSettings\",\"size\":64.0},{\"#\":\"#1.0955\",\"count(*)\":1,\"type\":\"Timeout\",\"size\":64.0},{\"#\":\"#1.0956\",\"count(*)\":1,\"type\":\"TmpUploadDir\",\"size\":64.0},{\"#\":\"#1.0957\",\"count(*)\":1,\"type\":\"TrackMiddleware\",\"size\":64.0},{\"#\":\"#1.0958\",\"count(*)\":1,\"type\":\"Trans\",\"size\":64.0},{\"#\":\"#1.0959\",\"count(*)\":1,\"type\":\"TransactionCache\",\"size\":64.0},{\"#\":\"#1.0960\",\"count(*)\":1,\"type\":\"TransactionMetricsSettings\",\"size\":64.0},{\"#\":\"#1.0961\",\"count(*)\":1,\"type\":\"TransactionMiddleware\",\"size\":64.0},{\"#\":\"#1.0962\",\"count(*)\":1,\"type\":\"TransactionNameSettings\",\"size\":64.0},{\"#\":\"#1.0963\",\"count(*)\":1,\"type\":\"TransactionTracerSettings\",\"size\":64.0},{\"#\":\"#1.0964\",\"count(*)\":1,\"type\":\"TreeForeignKey\",\"size\":64.0},{\"#\":\"#1.0965\",\"count(*)\":1,\"type\":\"TreeManager\",\"size\":64.0},{\"#\":\"#1.0966\",\"count(*)\":1,\"type\":\"TreeNodeChoiceField\",\"size\":64.0},{\"#\":\"#1.0967\",\"count(*)\":1,\"type\":\"TreeNodePositionField\",\"size\":64.0},{\"#\":\"#1.0968\",\"count(*)\":1,\"type\":\"TreebankWordTokenizer\",\"size\":64.0},{\"#\":\"#1.0969\",\"count(*)\":1,\"type\":\"Trie\",\"size\":64.0},{\"#\":\"#1.0970\",\"count(*)\":1,\"type\":\"TruthValueType\",\"size\":64.0},{\"#\":\"#1.0971\",\"count(*)\":1,\"type\":\"UAdd\",\"size\":64.0},{\"#\":\"#1.0972\",\"count(*)\":1,\"type\":\"URLPathManager\",\"size\":64.0},{\"#\":\"#1.0973\",\"count(*)\":1,\"type\":\"USub\",\"size\":64.0},{\"#\":\"#1.0974\",\"count(*)\":1,\"type\":\"Umask\",\"size\":64.0},{\"#\":\"#1.0975\",\"count(*)\":1,\"type\":\"UserManager\",\"size\":64.0},{\"#\":\"#1.0976\",\"count(*)\":1,\"type\":\"UserSerializer\",\"size\":64.0},{\"#\":\"#1.0977\",\"count(*)\":1,\"type\":\"UserStandingMiddleware\",\"size\":64.0},{\"#\":\"#1.0978\",\"count(*)\":1,\"type\":\"UserTagsEventContextMiddleware\",\"size\":64.0},{\"#\":\"#1.0979\",\"count(*)\":1,\"type\":\"VerificationStatusAdmin\",\"size\":64.0},{\"#\":\"#1.0980\",\"count(*)\":1,\"type\":\"VideoEventProcessor\",\"size\":64.0},{\"#\":\"#1.0981\",\"count(*)\":1,\"type\":\"ViewNameMiddleware\",\"size\":64.0},{\"#\":\"#1.0982\",\"count(*)\":1,\"type\":\"WSGIApplication\",\"size\":64.0},{\"#\":\"#1.0983\",\"count(*)\":1,\"type\":\"WSGIHandler\",\"size\":64.0},{\"#\":\"#1.0984\",\"count(*)\":1,\"type\":\"WhenReady\",\"size\":64.0},{\"#\":\"#1.0985\",\"count(*)\":1,\"type\":\"WikiAccessMiddleware\",\"size\":64.0},{\"#\":\"#1.0986\",\"count(*)\":1,\"type\":\"WorkerClass\",\"size\":64.0},{\"#\":\"#1.0987\",\"count(*)\":1,\"type\":\"WorkerConnections\",\"size\":64.0},{\"#\":\"#1.0988\",\"count(*)\":1,\"type\":\"WorkerExit\",\"size\":64.0},{\"#\":\"#1.0989\",\"count(*)\":1,\"type\":\"WorkerTmp\",\"size\":64.0},{\"#\":\"#1.0990\",\"count(*)\":1,\"type\":\"Workers\",\"size\":64.0},{\"#\":\"#1.0991\",\"count(*)\":1,\"type\":\"WorkingSet\",\"size\":64.0},{\"#\":\"#1.0992\",\"count(*)\":1,\"type\":\"XForwardedFor\",\"size\":64.0},{\"#\":\"#1.0993\",\"count(*)\":1,\"type\":\"XFrameOptionsMiddleware\",\"size\":64.0},{\"#\":\"#1.0994\",\"count(*)\":1,\"type\":\"XMLEntityEscaper\",\"size\":64.0},{\"#\":\"#1.0995\",\"count(*)\":1,\"type\":\"XModuleStudentInfoField\",\"size\":64.0},{\"#\":\"#1.0996\",\"count(*)\":1,\"type\":\"XQueueInterface\",\"size\":64.0},{\"#\":\"#1.0997\",\"count(*)\":1,\"type\":\"XraySessionSettings\",\"size\":64.0},{\"#\":\"#1.0998\",\"count(*)\":1,\"type\":\"_ANY\",\"size\":64.0},{\"#\":\"#1.0999\",\"count(*)\":1,\"type\":\"_AnyETag\",\"size\":64.0},{\"#\":\"#1.1000\",\"count(*)\":1,\"type\":\"_Constants\",\"size\":64.0},{\"#\":\"#1.1001\",\"count(*)\":1,\"type\":\"_EmptyDecoratorAndManager\",\"size\":64.0},{\"#\":\"#1.1002\",\"count(*)\":1,\"type\":\"_FileOpeners\",\"size\":64.0},{\"#\":\"#1.1003\",\"count(*)\":1,\"type\":\"_FusedType\",\"size\":64.0},{\"#\":\"#1.1004\",\"count(*)\":1,\"type\":\"_Helper\",\"size\":64.0},{\"#\":\"#1.1005\",\"count(*)\":1,\"type\":\"_ImmutableMapping\",\"size\":64.0},{\"#\":\"#1.1006\",\"count(*)\":1,\"type\":\"_JsonImplementation\",\"size\":64.0},{\"#\":\"#1.1007\",\"count(*)\":1,\"type\":\"_LocalStack\",\"size\":64.0},{\"#\":\"#1.1008\",\"count(*)\":1,\"type\":\"_Log10Memoize\",\"size\":64.0},{\"#\":\"#1.1009\",\"count(*)\":1,\"type\":\"_MainThread\",\"size\":64.0},{\"#\":\"#1.1010\",\"count(*)\":1,\"type\":\"_Max\",\"size\":64.0},{\"#\":\"#1.1011\",\"count(*)\":1,\"type\":\"_NoETag\",\"size\":64.0},{\"#\":\"#1.1012\",\"count(*)\":1,\"type\":\"_NullToken\",\"size\":64.0},{\"#\":\"#1.1013\",\"count(*)\":1,\"type\":\"_Sentinel\",\"size\":64.0},{\"#\":\"#1.1014\",\"count(*)\":1,\"type\":\"_This\",\"size\":64.0},{\"#\":\"#1.1015\",\"count(*)\":1,\"type\":\"_UTC\",\"size\":64.0},{\"#\":\"#1.1016\",\"count(*)\":1,\"type\":\"_UnificationFailure\",\"size\":64.0},{\"#\":\"#1.1017\",\"count(*)\":1,\"type\":\"_WarningDescriptor\",\"size\":64.0},{\"#\":\"#1.1018\",\"count(*)\":1,\"type\":\"_Zone\",\"size\":64.0},{\"#\":\"#1.1019\",\"count(*)\":1,\"type\":\"_inherit\",\"size\":64.0},{\"#\":\"#1.1020\",\"count(*)\":1,\"type\":\"_maximum_operation\",\"size\":64.0},{\"#\":\"#1.1021\",\"count(*)\":1,\"type\":\"_minimum_operation\",\"size\":64.0},{\"#\":\"#1.1022\",\"count(*)\":1,\"type\":\"_tzparser\",\"size\":64.0},{\"#\":\"#1.1023\",\"count(*)\":1,\"type\":\"_unspecified\",\"size\":64.0},{\"#\":\"#1.1024\",\"count(*)\":1,\"type\":\"alpha_gen\",\"size\":64.0},{\"#\":\"#1.1025\",\"count(*)\":1,\"type\":\"anglit_gen\",\"size\":64.0},{\"#\":\"#1.1026\",\"count(*)\":1,\"type\":\"arcsine_gen\",\"size\":64.0},{\"#\":\"#1.1027\",\"count(*)\":1,\"type\":\"bernoulli_gen\",\"size\":64.0},{\"#\":\"#1.1028\",\"count(*)\":1,\"type\":\"beta_gen\",\"size\":64.0},{\"#\":\"#1.1029\",\"count(*)\":1,\"type\":\"betaprime_gen\",\"size\":64.0},{\"#\":\"#1.1030\",\"count(*)\":1,\"type\":\"binom_gen\",\"size\":64.0},{\"#\":\"#1.1031\",\"count(*)\":1,\"type\":\"boltzmann_gen\",\"size\":64.0},{\"#\":\"#1.1032\",\"count(*)\":1,\"type\":\"bradford_gen\",\"size\":64.0},{\"#\":\"#1.1033\",\"count(*)\":1,\"type\":\"burr_gen\",\"size\":64.0},{\"#\":\"#1.1034\",\"count(*)\":1,\"type\":\"cauchy_gen\",\"size\":64.0},{\"#\":\"#1.1035\",\"count(*)\":1,\"type\":\"celery\",\"size\":64.0},{\"#\":\"#1.1036\",\"count(*)\":1,\"type\":\"chi2_gen\",\"size\":64.0},{\"#\":\"#1.1037\",\"count(*)\":1,\"type\":\"chi_gen\",\"size\":64.0},{\"#\":\"#1.1038\",\"count(*)\":1,\"type\":\"colored\",\"size\":64.0},{\"#\":\"#1.1039\",\"count(*)\":1,\"type\":\"control\",\"size\":64.0},{\"#\":\"#1.1040\",\"count(*)\":1,\"type\":\"cosine_gen\",\"size\":64.0},{\"#\":\"#1.1041\",\"count(*)\":1,\"type\":\"decorators\",\"size\":64.0},{\"#\":\"#1.1042\",\"count(*)\":1,\"type\":\"dgamma_gen\",\"size\":64.0},{\"#\":\"#1.1043\",\"count(*)\":1,\"type\":\"dlaplace_gen\",\"size\":64.0},{\"#\":\"#1.1044\",\"count(*)\":1,\"type\":\"dweibull_gen\",\"size\":64.0},{\"#\":\"#1.1045\",\"count(*)\":1,\"type\":\"erlang_gen\",\"size\":64.0},{\"#\":\"#1.1046\",\"count(*)\":1,\"type\":\"execute\",\"size\":64.0},{\"#\":\"#1.1047\",\"count(*)\":1,\"type\":\"expon_gen\",\"size\":64.0},{\"#\":\"#1.1048\",\"count(*)\":1,\"type\":\"exponpow_gen\",\"size\":64.0},{\"#\":\"#1.1049\",\"count(*)\":1,\"type\":\"exponweib_gen\",\"size\":64.0},{\"#\":\"#1.1050\",\"count(*)\":1,\"type\":\"f_gen\",\"size\":64.0},{\"#\":\"#1.1051\",\"count(*)\":1,\"type\":\"fatiguelife_gen\",\"size\":64.0},{\"#\":\"#1.1052\",\"count(*)\":1,\"type\":\"fisk_gen\",\"size\":64.0},{\"#\":\"#1.1053\",\"count(*)\":1,\"type\":\"foldcauchy_gen\",\"size\":64.0},{\"#\":\"#1.1054\",\"count(*)\":1,\"type\":\"foldnorm_gen\",\"size\":64.0},{\"#\":\"#1.1055\",\"count(*)\":1,\"type\":\"gamma_gen\",\"size\":64.0},{\"#\":\"#1.1056\",\"count(*)\":1,\"type\":\"gausshyper_gen\",\"size\":64.0},{\"#\":\"#1.1057\",\"count(*)\":1,\"type\":\"genexpon_gen\",\"size\":64.0},{\"#\":\"#1.1058\",\"count(*)\":1,\"type\":\"genextreme_gen\",\"size\":64.0},{\"#\":\"#1.1059\",\"count(*)\":1,\"type\":\"gengamma_gen\",\"size\":64.0},{\"#\":\"#1.1060\",\"count(*)\":1,\"type\":\"genhalflogistic_gen\",\"size\":64.0},{\"#\":\"#1.1061\",\"count(*)\":1,\"type\":\"genlogistic_gen\",\"size\":64.0},{\"#\":\"#1.1062\",\"count(*)\":1,\"type\":\"genpareto_gen\",\"size\":64.0},{\"#\":\"#1.1063\",\"count(*)\":1,\"type\":\"geom_gen\",\"size\":64.0},{\"#\":\"#1.1064\",\"count(*)\":1,\"type\":\"gilbrat_gen\",\"size\":64.0},{\"#\":\"#1.1065\",\"count(*)\":1,\"type\":\"gompertz_gen\",\"size\":64.0},{\"#\":\"#1.1066\",\"count(*)\":1,\"type\":\"gumbel_l_gen\",\"size\":64.0},{\"#\":\"#1.1067\",\"count(*)\":1,\"type\":\"gumbel_r_gen\",\"size\":64.0},{\"#\":\"#1.1068\",\"count(*)\":1,\"type\":\"halfcauchy_gen\",\"size\":64.0},{\"#\":\"#1.1069\",\"count(*)\":1,\"type\":\"halflogistic_gen\",\"size\":64.0},{\"#\":\"#1.1070\",\"count(*)\":1,\"type\":\"halfnorm_gen\",\"size\":64.0},{\"#\":\"#1.1071\",\"count(*)\":1,\"type\":\"hypergeom_gen\",\"size\":64.0},{\"#\":\"#1.1072\",\"count(*)\":1,\"type\":\"hypsecant_gen\",\"size\":64.0},{\"#\":\"#1.1073\",\"count(*)\":1,\"type\":\"invgamma_gen\",\"size\":64.0},{\"#\":\"#1.1074\",\"count(*)\":1,\"type\":\"invgauss_gen\",\"size\":64.0},{\"#\":\"#1.1075\",\"count(*)\":1,\"type\":\"invweibull_gen\",\"size\":64.0},{\"#\":\"#1.1076\",\"count(*)\":1,\"type\":\"ivmpc\",\"size\":64.0},{\"#\":\"#1.1077\",\"count(*)\":1,\"type\":\"johnsonsb_gen\",\"size\":64.0},{\"#\":\"#1.1078\",\"count(*)\":1,\"type\":\"johnsonsu_gen\",\"size\":64.0},{\"#\":\"#1.1079\",\"count(*)\":1,\"type\":\"ksone_gen\",\"size\":64.0},{\"#\":\"#1.1080\",\"count(*)\":1,\"type\":\"kstwobign_gen\",\"size\":64.0},{\"#\":\"#1.1081\",\"count(*)\":1,\"type\":\"laplace_gen\",\"size\":64.0},{\"#\":\"#1.1082\",\"count(*)\":1,\"type\":\"levy_gen\",\"size\":64.0},{\"#\":\"#1.1083\",\"count(*)\":1,\"type\":\"levy_l_gen\",\"size\":64.0},{\"#\":\"#1.1084\",\"count(*)\":1,\"type\":\"levy_stable_gen\",\"size\":64.0},{\"#\":\"#1.1085\",\"count(*)\":1,\"type\":\"log\",\"size\":64.0},{\"#\":\"#1.1086\",\"count(*)\":1,\"type\":\"loggamma_gen\",\"size\":64.0},{\"#\":\"#1.1087\",\"count(*)\":1,\"type\":\"logistic_gen\",\"size\":64.0},{\"#\":\"#1.1088\",\"count(*)\":1,\"type\":\"loglaplace_gen\",\"size\":64.0},{\"#\":\"#1.1089\",\"count(*)\":1,\"type\":\"lognorm_gen\",\"size\":64.0},{\"#\":\"#1.1090\",\"count(*)\":1,\"type\":\"logser_gen\",\"size\":64.0},{\"#\":\"#1.1091\",\"count(*)\":1,\"type\":\"lomax_gen\",\"size\":64.0},{\"#\":\"#1.1092\",\"count(*)\":2,\"type\":\"lxml.etree.XSLTAccessControl\",\"size\":64.0},{\"#\":\"#1.1093\",\"count(*)\":1,\"type\":\"maxwell_gen\",\"size\":64.0},{\"#\":\"#1.1094\",\"count(*)\":1,\"type\":\"memoized_instancemethod\",\"size\":64.0},{\"#\":\"#1.1095\",\"count(*)\":1,\"type\":\"messaging\",\"size\":64.0},{\"#\":\"#1.1096\",\"count(*)\":1,\"type\":\"mielke_gen\",\"size\":64.0},{\"#\":\"#1.1097\",\"count(*)\":1,\"type\":\"mr_class\",\"size\":64.0},{\"#\":\"#1.1098\",\"count(*)\":1,\"type\":\"multimethod\",\"size\":64.0},{\"#\":\"#1.1099\",\"count(*)\":1,\"type\":\"multivariate_normal_gen\",\"size\":64.0},{\"#\":\"#1.1100\",\"count(*)\":1,\"type\":\"nakagami_gen\",\"size\":64.0},{\"#\":\"#1.1101\",\"count(*)\":1,\"type\":\"nbinom_gen\",\"size\":64.0},{\"#\":\"#1.1102\",\"count(*)\":1,\"type\":\"ncf_gen\",\"size\":64.0},{\"#\":\"#1.1103\",\"count(*)\":1,\"type\":\"nct_gen\",\"size\":64.0},{\"#\":\"#1.1104\",\"count(*)\":1,\"type\":\"ncx2_gen\",\"size\":64.0},{\"#\":\"#1.1105\",\"count(*)\":1,\"type\":\"norm_gen\",\"size\":64.0},{\"#\":\"#1.1106\",\"count(*)\":1,\"type\":\"pareto_gen\",\"size\":64.0},{\"#\":\"#1.1107\",\"count(*)\":1,\"type\":\"parser\",\"size\":64.0},{\"#\":\"#1.1108\",\"count(*)\":1,\"type\":\"parserinfo\",\"size\":64.0},{\"#\":\"#1.1109\",\"count(*)\":1,\"type\":\"pearson3_gen\",\"size\":64.0},{\"#\":\"#1.1110\",\"count(*)\":1,\"type\":\"planck_gen\",\"size\":64.0},{\"#\":\"#1.1111\",\"count(*)\":1,\"type\":\"poisson_gen\",\"size\":64.0},{\"#\":\"#1.1112\",\"count(*)\":1,\"type\":\"powerlaw_gen\",\"size\":64.0},{\"#\":\"#1.1113\",\"count(*)\":1,\"type\":\"powerlognorm_gen\",\"size\":64.0},{\"#\":\"#1.1114\",\"count(*)\":1,\"type\":\"powernorm_gen\",\"size\":64.0},{\"#\":\"#1.1115\",\"count(*)\":1,\"type\":\"randint_gen\",\"size\":64.0},{\"#\":\"#1.1116\",\"count(*)\":1,\"type\":\"rayleigh_gen\",\"size\":64.0},{\"#\":\"#1.1117\",\"count(*)\":1,\"type\":\"rdist_gen\",\"size\":64.0},{\"#\":\"#1.1118\",\"count(*)\":1,\"type\":\"recipinvgauss_gen\",\"size\":64.0},{\"#\":\"#1.1119\",\"count(*)\":1,\"type\":\"reciprocal_gen\",\"size\":64.0},{\"#\":\"#1.1120\",\"count(*)\":1,\"type\":\"registry\",\"size\":64.0},{\"#\":\"#1.1121\",\"count(*)\":1,\"type\":\"rice_gen\",\"size\":64.0},{\"#\":\"#1.1122\",\"count(*)\":1,\"type\":\"semicircular_gen\",\"size\":64.0},{\"#\":\"#1.1123\",\"count(*)\":1,\"type\":\"skellam_gen\",\"size\":64.0},{\"#\":\"#1.1124\",\"count(*)\":1,\"type\":\"sys.version_info\",\"size\":64.0},{\"#\":\"#1.1125\",\"count(*)\":1,\"type\":\"t_gen\",\"size\":64.0},{\"#\":\"#1.1126\",\"count(*)\":1,\"type\":\"task\",\"size\":64.0},{\"#\":\"#1.1127\",\"count(*)\":1,\"type\":\"triang_gen\",\"size\":64.0},{\"#\":\"#1.1128\",\"count(*)\":1,\"type\":\"truncexpon_gen\",\"size\":64.0},{\"#\":\"#1.1129\",\"count(*)\":1,\"type\":\"truncnorm_gen\",\"size\":64.0},{\"#\":\"#1.1130\",\"count(*)\":1,\"type\":\"tukeylambda_gen\",\"size\":64.0},{\"#\":\"#1.1131\",\"count(*)\":1,\"type\":\"tupleiterator\",\"size\":64.0},{\"#\":\"#1.1132\",\"count(*)\":1,\"type\":\"uniform_gen\",\"size\":64.0},{\"#\":\"#1.1133\",\"count(*)\":1,\"type\":\"wald_gen\",\"size\":64.0},{\"#\":\"#1.1134\",\"count(*)\":1,\"type\":\"wrapcauchy_gen\",\"size\":64.0},{\"#\":\"#1.1135\",\"count(*)\":1,\"type\":\"zipf_gen\",\"size\":64.0},{\"#\":\"#1.1136\",\"count(*)\":1,\"type\":\"EmptyNodeList\",\"size\":56.0},{\"#\":\"#1.1137\",\"count(*)\":1,\"type\":\"array.array\",\"size\":56.0},{\"#\":\"#1.1138\",\"count(*)\":2,\"type\":\"bool\",\"size\":48.0},{\"#\":\"#1.1139\",\"count(*)\":2,\"type\":\"numpy.bool_\",\"size\":48.0},{\"#\":\"#1.1140\",\"count(*)\":1,\"type\":\"sys.long_info\",\"size\":40.0},{\"#\":\"#1.1141\",\"count(*)\":1,\"type\":\"unicodedata.UCD\",\"size\":40.0},{\"#\":\"#1.1142\",\"count(*)\":2,\"type\":\"_closedsocket\",\"size\":32.0},{\"#\":\"#1.1143\",\"count(*)\":1,\"type\":\"mtrand.RandomState\",\"size\":24.0},{\"#\":\"#1.1144\",\"count(*)\":1,\"type\":\"numpy.int32\",\"size\":24.0},{\"#\":\"#1.1145\",\"count(*)\":1,\"type\":\"numpy.int64\",\"size\":24.0},{\"#\":\"#1.1146\",\"count(*)\":1,\"type\":\"ClassRegistry\",\"size\":16.0},{\"#\":\"#1.1147\",\"count(*)\":1,\"type\":\"NoneType\",\"size\":16.0},{\"#\":\"#1.1148\",\"count(*)\":1,\"type\":\"NotImplementedType\",\"size\":16.0},{\"#\":\"#1.1149\",\"count(*)\":1,\"type\":\"SingletonRegistry\",\"size\":16.0},{\"#\":\"#1.1150\",\"count(*)\":1,\"type\":\"ellipsis\",\"size\":16.0},{\"#\":\"#1.1151\",\"count(*)\":1,\"type\":\"lxml.etree._MemDebug\",\"size\":16.0},{\"#\":\"#1.1152\",\"count(*)\":1,\"type\":\"\\u2218\",\"size\":null}], [{\"field\": \"#\"}, {\"field\": \"count(*)\", \"type\": \"Integer\"}, {\"field\": \"type\"}, {\"field\": \"size\", \"type\": \"Float\"}]);\n",
       "            grid.initialize_slick_grid();\n",
       "        });\n",
       "    });\n",
       "});\n"
      ]
     },
     "metadata": {},
     "output_type": "display_data"
    }
   ],
   "source": [
    "%select count(*), type, sum(size) as size from obj group by type order by size desc"
   ]
  },
  {
   "cell_type": "code",
   "execution_count": 12,
   "metadata": {
    "collapsed": false
   },
   "outputs": [
    {
     "name": "stdout",
     "output_type": "stream",
     "text": [
      "Using generation 1 of 2\n"
     ]
    },
    {
     "data": {
      "text/html": [
       "<script type=\"text/javascript\">\n",
       "if ($(\"#dg-css\").length == 0){\n",
       "    $(\"head\").append([\n",
       "        \"<link href='/nbextensions/qgridjs/lib/slick.grid.css' rel='stylesheet'>\",\n",
       "        \"<link href='/nbextensions/qgridjs/lib/slick-default-theme.css' rel='stylesheet'>\",\n",
       "        \"<link href='http://cdnjs.cloudflare.com/ajax/libs/jqueryui/1.10.4/css/jquery-ui.min.css' rel='stylesheet'>\",\n",
       "        \"<link id='dg-css' href='/nbextensions/qgridjs/qgrid.css' rel='stylesheet'>\"\n",
       "    ]);\n",
       "}\n",
       "</script>\n",
       "<div class='q-grid-container'>\n",
       "<div id='2076af3d-b61b-4247-8c3c-51bfdad3e1e3' class='q-grid'></div>\n",
       "</div>"
      ]
     },
     "metadata": {},
     "output_type": "display_data"
    },
    {
     "data": {
      "application/javascript": [
       "var path_dictionary = {\n",
       "    jquery_drag: \"/nbextensions/qgridjs/lib/jquery.event.drag-2.2\",\n",
       "    slick_core: \"/nbextensions/qgridjs/lib/slick.core.2.2\",\n",
       "    slick_data_view: \"/nbextensions/qgridjs/lib/slick.dataview.2.2\",\n",
       "    slick_check_box_column: \"/nbextensions/qgridjs/lib/slick.checkboxselectcolumn\",\n",
       "    slick_row_selection_model: \"/nbextensions/qgridjs/lib/slick.rowselectionmodel\",\n",
       "    slick_grid: \"/nbextensions/qgridjs/lib/slick.grid.2.2\",\n",
       "    data_grid: \"/nbextensions/qgridjs/qgrid\",\n",
       "    date_filter: \"/nbextensions/qgridjs/qgrid.datefilter\",\n",
       "    slider_filter: \"/nbextensions/qgridjs/qgrid.sliderfilter\",\n",
       "    text_filter: \"/nbextensions/qgridjs/qgrid.textfilter\",\n",
       "    filter_base:  \"/nbextensions/qgridjs/qgrid.filterbase\",\n",
       "    handlebars: \"https://cdnjs.cloudflare.com/ajax/libs/handlebars.js/2.0.0/handlebars.min\"\n",
       "};\n",
       "\n",
       "var existing_config = require.s.contexts._.config;\n",
       "if (!existing_config.paths['underscore']){\n",
       "    path_dictionary['underscore'] = \"https://cdnjs.cloudflare.com/ajax/libs/underscore.js/1.7.0/underscore-min\";\n",
       "}\n",
       "\n",
       "if (!existing_config.paths['moment']){\n",
       "    path_dictionary['moment'] = \"https://cdnjs.cloudflare.com/ajax/libs/moment.js/2.8.3/moment.min\";\n",
       "}\n",
       "\n",
       "if (!existing_config.paths['jqueryui']){\n",
       "    path_dictionary['jqueryui'] = \"https://ajax.googleapis.com/ajax/libs/jqueryui/1.11.1/jquery-ui.min\";\n",
       "}\n",
       "\n",
       "require.config({\n",
       "    paths: path_dictionary\n",
       "});\n",
       "\n",
       "if (typeof jQuery === 'function') {\n",
       "    define('jquery', function() { return jQuery; });\n",
       "}\n",
       "\n",
       "require([\n",
       "    'jquery',\n",
       "    'jquery_drag',\n",
       "    'slick_core',\n",
       "    'slick_data_view'\n",
       "],\n",
       "function($){\n",
       "    $('#2076af3d-b61b-4247-8c3c-51bfdad3e1e3').closest('.rendered_html').removeClass('rendered_html');\n",
       "    require([\n",
       "      'slick_check_box_column',\n",
       "      'slick_row_selection_model',\n",
       "      'slick_grid'\n",
       "    ], function(){\n",
       "        require([\"data_grid\"], function(dgrid){\n",
       "            var grid = new dgrid.QGrid('#2076af3d-b61b-4247-8c3c-51bfdad3e1e3', [{\"#\":\"#8.0\",\"count(*)\":206164,\"sum(size)\":24739680,\"type\":\"CourseLocator\"}], [{\"field\": \"#\"}, {\"field\": \"count(*)\", \"type\": \"Integer\"}, {\"field\": \"sum(size)\", \"type\": \"Integer\"}, {\"field\": \"type\"}]);\n",
       "            grid.initialize_slick_grid();\n",
       "        });\n",
       "    });\n",
       "});\n"
      ]
     },
     "metadata": {},
     "output_type": "display_data"
    }
   ],
   "source": [
    "%gen 1\n",
    "%select count(*), sum(size), type from obj where type = 'CourseLocator'"
   ]
  },
  {
   "cell_type": "code",
   "execution_count": 13,
   "metadata": {
    "collapsed": false
   },
   "outputs": [
    {
     "name": "stdout",
     "output_type": "stream",
     "text": [
      "Using generation 2 of 2\n"
     ]
    },
    {
     "data": {
      "text/html": [
       "<script type=\"text/javascript\">\n",
       "if ($(\"#dg-css\").length == 0){\n",
       "    $(\"head\").append([\n",
       "        \"<link href='/nbextensions/qgridjs/lib/slick.grid.css' rel='stylesheet'>\",\n",
       "        \"<link href='/nbextensions/qgridjs/lib/slick-default-theme.css' rel='stylesheet'>\",\n",
       "        \"<link href='http://cdnjs.cloudflare.com/ajax/libs/jqueryui/1.10.4/css/jquery-ui.min.css' rel='stylesheet'>\",\n",
       "        \"<link id='dg-css' href='/nbextensions/qgridjs/qgrid.css' rel='stylesheet'>\"\n",
       "    ]);\n",
       "}\n",
       "</script>\n",
       "<div class='q-grid-container'>\n",
       "<div id='f8a1a267-17b9-45e1-aaff-5d7fc8f92981' class='q-grid'></div>\n",
       "</div>"
      ]
     },
     "metadata": {},
     "output_type": "display_data"
    },
    {
     "data": {
      "application/javascript": [
       "var path_dictionary = {\n",
       "    jquery_drag: \"/nbextensions/qgridjs/lib/jquery.event.drag-2.2\",\n",
       "    slick_core: \"/nbextensions/qgridjs/lib/slick.core.2.2\",\n",
       "    slick_data_view: \"/nbextensions/qgridjs/lib/slick.dataview.2.2\",\n",
       "    slick_check_box_column: \"/nbextensions/qgridjs/lib/slick.checkboxselectcolumn\",\n",
       "    slick_row_selection_model: \"/nbextensions/qgridjs/lib/slick.rowselectionmodel\",\n",
       "    slick_grid: \"/nbextensions/qgridjs/lib/slick.grid.2.2\",\n",
       "    data_grid: \"/nbextensions/qgridjs/qgrid\",\n",
       "    date_filter: \"/nbextensions/qgridjs/qgrid.datefilter\",\n",
       "    slider_filter: \"/nbextensions/qgridjs/qgrid.sliderfilter\",\n",
       "    text_filter: \"/nbextensions/qgridjs/qgrid.textfilter\",\n",
       "    filter_base:  \"/nbextensions/qgridjs/qgrid.filterbase\",\n",
       "    handlebars: \"https://cdnjs.cloudflare.com/ajax/libs/handlebars.js/2.0.0/handlebars.min\"\n",
       "};\n",
       "\n",
       "var existing_config = require.s.contexts._.config;\n",
       "if (!existing_config.paths['underscore']){\n",
       "    path_dictionary['underscore'] = \"https://cdnjs.cloudflare.com/ajax/libs/underscore.js/1.7.0/underscore-min\";\n",
       "}\n",
       "\n",
       "if (!existing_config.paths['moment']){\n",
       "    path_dictionary['moment'] = \"https://cdnjs.cloudflare.com/ajax/libs/moment.js/2.8.3/moment.min\";\n",
       "}\n",
       "\n",
       "if (!existing_config.paths['jqueryui']){\n",
       "    path_dictionary['jqueryui'] = \"https://ajax.googleapis.com/ajax/libs/jqueryui/1.11.1/jquery-ui.min\";\n",
       "}\n",
       "\n",
       "require.config({\n",
       "    paths: path_dictionary\n",
       "});\n",
       "\n",
       "if (typeof jQuery === 'function') {\n",
       "    define('jquery', function() { return jQuery; });\n",
       "}\n",
       "\n",
       "require([\n",
       "    'jquery',\n",
       "    'jquery_drag',\n",
       "    'slick_core',\n",
       "    'slick_data_view'\n",
       "],\n",
       "function($){\n",
       "    $('#f8a1a267-17b9-45e1-aaff-5d7fc8f92981').closest('.rendered_html').removeClass('rendered_html');\n",
       "    require([\n",
       "      'slick_check_box_column',\n",
       "      'slick_row_selection_model',\n",
       "      'slick_grid'\n",
       "    ], function(){\n",
       "        require([\"data_grid\"], function(dgrid){\n",
       "            var grid = new dgrid.QGrid('#f8a1a267-17b9-45e1-aaff-5d7fc8f92981', [{\"#\":\"#9.0\",\"count(*)\":1,\"sum(size)\":120,\"type\":\"CourseLocator\"}], [{\"field\": \"#\"}, {\"field\": \"count(*)\", \"type\": \"Integer\"}, {\"field\": \"sum(size)\", \"type\": \"Integer\"}, {\"field\": \"type\"}]);\n",
       "            grid.initialize_slick_grid();\n",
       "        });\n",
       "    });\n",
       "});\n"
      ]
     },
     "metadata": {},
     "output_type": "display_data"
    }
   ],
   "source": [
    "%gen 2\n",
    "%select count(*), sum(size), type from obj where type = 'CourseLocator'"
   ]
  },
  {
   "cell_type": "code",
   "execution_count": 19,
   "metadata": {
    "collapsed": false
   },
   "outputs": [
    {
     "name": "stdout",
     "output_type": "stream",
     "text": [
      "Using generation 1 of 2\n"
     ]
    },
    {
     "data": {
      "text/html": [
       "<script type=\"text/javascript\">\n",
       "if ($(\"#dg-css\").length == 0){\n",
       "    $(\"head\").append([\n",
       "        \"<link href='/nbextensions/qgridjs/lib/slick.grid.css' rel='stylesheet'>\",\n",
       "        \"<link href='/nbextensions/qgridjs/lib/slick-default-theme.css' rel='stylesheet'>\",\n",
       "        \"<link href='http://cdnjs.cloudflare.com/ajax/libs/jqueryui/1.10.4/css/jquery-ui.min.css' rel='stylesheet'>\",\n",
       "        \"<link id='dg-css' href='/nbextensions/qgridjs/qgrid.css' rel='stylesheet'>\"\n",
       "    ]);\n",
       "}\n",
       "</script>\n",
       "<div class='q-grid-container'>\n",
       "<div id='93995a06-20ab-41dc-9752-818cb028c4fb' class='q-grid'></div>\n",
       "</div>"
      ]
     },
     "metadata": {},
     "output_type": "display_data"
    },
    {
     "data": {
      "application/javascript": [
       "var path_dictionary = {\n",
       "    jquery_drag: \"/nbextensions/qgridjs/lib/jquery.event.drag-2.2\",\n",
       "    slick_core: \"/nbextensions/qgridjs/lib/slick.core.2.2\",\n",
       "    slick_data_view: \"/nbextensions/qgridjs/lib/slick.dataview.2.2\",\n",
       "    slick_check_box_column: \"/nbextensions/qgridjs/lib/slick.checkboxselectcolumn\",\n",
       "    slick_row_selection_model: \"/nbextensions/qgridjs/lib/slick.rowselectionmodel\",\n",
       "    slick_grid: \"/nbextensions/qgridjs/lib/slick.grid.2.2\",\n",
       "    data_grid: \"/nbextensions/qgridjs/qgrid\",\n",
       "    date_filter: \"/nbextensions/qgridjs/qgrid.datefilter\",\n",
       "    slider_filter: \"/nbextensions/qgridjs/qgrid.sliderfilter\",\n",
       "    text_filter: \"/nbextensions/qgridjs/qgrid.textfilter\",\n",
       "    filter_base:  \"/nbextensions/qgridjs/qgrid.filterbase\",\n",
       "    handlebars: \"https://cdnjs.cloudflare.com/ajax/libs/handlebars.js/2.0.0/handlebars.min\"\n",
       "};\n",
       "\n",
       "var existing_config = require.s.contexts._.config;\n",
       "if (!existing_config.paths['underscore']){\n",
       "    path_dictionary['underscore'] = \"https://cdnjs.cloudflare.com/ajax/libs/underscore.js/1.7.0/underscore-min\";\n",
       "}\n",
       "\n",
       "if (!existing_config.paths['moment']){\n",
       "    path_dictionary['moment'] = \"https://cdnjs.cloudflare.com/ajax/libs/moment.js/2.8.3/moment.min\";\n",
       "}\n",
       "\n",
       "if (!existing_config.paths['jqueryui']){\n",
       "    path_dictionary['jqueryui'] = \"https://ajax.googleapis.com/ajax/libs/jqueryui/1.11.1/jquery-ui.min\";\n",
       "}\n",
       "\n",
       "require.config({\n",
       "    paths: path_dictionary\n",
       "});\n",
       "\n",
       "if (typeof jQuery === 'function') {\n",
       "    define('jquery', function() { return jQuery; });\n",
       "}\n",
       "\n",
       "require([\n",
       "    'jquery',\n",
       "    'jquery_drag',\n",
       "    'slick_core',\n",
       "    'slick_data_view'\n",
       "],\n",
       "function($){\n",
       "    $('#93995a06-20ab-41dc-9752-818cb028c4fb').closest('.rendered_html').removeClass('rendered_html');\n",
       "    require([\n",
       "      'slick_check_box_column',\n",
       "      'slick_row_selection_model',\n",
       "      'slick_grid'\n",
       "    ], function(){\n",
       "        require([\"data_grid\"], function(dgrid){\n",
       "            var grid = new dgrid.QGrid('#93995a06-20ab-41dc-9752-818cb028c4fb', [{\"#\":\"#15.0\",\"type\":\"DraftModuleStore\"},{\"#\":\"#15.1\",\"type\":\"DraftVersioningModuleStore\"},{\"#\":\"#15.2\",\"type\":\"MixedModuleStore\"}], [{\"field\": \"#\"}, {\"field\": \"type\"}]);\n",
       "            grid.initialize_slick_grid();\n",
       "        });\n",
       "    });\n",
       "});\n"
      ]
     },
     "metadata": {},
     "output_type": "display_data"
    }
   ],
   "source": [
    "%gen 1\n",
    "%select type from obj where type like '%ModuleStore'"
   ]
  },
  {
   "cell_type": "code",
   "execution_count": 24,
   "metadata": {
    "collapsed": false
   },
   "outputs": [
    {
     "data": {
      "text/html": [
       "<script type=\"text/javascript\">\n",
       "if ($(\"#dg-css\").length == 0){\n",
       "    $(\"head\").append([\n",
       "        \"<link href='/nbextensions/qgridjs/lib/slick.grid.css' rel='stylesheet'>\",\n",
       "        \"<link href='/nbextensions/qgridjs/lib/slick-default-theme.css' rel='stylesheet'>\",\n",
       "        \"<link href='http://cdnjs.cloudflare.com/ajax/libs/jqueryui/1.10.4/css/jquery-ui.min.css' rel='stylesheet'>\",\n",
       "        \"<link id='dg-css' href='/nbextensions/qgridjs/qgrid.css' rel='stylesheet'>\"\n",
       "    ]);\n",
       "}\n",
       "</script>\n",
       "<div class='q-grid-container'>\n",
       "<div id='452d3aa5-3872-491e-a344-768cafb69075' class='q-grid'></div>\n",
       "</div>"
      ]
     },
     "metadata": {},
     "output_type": "display_data"
    },
    {
     "data": {
      "application/javascript": [
       "var path_dictionary = {\n",
       "    jquery_drag: \"/nbextensions/qgridjs/lib/jquery.event.drag-2.2\",\n",
       "    slick_core: \"/nbextensions/qgridjs/lib/slick.core.2.2\",\n",
       "    slick_data_view: \"/nbextensions/qgridjs/lib/slick.dataview.2.2\",\n",
       "    slick_check_box_column: \"/nbextensions/qgridjs/lib/slick.checkboxselectcolumn\",\n",
       "    slick_row_selection_model: \"/nbextensions/qgridjs/lib/slick.rowselectionmodel\",\n",
       "    slick_grid: \"/nbextensions/qgridjs/lib/slick.grid.2.2\",\n",
       "    data_grid: \"/nbextensions/qgridjs/qgrid\",\n",
       "    date_filter: \"/nbextensions/qgridjs/qgrid.datefilter\",\n",
       "    slider_filter: \"/nbextensions/qgridjs/qgrid.sliderfilter\",\n",
       "    text_filter: \"/nbextensions/qgridjs/qgrid.textfilter\",\n",
       "    filter_base:  \"/nbextensions/qgridjs/qgrid.filterbase\",\n",
       "    handlebars: \"https://cdnjs.cloudflare.com/ajax/libs/handlebars.js/2.0.0/handlebars.min\"\n",
       "};\n",
       "\n",
       "var existing_config = require.s.contexts._.config;\n",
       "if (!existing_config.paths['underscore']){\n",
       "    path_dictionary['underscore'] = \"https://cdnjs.cloudflare.com/ajax/libs/underscore.js/1.7.0/underscore-min\";\n",
       "}\n",
       "\n",
       "if (!existing_config.paths['moment']){\n",
       "    path_dictionary['moment'] = \"https://cdnjs.cloudflare.com/ajax/libs/moment.js/2.8.3/moment.min\";\n",
       "}\n",
       "\n",
       "if (!existing_config.paths['jqueryui']){\n",
       "    path_dictionary['jqueryui'] = \"https://ajax.googleapis.com/ajax/libs/jqueryui/1.11.1/jquery-ui.min\";\n",
       "}\n",
       "\n",
       "require.config({\n",
       "    paths: path_dictionary\n",
       "});\n",
       "\n",
       "if (typeof jQuery === 'function') {\n",
       "    define('jquery', function() { return jQuery; });\n",
       "}\n",
       "\n",
       "require([\n",
       "    'jquery',\n",
       "    'jquery_drag',\n",
       "    'slick_core',\n",
       "    'slick_data_view'\n",
       "],\n",
       "function($){\n",
       "    $('#452d3aa5-3872-491e-a344-768cafb69075').closest('.rendered_html').removeClass('rendered_html');\n",
       "    require([\n",
       "      'slick_check_box_column',\n",
       "      'slick_row_selection_model',\n",
       "      'slick_grid'\n",
       "    ], function(){\n",
       "        require([\"data_grid\"], function(dgrid){\n",
       "            var grid = new dgrid.QGrid('#452d3aa5-3872-491e-a344-768cafb69075', [{\"#\":\"#20.0\",\"address\":128932992},{\"#\":\"#20.1\",\"address\":1145592600},{\"#\":\"#20.2\",\"address\":1145592720},{\"#\":\"#20.3\",\"address\":1145592840},{\"#\":\"#20.4\",\"address\":1145592960},{\"#\":\"#20.5\",\"address\":1145593080},{\"#\":\"#20.6\",\"address\":1145593200},{\"#\":\"#20.7\",\"address\":160598808},{\"#\":\"#20.8\",\"address\":177330728},{\"#\":\"#20.9\",\"address\":177330608}], [{\"field\": \"#\"}, {\"field\": \"address\", \"type\": \"Integer\"}]);\n",
       "            grid.initialize_slick_grid();\n",
       "        });\n",
       "    });\n",
       "});\n"
      ]
     },
     "metadata": {},
     "output_type": "display_data"
    }
   ],
   "source": [
    "%select address from obj where type = 'CourseLocator' limit 10"
   ]
  },
  {
   "cell_type": "code",
   "execution_count": 28,
   "metadata": {
    "collapsed": false
   },
   "outputs": [],
   "source": [
    "path from \"address = 177330608\" to \"address in 0&\" reversed"
   ]
  },
  {
   "cell_type": "code",
   "execution_count": 29,
   "metadata": {
    "collapsed": false
   },
   "outputs": [
    {
     "name": "stdout",
     "output_type": "stream",
     "text": [
      "(177642752, u'dict', None, None, 280, 3)\n"
     ]
    }
   ],
   "source": [
    "%parents 177330608"
   ]
  },
  {
   "cell_type": "code",
   "execution_count": 30,
   "metadata": {
    "collapsed": false
   },
   "outputs": [
    {
     "name": "stdout",
     "output_type": "stream",
     "text": [
      "(177309408, u'BlockUsageLocator', None, None, 80, None)\n"
     ]
    }
   ],
   "source": [
    "%parents 177642752"
   ]
  },
  {
   "cell_type": "code",
   "execution_count": 31,
   "metadata": {
    "collapsed": false
   },
   "outputs": [
    {
     "name": "stdout",
     "output_type": "stream",
     "text": [
      "(177635744, u'dict', None, None, 1048, 12)\n"
     ]
    }
   ],
   "source": [
    "%parents 177309408"
   ]
  },
  {
   "cell_type": "code",
   "execution_count": 32,
   "metadata": {
    "collapsed": false
   },
   "outputs": [
    {
     "name": "stdout",
     "output_type": "stream",
     "text": [
      "(177314384, u'StudentModule', None, None, 64, None)\n"
     ]
    }
   ],
   "source": [
    "%parents 177635744"
   ]
  },
  {
   "cell_type": "code",
   "execution_count": 33,
   "metadata": {
    "collapsed": false
   },
   "outputs": [
    {
     "name": "stdout",
     "output_type": "stream",
     "text": [
      "(163201744, u'dict', None, None, 49432, 477)\n"
     ]
    }
   ],
   "source": [
    "%parents 177314384"
   ]
  },
  {
   "cell_type": "code",
   "execution_count": 34,
   "metadata": {
    "collapsed": false
   },
   "outputs": [
    {
     "name": "stdout",
     "output_type": "stream",
     "text": [
      "(163244304, u'dict', None, None, 280, 5)\n"
     ]
    }
   ],
   "source": [
    "%parents 163201744"
   ]
  },
  {
   "cell_type": "code",
   "execution_count": 35,
   "metadata": {
    "collapsed": false
   },
   "outputs": [
    {
     "name": "stdout",
     "output_type": "stream",
     "text": [
      "(136252496, u'FieldDataCache', None, None, 64, None)\n"
     ]
    }
   ],
   "source": [
    "%parents 163244304"
   ]
  },
  {
   "cell_type": "code",
   "execution_count": 40,
   "metadata": {
    "collapsed": false
   },
   "outputs": [
    {
     "name": "stdout",
     "output_type": "stream",
     "text": [
      "Using generation 1 of 2\n"
     ]
    },
    {
     "data": {
      "text/html": [
       "<script type=\"text/javascript\">\n",
       "if ($(\"#dg-css\").length == 0){\n",
       "    $(\"head\").append([\n",
       "        \"<link href='/nbextensions/qgridjs/lib/slick.grid.css' rel='stylesheet'>\",\n",
       "        \"<link href='/nbextensions/qgridjs/lib/slick-default-theme.css' rel='stylesheet'>\",\n",
       "        \"<link href='http://cdnjs.cloudflare.com/ajax/libs/jqueryui/1.10.4/css/jquery-ui.min.css' rel='stylesheet'>\",\n",
       "        \"<link id='dg-css' href='/nbextensions/qgridjs/qgrid.css' rel='stylesheet'>\"\n",
       "    ]);\n",
       "}\n",
       "</script>\n",
       "<div class='q-grid-container'>\n",
       "<div id='631dc2e3-aeef-4fef-a3ef-1e733bfff21f' class='q-grid'></div>\n",
       "</div>"
      ]
     },
     "metadata": {},
     "output_type": "display_data"
    },
    {
     "data": {
      "application/javascript": [
       "var path_dictionary = {\n",
       "    jquery_drag: \"/nbextensions/qgridjs/lib/jquery.event.drag-2.2\",\n",
       "    slick_core: \"/nbextensions/qgridjs/lib/slick.core.2.2\",\n",
       "    slick_data_view: \"/nbextensions/qgridjs/lib/slick.dataview.2.2\",\n",
       "    slick_check_box_column: \"/nbextensions/qgridjs/lib/slick.checkboxselectcolumn\",\n",
       "    slick_row_selection_model: \"/nbextensions/qgridjs/lib/slick.rowselectionmodel\",\n",
       "    slick_grid: \"/nbextensions/qgridjs/lib/slick.grid.2.2\",\n",
       "    data_grid: \"/nbextensions/qgridjs/qgrid\",\n",
       "    date_filter: \"/nbextensions/qgridjs/qgrid.datefilter\",\n",
       "    slider_filter: \"/nbextensions/qgridjs/qgrid.sliderfilter\",\n",
       "    text_filter: \"/nbextensions/qgridjs/qgrid.textfilter\",\n",
       "    filter_base:  \"/nbextensions/qgridjs/qgrid.filterbase\",\n",
       "    handlebars: \"https://cdnjs.cloudflare.com/ajax/libs/handlebars.js/2.0.0/handlebars.min\"\n",
       "};\n",
       "\n",
       "var existing_config = require.s.contexts._.config;\n",
       "if (!existing_config.paths['underscore']){\n",
       "    path_dictionary['underscore'] = \"https://cdnjs.cloudflare.com/ajax/libs/underscore.js/1.7.0/underscore-min\";\n",
       "}\n",
       "\n",
       "if (!existing_config.paths['moment']){\n",
       "    path_dictionary['moment'] = \"https://cdnjs.cloudflare.com/ajax/libs/moment.js/2.8.3/moment.min\";\n",
       "}\n",
       "\n",
       "if (!existing_config.paths['jqueryui']){\n",
       "    path_dictionary['jqueryui'] = \"https://ajax.googleapis.com/ajax/libs/jqueryui/1.11.1/jquery-ui.min\";\n",
       "}\n",
       "\n",
       "require.config({\n",
       "    paths: path_dictionary\n",
       "});\n",
       "\n",
       "if (typeof jQuery === 'function') {\n",
       "    define('jquery', function() { return jQuery; });\n",
       "}\n",
       "\n",
       "require([\n",
       "    'jquery',\n",
       "    'jquery_drag',\n",
       "    'slick_core',\n",
       "    'slick_data_view'\n",
       "],\n",
       "function($){\n",
       "    $('#631dc2e3-aeef-4fef-a3ef-1e733bfff21f').closest('.rendered_html').removeClass('rendered_html');\n",
       "    require([\n",
       "      'slick_check_box_column',\n",
       "      'slick_row_selection_model',\n",
       "      'slick_grid'\n",
       "    ], function(){\n",
       "        require([\"data_grid\"], function(dgrid){\n",
       "            var grid = new dgrid.QGrid('#631dc2e3-aeef-4fef-a3ef-1e733bfff21f', [{\"#\":\"#22.0\",\"count(*)\":476}], [{\"field\": \"#\"}, {\"field\": \"count(*)\", \"type\": \"Integer\"}]);\n",
       "            grid.initialize_slick_grid();\n",
       "        });\n",
       "    });\n",
       "});\n"
      ]
     },
     "metadata": {},
     "output_type": "display_data"
    }
   ],
   "source": [
    "%gen 1\n",
    "%select count(*) from obj where type = 'StudentModule'"
   ]
  },
  {
   "cell_type": "code",
   "execution_count": 42,
   "metadata": {
    "collapsed": false
   },
   "outputs": [
    {
     "name": "stdout",
     "output_type": "stream",
     "text": [
      "Using generation 2 of 2\n"
     ]
    },
    {
     "data": {
      "text/html": [
       "<script type=\"text/javascript\">\n",
       "if ($(\"#dg-css\").length == 0){\n",
       "    $(\"head\").append([\n",
       "        \"<link href='/nbextensions/qgridjs/lib/slick.grid.css' rel='stylesheet'>\",\n",
       "        \"<link href='/nbextensions/qgridjs/lib/slick-default-theme.css' rel='stylesheet'>\",\n",
       "        \"<link href='http://cdnjs.cloudflare.com/ajax/libs/jqueryui/1.10.4/css/jquery-ui.min.css' rel='stylesheet'>\",\n",
       "        \"<link id='dg-css' href='/nbextensions/qgridjs/qgrid.css' rel='stylesheet'>\"\n",
       "    ]);\n",
       "}\n",
       "</script>\n",
       "<div class='q-grid-container'>\n",
       "<div id='81736e21-eed3-4e44-b49b-7f45dcbb018a' class='q-grid'></div>\n",
       "</div>"
      ]
     },
     "metadata": {},
     "output_type": "display_data"
    },
    {
     "data": {
      "application/javascript": [
       "var path_dictionary = {\n",
       "    jquery_drag: \"/nbextensions/qgridjs/lib/jquery.event.drag-2.2\",\n",
       "    slick_core: \"/nbextensions/qgridjs/lib/slick.core.2.2\",\n",
       "    slick_data_view: \"/nbextensions/qgridjs/lib/slick.dataview.2.2\",\n",
       "    slick_check_box_column: \"/nbextensions/qgridjs/lib/slick.checkboxselectcolumn\",\n",
       "    slick_row_selection_model: \"/nbextensions/qgridjs/lib/slick.rowselectionmodel\",\n",
       "    slick_grid: \"/nbextensions/qgridjs/lib/slick.grid.2.2\",\n",
       "    data_grid: \"/nbextensions/qgridjs/qgrid\",\n",
       "    date_filter: \"/nbextensions/qgridjs/qgrid.datefilter\",\n",
       "    slider_filter: \"/nbextensions/qgridjs/qgrid.sliderfilter\",\n",
       "    text_filter: \"/nbextensions/qgridjs/qgrid.textfilter\",\n",
       "    filter_base:  \"/nbextensions/qgridjs/qgrid.filterbase\",\n",
       "    handlebars: \"https://cdnjs.cloudflare.com/ajax/libs/handlebars.js/2.0.0/handlebars.min\"\n",
       "};\n",
       "\n",
       "var existing_config = require.s.contexts._.config;\n",
       "if (!existing_config.paths['underscore']){\n",
       "    path_dictionary['underscore'] = \"https://cdnjs.cloudflare.com/ajax/libs/underscore.js/1.7.0/underscore-min\";\n",
       "}\n",
       "\n",
       "if (!existing_config.paths['moment']){\n",
       "    path_dictionary['moment'] = \"https://cdnjs.cloudflare.com/ajax/libs/moment.js/2.8.3/moment.min\";\n",
       "}\n",
       "\n",
       "if (!existing_config.paths['jqueryui']){\n",
       "    path_dictionary['jqueryui'] = \"https://ajax.googleapis.com/ajax/libs/jqueryui/1.11.1/jquery-ui.min\";\n",
       "}\n",
       "\n",
       "require.config({\n",
       "    paths: path_dictionary\n",
       "});\n",
       "\n",
       "if (typeof jQuery === 'function') {\n",
       "    define('jquery', function() { return jQuery; });\n",
       "}\n",
       "\n",
       "require([\n",
       "    'jquery',\n",
       "    'jquery_drag',\n",
       "    'slick_core',\n",
       "    'slick_data_view'\n",
       "],\n",
       "function($){\n",
       "    $('#81736e21-eed3-4e44-b49b-7f45dcbb018a').closest('.rendered_html').removeClass('rendered_html');\n",
       "    require([\n",
       "      'slick_check_box_column',\n",
       "      'slick_row_selection_model',\n",
       "      'slick_grid'\n",
       "    ], function(){\n",
       "        require([\"data_grid\"], function(dgrid){\n",
       "            var grid = new dgrid.QGrid('#81736e21-eed3-4e44-b49b-7f45dcbb018a', [{\"#\":\"#23.0\",\"count(*)\":0}], [{\"field\": \"#\"}, {\"field\": \"count(*)\", \"type\": \"Integer\"}]);\n",
       "            grid.initialize_slick_grid();\n",
       "        });\n",
       "    });\n",
       "});\n"
      ]
     },
     "metadata": {},
     "output_type": "display_data"
    }
   ],
   "source": [
    "%gen 2\n",
    "%select count(*) from obj where type = 'StudentModule'"
   ]
  },
  {
   "cell_type": "code",
   "execution_count": 44,
   "metadata": {
    "collapsed": false
   },
   "outputs": [
    {
     "name": "stdout",
     "output_type": "stream",
     "text": [
      "Reading\n",
      "loaded 10000 objects, 27757 refs\n",
      "loaded 20000 objects, 55592 refs\n",
      "loaded 30000 objects, 78051 refs\n",
      "loaded 40000 objects, 102585 refs\n",
      "loaded 50000 objects, 127023 refs\n",
      "loaded 60000 objects, 152103 refs\n",
      "loaded 70000 objects, 170383 refs\n",
      "loaded 80000 objects, 185405 refs\n",
      "loaded 90000 objects, 209921 refs\n",
      "loaded 100000 objects, 244068 refs\n",
      "loaded 110000 objects, 274662 refs\n",
      "loaded 120000 objects, 303103 refs\n",
      "loaded 130000 objects, 339935 refs\n",
      "loaded 140000 objects, 369411 refs\n",
      "loaded 150000 objects, 410328 refs\n",
      "loaded 160000 objects, 445021 refs\n",
      "loaded 170000 objects, 470635 refs\n",
      "loaded 180000 objects, 494566 refs\n",
      "loaded 190000 objects, 517569 refs\n",
      "loaded 200000 objects, 543699 refs\n",
      "loaded 210000 objects, 579741 refs\n",
      "loaded 220000 objects, 606337 refs\n",
      "loaded 230000 objects, 624724 refs\n",
      "loaded 240000 objects, 657579 refs\n",
      "loaded 250000 objects, 690227 refs\n",
      "loaded 260000 objects, 719647 refs\n",
      "loaded 270000 objects, 760313 refs\n",
      "loaded 280000 objects, 800526 refs\n",
      "loaded 290000 objects, 832093 refs\n",
      "loaded 300000 objects, 868184 refs\n",
      "loaded 310000 objects, 905644 refs\n",
      "loaded 320000 objects, 944507 refs\n",
      "loaded 330000 objects, 954051 refs\n",
      "loaded 340000 objects, 983363 refs\n",
      "loaded 350000 objects, 1008697 refs\n",
      "loaded 360000 objects, 1035189 refs\n",
      "loaded 370000 objects, 1063424 refs\n",
      "loaded 380000 objects, 1103419 refs\n",
      "loaded 390000 objects, 1144995 refs\n",
      "loaded 400000 objects, 1177597 refs\n",
      "loaded 410000 objects, 1211454 refs\n",
      "loaded 420000 objects, 1237168 refs\n",
      "loaded 430000 objects, 1262593 refs\n",
      "loaded 440000 objects, 1282863 refs\n",
      "loaded 450000 objects, 1295316 refs\n",
      "loaded 460000 objects, 1319971 refs\n",
      "(sqlite3.OperationalError) cannot commit - no transaction is active [SQL: u'COMMIT']\n",
      "\n",
      "Marking top objects... None\n",
      "460067 (460.1K) objects and 1321994 (1.3M) references totalling 89767315 (89.8M) bytes (332.5s)\n"
     ]
    }
   ],
   "source": [
    "%read ../field_override_dump/gc-gen-2.dump"
   ]
  },
  {
   "cell_type": "code",
   "execution_count": 45,
   "metadata": {
    "collapsed": false
   },
   "outputs": [
    {
     "name": "stdout",
     "output_type": "stream",
     "text": [
      "Using generation 3 of 3\n"
     ]
    },
    {
     "data": {
      "text/html": [
       "<script type=\"text/javascript\">\n",
       "if ($(\"#dg-css\").length == 0){\n",
       "    $(\"head\").append([\n",
       "        \"<link href='/nbextensions/qgridjs/lib/slick.grid.css' rel='stylesheet'>\",\n",
       "        \"<link href='/nbextensions/qgridjs/lib/slick-default-theme.css' rel='stylesheet'>\",\n",
       "        \"<link href='http://cdnjs.cloudflare.com/ajax/libs/jqueryui/1.10.4/css/jquery-ui.min.css' rel='stylesheet'>\",\n",
       "        \"<link id='dg-css' href='/nbextensions/qgridjs/qgrid.css' rel='stylesheet'>\"\n",
       "    ]);\n",
       "}\n",
       "</script>\n",
       "<div class='q-grid-container'>\n",
       "<div id='97d4705c-fbf0-4e65-9ef8-c3bcd59fe096' class='q-grid'></div>\n",
       "</div>"
      ]
     },
     "metadata": {},
     "output_type": "display_data"
    },
    {
     "data": {
      "application/javascript": [
       "var path_dictionary = {\n",
       "    jquery_drag: \"/nbextensions/qgridjs/lib/jquery.event.drag-2.2\",\n",
       "    slick_core: \"/nbextensions/qgridjs/lib/slick.core.2.2\",\n",
       "    slick_data_view: \"/nbextensions/qgridjs/lib/slick.dataview.2.2\",\n",
       "    slick_check_box_column: \"/nbextensions/qgridjs/lib/slick.checkboxselectcolumn\",\n",
       "    slick_row_selection_model: \"/nbextensions/qgridjs/lib/slick.rowselectionmodel\",\n",
       "    slick_grid: \"/nbextensions/qgridjs/lib/slick.grid.2.2\",\n",
       "    data_grid: \"/nbextensions/qgridjs/qgrid\",\n",
       "    date_filter: \"/nbextensions/qgridjs/qgrid.datefilter\",\n",
       "    slider_filter: \"/nbextensions/qgridjs/qgrid.sliderfilter\",\n",
       "    text_filter: \"/nbextensions/qgridjs/qgrid.textfilter\",\n",
       "    filter_base:  \"/nbextensions/qgridjs/qgrid.filterbase\",\n",
       "    handlebars: \"https://cdnjs.cloudflare.com/ajax/libs/handlebars.js/2.0.0/handlebars.min\"\n",
       "};\n",
       "\n",
       "var existing_config = require.s.contexts._.config;\n",
       "if (!existing_config.paths['underscore']){\n",
       "    path_dictionary['underscore'] = \"https://cdnjs.cloudflare.com/ajax/libs/underscore.js/1.7.0/underscore-min\";\n",
       "}\n",
       "\n",
       "if (!existing_config.paths['moment']){\n",
       "    path_dictionary['moment'] = \"https://cdnjs.cloudflare.com/ajax/libs/moment.js/2.8.3/moment.min\";\n",
       "}\n",
       "\n",
       "if (!existing_config.paths['jqueryui']){\n",
       "    path_dictionary['jqueryui'] = \"https://ajax.googleapis.com/ajax/libs/jqueryui/1.11.1/jquery-ui.min\";\n",
       "}\n",
       "\n",
       "require.config({\n",
       "    paths: path_dictionary\n",
       "});\n",
       "\n",
       "if (typeof jQuery === 'function') {\n",
       "    define('jquery', function() { return jQuery; });\n",
       "}\n",
       "\n",
       "require([\n",
       "    'jquery',\n",
       "    'jquery_drag',\n",
       "    'slick_core',\n",
       "    'slick_data_view'\n",
       "],\n",
       "function($){\n",
       "    $('#97d4705c-fbf0-4e65-9ef8-c3bcd59fe096').closest('.rendered_html').removeClass('rendered_html');\n",
       "    require([\n",
       "      'slick_check_box_column',\n",
       "      'slick_row_selection_model',\n",
       "      'slick_grid'\n",
       "    ], function(){\n",
       "        require([\"data_grid\"], function(dgrid){\n",
       "            var grid = new dgrid.QGrid('#97d4705c-fbf0-4e65-9ef8-c3bcd59fe096', [{\"#\":\"#24.0\",\"count(*)\":0}], [{\"field\": \"#\"}, {\"field\": \"count(*)\", \"type\": \"Integer\"}]);\n",
       "            grid.initialize_slick_grid();\n",
       "        });\n",
       "    });\n",
       "});\n"
      ]
     },
     "metadata": {},
     "output_type": "display_data"
    }
   ],
   "source": [
    "%gen 3\n",
    "%select count(*) from obj where type = 'StudentModule'"
   ]
  },
  {
   "cell_type": "code",
   "execution_count": 46,
   "metadata": {
    "collapsed": false
   },
   "outputs": [
    {
     "data": {
      "text/html": [
       "<script type=\"text/javascript\">\n",
       "if ($(\"#dg-css\").length == 0){\n",
       "    $(\"head\").append([\n",
       "        \"<link href='/nbextensions/qgridjs/lib/slick.grid.css' rel='stylesheet'>\",\n",
       "        \"<link href='/nbextensions/qgridjs/lib/slick-default-theme.css' rel='stylesheet'>\",\n",
       "        \"<link href='http://cdnjs.cloudflare.com/ajax/libs/jqueryui/1.10.4/css/jquery-ui.min.css' rel='stylesheet'>\",\n",
       "        \"<link id='dg-css' href='/nbextensions/qgridjs/qgrid.css' rel='stylesheet'>\"\n",
       "    ]);\n",
       "}\n",
       "</script>\n",
       "<div class='q-grid-container'>\n",
       "<div id='535de8c6-afdd-4868-90ff-f2e45f7bcd22' class='q-grid'></div>\n",
       "</div>"
      ]
     },
     "metadata": {},
     "output_type": "display_data"
    },
    {
     "data": {
      "application/javascript": [
       "var path_dictionary = {\n",
       "    jquery_drag: \"/nbextensions/qgridjs/lib/jquery.event.drag-2.2\",\n",
       "    slick_core: \"/nbextensions/qgridjs/lib/slick.core.2.2\",\n",
       "    slick_data_view: \"/nbextensions/qgridjs/lib/slick.dataview.2.2\",\n",
       "    slick_check_box_column: \"/nbextensions/qgridjs/lib/slick.checkboxselectcolumn\",\n",
       "    slick_row_selection_model: \"/nbextensions/qgridjs/lib/slick.rowselectionmodel\",\n",
       "    slick_grid: \"/nbextensions/qgridjs/lib/slick.grid.2.2\",\n",
       "    data_grid: \"/nbextensions/qgridjs/qgrid\",\n",
       "    date_filter: \"/nbextensions/qgridjs/qgrid.datefilter\",\n",
       "    slider_filter: \"/nbextensions/qgridjs/qgrid.sliderfilter\",\n",
       "    text_filter: \"/nbextensions/qgridjs/qgrid.textfilter\",\n",
       "    filter_base:  \"/nbextensions/qgridjs/qgrid.filterbase\",\n",
       "    handlebars: \"https://cdnjs.cloudflare.com/ajax/libs/handlebars.js/2.0.0/handlebars.min\"\n",
       "};\n",
       "\n",
       "var existing_config = require.s.contexts._.config;\n",
       "if (!existing_config.paths['underscore']){\n",
       "    path_dictionary['underscore'] = \"https://cdnjs.cloudflare.com/ajax/libs/underscore.js/1.7.0/underscore-min\";\n",
       "}\n",
       "\n",
       "if (!existing_config.paths['moment']){\n",
       "    path_dictionary['moment'] = \"https://cdnjs.cloudflare.com/ajax/libs/moment.js/2.8.3/moment.min\";\n",
       "}\n",
       "\n",
       "if (!existing_config.paths['jqueryui']){\n",
       "    path_dictionary['jqueryui'] = \"https://ajax.googleapis.com/ajax/libs/jqueryui/1.11.1/jquery-ui.min\";\n",
       "}\n",
       "\n",
       "require.config({\n",
       "    paths: path_dictionary\n",
       "});\n",
       "\n",
       "if (typeof jQuery === 'function') {\n",
       "    define('jquery', function() { return jQuery; });\n",
       "}\n",
       "\n",
       "require([\n",
       "    'jquery',\n",
       "    'jquery_drag',\n",
       "    'slick_core',\n",
       "    'slick_data_view'\n",
       "],\n",
       "function($){\n",
       "    $('#535de8c6-afdd-4868-90ff-f2e45f7bcd22').closest('.rendered_html').removeClass('rendered_html');\n",
       "    require([\n",
       "      'slick_check_box_column',\n",
       "      'slick_row_selection_model',\n",
       "      'slick_grid'\n",
       "    ], function(){\n",
       "        require([\"data_grid\"], function(dgrid){\n",
       "            var grid = new dgrid.QGrid('#535de8c6-afdd-4868-90ff-f2e45f7bcd22', [{\"#\":\"#25.0\",\"count(*)\":1,\"sum(size)\":120,\"type\":\"CourseLocator\"}], [{\"field\": \"#\"}, {\"field\": \"count(*)\", \"type\": \"Integer\"}, {\"field\": \"sum(size)\", \"type\": \"Integer\"}, {\"field\": \"type\"}]);\n",
       "            grid.initialize_slick_grid();\n",
       "        });\n",
       "    });\n",
       "});\n"
      ]
     },
     "metadata": {},
     "output_type": "display_data"
    }
   ],
   "source": [
    "%select count(*), sum(size), type from obj where type = 'CourseLocator'"
   ]
  },
  {
   "cell_type": "code",
   "execution_count": 47,
   "metadata": {
    "collapsed": false
   },
   "outputs": [
    {
     "name": "stdout",
     "output_type": "stream",
     "text": [
      "Using generation 1 of 3\n"
     ]
    },
    {
     "data": {
      "text/html": [
       "<script type=\"text/javascript\">\n",
       "if ($(\"#dg-css\").length == 0){\n",
       "    $(\"head\").append([\n",
       "        \"<link href='/nbextensions/qgridjs/lib/slick.grid.css' rel='stylesheet'>\",\n",
       "        \"<link href='/nbextensions/qgridjs/lib/slick-default-theme.css' rel='stylesheet'>\",\n",
       "        \"<link href='http://cdnjs.cloudflare.com/ajax/libs/jqueryui/1.10.4/css/jquery-ui.min.css' rel='stylesheet'>\",\n",
       "        \"<link id='dg-css' href='/nbextensions/qgridjs/qgrid.css' rel='stylesheet'>\"\n",
       "    ]);\n",
       "}\n",
       "</script>\n",
       "<div class='q-grid-container'>\n",
       "<div id='ca8675bc-59c9-4e22-a3a3-c1cf831ee0b2' class='q-grid'></div>\n",
       "</div>"
      ]
     },
     "metadata": {},
     "output_type": "display_data"
    },
    {
     "data": {
      "application/javascript": [
       "var path_dictionary = {\n",
       "    jquery_drag: \"/nbextensions/qgridjs/lib/jquery.event.drag-2.2\",\n",
       "    slick_core: \"/nbextensions/qgridjs/lib/slick.core.2.2\",\n",
       "    slick_data_view: \"/nbextensions/qgridjs/lib/slick.dataview.2.2\",\n",
       "    slick_check_box_column: \"/nbextensions/qgridjs/lib/slick.checkboxselectcolumn\",\n",
       "    slick_row_selection_model: \"/nbextensions/qgridjs/lib/slick.rowselectionmodel\",\n",
       "    slick_grid: \"/nbextensions/qgridjs/lib/slick.grid.2.2\",\n",
       "    data_grid: \"/nbextensions/qgridjs/qgrid\",\n",
       "    date_filter: \"/nbextensions/qgridjs/qgrid.datefilter\",\n",
       "    slider_filter: \"/nbextensions/qgridjs/qgrid.sliderfilter\",\n",
       "    text_filter: \"/nbextensions/qgridjs/qgrid.textfilter\",\n",
       "    filter_base:  \"/nbextensions/qgridjs/qgrid.filterbase\",\n",
       "    handlebars: \"https://cdnjs.cloudflare.com/ajax/libs/handlebars.js/2.0.0/handlebars.min\"\n",
       "};\n",
       "\n",
       "var existing_config = require.s.contexts._.config;\n",
       "if (!existing_config.paths['underscore']){\n",
       "    path_dictionary['underscore'] = \"https://cdnjs.cloudflare.com/ajax/libs/underscore.js/1.7.0/underscore-min\";\n",
       "}\n",
       "\n",
       "if (!existing_config.paths['moment']){\n",
       "    path_dictionary['moment'] = \"https://cdnjs.cloudflare.com/ajax/libs/moment.js/2.8.3/moment.min\";\n",
       "}\n",
       "\n",
       "if (!existing_config.paths['jqueryui']){\n",
       "    path_dictionary['jqueryui'] = \"https://ajax.googleapis.com/ajax/libs/jqueryui/1.11.1/jquery-ui.min\";\n",
       "}\n",
       "\n",
       "require.config({\n",
       "    paths: path_dictionary\n",
       "});\n",
       "\n",
       "if (typeof jQuery === 'function') {\n",
       "    define('jquery', function() { return jQuery; });\n",
       "}\n",
       "\n",
       "require([\n",
       "    'jquery',\n",
       "    'jquery_drag',\n",
       "    'slick_core',\n",
       "    'slick_data_view'\n",
       "],\n",
       "function($){\n",
       "    $('#ca8675bc-59c9-4e22-a3a3-c1cf831ee0b2').closest('.rendered_html').removeClass('rendered_html');\n",
       "    require([\n",
       "      'slick_check_box_column',\n",
       "      'slick_row_selection_model',\n",
       "      'slick_grid'\n",
       "    ], function(){\n",
       "        require([\"data_grid\"], function(dgrid){\n",
       "            var grid = new dgrid.QGrid('#ca8675bc-59c9-4e22-a3a3-c1cf831ee0b2', [{\"#\":\"#26.0\",\"count(*)\":206164,\"sum(size)\":24739680,\"type\":\"CourseLocator\"}], [{\"field\": \"#\"}, {\"field\": \"count(*)\", \"type\": \"Integer\"}, {\"field\": \"sum(size)\", \"type\": \"Integer\"}, {\"field\": \"type\"}]);\n",
       "            grid.initialize_slick_grid();\n",
       "        });\n",
       "    });\n",
       "});\n"
      ]
     },
     "metadata": {},
     "output_type": "display_data"
    }
   ],
   "source": [
    "%gen 1\n",
    "%select count(*), sum(size), type from obj where type = 'CourseLocator'"
   ]
  },
  {
   "cell_type": "code",
   "execution_count": 49,
   "metadata": {
    "collapsed": false
   },
   "outputs": [
    {
     "data": {
      "text/plain": [
       "433.11764705882354"
      ]
     },
     "execution_count": 49,
     "metadata": {},
     "output_type": "execute_result"
    }
   ],
   "source": [
    "206164/476.0"
   ]
  },
  {
   "cell_type": "code",
   "execution_count": 50,
   "metadata": {
    "collapsed": false
   },
   "outputs": [
    {
     "data": {
      "text/plain": [
       "56"
      ]
     },
     "execution_count": 50,
     "metadata": {},
     "output_type": "execute_result"
    }
   ],
   "source": [
    "206164%476"
   ]
  },
  {
   "cell_type": "code",
   "execution_count": 5,
   "metadata": {
    "collapsed": false
   },
   "outputs": [
    {
     "data": {
      "text/html": [
       "<script type=\"text/javascript\">\n",
       "if ($(\"#dg-css\").length == 0){\n",
       "    $(\"head\").append([\n",
       "        \"<link href='/nbextensions/qgridjs/lib/slick.grid.css' rel='stylesheet'>\",\n",
       "        \"<link href='/nbextensions/qgridjs/lib/slick-default-theme.css' rel='stylesheet'>\",\n",
       "        \"<link href='http://cdnjs.cloudflare.com/ajax/libs/jqueryui/1.10.4/css/jquery-ui.min.css' rel='stylesheet'>\",\n",
       "        \"<link id='dg-css' href='/nbextensions/qgridjs/qgrid.css' rel='stylesheet'>\"\n",
       "    ]);\n",
       "}\n",
       "</script>\n",
       "<div class='q-grid-container'>\n",
       "<div id='3da15060-f2da-47eb-9116-42a161c18fe0' class='q-grid'></div>\n",
       "</div>"
      ]
     },
     "metadata": {},
     "output_type": "display_data"
    },
    {
     "data": {
      "application/javascript": [
       "var path_dictionary = {\n",
       "    jquery_drag: \"/nbextensions/qgridjs/lib/jquery.event.drag-2.2\",\n",
       "    slick_core: \"/nbextensions/qgridjs/lib/slick.core.2.2\",\n",
       "    slick_data_view: \"/nbextensions/qgridjs/lib/slick.dataview.2.2\",\n",
       "    slick_check_box_column: \"/nbextensions/qgridjs/lib/slick.checkboxselectcolumn\",\n",
       "    slick_row_selection_model: \"/nbextensions/qgridjs/lib/slick.rowselectionmodel\",\n",
       "    slick_grid: \"/nbextensions/qgridjs/lib/slick.grid.2.2\",\n",
       "    data_grid: \"/nbextensions/qgridjs/qgrid\",\n",
       "    date_filter: \"/nbextensions/qgridjs/qgrid.datefilter\",\n",
       "    slider_filter: \"/nbextensions/qgridjs/qgrid.sliderfilter\",\n",
       "    text_filter: \"/nbextensions/qgridjs/qgrid.textfilter\",\n",
       "    filter_base:  \"/nbextensions/qgridjs/qgrid.filterbase\",\n",
       "    handlebars: \"https://cdnjs.cloudflare.com/ajax/libs/handlebars.js/2.0.0/handlebars.min\"\n",
       "};\n",
       "\n",
       "var existing_config = require.s.contexts._.config;\n",
       "if (!existing_config.paths['underscore']){\n",
       "    path_dictionary['underscore'] = \"https://cdnjs.cloudflare.com/ajax/libs/underscore.js/1.7.0/underscore-min\";\n",
       "}\n",
       "\n",
       "if (!existing_config.paths['moment']){\n",
       "    path_dictionary['moment'] = \"https://cdnjs.cloudflare.com/ajax/libs/moment.js/2.8.3/moment.min\";\n",
       "}\n",
       "\n",
       "if (!existing_config.paths['jqueryui']){\n",
       "    path_dictionary['jqueryui'] = \"https://ajax.googleapis.com/ajax/libs/jqueryui/1.11.1/jquery-ui.min\";\n",
       "}\n",
       "\n",
       "require.config({\n",
       "    paths: path_dictionary\n",
       "});\n",
       "\n",
       "if (typeof jQuery === 'function') {\n",
       "    define('jquery', function() { return jQuery; });\n",
       "}\n",
       "\n",
       "require([\n",
       "    'jquery',\n",
       "    'jquery_drag',\n",
       "    'slick_core',\n",
       "    'slick_data_view'\n",
       "],\n",
       "function($){\n",
       "    $('#3da15060-f2da-47eb-9116-42a161c18fe0').closest('.rendered_html').removeClass('rendered_html');\n",
       "    require([\n",
       "      'slick_check_box_column',\n",
       "      'slick_row_selection_model',\n",
       "      'slick_grid'\n",
       "    ], function(){\n",
       "        require([\"data_grid\"], function(dgrid){\n",
       "            var grid = new dgrid.QGrid('#3da15060-f2da-47eb-9116-42a161c18fe0', [{\"#\":\"#1.000\",\"address\":175749840},{\"#\":\"#1.001\",\"address\":175749968},{\"#\":\"#1.002\",\"address\":175750416},{\"#\":\"#1.003\",\"address\":175750544},{\"#\":\"#1.004\",\"address\":175750672},{\"#\":\"#1.005\",\"address\":175750800},{\"#\":\"#1.006\",\"address\":175750928},{\"#\":\"#1.007\",\"address\":175751056},{\"#\":\"#1.008\",\"address\":177242192},{\"#\":\"#1.009\",\"address\":177242320},{\"#\":\"#1.010\",\"address\":177242448},{\"#\":\"#1.011\",\"address\":177242576},{\"#\":\"#1.012\",\"address\":177242704},{\"#\":\"#1.013\",\"address\":177242832},{\"#\":\"#1.014\",\"address\":177242960},{\"#\":\"#1.015\",\"address\":177243088},{\"#\":\"#1.016\",\"address\":177243216},{\"#\":\"#1.017\",\"address\":177243344},{\"#\":\"#1.018\",\"address\":177243472},{\"#\":\"#1.019\",\"address\":177243600},{\"#\":\"#1.020\",\"address\":177243728},{\"#\":\"#1.021\",\"address\":177243856},{\"#\":\"#1.022\",\"address\":177243984},{\"#\":\"#1.023\",\"address\":177244112},{\"#\":\"#1.024\",\"address\":177244240},{\"#\":\"#1.025\",\"address\":177244368},{\"#\":\"#1.026\",\"address\":177244496},{\"#\":\"#1.027\",\"address\":177244624},{\"#\":\"#1.028\",\"address\":177244752},{\"#\":\"#1.029\",\"address\":177244880},{\"#\":\"#1.030\",\"address\":177245008},{\"#\":\"#1.031\",\"address\":177245136},{\"#\":\"#1.032\",\"address\":177245264},{\"#\":\"#1.033\",\"address\":177245392},{\"#\":\"#1.034\",\"address\":177245520},{\"#\":\"#1.035\",\"address\":177245648},{\"#\":\"#1.036\",\"address\":177245776},{\"#\":\"#1.037\",\"address\":177245904},{\"#\":\"#1.038\",\"address\":177246032},{\"#\":\"#1.039\",\"address\":177246160},{\"#\":\"#1.040\",\"address\":177283216},{\"#\":\"#1.041\",\"address\":177283344},{\"#\":\"#1.042\",\"address\":177283472},{\"#\":\"#1.043\",\"address\":177283600},{\"#\":\"#1.044\",\"address\":177283728},{\"#\":\"#1.045\",\"address\":177283856},{\"#\":\"#1.046\",\"address\":177283984},{\"#\":\"#1.047\",\"address\":177284112},{\"#\":\"#1.048\",\"address\":177284240},{\"#\":\"#1.049\",\"address\":177284368},{\"#\":\"#1.050\",\"address\":177284496},{\"#\":\"#1.051\",\"address\":177284624},{\"#\":\"#1.052\",\"address\":177284752},{\"#\":\"#1.053\",\"address\":177284880},{\"#\":\"#1.054\",\"address\":177285008},{\"#\":\"#1.055\",\"address\":177285136},{\"#\":\"#1.056\",\"address\":177285264},{\"#\":\"#1.057\",\"address\":177285392},{\"#\":\"#1.058\",\"address\":177285520},{\"#\":\"#1.059\",\"address\":177285648},{\"#\":\"#1.060\",\"address\":177285776},{\"#\":\"#1.061\",\"address\":177285904},{\"#\":\"#1.062\",\"address\":177286032},{\"#\":\"#1.063\",\"address\":177286160},{\"#\":\"#1.064\",\"address\":177286288},{\"#\":\"#1.065\",\"address\":177286416},{\"#\":\"#1.066\",\"address\":177286544},{\"#\":\"#1.067\",\"address\":177286672},{\"#\":\"#1.068\",\"address\":177286800},{\"#\":\"#1.069\",\"address\":177286928},{\"#\":\"#1.070\",\"address\":177287056},{\"#\":\"#1.071\",\"address\":177311824},{\"#\":\"#1.072\",\"address\":177311952},{\"#\":\"#1.073\",\"address\":177312080},{\"#\":\"#1.074\",\"address\":177312208},{\"#\":\"#1.075\",\"address\":177312336},{\"#\":\"#1.076\",\"address\":177312464},{\"#\":\"#1.077\",\"address\":177312592},{\"#\":\"#1.078\",\"address\":177312720},{\"#\":\"#1.079\",\"address\":177312848},{\"#\":\"#1.080\",\"address\":177312976},{\"#\":\"#1.081\",\"address\":177313104},{\"#\":\"#1.082\",\"address\":177313232},{\"#\":\"#1.083\",\"address\":177313360},{\"#\":\"#1.084\",\"address\":177313488},{\"#\":\"#1.085\",\"address\":177313616},{\"#\":\"#1.086\",\"address\":177313744},{\"#\":\"#1.087\",\"address\":177313872},{\"#\":\"#1.088\",\"address\":177314000},{\"#\":\"#1.089\",\"address\":177314128},{\"#\":\"#1.090\",\"address\":177314256},{\"#\":\"#1.091\",\"address\":177314384},{\"#\":\"#1.092\",\"address\":177314512},{\"#\":\"#1.093\",\"address\":177314640},{\"#\":\"#1.094\",\"address\":177314768},{\"#\":\"#1.095\",\"address\":177314896},{\"#\":\"#1.096\",\"address\":177315024},{\"#\":\"#1.097\",\"address\":177315152},{\"#\":\"#1.098\",\"address\":177315280},{\"#\":\"#1.099\",\"address\":177315408},{\"#\":\"#1.100\",\"address\":177315536},{\"#\":\"#1.101\",\"address\":177315664},{\"#\":\"#1.102\",\"address\":177315792},{\"#\":\"#1.103\",\"address\":177352848},{\"#\":\"#1.104\",\"address\":177352976},{\"#\":\"#1.105\",\"address\":177353104},{\"#\":\"#1.106\",\"address\":177353232},{\"#\":\"#1.107\",\"address\":177353360},{\"#\":\"#1.108\",\"address\":177353488},{\"#\":\"#1.109\",\"address\":177353616},{\"#\":\"#1.110\",\"address\":177353744},{\"#\":\"#1.111\",\"address\":177353872},{\"#\":\"#1.112\",\"address\":177354000},{\"#\":\"#1.113\",\"address\":177354128},{\"#\":\"#1.114\",\"address\":177354256},{\"#\":\"#1.115\",\"address\":177354384},{\"#\":\"#1.116\",\"address\":177354512},{\"#\":\"#1.117\",\"address\":177354640},{\"#\":\"#1.118\",\"address\":177354768},{\"#\":\"#1.119\",\"address\":177354896},{\"#\":\"#1.120\",\"address\":177355024},{\"#\":\"#1.121\",\"address\":177355152},{\"#\":\"#1.122\",\"address\":177355280},{\"#\":\"#1.123\",\"address\":177355408},{\"#\":\"#1.124\",\"address\":177355536},{\"#\":\"#1.125\",\"address\":177355664},{\"#\":\"#1.126\",\"address\":177355792},{\"#\":\"#1.127\",\"address\":177355920},{\"#\":\"#1.128\",\"address\":177356048},{\"#\":\"#1.129\",\"address\":177356176},{\"#\":\"#1.130\",\"address\":177356304},{\"#\":\"#1.131\",\"address\":177356432},{\"#\":\"#1.132\",\"address\":177356560},{\"#\":\"#1.133\",\"address\":177356688},{\"#\":\"#1.134\",\"address\":177385552},{\"#\":\"#1.135\",\"address\":177385680},{\"#\":\"#1.136\",\"address\":177385808},{\"#\":\"#1.137\",\"address\":177385936},{\"#\":\"#1.138\",\"address\":177386064},{\"#\":\"#1.139\",\"address\":177386192},{\"#\":\"#1.140\",\"address\":177386320},{\"#\":\"#1.141\",\"address\":177386448},{\"#\":\"#1.142\",\"address\":177386576},{\"#\":\"#1.143\",\"address\":177386960},{\"#\":\"#1.144\",\"address\":177387088},{\"#\":\"#1.145\",\"address\":177387152},{\"#\":\"#1.146\",\"address\":177387280},{\"#\":\"#1.147\",\"address\":177387408},{\"#\":\"#1.148\",\"address\":177387536},{\"#\":\"#1.149\",\"address\":177387664},{\"#\":\"#1.150\",\"address\":177387792},{\"#\":\"#1.151\",\"address\":177387920},{\"#\":\"#1.152\",\"address\":177388048},{\"#\":\"#1.153\",\"address\":177388176},{\"#\":\"#1.154\",\"address\":177388304},{\"#\":\"#1.155\",\"address\":177388432},{\"#\":\"#1.156\",\"address\":177388560},{\"#\":\"#1.157\",\"address\":177388688},{\"#\":\"#1.158\",\"address\":177388816},{\"#\":\"#1.159\",\"address\":177388944},{\"#\":\"#1.160\",\"address\":177389072},{\"#\":\"#1.161\",\"address\":177389200},{\"#\":\"#1.162\",\"address\":177389328},{\"#\":\"#1.163\",\"address\":177389456},{\"#\":\"#1.164\",\"address\":177455184},{\"#\":\"#1.165\",\"address\":177455312},{\"#\":\"#1.166\",\"address\":177455440},{\"#\":\"#1.167\",\"address\":177455568},{\"#\":\"#1.168\",\"address\":177455696},{\"#\":\"#1.169\",\"address\":177455824},{\"#\":\"#1.170\",\"address\":177455952},{\"#\":\"#1.171\",\"address\":177456080},{\"#\":\"#1.172\",\"address\":177456208},{\"#\":\"#1.173\",\"address\":177456336},{\"#\":\"#1.174\",\"address\":177456464},{\"#\":\"#1.175\",\"address\":177456592},{\"#\":\"#1.176\",\"address\":177456720},{\"#\":\"#1.177\",\"address\":177456848},{\"#\":\"#1.178\",\"address\":177456976},{\"#\":\"#1.179\",\"address\":177457104},{\"#\":\"#1.180\",\"address\":177457232},{\"#\":\"#1.181\",\"address\":177457360},{\"#\":\"#1.182\",\"address\":177457488},{\"#\":\"#1.183\",\"address\":177457616},{\"#\":\"#1.184\",\"address\":177457744},{\"#\":\"#1.185\",\"address\":177457872},{\"#\":\"#1.186\",\"address\":177458000},{\"#\":\"#1.187\",\"address\":177458128},{\"#\":\"#1.188\",\"address\":177458256},{\"#\":\"#1.189\",\"address\":177458384},{\"#\":\"#1.190\",\"address\":177458512},{\"#\":\"#1.191\",\"address\":177458640},{\"#\":\"#1.192\",\"address\":177458768},{\"#\":\"#1.193\",\"address\":177458896},{\"#\":\"#1.194\",\"address\":177459024},{\"#\":\"#1.195\",\"address\":177459152},{\"#\":\"#1.196\",\"address\":177479824},{\"#\":\"#1.197\",\"address\":177479952},{\"#\":\"#1.198\",\"address\":177480080},{\"#\":\"#1.199\",\"address\":177480208},{\"#\":\"#1.200\",\"address\":177480336},{\"#\":\"#1.201\",\"address\":177480464},{\"#\":\"#1.202\",\"address\":177480592},{\"#\":\"#1.203\",\"address\":177480720},{\"#\":\"#1.204\",\"address\":177480848},{\"#\":\"#1.205\",\"address\":177480976},{\"#\":\"#1.206\",\"address\":177481104},{\"#\":\"#1.207\",\"address\":177481232},{\"#\":\"#1.208\",\"address\":177481360},{\"#\":\"#1.209\",\"address\":177481488},{\"#\":\"#1.210\",\"address\":177481616},{\"#\":\"#1.211\",\"address\":177481744},{\"#\":\"#1.212\",\"address\":177481872},{\"#\":\"#1.213\",\"address\":177482000},{\"#\":\"#1.214\",\"address\":177482128},{\"#\":\"#1.215\",\"address\":177482256},{\"#\":\"#1.216\",\"address\":177482384},{\"#\":\"#1.217\",\"address\":177482512},{\"#\":\"#1.218\",\"address\":177482640},{\"#\":\"#1.219\",\"address\":177482768},{\"#\":\"#1.220\",\"address\":177482896},{\"#\":\"#1.221\",\"address\":177483024},{\"#\":\"#1.222\",\"address\":177483152},{\"#\":\"#1.223\",\"address\":177483280},{\"#\":\"#1.224\",\"address\":177483408},{\"#\":\"#1.225\",\"address\":177483536},{\"#\":\"#1.226\",\"address\":177483664},{\"#\":\"#1.227\",\"address\":178040912},{\"#\":\"#1.228\",\"address\":178041040},{\"#\":\"#1.229\",\"address\":178041168},{\"#\":\"#1.230\",\"address\":178041296},{\"#\":\"#1.231\",\"address\":178041424},{\"#\":\"#1.232\",\"address\":178041552},{\"#\":\"#1.233\",\"address\":178041680},{\"#\":\"#1.234\",\"address\":178041808},{\"#\":\"#1.235\",\"address\":178041936},{\"#\":\"#1.236\",\"address\":178042064},{\"#\":\"#1.237\",\"address\":178042192},{\"#\":\"#1.238\",\"address\":178042320},{\"#\":\"#1.239\",\"address\":178042448},{\"#\":\"#1.240\",\"address\":178042576},{\"#\":\"#1.241\",\"address\":178042704},{\"#\":\"#1.242\",\"address\":178042832},{\"#\":\"#1.243\",\"address\":178042960},{\"#\":\"#1.244\",\"address\":178043088},{\"#\":\"#1.245\",\"address\":178043216},{\"#\":\"#1.246\",\"address\":178043344},{\"#\":\"#1.247\",\"address\":178043472},{\"#\":\"#1.248\",\"address\":178043600},{\"#\":\"#1.249\",\"address\":178043728},{\"#\":\"#1.250\",\"address\":178043856},{\"#\":\"#1.251\",\"address\":178043984},{\"#\":\"#1.252\",\"address\":178044112},{\"#\":\"#1.253\",\"address\":178044240},{\"#\":\"#1.254\",\"address\":178044368},{\"#\":\"#1.255\",\"address\":178044496},{\"#\":\"#1.256\",\"address\":178044624},{\"#\":\"#1.257\",\"address\":178044752},{\"#\":\"#1.258\",\"address\":178044880},{\"#\":\"#1.259\",\"address\":178081936},{\"#\":\"#1.260\",\"address\":178082064},{\"#\":\"#1.261\",\"address\":178082192},{\"#\":\"#1.262\",\"address\":178082320},{\"#\":\"#1.263\",\"address\":178082448},{\"#\":\"#1.264\",\"address\":178082576},{\"#\":\"#1.265\",\"address\":178082704},{\"#\":\"#1.266\",\"address\":178082832},{\"#\":\"#1.267\",\"address\":178082960},{\"#\":\"#1.268\",\"address\":178083088},{\"#\":\"#1.269\",\"address\":178083216},{\"#\":\"#1.270\",\"address\":178083408},{\"#\":\"#1.271\",\"address\":178083536},{\"#\":\"#1.272\",\"address\":178083664},{\"#\":\"#1.273\",\"address\":178083792},{\"#\":\"#1.274\",\"address\":178083920},{\"#\":\"#1.275\",\"address\":178084048},{\"#\":\"#1.276\",\"address\":178084176},{\"#\":\"#1.277\",\"address\":178084304},{\"#\":\"#1.278\",\"address\":178084432},{\"#\":\"#1.279\",\"address\":178084560},{\"#\":\"#1.280\",\"address\":178084688},{\"#\":\"#1.281\",\"address\":178084816},{\"#\":\"#1.282\",\"address\":178084944},{\"#\":\"#1.283\",\"address\":178085072},{\"#\":\"#1.284\",\"address\":178085200},{\"#\":\"#1.285\",\"address\":178085328},{\"#\":\"#1.286\",\"address\":178085456},{\"#\":\"#1.287\",\"address\":178085584},{\"#\":\"#1.288\",\"address\":178085712},{\"#\":\"#1.289\",\"address\":178085840},{\"#\":\"#1.290\",\"address\":178163856},{\"#\":\"#1.291\",\"address\":178163984},{\"#\":\"#1.292\",\"address\":178164112},{\"#\":\"#1.293\",\"address\":178164240},{\"#\":\"#1.294\",\"address\":178164368},{\"#\":\"#1.295\",\"address\":178164496},{\"#\":\"#1.296\",\"address\":178164624},{\"#\":\"#1.297\",\"address\":178164752},{\"#\":\"#1.298\",\"address\":178164880},{\"#\":\"#1.299\",\"address\":178165008},{\"#\":\"#1.300\",\"address\":178165136},{\"#\":\"#1.301\",\"address\":178165264},{\"#\":\"#1.302\",\"address\":178165392},{\"#\":\"#1.303\",\"address\":178165520},{\"#\":\"#1.304\",\"address\":178165648},{\"#\":\"#1.305\",\"address\":178165776},{\"#\":\"#1.306\",\"address\":178165904},{\"#\":\"#1.307\",\"address\":178166032},{\"#\":\"#1.308\",\"address\":178166160},{\"#\":\"#1.309\",\"address\":178166288},{\"#\":\"#1.310\",\"address\":178166416},{\"#\":\"#1.311\",\"address\":178166544},{\"#\":\"#1.312\",\"address\":178166672},{\"#\":\"#1.313\",\"address\":178166800},{\"#\":\"#1.314\",\"address\":178166928},{\"#\":\"#1.315\",\"address\":178167056},{\"#\":\"#1.316\",\"address\":178167184},{\"#\":\"#1.317\",\"address\":178167312},{\"#\":\"#1.318\",\"address\":178167440},{\"#\":\"#1.319\",\"address\":178167568},{\"#\":\"#1.320\",\"address\":178167696},{\"#\":\"#1.321\",\"address\":178196560},{\"#\":\"#1.322\",\"address\":178196688},{\"#\":\"#1.323\",\"address\":178196816},{\"#\":\"#1.324\",\"address\":178196944},{\"#\":\"#1.325\",\"address\":178197072},{\"#\":\"#1.326\",\"address\":178197200},{\"#\":\"#1.327\",\"address\":178197328},{\"#\":\"#1.328\",\"address\":178197456},{\"#\":\"#1.329\",\"address\":178197584},{\"#\":\"#1.330\",\"address\":178197712},{\"#\":\"#1.331\",\"address\":178197840},{\"#\":\"#1.332\",\"address\":178197968},{\"#\":\"#1.333\",\"address\":178198096},{\"#\":\"#1.334\",\"address\":178198224},{\"#\":\"#1.335\",\"address\":178198352},{\"#\":\"#1.336\",\"address\":178198480},{\"#\":\"#1.337\",\"address\":178198608},{\"#\":\"#1.338\",\"address\":178198736},{\"#\":\"#1.339\",\"address\":178198864},{\"#\":\"#1.340\",\"address\":178198992},{\"#\":\"#1.341\",\"address\":178199120},{\"#\":\"#1.342\",\"address\":178199248},{\"#\":\"#1.343\",\"address\":178199376},{\"#\":\"#1.344\",\"address\":178199504},{\"#\":\"#1.345\",\"address\":178199632},{\"#\":\"#1.346\",\"address\":178199760},{\"#\":\"#1.347\",\"address\":178199888},{\"#\":\"#1.348\",\"address\":178200016},{\"#\":\"#1.349\",\"address\":178200144},{\"#\":\"#1.350\",\"address\":178200272},{\"#\":\"#1.351\",\"address\":178200400},{\"#\":\"#1.352\",\"address\":178200528},{\"#\":\"#1.353\",\"address\":178225296},{\"#\":\"#1.354\",\"address\":178225424},{\"#\":\"#1.355\",\"address\":178225552},{\"#\":\"#1.356\",\"address\":178225680},{\"#\":\"#1.357\",\"address\":178225808},{\"#\":\"#1.358\",\"address\":178225936},{\"#\":\"#1.359\",\"address\":178226064},{\"#\":\"#1.360\",\"address\":178226192},{\"#\":\"#1.361\",\"address\":178226320},{\"#\":\"#1.362\",\"address\":178226448},{\"#\":\"#1.363\",\"address\":178226576},{\"#\":\"#1.364\",\"address\":178226704},{\"#\":\"#1.365\",\"address\":178226832},{\"#\":\"#1.366\",\"address\":178226960},{\"#\":\"#1.367\",\"address\":178227088},{\"#\":\"#1.368\",\"address\":178227216},{\"#\":\"#1.369\",\"address\":178227344},{\"#\":\"#1.370\",\"address\":178227472},{\"#\":\"#1.371\",\"address\":178227600},{\"#\":\"#1.372\",\"address\":178227728},{\"#\":\"#1.373\",\"address\":178227856},{\"#\":\"#1.374\",\"address\":178227984},{\"#\":\"#1.375\",\"address\":178228112},{\"#\":\"#1.376\",\"address\":178228240},{\"#\":\"#1.377\",\"address\":178228368},{\"#\":\"#1.378\",\"address\":178228496},{\"#\":\"#1.379\",\"address\":178228624},{\"#\":\"#1.380\",\"address\":178228752},{\"#\":\"#1.381\",\"address\":178228880},{\"#\":\"#1.382\",\"address\":178229008},{\"#\":\"#1.383\",\"address\":178229136},{\"#\":\"#1.384\",\"address\":178974800},{\"#\":\"#1.385\",\"address\":178974928},{\"#\":\"#1.386\",\"address\":178975056},{\"#\":\"#1.387\",\"address\":178975184},{\"#\":\"#1.388\",\"address\":178975312},{\"#\":\"#1.389\",\"address\":178975440},{\"#\":\"#1.390\",\"address\":178975568},{\"#\":\"#1.391\",\"address\":178975696},{\"#\":\"#1.392\",\"address\":178975824},{\"#\":\"#1.393\",\"address\":178975952},{\"#\":\"#1.394\",\"address\":178976080},{\"#\":\"#1.395\",\"address\":178976208},{\"#\":\"#1.396\",\"address\":178976336},{\"#\":\"#1.397\",\"address\":178976464},{\"#\":\"#1.398\",\"address\":178976592},{\"#\":\"#1.399\",\"address\":178976720},{\"#\":\"#1.400\",\"address\":178976848},{\"#\":\"#1.401\",\"address\":178976976},{\"#\":\"#1.402\",\"address\":178977104},{\"#\":\"#1.403\",\"address\":178977232},{\"#\":\"#1.404\",\"address\":178977360},{\"#\":\"#1.405\",\"address\":178977488},{\"#\":\"#1.406\",\"address\":178977616},{\"#\":\"#1.407\",\"address\":178977744},{\"#\":\"#1.408\",\"address\":178977872},{\"#\":\"#1.409\",\"address\":178978000},{\"#\":\"#1.410\",\"address\":178978128},{\"#\":\"#1.411\",\"address\":178978256},{\"#\":\"#1.412\",\"address\":178978384},{\"#\":\"#1.413\",\"address\":178978512},{\"#\":\"#1.414\",\"address\":178978640},{\"#\":\"#1.415\",\"address\":178978768},{\"#\":\"#1.416\",\"address\":179015824},{\"#\":\"#1.417\",\"address\":179015952},{\"#\":\"#1.418\",\"address\":179016080},{\"#\":\"#1.419\",\"address\":179016208},{\"#\":\"#1.420\",\"address\":179016336},{\"#\":\"#1.421\",\"address\":179016464},{\"#\":\"#1.422\",\"address\":179016592},{\"#\":\"#1.423\",\"address\":179016720},{\"#\":\"#1.424\",\"address\":179016848},{\"#\":\"#1.425\",\"address\":179016976},{\"#\":\"#1.426\",\"address\":179017104},{\"#\":\"#1.427\",\"address\":179017232},{\"#\":\"#1.428\",\"address\":179017360},{\"#\":\"#1.429\",\"address\":179017488},{\"#\":\"#1.430\",\"address\":179017616},{\"#\":\"#1.431\",\"address\":179017744},{\"#\":\"#1.432\",\"address\":179017872},{\"#\":\"#1.433\",\"address\":179018000},{\"#\":\"#1.434\",\"address\":179018128},{\"#\":\"#1.435\",\"address\":179018256},{\"#\":\"#1.436\",\"address\":179018384},{\"#\":\"#1.437\",\"address\":179018512},{\"#\":\"#1.438\",\"address\":179018640},{\"#\":\"#1.439\",\"address\":179018768},{\"#\":\"#1.440\",\"address\":179018896},{\"#\":\"#1.441\",\"address\":179019024},{\"#\":\"#1.442\",\"address\":179019152},{\"#\":\"#1.443\",\"address\":179019280},{\"#\":\"#1.444\",\"address\":179019408},{\"#\":\"#1.445\",\"address\":179019536},{\"#\":\"#1.446\",\"address\":179019664},{\"#\":\"#1.447\",\"address\":179028048},{\"#\":\"#1.448\",\"address\":179028176},{\"#\":\"#1.449\",\"address\":179028304},{\"#\":\"#1.450\",\"address\":179028432},{\"#\":\"#1.451\",\"address\":179028560},{\"#\":\"#1.452\",\"address\":179028688},{\"#\":\"#1.453\",\"address\":179028816},{\"#\":\"#1.454\",\"address\":179028944},{\"#\":\"#1.455\",\"address\":179029072},{\"#\":\"#1.456\",\"address\":179029200},{\"#\":\"#1.457\",\"address\":179029328},{\"#\":\"#1.458\",\"address\":179029456},{\"#\":\"#1.459\",\"address\":179029584},{\"#\":\"#1.460\",\"address\":179029712},{\"#\":\"#1.461\",\"address\":179029840},{\"#\":\"#1.462\",\"address\":179029968},{\"#\":\"#1.463\",\"address\":179030096},{\"#\":\"#1.464\",\"address\":179030224},{\"#\":\"#1.465\",\"address\":179030352},{\"#\":\"#1.466\",\"address\":179030480},{\"#\":\"#1.467\",\"address\":179030608},{\"#\":\"#1.468\",\"address\":179030736},{\"#\":\"#1.469\",\"address\":179030864},{\"#\":\"#1.470\",\"address\":179030992},{\"#\":\"#1.471\",\"address\":179031120},{\"#\":\"#1.472\",\"address\":179031248},{\"#\":\"#1.473\",\"address\":179031376},{\"#\":\"#1.474\",\"address\":179031504},{\"#\":\"#1.475\",\"address\":179031632}], [{\"field\": \"#\"}, {\"field\": \"address\", \"type\": \"Integer\"}]);\n",
       "            grid.initialize_slick_grid();\n",
       "        });\n",
       "    });\n",
       "});\n"
      ]
     },
     "metadata": {},
     "output_type": "display_data"
    }
   ],
   "source": [
    "%select address from obj where type = 'StudentModule' order by address asc"
   ]
  },
  {
   "cell_type": "code",
   "execution_count": 55,
   "metadata": {
    "collapsed": false
   },
   "outputs": [],
   "source": [
    "%path from \"address = 175749840\" to \"address in 0&\" reversed"
   ]
  },
  {
   "cell_type": "code",
   "execution_count": 57,
   "metadata": {
    "collapsed": true
   },
   "outputs": [],
   "source": [
    "# No paths to the top of the memory tree is expected"
   ]
  },
  {
   "cell_type": "code",
   "execution_count": 9,
   "metadata": {
    "collapsed": false
   },
   "outputs": [
    {
     "data": {
      "text/html": [
       "<script type=\"text/javascript\">\n",
       "if ($(\"#dg-css\").length == 0){\n",
       "    $(\"head\").append([\n",
       "        \"<link href='/nbextensions/qgridjs/lib/slick.grid.css' rel='stylesheet'>\",\n",
       "        \"<link href='/nbextensions/qgridjs/lib/slick-default-theme.css' rel='stylesheet'>\",\n",
       "        \"<link href='http://cdnjs.cloudflare.com/ajax/libs/jqueryui/1.10.4/css/jquery-ui.min.css' rel='stylesheet'>\",\n",
       "        \"<link id='dg-css' href='/nbextensions/qgridjs/qgrid.css' rel='stylesheet'>\"\n",
       "    ]);\n",
       "}\n",
       "</script>\n",
       "<div class='q-grid-container'>\n",
       "<div id='40c680b1-f906-4091-8880-b4bd2f3fc416' class='q-grid'></div>\n",
       "</div>"
      ]
     },
     "metadata": {},
     "output_type": "display_data"
    },
    {
     "data": {
      "application/javascript": [
       "var path_dictionary = {\n",
       "    jquery_drag: \"/nbextensions/qgridjs/lib/jquery.event.drag-2.2\",\n",
       "    slick_core: \"/nbextensions/qgridjs/lib/slick.core.2.2\",\n",
       "    slick_data_view: \"/nbextensions/qgridjs/lib/slick.dataview.2.2\",\n",
       "    slick_check_box_column: \"/nbextensions/qgridjs/lib/slick.checkboxselectcolumn\",\n",
       "    slick_row_selection_model: \"/nbextensions/qgridjs/lib/slick.rowselectionmodel\",\n",
       "    slick_grid: \"/nbextensions/qgridjs/lib/slick.grid.2.2\",\n",
       "    data_grid: \"/nbextensions/qgridjs/qgrid\",\n",
       "    date_filter: \"/nbextensions/qgridjs/qgrid.datefilter\",\n",
       "    slider_filter: \"/nbextensions/qgridjs/qgrid.sliderfilter\",\n",
       "    text_filter: \"/nbextensions/qgridjs/qgrid.textfilter\",\n",
       "    filter_base:  \"/nbextensions/qgridjs/qgrid.filterbase\",\n",
       "    handlebars: \"https://cdnjs.cloudflare.com/ajax/libs/handlebars.js/2.0.0/handlebars.min\"\n",
       "};\n",
       "\n",
       "var existing_config = require.s.contexts._.config;\n",
       "if (!existing_config.paths['underscore']){\n",
       "    path_dictionary['underscore'] = \"https://cdnjs.cloudflare.com/ajax/libs/underscore.js/1.7.0/underscore-min\";\n",
       "}\n",
       "\n",
       "if (!existing_config.paths['moment']){\n",
       "    path_dictionary['moment'] = \"https://cdnjs.cloudflare.com/ajax/libs/moment.js/2.8.3/moment.min\";\n",
       "}\n",
       "\n",
       "if (!existing_config.paths['jqueryui']){\n",
       "    path_dictionary['jqueryui'] = \"https://ajax.googleapis.com/ajax/libs/jqueryui/1.11.1/jquery-ui.min\";\n",
       "}\n",
       "\n",
       "require.config({\n",
       "    paths: path_dictionary\n",
       "});\n",
       "\n",
       "if (typeof jQuery === 'function') {\n",
       "    define('jquery', function() { return jQuery; });\n",
       "}\n",
       "\n",
       "require([\n",
       "    'jquery',\n",
       "    'jquery_drag',\n",
       "    'slick_core',\n",
       "    'slick_data_view'\n",
       "],\n",
       "function($){\n",
       "    $('#40c680b1-f906-4091-8880-b4bd2f3fc416').closest('.rendered_html').removeClass('rendered_html');\n",
       "    require([\n",
       "      'slick_check_box_column',\n",
       "      'slick_row_selection_model',\n",
       "      'slick_grid'\n",
       "    ], function(){\n",
       "        require([\"data_grid\"], function(dgrid){\n",
       "            var grid = new dgrid.QGrid('#40c680b1-f906-4091-8880-b4bd2f3fc416', [{\"#\":\"#0.0\",\"count(*)\":206163}], [{\"field\": \"#\"}, {\"field\": \"count(*)\", \"type\": \"Integer\"}]);\n",
       "            grid.initialize_slick_grid();\n",
       "        });\n",
       "    });\n",
       "});\n"
      ]
     },
     "metadata": {},
     "output_type": "display_data"
    }
   ],
   "source": [
    "%select count(*) from obj where type = 'BlockUsageLocator'"
   ]
  },
  {
   "cell_type": "code",
   "execution_count": 14,
   "metadata": {
    "collapsed": false
   },
   "outputs": [
    {
     "name": "stdout",
     "output_type": "stream",
     "text": [
      "Using generation 1 of 3\n"
     ]
    },
    {
     "data": {
      "text/html": [
       "<script type=\"text/javascript\">\n",
       "if ($(\"#dg-css\").length == 0){\n",
       "    $(\"head\").append([\n",
       "        \"<link href='/nbextensions/qgridjs/lib/slick.grid.css' rel='stylesheet'>\",\n",
       "        \"<link href='/nbextensions/qgridjs/lib/slick-default-theme.css' rel='stylesheet'>\",\n",
       "        \"<link href='http://cdnjs.cloudflare.com/ajax/libs/jqueryui/1.10.4/css/jquery-ui.min.css' rel='stylesheet'>\",\n",
       "        \"<link id='dg-css' href='/nbextensions/qgridjs/qgrid.css' rel='stylesheet'>\"\n",
       "    ]);\n",
       "}\n",
       "</script>\n",
       "<div class='q-grid-container'>\n",
       "<div id='e7549354-bd12-43b5-ad04-e4041ac60394' class='q-grid'></div>\n",
       "</div>"
      ]
     },
     "metadata": {},
     "output_type": "display_data"
    },
    {
     "data": {
      "application/javascript": [
       "var path_dictionary = {\n",
       "    jquery_drag: \"/nbextensions/qgridjs/lib/jquery.event.drag-2.2\",\n",
       "    slick_core: \"/nbextensions/qgridjs/lib/slick.core.2.2\",\n",
       "    slick_data_view: \"/nbextensions/qgridjs/lib/slick.dataview.2.2\",\n",
       "    slick_check_box_column: \"/nbextensions/qgridjs/lib/slick.checkboxselectcolumn\",\n",
       "    slick_row_selection_model: \"/nbextensions/qgridjs/lib/slick.rowselectionmodel\",\n",
       "    slick_grid: \"/nbextensions/qgridjs/lib/slick.grid.2.2\",\n",
       "    data_grid: \"/nbextensions/qgridjs/qgrid\",\n",
       "    date_filter: \"/nbextensions/qgridjs/qgrid.datefilter\",\n",
       "    slider_filter: \"/nbextensions/qgridjs/qgrid.sliderfilter\",\n",
       "    text_filter: \"/nbextensions/qgridjs/qgrid.textfilter\",\n",
       "    filter_base:  \"/nbextensions/qgridjs/qgrid.filterbase\",\n",
       "    handlebars: \"https://cdnjs.cloudflare.com/ajax/libs/handlebars.js/2.0.0/handlebars.min\"\n",
       "};\n",
       "\n",
       "var existing_config = require.s.contexts._.config;\n",
       "if (!existing_config.paths['underscore']){\n",
       "    path_dictionary['underscore'] = \"https://cdnjs.cloudflare.com/ajax/libs/underscore.js/1.7.0/underscore-min\";\n",
       "}\n",
       "\n",
       "if (!existing_config.paths['moment']){\n",
       "    path_dictionary['moment'] = \"https://cdnjs.cloudflare.com/ajax/libs/moment.js/2.8.3/moment.min\";\n",
       "}\n",
       "\n",
       "if (!existing_config.paths['jqueryui']){\n",
       "    path_dictionary['jqueryui'] = \"https://ajax.googleapis.com/ajax/libs/jqueryui/1.11.1/jquery-ui.min\";\n",
       "}\n",
       "\n",
       "require.config({\n",
       "    paths: path_dictionary\n",
       "});\n",
       "\n",
       "if (typeof jQuery === 'function') {\n",
       "    define('jquery', function() { return jQuery; });\n",
       "}\n",
       "\n",
       "require([\n",
       "    'jquery',\n",
       "    'jquery_drag',\n",
       "    'slick_core',\n",
       "    'slick_data_view'\n",
       "],\n",
       "function($){\n",
       "    $('#e7549354-bd12-43b5-ad04-e4041ac60394').closest('.rendered_html').removeClass('rendered_html');\n",
       "    require([\n",
       "      'slick_check_box_column',\n",
       "      'slick_row_selection_model',\n",
       "      'slick_grid'\n",
       "    ], function(){\n",
       "        require([\"data_grid\"], function(dgrid){\n",
       "            var grid = new dgrid.QGrid('#e7549354-bd12-43b5-ad04-e4041ac60394', [{\"#\":\"#4.0\",\"address\":136252496}], [{\"field\": \"#\"}, {\"field\": \"address\", \"type\": \"Integer\"}]);\n",
       "            grid.initialize_slick_grid();\n",
       "        });\n",
       "    });\n",
       "});\n"
      ]
     },
     "metadata": {},
     "output_type": "display_data"
    }
   ],
   "source": [
    "%gen 1\n",
    "%select address from obj where type = 'FieldDataCache'"
   ]
  },
  {
   "cell_type": "code",
   "execution_count": 11,
   "metadata": {
    "collapsed": false
   },
   "outputs": [
    {
     "name": "stdout",
     "output_type": "stream",
     "text": [
      "Using generation 2 of 3\n"
     ]
    },
    {
     "data": {
      "text/html": [
       "<script type=\"text/javascript\">\n",
       "if ($(\"#dg-css\").length == 0){\n",
       "    $(\"head\").append([\n",
       "        \"<link href='/nbextensions/qgridjs/lib/slick.grid.css' rel='stylesheet'>\",\n",
       "        \"<link href='/nbextensions/qgridjs/lib/slick-default-theme.css' rel='stylesheet'>\",\n",
       "        \"<link href='http://cdnjs.cloudflare.com/ajax/libs/jqueryui/1.10.4/css/jquery-ui.min.css' rel='stylesheet'>\",\n",
       "        \"<link id='dg-css' href='/nbextensions/qgridjs/qgrid.css' rel='stylesheet'>\"\n",
       "    ]);\n",
       "}\n",
       "</script>\n",
       "<div class='q-grid-container'>\n",
       "<div id='ecb3a75a-d8c8-4da0-871d-2b9b6dfd19e4' class='q-grid'></div>\n",
       "</div>"
      ]
     },
     "metadata": {},
     "output_type": "display_data"
    },
    {
     "data": {
      "application/javascript": [
       "var path_dictionary = {\n",
       "    jquery_drag: \"/nbextensions/qgridjs/lib/jquery.event.drag-2.2\",\n",
       "    slick_core: \"/nbextensions/qgridjs/lib/slick.core.2.2\",\n",
       "    slick_data_view: \"/nbextensions/qgridjs/lib/slick.dataview.2.2\",\n",
       "    slick_check_box_column: \"/nbextensions/qgridjs/lib/slick.checkboxselectcolumn\",\n",
       "    slick_row_selection_model: \"/nbextensions/qgridjs/lib/slick.rowselectionmodel\",\n",
       "    slick_grid: \"/nbextensions/qgridjs/lib/slick.grid.2.2\",\n",
       "    data_grid: \"/nbextensions/qgridjs/qgrid\",\n",
       "    date_filter: \"/nbextensions/qgridjs/qgrid.datefilter\",\n",
       "    slider_filter: \"/nbextensions/qgridjs/qgrid.sliderfilter\",\n",
       "    text_filter: \"/nbextensions/qgridjs/qgrid.textfilter\",\n",
       "    filter_base:  \"/nbextensions/qgridjs/qgrid.filterbase\",\n",
       "    handlebars: \"https://cdnjs.cloudflare.com/ajax/libs/handlebars.js/2.0.0/handlebars.min\"\n",
       "};\n",
       "\n",
       "var existing_config = require.s.contexts._.config;\n",
       "if (!existing_config.paths['underscore']){\n",
       "    path_dictionary['underscore'] = \"https://cdnjs.cloudflare.com/ajax/libs/underscore.js/1.7.0/underscore-min\";\n",
       "}\n",
       "\n",
       "if (!existing_config.paths['moment']){\n",
       "    path_dictionary['moment'] = \"https://cdnjs.cloudflare.com/ajax/libs/moment.js/2.8.3/moment.min\";\n",
       "}\n",
       "\n",
       "if (!existing_config.paths['jqueryui']){\n",
       "    path_dictionary['jqueryui'] = \"https://ajax.googleapis.com/ajax/libs/jqueryui/1.11.1/jquery-ui.min\";\n",
       "}\n",
       "\n",
       "require.config({\n",
       "    paths: path_dictionary\n",
       "});\n",
       "\n",
       "if (typeof jQuery === 'function') {\n",
       "    define('jquery', function() { return jQuery; });\n",
       "}\n",
       "\n",
       "require([\n",
       "    'jquery',\n",
       "    'jquery_drag',\n",
       "    'slick_core',\n",
       "    'slick_data_view'\n",
       "],\n",
       "function($){\n",
       "    $('#ecb3a75a-d8c8-4da0-871d-2b9b6dfd19e4').closest('.rendered_html').removeClass('rendered_html');\n",
       "    require([\n",
       "      'slick_check_box_column',\n",
       "      'slick_row_selection_model',\n",
       "      'slick_grid'\n",
       "    ], function(){\n",
       "        require([\"data_grid\"], function(dgrid){\n",
       "            var grid = new dgrid.QGrid('#ecb3a75a-d8c8-4da0-871d-2b9b6dfd19e4', [{\"#\":\"#2.0\",\"count(*)\":0}], [{\"field\": \"#\"}, {\"field\": \"count(*)\", \"type\": \"Integer\"}]);\n",
       "            grid.initialize_slick_grid();\n",
       "        });\n",
       "    });\n",
       "});\n"
      ]
     },
     "metadata": {},
     "output_type": "display_data"
    }
   ],
   "source": [
    "%gen 2\n",
    "%select count(*) from obj where type = 'FieldDataCache'"
   ]
  },
  {
   "cell_type": "code",
   "execution_count": null,
   "metadata": {
    "collapsed": false
   },
   "outputs": [
    {
     "name": "stdout",
     "output_type": "stream",
     "text": [
      "Using generation 1 of 3\n",
      "5786515 (5.8M) objects, 17797238 (17.8M) references, 961401795 (961.4M) total bytes\n",
      "Marked None top level objects\n",
      "Marked None objects at depth 1\n",
      "Marked None objects at depth 2\n",
      "Marked None objects at depth 3\n",
      "Marked None objects at depth 4\n",
      "Marked None objects at depth 5\n",
      "Marked None objects at depth 6"
     ]
    }
   ],
   "source": [
    "%gen 1\n",
    "%gc"
   ]
  },
  {
   "cell_type": "markdown",
   "metadata": {},
   "source": [
    "# Phase 2"
   ]
  },
  {
   "cell_type": "code",
   "execution_count": 3,
   "metadata": {
    "collapsed": false
   },
   "outputs": [
    {
     "name": "stdout",
     "output_type": "stream",
     "text": [
      "The memsee extension is already loaded. To reload it, use:\n",
      "  %reload_ext memsee\n",
      "Database opened, available via variable 'memsee'\n"
     ]
    }
   ],
   "source": [
    "%load_ext memsee\n",
    "%reload_ext memsee\n",
    "%open field_overrides.db"
   ]
  },
  {
   "cell_type": "code",
   "execution_count": 4,
   "metadata": {
    "collapsed": false
   },
   "outputs": [
    {
     "name": "stdout",
     "output_type": "stream",
     "text": [
      "Using generation 1 of 3\n"
     ]
    },
    {
     "data": {
      "text/html": [
       "<script type=\"text/javascript\">\n",
       "if ($(\"#dg-css\").length == 0){\n",
       "    $(\"head\").append([\n",
       "        \"<link href='/nbextensions/qgridjs/lib/slick.grid.css' rel='stylesheet'>\",\n",
       "        \"<link href='/nbextensions/qgridjs/lib/slick-default-theme.css' rel='stylesheet'>\",\n",
       "        \"<link href='http://cdnjs.cloudflare.com/ajax/libs/jqueryui/1.10.4/css/jquery-ui.min.css' rel='stylesheet'>\",\n",
       "        \"<link id='dg-css' href='/nbextensions/qgridjs/qgrid.css' rel='stylesheet'>\"\n",
       "    ]);\n",
       "}\n",
       "</script>\n",
       "<div class='q-grid-container'>\n",
       "<div id='a636fb28-dabd-4620-98a0-1d2935e4b464' class='q-grid'></div>\n",
       "</div>"
      ]
     },
     "metadata": {},
     "output_type": "display_data"
    },
    {
     "data": {
      "application/javascript": [
       "var path_dictionary = {\n",
       "    jquery_drag: \"/nbextensions/qgridjs/lib/jquery.event.drag-2.2\",\n",
       "    slick_core: \"/nbextensions/qgridjs/lib/slick.core.2.2\",\n",
       "    slick_data_view: \"/nbextensions/qgridjs/lib/slick.dataview.2.2\",\n",
       "    slick_check_box_column: \"/nbextensions/qgridjs/lib/slick.checkboxselectcolumn\",\n",
       "    slick_row_selection_model: \"/nbextensions/qgridjs/lib/slick.rowselectionmodel\",\n",
       "    slick_grid: \"/nbextensions/qgridjs/lib/slick.grid.2.2\",\n",
       "    data_grid: \"/nbextensions/qgridjs/qgrid\",\n",
       "    date_filter: \"/nbextensions/qgridjs/qgrid.datefilter\",\n",
       "    slider_filter: \"/nbextensions/qgridjs/qgrid.sliderfilter\",\n",
       "    text_filter: \"/nbextensions/qgridjs/qgrid.textfilter\",\n",
       "    filter_base:  \"/nbextensions/qgridjs/qgrid.filterbase\",\n",
       "    handlebars: \"https://cdnjs.cloudflare.com/ajax/libs/handlebars.js/2.0.0/handlebars.min\"\n",
       "};\n",
       "\n",
       "var existing_config = require.s.contexts._.config;\n",
       "if (!existing_config.paths['underscore']){\n",
       "    path_dictionary['underscore'] = \"https://cdnjs.cloudflare.com/ajax/libs/underscore.js/1.7.0/underscore-min\";\n",
       "}\n",
       "\n",
       "if (!existing_config.paths['moment']){\n",
       "    path_dictionary['moment'] = \"https://cdnjs.cloudflare.com/ajax/libs/moment.js/2.8.3/moment.min\";\n",
       "}\n",
       "\n",
       "if (!existing_config.paths['jqueryui']){\n",
       "    path_dictionary['jqueryui'] = \"https://ajax.googleapis.com/ajax/libs/jqueryui/1.11.1/jquery-ui.min\";\n",
       "}\n",
       "\n",
       "require.config({\n",
       "    paths: path_dictionary\n",
       "});\n",
       "\n",
       "if (typeof jQuery === 'function') {\n",
       "    define('jquery', function() { return jQuery; });\n",
       "}\n",
       "\n",
       "require([\n",
       "    'jquery',\n",
       "    'jquery_drag',\n",
       "    'slick_core',\n",
       "    'slick_data_view'\n",
       "],\n",
       "function($){\n",
       "    $('#a636fb28-dabd-4620-98a0-1d2935e4b464').closest('.rendered_html').removeClass('rendered_html');\n",
       "    require([\n",
       "      'slick_check_box_column',\n",
       "      'slick_row_selection_model',\n",
       "      'slick_grid'\n",
       "    ], function(){\n",
       "        require([\"data_grid\"], function(dgrid){\n",
       "            var grid = new dgrid.QGrid('#a636fb28-dabd-4620-98a0-1d2935e4b464', [{\"#\":\"#0.0\",\"address\":136252496}], [{\"field\": \"#\"}, {\"field\": \"address\", \"type\": \"Integer\"}]);\n",
       "            grid.initialize_slick_grid();\n",
       "        });\n",
       "    });\n",
       "});\n"
      ]
     },
     "metadata": {},
     "output_type": "display_data"
    }
   ],
   "source": [
    "%gen 1\n",
    "%select address from obj where type = 'FieldDataCache'"
   ]
  },
  {
   "cell_type": "code",
   "execution_count": null,
   "metadata": {
    "collapsed": false
   },
   "outputs": [],
   "source": [
    "%kids 136252496"
   ]
  },
  {
   "cell_type": "code",
   "execution_count": null,
   "metadata": {
    "collapsed": true
   },
   "outputs": [],
   "source": []
  }
 ],
 "metadata": {
  "kernelspec": {
   "display_name": "Python 2",
   "language": "python",
   "name": "python2"
  },
  "language_info": {
   "codemirror_mode": {
    "name": "ipython",
    "version": 2
   },
   "file_extension": ".py",
   "mimetype": "text/x-python",
   "name": "python",
   "nbconvert_exporter": "python",
   "pygments_lexer": "ipython2",
   "version": "2.7.9"
  }
 },
 "nbformat": 4,
 "nbformat_minor": 0
}
